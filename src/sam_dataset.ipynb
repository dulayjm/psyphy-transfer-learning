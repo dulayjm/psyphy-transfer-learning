{
 "cells": [
  {
   "cell_type": "code",
   "execution_count": 88,
   "id": "abaa9019",
   "metadata": {},
   "outputs": [],
   "source": [
    "# # grid_distortion.py\n",
    "\n",
    "# import cv2\n",
    "# import numpy as np\n",
    "# from scipy.interpolate import griddata\n",
    "# import sys\n",
    "\n",
    "# INTERPOLATION = {\n",
    "#     \"linear\": cv2.INTER_LINEAR,\n",
    "#     \"cubic\": cv2.INTER_CUBIC\n",
    "# }\n",
    "\n",
    "# def warp_image(img, random_state=None, **kwargs):\n",
    "#     if random_state is None:\n",
    "#         random_state = np.random.RandomState()\n",
    "\n",
    "#     w_mesh_interval = kwargs.get('w_mesh_interval', 25)\n",
    "#     w_mesh_std = kwargs.get('w_mesh_std', 3.0)\n",
    "\n",
    "#     h_mesh_interval = kwargs.get('h_mesh_interval', 25)\n",
    "#     h_mesh_std = kwargs.get('h_mesh_std', 3.0)\n",
    "\n",
    "#     interpolation_method = kwargs.get('interpolation', 'linear')\n",
    "\n",
    "#     h, w = img.shape[:2]\n",
    "\n",
    "#     if kwargs.get(\"fit_interval_to_image\", True):\n",
    "#         # Change interval so it fits the image size\n",
    "#         w_ratio = w / float(w_mesh_interval)\n",
    "#         h_ratio = h / float(h_mesh_interval)\n",
    "\n",
    "#         w_ratio = max(1, round(w_ratio))\n",
    "#         h_ratio = max(1, round(h_ratio))\n",
    "\n",
    "#         w_mesh_interval = w / w_ratio\n",
    "#         h_mesh_interval = h / h_ratio\n",
    "#         ############################################\n",
    "\n",
    "#     # Get control points\n",
    "#     source = np.mgrid[0:h+h_mesh_interval:h_mesh_interval, 0:w+w_mesh_interval:w_mesh_interval]\n",
    "#     source = source.transpose(1,2,0).reshape(-1,2)\n",
    "\n",
    "#     if kwargs.get(\"draw_grid_lines\", False):\n",
    "#         if len(img.shape) == 2:\n",
    "#             color = 0\n",
    "#         else:\n",
    "#             color = np.array([0,0,255])\n",
    "#         for s in source:\n",
    "#             img[int(s[0]):int(s[0])+1,:] = color\n",
    "#             img[:,int(s[1]):int(s[1])+1] = color\n",
    "\n",
    "#     # Perturb source control points\n",
    "#     destination = source.copy()\n",
    "#     source_shape = source.shape[:1]\n",
    "#     destination[:,0] = destination[:,0] + random_state.normal(0.0, h_mesh_std, size=source_shape)\n",
    "#     destination[:,1] = destination[:,1] + random_state.normal(0.0, w_mesh_std, size=source_shape)\n",
    "\n",
    "#     # Warp image\n",
    "#     grid_x, grid_y = np.mgrid[0:h, 0:w]\n",
    "#     grid_z = griddata(destination, source, (grid_x, grid_y), method=interpolation_method).astype(np.float32)\n",
    "#     map_x = grid_z[:,:,1]\n",
    "#     map_y = grid_z[:,:,0]\n",
    "#     warped = cv2.remap(img, map_x, map_y, INTERPOLATION[interpolation_method], borderValue=(255,255,255))\n",
    "\n",
    "#     return warped"
   ]
  },
  {
   "cell_type": "code",
   "execution_count": 89,
   "id": "fa6184d2",
   "metadata": {},
   "outputs": [],
   "source": [
    "# !pip3 install python-string-utils"
   ]
  },
  {
   "cell_type": "code",
   "execution_count": 90,
   "id": "730f238b",
   "metadata": {},
   "outputs": [],
   "source": [
    "# !pip3 install editdistance"
   ]
  },
  {
   "cell_type": "code",
   "execution_count": 91,
   "id": "c98035ee",
   "metadata": {},
   "outputs": [],
   "source": [
    "# error_rates.py\n",
    "\n",
    "import editdistance\n",
    "\n",
    "def error_cer(r, h):\n",
    "    #Remove any double or trailing\n",
    "    r = u' '.join(r.split())\n",
    "    h = u' '.join(h.split())\n",
    "\n",
    "    return error_err(r, h)\n",
    "\n",
    "def error_err(r, h):\n",
    "    dis = editdistance.eval(r, h)\n",
    "    if len(r) == 0.0:\n",
    "        return len(h)\n",
    "\n",
    "    return float(dis) / float(len(r))\n",
    "\n",
    "def error_wer(r, h):\n",
    "    r = r.split()\n",
    "    h = h.split()\n",
    "\n",
    "    return err(r,h)"
   ]
  },
  {
   "cell_type": "code",
   "execution_count": 92,
   "id": "8005963e",
   "metadata": {},
   "outputs": [],
   "source": [
    "import sys\n",
    "import json\n",
    "import os\n",
    "from collections import defaultdict\n",
    "\n",
    "def load_char_set(char_set_path):\n",
    "    with open(char_set_path) as f:\n",
    "        char_set = json.load(f)\n",
    "\n",
    "    idx_to_char = {}\n",
    "    for k,v in char_set['idx_to_char'].items():        \n",
    "        idx_to_char[int(k)] = v\n",
    "\n",
    "    return idx_to_char, char_set['char_to_idx']\n",
    "\n",
    "# if __name__ == \"__main__\":\n",
    "#     character_set_path = sys.argv[-1]\n",
    "#     out_char_to_idx = {}\n",
    "#     out_idx_to_char = {}\n",
    "#     char_freq = defaultdict(int)\n",
    "#     for i in range(1, len(sys.argv)-1):\n",
    "#         data_file = sys.argv[i]\n",
    "#         with open(data_file) as f:\n",
    "#             data = json.load(f)\n",
    "\n",
    "#         cnt = 1 # this is important that this starts at 1 not 0\n",
    "#         for data_item in data:\n",
    "#             for c in data_item.get('gt', \"\"):\n",
    "#                 if c not in out_char_to_idx:\n",
    "#                     out_char_to_idx[c] = cnt\n",
    "#                     out_idx_to_char[cnt] = c\n",
    "#                     cnt += 1\n",
    "#                 char_freq[c] += 1\n",
    "\n",
    "#     out_char_to_idx2 = {}\n",
    "#     out_idx_to_char2 = {}\n",
    "\n",
    "#     for i, c in enumerate(sorted(out_char_to_idx.keys())):\n",
    "#         out_char_to_idx2[c] = i+1\n",
    "#         out_idx_to_char2[i+1] = c\n",
    "\n",
    "#     output_data = {\n",
    "#         \"char_to_idx\": out_char_to_idx2,\n",
    "#         \"idx_to_char\": out_idx_to_char2\n",
    "#     }\n",
    "\n",
    "#     for k,v in sorted(char_freq.iteritems(), key=lambda x: x[1]):\n",
    "#         print(k, v)\n",
    "\n",
    "#     print(\"Size:\", len(output_data['char_to_idx']))\n",
    "\n",
    "#     with open(character_set_path, 'w') as outfile:\n",
    "#         json.dump(output_data, outfile)"
   ]
  },
  {
   "cell_type": "code",
   "execution_count": 93,
   "id": "ed574c65",
   "metadata": {},
   "outputs": [],
   "source": [
    "import numpy as np\n",
    "\n",
    "\n",
    "def str2label(value, characterToIndex={}, unknown_index=None):\n",
    "    if unknown_index is None:\n",
    "        unknown_index = len(characterToIndex)\n",
    "\n",
    "    label = []\n",
    "    for v in value:\n",
    "        # print(v)\n",
    "        if v not in characterToIndex:\n",
    "            continue\n",
    "        label.append(characterToIndex[v])\n",
    "    return np.array(label, np.uint32)\n",
    "\n",
    "def label2input(value, num_of_inputs, char_break_interval):\n",
    "    idx1 = len(value) * (char_break_interval + 1) + char_break_interval\n",
    "    idx2 = num_of_inputs + 1\n",
    "    print(idx1)\n",
    "    print(idx2)\n",
    "    input_data = [[0 for i in range(idx2)] for j in range(idx1)]\n",
    "\n",
    "    cnt = 0\n",
    "    for i in range(char_break_interval):\n",
    "        input_data[cnt][idx2-1] = 1\n",
    "        cnt += 1\n",
    "\n",
    "    for i in range(len(value)):\n",
    "        if value[i] == 0:\n",
    "            input_data[cnt][idx2-1] = 1\n",
    "        else:\n",
    "            input_data[cnt][value[i]-1] = 1\n",
    "        cnt += 1\n",
    "\n",
    "        for i in range(char_break_interval):\n",
    "            input_data[cnt][idx2-1] = 1\n",
    "            cnt += 1\n",
    "\n",
    "    return np.array(input_data)\n",
    "\n",
    "def label2str(label, indexToCharacter, asRaw, spaceChar = \"~\"):\n",
    "    string = u\"\"\n",
    "    for i in range(len(label)):\n",
    "        if label[i] == 0:\n",
    "            if asRaw:\n",
    "                string += spaceChar\n",
    "            else:\n",
    "                break\n",
    "        else:\n",
    "            val = label[i]\n",
    "            string += indexToCharacter[val]\n",
    "    return string\n",
    "\n",
    "def naive_decode(output):\n",
    "    rawPredData = np.argmax(output, axis=1)\n",
    "    predData = []\n",
    "    for i in range(len(output)):\n",
    "        if rawPredData[i] != 0 and not ( i > 0 and rawPredData[i] == rawPredData[i-1] ):\n",
    "            predData.append(rawPredData[i])\n",
    "    return predData, list(rawPredData)"
   ]
  },
  {
   "cell_type": "code",
   "execution_count": 94,
   "id": "7d39c84d",
   "metadata": {},
   "outputs": [],
   "source": [
    "# import json\n",
    "\n",
    "# import torch\n",
    "# from torch.utils.data import Dataset\n",
    "# from torch.autograd import Variable\n",
    "\n",
    "# from collections import defaultdict\n",
    "# import os\n",
    "# # import cv2\n",
    "# from PIL import Image\n",
    "\n",
    "# import numpy as np\n",
    "# # fuck is this even cht ecode \n",
    "\n",
    "\n",
    "# import random\n",
    "\n",
    "\n",
    "# PADDING_CONSTANT = 255\n",
    "\n",
    "# coeff = 1000\n",
    "\n",
    "# def batch_collate(batch):\n",
    "#     global coeff\n",
    "#     batch = [b for b in batch if b is not None]\n",
    "# #     #These all should be the same size or error\n",
    "    \n",
    "    \n",
    "# #     print('the entire fucking batch is ', batch)\n",
    "# #     print('len of the images array in the batch is', len(batch[0]))\n",
    "# #     1/0\n",
    "\n",
    "\n",
    "\n",
    "# #     print('in collate, the batch shape is ', len(batch))\n",
    "# #     print('in collate, the batch 0 is ', len(batch[0]))\n",
    "# #     print('in collate, the batch 0 is ', batch[0])\n",
    "\n",
    "# #     print('type of bach is ', type(batch))\n",
    "# #     print('type of bach is ', type(batch[0]))\n",
    "# #     print(batch)\n",
    "\n",
    "\n",
    "# #     print([b['line_img'].shape[0] for b in batch])\n",
    "\n",
    "# #     print([b['line_img'].shape[2] for b in batch])\n",
    "\n",
    "\n",
    "# #     print('batch shape 2 is', batch.shape[2])\n",
    "\n",
    "# # \n",
    "#     # are rts's just a directory ?\n",
    "# #     1/0/\n",
    "# #     assert len(set([b['line_img'].shape[0] for b in batch])) == 1\n",
    "# #     assert len(set([b['line_img'].shape[2] for b in batch])) == 1\n",
    "\n",
    "#     dim0 = batch[0]['line_img'].shape[0]\n",
    "#     dim1 = max([b['line_img'].shape[1] for b in batch])\n",
    "#     dim1 = dim1 + (dim0 - (dim1 % dim0))\n",
    "#     # so it messes up here?\n",
    "#     print('the object shape we are dealing with is', batch[0]['line_img'].shape)\n",
    "    \n",
    "#     dim2 = batch[0]['line_img'].shape[2]\n",
    "\n",
    "#     all_labels = []\n",
    "#     label_lengths = []\n",
    "#     psychs = []\n",
    "    \n",
    "\n",
    "#     input_batch = np.full((len(batch), dim0, dim1, dim2), PADDING_CONSTANT).astype(np.float32)\n",
    "#     for i in range(len(batch)):\n",
    "#         b_img = batch[i]['line_img']\n",
    "#         input_batch[i,:,:b_img.shape[1],:] = b_img\n",
    "#         l = batch[i]['gt_label']\n",
    "#         psych = batch[i]['psych']\n",
    "#         all_labels.append(l)\n",
    "#         label_lengths.append(len(l))\n",
    "#         if psych is not None:\n",
    "#             # print(psych)\n",
    "#             # print(((200-psych)/len(l)))\n",
    "#             # print(\"-----------\")\n",
    "#             psych = 200-psych\n",
    "#             if psych < 0:\n",
    "#                 print(\"!!!!!!!!!!!!!!!!!!!!!!!!!!!!!!!!!!!!!!!!!!!!!!!!!!!!!!!!!!!!!!!!!!!!!!!!!!!!!!!!!!!!!!!!!!!!!!!!!!!!!!!!!!!!!!!!!!!!!!!!!!\")\n",
    "#                 print((psych) / len(l))\n",
    "#             psychs.append((psych/len(l))*coeff)\n",
    "#         else:\n",
    "#             psychs.append(0)\n",
    "#     all_labels = np.concatenate(all_labels)\n",
    "#     label_lengths = np.array(label_lengths)\n",
    "\n",
    "#     line_imgs = input_batch.transpose([0,3,1,2])\n",
    "#     line_imgs = torch.from_numpy(line_imgs)\n",
    "#     labels = torch.from_numpy(all_labels.astype(np.int32))\n",
    "#     label_lengths = torch.from_numpy(label_lengths.astype(np.int32))\n",
    "\n",
    "#     return {\n",
    "#         \"line_imgs\": line_imgs,\n",
    "#         \"labels\": labels,\n",
    "#         \"psychs\": psychs,\n",
    "#         \"label_lengths\": label_lengths,\n",
    "#         \"gt\": [b['gt'] for b in batch]\n",
    "#     }\n",
    "\n",
    "# class HwDataset(Dataset):\n",
    "#     def __init__(self, \n",
    "#                  json_path, \n",
    "#                  char_to_idx, \n",
    "#                  img_height=32, \n",
    "#                  root_path=\".\",\n",
    "#                  augmentation=False,\n",
    "#                  psychPath=\"./data/\", # needs to exist you fuck ass\n",
    "#                  randomW=False,\n",
    "#                  coef=1000):\n",
    "        \n",
    "#         global coeff\n",
    "#         with open(json_path) as f:\n",
    "#             data = json.load(f)\n",
    "            \n",
    "#             # but we now need to loop through alll the directories\n",
    "#             # so load root_dir (data) her \n",
    "            \n",
    "            \n",
    "#         self.root_path = root_path\n",
    "#         self.img_height = img_height\n",
    "#         self.char_to_idx = char_to_idx\n",
    "#         self.data = data\n",
    "#         self.psychPath = psychPath\n",
    "#         self.augmentation = augmentation\n",
    "#         self.randomWeights = None\n",
    "#         coeff = coef\n",
    "#         if randomW:\n",
    "#             self.randomWeights = np.random.randint(50, 200, len(self.data))\n",
    "\n",
    "\n",
    "#     def __len__(self):\n",
    "#         return len(self.data)\n",
    "\n",
    "#     def __getitem__(self, idx):\n",
    "        \n",
    "        \n",
    "#         # and on __getitem__ \n",
    "#         # do the json loading. I think.\n",
    "        \n",
    "#         item = self.data[idx]\n",
    "#         # just worry about resizing after\n",
    "#         # i think those cv2 augmentations just make it a square ...\n",
    "#         img = np.array(Image.open(os.path.join(self.root_path, item['image_path'])))\n",
    "        \n",
    "# #         img = cv2.imread(os.path.join(self.root_path, item['image_path']))\n",
    "                       \n",
    "#         if self.randomWeights is None:\n",
    "#             try:\n",
    "#                 # replace \"magic number path\"\n",
    "#                 # print(item['image_path'].split('/')[-1].split('.')[0])\n",
    "#                 mangled_string = self.psychPath+item['image_path'].split('/')[-1].split('.')[0]+\"Time.json\"\n",
    "#                 print('mangled string is', mangled_string)\n",
    "                \n",
    "#                 with open(self.psychPath+item['image_path'].split('/')[-1].split('.')[0]+\"Time.json\") as f:\n",
    "#                     psych = json.load(f)\n",
    "                    \n",
    "                    \n",
    "#                 print(\"psych is after that loaddddd\", psych)\n",
    "#             except:\n",
    "#                 psych = None\n",
    "#         else:\n",
    "#             print(\"WARNING!!! RANDOM PSYCHOMETRIC WEIGHTS ARE BEING USED\")\n",
    "#             psych = self.randomWeights[idx]\n",
    "#             # print psych\n",
    "\n",
    "#         if img is None:\n",
    "#             print(\"Warning: image is None:\", os.path.join(self.root_path, item['image_path']))\n",
    "#             return None\n",
    "\n",
    "# #         percent = float(self.img_height) / img.shape[0]\n",
    "# #         print('percent is', percent)\n",
    "                       \n",
    "                       \n",
    "# #         img = cv2.resize(img, (0,0), fx=percent, fy=percent, interpolation = cv2.INTER_CUBIC)                       \n",
    "                       \n",
    "# #         if self.augmentation:\n",
    "# #             img = grid_distortion.warp_image(img, h_mesh_std=5, w_mesh_std=10)\n",
    "\n",
    "#         img = img.astype(np.float32)\n",
    "#         img = img / 128.0 - 1.0\n",
    "\n",
    "#         gt = item['gt']\n",
    "#         gt_label = str2label(gt, self.char_to_idx)\n",
    "\n",
    "#         print('fuckign here')\n",
    "#         print(type(img))\n",
    "#         print(type(gt_label))\n",
    "#         print(type(psych))\n",
    "#         print(type(gt))\n",
    "#         print(\"FLKSHJLKDFJSDLFJLFSDKJLKDSF\")\n",
    "#         print(img)\n",
    "#         print(gt_label)\n",
    "#         print(psych)\n",
    "#         print(gt)\n",
    "\n",
    "        \n",
    "# #         1/0\n",
    "\n",
    "#         # whyyyy is this reutrned as a list\n",
    "        \n",
    "#         ret_dict = {\n",
    "#             \"line_img\": img,\n",
    "#             \"gt_label\": gt_label,\n",
    "#             \"psych\": psych,\n",
    "#             \"gt\": gt,\n",
    "#         }\n",
    "        \n",
    "#         print('the type of fucking ret_dict is', type(ret_dict))\n",
    "        \n",
    "#         return ret_dict"
   ]
  },
  {
   "cell_type": "code",
   "execution_count": 95,
   "id": "fe8e79d0",
   "metadata": {},
   "outputs": [],
   "source": [
    "# fresh copy of the code \n",
    "\n",
    "import json\n",
    "\n",
    "import torch\n",
    "from torch.utils.data import Dataset\n",
    "from torch.autograd import Variable\n",
    "\n",
    "from collections import defaultdict\n",
    "import os\n",
    "import cv2\n",
    "import numpy as np\n",
    "\n",
    "import random\n",
    "import string_utils\n",
    "\n",
    "# import grid_distortiongrid_distortion\n",
    "\n",
    "PADDING_CONSTANT = 255\n",
    "\n",
    "coeff = 1000\n",
    "\n",
    "\n",
    "def batch_collate(batch):\n",
    "    global coeff\n",
    "    batch = [b for b in batch if b is not None]\n",
    "    #These all should be the same size or error\n",
    "    assert len(set([b['line_img'].shape[0] for b in batch])) == 1\n",
    "    assert len(set([b['line_img'].shape[2] for b in batch])) == 1\n",
    "\n",
    "    dim0 = batch[0]['line_img'].shape[0]\n",
    "    dim1 = max([b['line_img'].shape[1] for b in batch])\n",
    "    dim1 = dim1 + (dim0 - (dim1 % dim0))\n",
    "    dim2 = batch[0]['line_img'].shape[2]\n",
    "\n",
    "    all_labels = []\n",
    "    label_lengths = []\n",
    "    psychs = []\n",
    "    \n",
    "\n",
    "    input_batch = np.full((len(batch), dim0, dim1, dim2), PADDING_CONSTANT).astype(np.float32)\n",
    "    for i in range(len(batch)):\n",
    "        b_img = batch[i]['line_img']\n",
    "        input_batch[i,:,:b_img.shape[1],:] = b_img\n",
    "        l = batch[i]['gt_label']\n",
    "        psych = batch[i]['psych']\n",
    "        all_labels.append(l)\n",
    "        label_lengths.append(len(l))\n",
    "        if psych is not None:\n",
    "            # print(psych)\n",
    "            # print(((200-psych)/len(l)))\n",
    "            # print(\"-----------\")\n",
    "            psych = 200-psych\n",
    "            if psych < 0:\n",
    "                print(\"!!!!!!!!!!!!!!!!!!!!!!!!!!!!!!!!!!!!!!!!!!!!!!!!!!!!!!!!!!!!!!!!!!!!!!!!!!!!!!!!!!!!!!!!!!!!!!!!!!!!!!!!!!!!!!!!!!!!!!!!!!\")\n",
    "                print((psych) / len(l))\n",
    "            psychs.append((psych/len(l))*coeff)\n",
    "        else:\n",
    "            psychs.append(0)\n",
    "    all_labels = np.concatenate(all_labels)\n",
    "    label_lengths = np.array(label_lengths)\n",
    "\n",
    "    line_imgs = input_batch.transpose([0,3,1,2])\n",
    "    line_imgs = torch.from_numpy(line_imgs)\n",
    "    labels = torch.from_numpy(all_labels.astype(np.int32))\n",
    "    label_lengths = torch.from_numpy(label_lengths.astype(np.int32))\n",
    "\n",
    "    # psychs needs to be a tensor?\n",
    "    \n",
    "    return {\n",
    "        \"line_imgs\": line_imgs,\n",
    "        \"labels\": labels,\n",
    "        \"psychs\": psychs,\n",
    "        \"label_lengths\": label_lengths,\n",
    "        \"gt\": [b['gt'] for b in batch]\n",
    "    }\n",
    "\n",
    "class HwDataset(Dataset):\n",
    "    def __init__(self, json_path, char_to_idx, img_height=32, root_path=\".\", augmentation=False, psychPath=\"\", randomW=False, coef=1000):\n",
    "        global coeff\n",
    "        with open(json_path) as f:\n",
    "            data = json.load(f)\n",
    "        self.root_path = root_path\n",
    "        self.img_height = img_height\n",
    "        self.char_to_idx = char_to_idx\n",
    "        self.data = data\n",
    "        self.psychPath = psychPath\n",
    "        self.augmentation = augmentation\n",
    "        self.randomWeights = None\n",
    "        coeff = coef\n",
    "        if randomW:\n",
    "            self.randomWeights = np.random.randint(50, 200, len(self.data))\n",
    "\n",
    "\n",
    "    def __len__(self):\n",
    "        return len(self.data)\n",
    "\n",
    "    def __getitem__(self, idx):\n",
    "        item = self.data[idx]\n",
    "        img = cv2.imread(os.path.join(self.root_path, item['image_path']))\n",
    "        if self.randomWeights is None:\n",
    "            try:\n",
    "                # replace \"magic number path\"\n",
    "                # print(item['image_path'].split('/')[-1].split('.')[0])\n",
    "                with open(self.psychPath+item['image_path'].split('/')[-1].split('.')[0]+\"Time.json\") as f:\n",
    "                    psych = json.load(f)\n",
    "            except:\n",
    "                psych = None\n",
    "        else:\n",
    "            print(\"WARNING!!! RANDOM PSYCHOMETRIC WEIGHTS ARE BEING USED\")\n",
    "            psych = self.randomWeights[idx]\n",
    "            # print psych\n",
    "\n",
    "        if img is None:\n",
    "            print(\"Warning: image is None:\", os.path.join(self.root_path, item['image_path']))\n",
    "            return None\n",
    "\n",
    "\n",
    "        percent = float(self.img_height) / img.shape[0]\n",
    "        img = cv2.resize(img, (0,0), fx=percent, fy=percent, interpolation = cv2.INTER_CUBIC)\n",
    "\n",
    "        \n",
    "        # no need to augment crazy \n",
    "        \n",
    "#         if self.augmentation:\n",
    "#             img = warp_image(img, h_mesh_std=5, w_mesh_std=10)\n",
    "\n",
    "        img = img.astype(np.float32)\n",
    "        img = img / 128.0 - 1.0\n",
    "\n",
    "        gt = item['gt']\n",
    "        gt_label = str2label(gt, self.char_to_idx)\n",
    "\n",
    "        return {\n",
    "            \"line_img\": img,\n",
    "            \"gt_label\": gt_label,\n",
    "            \"psych\":psych,\n",
    "            \"gt\": gt\n",
    "        }"
   ]
  },
  {
   "cell_type": "code",
   "execution_count": null,
   "id": "ab6fd987",
   "metadata": {},
   "outputs": [],
   "source": []
  },
  {
   "cell_type": "code",
   "execution_count": 96,
   "id": "bf3ea9b3",
   "metadata": {},
   "outputs": [],
   "source": [
    "import torch\n",
    "from torch import nn\n",
    "\n",
    "class BidirectionalLSTM(nn.Module):\n",
    "\n",
    "    def __init__(self, nIn, nHidden, nOut):\n",
    "        super(BidirectionalLSTM, self).__init__()\n",
    "\n",
    "        self.rnn = nn.LSTM(nIn, nHidden, bidirectional=True, dropout=0.5, num_layers=2)\n",
    "        self.embedding = nn.Linear(nHidden * 2, nOut)\n",
    "\n",
    "    def forward(self, input):\n",
    "        recurrent, _ = self.rnn(input)\n",
    "        T, b, h = recurrent.size()\n",
    "        t_rec = recurrent.reshape(T * b, h)\n",
    "\n",
    "        output = self.embedding(t_rec)  # [T * b, nOut]\n",
    "        output = output.reshape(T, b, -1)\n",
    "\n",
    "        return output\n",
    "\n",
    "class CRNN(nn.Module):\n",
    "\n",
    "    def __init__(self, cnnOutSize, nc, nclass, nh, n_rnn=2, leakyRelu=False):\n",
    "        super(CRNN, self).__init__()\n",
    "\n",
    "        ks = [3, 3, 3, 3, 3, 3, 2]\n",
    "        ps = [1, 1, 1, 1, 1, 1, 0]\n",
    "        ss = [1, 1, 1, 1, 1, 1, 1]\n",
    "        nm = [64, 128, 256, 256, 512, 512, 512]\n",
    "\n",
    "        cnn = nn.Sequential()\n",
    "\n",
    "        def convRelu(i, batchNormalization=False):\n",
    "            nIn = nc if i == 0 else nm[i - 1]\n",
    "            nOut = nm[i]\n",
    "            cnn.add_module('conv{0}'.format(i),\n",
    "                           nn.Conv2d(nIn, nOut, ks[i], ss[i], ps[i]))\n",
    "            if batchNormalization:\n",
    "                cnn.add_module('batchnorm{0}'.format(i), nn.BatchNorm2d(nOut))\n",
    "            if leakyRelu:\n",
    "                cnn.add_module('relu{0}'.format(i),\n",
    "                               nn.LeakyReLU(0.2, inplace=True))\n",
    "            else:\n",
    "                cnn.add_module('relu{0}'.format(i), nn.ReLU(True))\n",
    "\n",
    "        convRelu(0)\n",
    "        cnn.add_module('pooling{0}'.format(0), nn.MaxPool2d(2, 2))  # 64x16x64\n",
    "        convRelu(1)\n",
    "        cnn.add_module('pooling{0}'.format(1), nn.MaxPool2d(2, 2))  # 128x8x32\n",
    "        convRelu(2, True)\n",
    "        convRelu(3)\n",
    "        cnn.add_module('pooling{0}'.format(2),\n",
    "                       nn.MaxPool2d((2, 2), (2, 1), (0, 1)))  # 256x4x16\n",
    "        convRelu(4, True)\n",
    "        convRelu(5)\n",
    "        cnn.add_module('pooling{0}'.format(3),\n",
    "                       nn.MaxPool2d((2, 2), (2, 1), (0, 1)))  # 512x2x16\n",
    "        convRelu(6, True)  # 512x1x16\n",
    "\n",
    "        self.cnn = cnn\n",
    "        self.rnn = BidirectionalLSTM(cnnOutSize, nh, nclass)\n",
    "        self.softmax = nn.LogSoftmax()\n",
    "\n",
    "    def forward(self, input):\n",
    "        conv = self.cnn(input)\n",
    "        b, c, h, w = conv.size()\n",
    "        conv = conv.reshape(b, -1, w)\n",
    "        conv = conv.permute(2, 0, 1)  # [w, b, c]\n",
    "        # rnn features\n",
    "        output = self.rnn(conv)\n",
    "\n",
    "\n",
    "        return output\n",
    "\n",
    "def create_model(config):\n",
    "    crnn = CRNN(config['cnn_out_size'], config['num_of_channels'], config['num_of_outputs'], 512)\n",
    "    return crnn\n",
    "\n"
   ]
  },
  {
   "cell_type": "code",
   "execution_count": 97,
   "id": "046f7907",
   "metadata": {},
   "outputs": [],
   "source": [
    "# class MyResnet(nn.Module):\n",
    "#     def __init__(): \n",
    "#         super.__init__(MyResnet,self)\n",
    "        \n",
    "#         self.backbone = resnet50(pretrained=True).to(device)\n",
    "#         self.backbone.train()"
   ]
  },
  {
   "cell_type": "code",
   "execution_count": 98,
   "id": "3e43ea29",
   "metadata": {},
   "outputs": [],
   "source": [
    "# so now we incorporate our other code into this one w/ the data uploaded \n",
    "\n",
    "# use their train routine, but with your model training script stuff"
   ]
  },
  {
   "cell_type": "code",
   "execution_count": 99,
   "id": "357a1aac",
   "metadata": {},
   "outputs": [],
   "source": [
    "# their training routine\n",
    "import json\n",
    "# import character_set\n",
    "import sys\n",
    "# import crnn\n",
    "import os\n",
    "import torch\n",
    "from torch.utils.data import DataLoader\n",
    "from torch.autograd import Variable\n",
    "# from warpctc_pytorch import CTCLoss\n",
    "# import error_rates\n",
    "# import string_utils\n",
    "\n",
    "from torchvision.models import resnet50\n",
    "\n",
    "dtype = torch.cuda.FloatTensor\n",
    "\n",
    "# their config \n",
    "config = {\n",
    "    \"training_set_path\" : \"/afs/crc.nd.edu/group/cvrl/scratch_31/sgrieggs/IAM_aachen/train.json\",\n",
    "#     \"training_set_path\": \"prepare_font_data/training.json\",\n",
    "    \"validation_set_path\": \"/afs/crc.nd.edu/group/cvrl/scratch_31/sgrieggs/IAM_aachen/val.json\",\n",
    "    \"image_root_directory\": \"/afs/crc.nd.edu/group/cvrl/scratch_31/sgrieggs/IAM_aachen/\",\n",
    "    \"model_save_path\": \"sam_data.pt\",\n",
    "    \"network\": {\n",
    "        \"input_height\": 60,\n",
    "        \"cnn_out_size\": 1024,\n",
    "        \"learning_rate\": 1e-4\n",
    "    },\n",
    "    \"character_set_path\": \"char_set.json\"\n",
    "}\n",
    "# but something to do with this later um \n",
    "\n",
    "# # but what character set path to use\n",
    "# idx_to_char, char_to_idx = load_char_set(config['character_set_path'])\n",
    "\n",
    "# # we don't want that font traing stuff\n",
    "# # we want the data that's actually in our path \n",
    "# # but our labels are a set form a char file\n",
    "# # and our rts are from the list of rt files per label, no?\n",
    "\n",
    "\n",
    "# train_dataset = HwDataset(config['training_set_path'], char_to_idx, img_height=config['network']['input_height'], root_path=config['image_root_directory'], augmentation=True)\n",
    "# train_dataloader = DataLoader(train_dataset, batch_size=8, shuffle=False, num_workers=0, collate_fn=batch_collate)\n",
    "\n",
    "# test_dataset = HwDataset(config['validation_set_path'], char_to_idx, img_height=config['network']['input_height'], root_path=config['image_root_directory'])\n",
    "# test_dataloader = DataLoader(test_dataset, batch_size=8, shuffle=False, num_workers=0, collate_fn=batch_collate)\n",
    "\n",
    "# device = torch.device(\"cuda\" if torch.cuda.is_available() else \"cpu\")\n",
    "# print('device is', device)\n",
    "\n",
    "# model = resnet50(pretrained=True).to(device)\n",
    "# model.fc = nn.Linear(2048, 295)\n",
    "# model.train()\n",
    "\n",
    "# # model = create_model({\n",
    "# #     'cnn_out_size': config['network']['cnn_out_size'],\n",
    "# #     'num_of_channels': 3,\n",
    "# #     'num_of_outputs': len(idx_to_char)+1\n",
    "# # })\n",
    "\n",
    "# if torch.cuda.is_available():\n",
    "#     model.to(device)\n",
    "#     dtype = torch.cuda.FloatTensor\n",
    "#     print(\"Using GPU\")\n",
    "# else:\n",
    "#     dtype = torch.FloatTensor\n",
    "#     print(\"No GPU detected\")\n",
    "\n",
    "# optimizer = torch.optim.Adam(model.parameters(), lr=config['network']['learning_rate'])\n",
    "# criterion = torch.nn.CrossEntropyLoss()\n",
    "# lowest_loss = float('inf')\n",
    "\n",
    "\n",
    "# print('sanity  is', train_dataloader)\n",
    "# print(len(train_dataloader))\n",
    "# print(len(train_dataset))\n",
    "\n",
    "# # print('model is ', model)\n",
    "\n",
    "\n",
    "# # dataiter = iter(train_dataloader)\n",
    "# # batch = next(dataiter)\n",
    "\n",
    "\n",
    "# # 1/0\n",
    "# # \n",
    "# for epoch in range(1000):\n",
    "#     sum_loss = 0.0\n",
    "#     steps = 0.0\n",
    "#     for x in train_dataloader:\n",
    "#         # then we care about how their dataset __getitem__\n",
    "# #         return {\n",
    "# #             \"line_imgs\": line_imgs,\n",
    "# #             \"labels\": labels,\n",
    "# #             \"psychs\": psychs,\n",
    "# #             \"label_lengths\": label_lengths,\n",
    "# #             \"gt\": [b['gt'] for b in batch]\n",
    "# #         }\n",
    "\n",
    "#         # so we could do some dataloader stuff, but this is what we need to change here \n",
    "#         # psychs needs to be a torch tensor from the batch stuff \n",
    "        \n",
    "#         psychs = x['psychs']\n",
    "#         if isinstance(psychs, list):\n",
    "#             psychs = torch.LongTensor(psychs) \n",
    "#         psychs = Variable(psychs, requires_grad=False)\n",
    "        \n",
    "# #         labels = torch.FloatTensor(labels)\n",
    "# #         print('gt should be', x['gt'])\n",
    "        \n",
    "# #         gt = x['gt']\n",
    "# #         if isinstance(gt, list):\n",
    "# #             gt = torch.tensor(gt)\n",
    "# #         gt = Variable(gt, requires_grad=False)\n",
    "    \n",
    "#         line_imgs = Variable(x['line_imgs'].type(dtype), requires_grad=False)\n",
    "#         labels =  Variable(x['labels'], requires_grad=False)\n",
    "#         label_lengths = Variable(x['label_lengths'], requires_grad=False)\n",
    "\n",
    "#         preds = model(line_imgs)\n",
    "#         preds_size = Variable(torch.LongTensor([preds.size(0)] * preds.size(1)))\n",
    "#         preds = preds.permute(1,0)\n",
    "        \n",
    "#         print('preds shape is', preds.shape)\n",
    "        \n",
    "# #         output_batch = preds.permute(1,0,2)\n",
    "# #         out = output_batch.data.cpu().numpy()\n",
    "\n",
    "# #         loss = criterion(preds, labels, preds_size, label_lengths)\n",
    "#         labels = torch.LongTensor(labels)\n",
    "#         labels = labels.to(device)\n",
    "\n",
    "#         print('here')\n",
    "#         print(line_imgs.shape)\n",
    "#         print(preds.dtype)\n",
    "#         print(labels.dtype)\n",
    "\n",
    "#         loss = criterion(preds, labels)\n",
    "\n",
    "#         # or \n",
    "# #         loss = RtPsychCrossEntropyLoss(outputs, labels, psych_tensor).to(device)\n",
    "            \n",
    "#         optimizer.zero_grad()\n",
    "#         loss.backward()\n",
    "#         optimizer.step()\n",
    "#         #if i == 0:\n",
    "#         #    for i in xrange(out.shape[0]):\n",
    "#         #        pred, pred_raw = string_utils.naive_decode(out[i,...])\n",
    "#         #        pred_str = string_utils.label2str(pred_raw, idx_to_char, True)\n",
    "#         #        print(pred_str)\n",
    "\n",
    "#         for j in range(out.shape[0]):\n",
    "#             logits = out[j,...]\n",
    "#             pred, raw_pred = naive_decode(logits)\n",
    "#             pred_str = label2str(pred, idx_to_char, False)\n",
    "#             gt_str = x['gt'][j]\n",
    "#             cer = error_rates.cer(gt_str, pred_str)\n",
    "#             sum_loss += cer\n",
    "#             steps += 1\n",
    "\n",
    "#     print(\"Training CER\", sum_loss / steps)\n",
    "\n",
    "#     sum_loss = 0.0\n",
    "#     steps = 0.0\n",
    "#     model.eval()\n",
    "#     for x in test_dataloader:\n",
    "#         line_imgs = Variable(x['line_imgs'].type(dtype), requires_grad=False, volatile=True)\n",
    "#         labels =  Variable(x['labels'], requires_grad=False, volatile=True)\n",
    "#         label_lengths = Variable(x['label_lengths'], requires_grad=False, volatile=True)\n",
    "\n",
    "#         preds = model(line_imgs).cpu()\n",
    "\n",
    "#         output_batch = preds.permute(1,0,2)\n",
    "#         out = output_batch.data.cpu().numpy()\n",
    "\n",
    "#         for i, gt_line in enumerate(x['gt']):\n",
    "#             logits = out[i,...]\n",
    "#             pred, raw_pred = naive_decode(logits)\n",
    "#             pred_str = label2str(pred, idx_to_char, False)\n",
    "#             cer_ = cer(gt_line, pred_str)\n",
    "#             sum_loss += cer_\n",
    "#             steps += 1\n",
    "\n",
    "#     print(\"Test CER\", sum_loss / steps)\n",
    "\n",
    "#     if lowest_loss > sum_loss/steps:\n",
    "#         lowest_loss = sum_loss/steps\n",
    "#         print(\"Saving Best\")\n",
    "#         dirname = os.path.dirname(config['model_save_path'])\n",
    "#         if len(dirname) > 0 and not os.path.exists(dirname):\n",
    "#             os.makedirs(dirname)\n",
    "\n",
    "#         torch.save(model.state_dict(), os.path.join(config['model_save_path']))"
   ]
  },
  {
   "cell_type": "code",
   "execution_count": 100,
   "id": "cc40d53f",
   "metadata": {},
   "outputs": [],
   "source": [
    "# import character_set\n",
    "# import sys\n",
    "# # import hwpsych_dataset\n",
    "# # from hwpsych_dataset import HwDataset\n",
    "# # import urnn, urnn2, urnn_window\n",
    "# # import crnn, crnn2\n",
    "# # import unet_hwr as unet\n",
    "# import os\n",
    "# import torch\n",
    "# from torch.utils import data\n",
    "# from torch.utils.data import DataLoader\n",
    "# from torch.autograd import Variable\n",
    "# # import error_rates\n",
    "# # import string_utils\n",
    "# import time\n",
    "# from  torch.nn.modules.loss import CTCLoss\n",
    "# from tqdm import tqdm\n",
    "\n",
    "# psychPath = \"./data/\"\n",
    "\n",
    "\n",
    "# class PsychCTC(torch.nn.Module):\n",
    "#     def __init__(self,idx_to_char, char_to_idx, verbose = False):\n",
    "#         super(PsychCTC, self).__init__()\n",
    "#         self.citerion = CTCLoss(reduction = 'none', zero_infinity=True)\n",
    "#         self.idx_to_char = idx_to_char\n",
    "#         self.char_to_idx = char_to_idx\n",
    "#         self.verbose = verbose\n",
    "\n",
    "\n",
    "#     def forward(self, preds, labels, preds_size, label_lengths, psych):\n",
    "#         # print(len(self.char_to_idx))\n",
    "#         # might need preds_size to be 8\n",
    "#         print('in the loss')        \n",
    "#         print('preds', preds.shape)\n",
    "#         print('labels', labels.shape)\n",
    "\n",
    "        \n",
    "#         print('pred_size', preds_size.shape)\n",
    "#         print('label_lenghts', label_lengths.shape)\n",
    "        \n",
    "#         loss = self.citerion(preds, labels, preds_size, label_lengths).cuda()\n",
    "#         index = 0\n",
    "#         # lbl = labels.detach().cpu().numpy()\n",
    "#         lbl = labels.data.cpu().numpy()\n",
    "#         lbl_len = label_lengths.data.cpu().numpy()\n",
    "#         output_batch = preds.permute(1, 0, 2)\n",
    "#         # out = output_batch.detach().cpu().numpy()\n",
    "#         out = output_batch.data.cpu().numpy()\n",
    "#         cer = torch.zeros(loss.shape)\n",
    "#         for j in range(out.shape[0]):\n",
    "#             logits = out[j, ...]\n",
    "#             pred, raw_pred = naive_decode(logits)\n",
    "#             pred_str = label2str(pred, self.idx_to_char, False)\n",
    "#             gt_str = label2str(lbl[index:lbl_len[j] + index], self.idx_to_char, False)\n",
    "#             index += lbl_len[j]\n",
    "#             cer[j] = error_rates.cer(gt_str, pred_str)\n",
    "#             # if self.verbose or psych[j] > 6000:\n",
    "#             #     print(psych[j])\n",
    "#         cer = Variable(cer, requires_grad = True).cuda()\n",
    "#         loss = loss + (psych * cer)\n",
    "#         return torch.sum(loss)\n",
    "\n",
    "\n",
    "# # config_path = sys.argv[1]\n",
    "# # try:\n",
    "# #     jobID = sys.argv[2]\n",
    "# # except:\n",
    "# #     jobID = \"\"\n",
    "# # print(jobID)\n",
    "\n",
    "# # with open(config_path) as f:\n",
    "# #     config = json.load(f)\n",
    "\n",
    "# # try:\n",
    "# #     model_save_path = sys.argv[3]\n",
    "# #     if model_save_path[-1] != os.path.sep:\n",
    "# #         model_save_path = model_save_path + os.path.sep\n",
    "# # except:\n",
    "\n",
    "# model_save_path = config['model_save_path']\n",
    "\n",
    "\n",
    "# verbose = False\n",
    "\n",
    "# dirname = os.path.dirname(model_save_path)\n",
    "# print(dirname)\n",
    "# if len(dirname) > 0 and not os.path.exists(dirname):\n",
    "#     os.makedirs(dirname)\n",
    "\n",
    "# # with open(config_path) as f:\n",
    "# #     paramList = f.readlines()\n",
    "\n",
    "# # for x in paramList:\n",
    "# #     print(x[:-1])\n",
    "\n",
    "# # baseMessage = \"\"\n",
    "\n",
    "# # for line in paramList:\n",
    "# #     baseMessage = baseMessage + line\n",
    "\n",
    "\n",
    "# # print(baseMessage)\n",
    "\n",
    "# idx_to_char, char_to_idx = load_char_set(config['character_set_path'])\n",
    "\n",
    "# train_dataset = HwDataset(config['training_set_path'], \n",
    "#                           char_to_idx, \n",
    "#                           img_height=config['network']['input_height'],\n",
    "#                           root_path=config['image_root_directory'], \n",
    "#                           augmentation=False, \n",
    "#                           psychPath=psychPath,\n",
    "#                           randomW=False)\n",
    "\n",
    "# try:\n",
    "#     test_dataset = HwDataset(config['validation_set_path'],\n",
    "#                              char_to_idx, \n",
    "#                              img_height=config['network']['input_height'], \n",
    "#                              root_path=config['image_root_directory'], \n",
    "#                              psychPath=psychPath)\n",
    "# except KeyError as e:\n",
    "#     print(\"No validation set found, generating one\")\n",
    "#     master = train_dataset\n",
    "#     print(\"Total of \" +str(len(master)) +\" Training Examples\")\n",
    "#     n = len(master)  # how many total elements you have\n",
    "#     n_test = int(n * .1)\n",
    "#     n_train = n - n_test\n",
    "#     idx = list(range(n))  # indices to all elements\n",
    "#     train_idx = idx[:n_train]\n",
    "#     test_idx = idx[n_train:]\n",
    "#     test_dataset = data.Subset(master, test_idx)\n",
    "#     train_dataset = data.Subset(master, train_idx)\n",
    "    \n",
    "# train_dataloader = DataLoader(train_dataset, batch_size=2, shuffle=False, num_workers=1,\n",
    "#                               collate_fn=batch_collate)\n",
    "# test_dataloader = DataLoader(test_dataset, batch_size=2, shuffle=False, num_workers=1,\n",
    "#                              collate_fn=batch_collate)\n",
    "# print(\"Train Dataset Length: \" + str(len(train_dataset)))\n",
    "# print(\"Test Dataset Length: \" + str(len(test_dataset)))\n",
    "\n",
    "\n",
    "# # if config['model'] == \"crnn\":\n",
    "# #     print(\"Using CRNN\")\n",
    "# #     hw = crnn.create_model({\n",
    "# #         'cnn_out_size': config['network']['cnn_out_size'],\n",
    "# #         'num_of_channels': 3,\n",
    "# #         'num_of_outputs': len(idx_to_char) + 1\n",
    "# #     })\n",
    "# # if config['model'].upper() == \"UNET\":\n",
    "# #     print(\"Using UNET\")\n",
    "# #     hw = unet.create_model({\n",
    "# #         'input_height': config['network']['input_height'],\n",
    "# #         'cnn_out_size': config['network']['cnn_out_size'],\n",
    "# #         'num_of_channels': 3,\n",
    "# #         'num_of_outputs': len(idx_to_char) + 1,\n",
    "# #         'bridge_width': config['network']['bridge_width']\n",
    "# #     })\n",
    "# # elif config['model'] == \"urnn\":\n",
    "# #     print(\"Using URNN\")\n",
    "# #     hw = urnn.create_model({\n",
    "# #         'input_height': config['network']['input_height'],\n",
    "# #         'cnn_out_size': config['network']['cnn_out_size'],\n",
    "# #         'num_of_channels': 3,\n",
    "# #         'num_of_outputs': len(idx_to_char)+1,\n",
    "# #         'bridge_width': config['network']['bridge_width']\n",
    "# #     })\n",
    "# # elif config['model'] == \"urnn2\":\n",
    "# #     print(\"Using URNN with Curtis's recurrence\")\n",
    "# #     hw = urnn2.create_model({\n",
    "# #         'input_height': config['network']['input_height'],\n",
    "# #         'cnn_out_size': config['network']['cnn_out_size'],\n",
    "# #         'num_of_channels': 3,\n",
    "# #         'num_of_outputs': len(idx_to_char) + 1,\n",
    "# #         'bridge_width': config['network']['bridge_width']\n",
    "# #     })\n",
    "# # elif config['model'] == \"crnn2\":\n",
    "# #     print(\"Using original CRNN\")\n",
    "# #     hw = crnn2.create_model({\n",
    "# #         'cnn_out_size': config['network']['cnn_out_size'],\n",
    "# #         'num_of_channels': 3,\n",
    "# #         'num_of_outputs': len(idx_to_char) + 1\n",
    "# #     })\n",
    "# # elif config['model'] == \"urnn3\":\n",
    "# #     print(\"Using windowed URNN with Curtis's recurrence\")\n",
    "# #     hw = urnn_window.create_model({\n",
    "# #         'input_height': config['network']['input_height'],\n",
    "# #         'cnn_out_size': config['network']['cnn_out_size'],\n",
    "# #         'num_of_channels': 3,\n",
    "# #         'num_of_outputs': len(idx_to_char) + 1,\n",
    "# #         'bridge_width': config['network']['bridge_width']\n",
    "# #     })\n",
    "\n",
    "\n",
    "# hw = create_model({\n",
    "#         'cnn_out_size': config['network']['cnn_out_size'],\n",
    "#         'num_of_channels': 3,\n",
    "#         'num_of_outputs': len(idx_to_char) + 1\n",
    "#     })\n",
    "    \n",
    "# resume = True\n",
    "# try:\n",
    "#     config['model_load_path']\n",
    "# except KeyError:\n",
    "#     resume = False\n",
    "\n",
    "# pretrain = True\n",
    "# try:\n",
    "#     config['pretrained_load_path']\n",
    "# except KeyError:\n",
    "#     pretrain = False\n",
    "\n",
    "# freeze = True\n",
    "# try:\n",
    "#     config['freeze_pretrained_weights']\n",
    "# except KeyError:\n",
    "#     freeze = False\n",
    "\n",
    "# print(\"Freeze: \" + str(freeze))\n",
    "# metric = \"CER\"\n",
    "# try:\n",
    "#     metric = config['metric'].upper()\n",
    "# except KeyError:\n",
    "#     print(\"No metric listed, defaulting to Character Error Rate\")\n",
    "# print(\"Metric: \" + metric)\n",
    "\n",
    "\n",
    "\n",
    "# if resume:\n",
    "#     hw.load_state_dict(torch.load(config['model_load_path']))\n",
    "# elif pretrain:\n",
    "#     print(\"loading pretrained weights\")\n",
    "#     model_param = hw.state_dict()\n",
    "#     unet_param = torch.load(config['pretrained_load_path'])\n",
    "#     for i in unet_param.keys():\n",
    "#         model_param['UNet.' + i] = unet_param[i]\n",
    "#     hw.load_state_dict(model_param)\n",
    "\n",
    "# if freeze:\n",
    "#     for param in hw.UNet.parameters():\n",
    "#         param.requires_grad = False\n",
    "\n",
    "# if torch.cuda.is_available():\n",
    "#     hw.cuda()\n",
    "#     dtype = torch.cuda.FloatTensor\n",
    "#     print(\"Using GPU\")\n",
    "# else:\n",
    "#     dtype = torch.FloatTensor\n",
    "#     print(\"No GPU detected\")\n",
    "\n",
    "# optimizer = torch.optim.Adadelta(hw.parameters(), lr=config['network']['learning_rate'])\n",
    "# criterion = PsychCTC(idx_to_char, char_to_idx, verbose=False)\n",
    "# # criterion = CTCLoss(reduction='sum',zero_infinity=True)\n",
    "# lowest_loss = float('inf')\n",
    "# best_distance = 0\n",
    "# for epoch in range(1000):\n",
    "#     torch.enable_grad()\n",
    "#     startTime = time.time()\n",
    "#     message = \"foo\"\n",
    "#     sum_loss = 0.0\n",
    "#     sum_wer_loss = 0.0\n",
    "#     steps = 0.0\n",
    "#     hw.train()\n",
    "#     disp_ctc_loss = 0.0\n",
    "#     disp_loss = 0.0\n",
    "#     gt = \"\"\n",
    "#     ot = \"\"\n",
    "#     loss = 0.0\n",
    "#     # train_dataloader = torch.utils.data.random_split(train_dataloader, [16, len(train_dataloader) - 16])[0]\n",
    "#     print(\"Train Set Size = \" + str(len(train_dataloader)))\n",
    "#     prog_bar = tqdm(enumerate(train_dataloader), total=len(train_dataloader))\n",
    "#     for i, x in prog_bar:\n",
    "#         # message = str(\"CER: \" + str(disp_loss) +\"\\nGT: \" +gt +\"\\nex: \"+out+\"\\nProgress\")\n",
    "#         prog_bar.set_description(f'CER: {disp_loss} CTC: {loss} Ground Truth: |{gt}| Network Output: |{ot}|')\n",
    "#         line_imgs = x['line_imgs']\n",
    "#         psych = Variable(torch.Tensor(x['psychs']).type(dtype), requires_grad=True)\n",
    "#         rem = line_imgs.shape[3] % 32\n",
    "#         if rem != 0:\n",
    "#             imgshape = line_imgs.shape\n",
    "#             temp = torch.zeros(imgshape[0], imgshape[1], imgshape[2], imgshape[3] + (32 - rem))\n",
    "#             temp[:, :, :, :imgshape[3]] = line_imgs\n",
    "#             line_imgs = temp\n",
    "#             del temp\n",
    "#         line_imgs = Variable(line_imgs.type(dtype), requires_grad=False)\n",
    "\n",
    "#         labels = Variable(x['labels'], requires_grad=False)\n",
    "#         label_lengths = Variable(x['label_lengths'], requires_grad=False)\n",
    "\n",
    "#         preds = hw(line_imgs).cpu()\n",
    "#         preds_size = Variable(torch.IntTensor([preds.size(1)] * preds.size(0)))\n",
    "\n",
    "#         print('pred size is ', preds_size.shape)\n",
    "        \n",
    "#         # output_batch = preds.permute(1,0,2)\n",
    "#         out = preds.data.cpu().numpy()\n",
    "#         preds = preds.permute(1, 0, 2)\n",
    "#         loss = criterion(preds, labels, preds_size, label_lengths, psych)\n",
    "#         # print(loss)\n",
    "#         optimizer.zero_grad()\n",
    "#         loss.backward()\n",
    "#         optimizer.step()\n",
    "#         # if i == 0:\n",
    "#         #    for i in range(out.shape[0]):\n",
    "#         #        pred, pred_raw = string_utils.naive_decode(out[i,...])\n",
    "#         #        pred_str = string_utils.label2str(pred_raw, idx_to_char, True)\n",
    "#         #        print(pred_str)\n",
    "\n",
    "#         for j in range(out.shape[0]):\n",
    "#             logits = out[j, ...]\n",
    "#             pred, raw_pred = string_utils.naive_decode(logits)\n",
    "#             pred_str = string_utils.label2str(pred, idx_to_char, False)\n",
    "#             gt_str = x['gt'][j]\n",
    "#             cer = error_rates.cer(gt_str, pred_str)\n",
    "#             wer = error_rates.wer(gt_str, pred_str)\n",
    "#             gt = gt_str\n",
    "#             ot = pred_str\n",
    "#             sum_loss += cer\n",
    "#             sum_wer_loss += wer\n",
    "#             steps += 1\n",
    "#         disp_loss = sum_loss / steps\n",
    "#     eTime = time.time() - startTime\n",
    "#     message = message + \"\\n\" + \"Epoch: \" + str(epoch) + \" Training CER: \" + str(\n",
    "#         sum_loss / steps) + \" Training WER: \" + str(sum_wer_loss / steps) + \"\\n\" + \"Time: \" + str(\n",
    "#         eTime) + \" Seconds\"\n",
    "#     print(\"Epoch: \" + str(epoch) + \" Training CER\", sum_loss / steps)\n",
    "#     print(\"Training WER: \" + str(sum_wer_loss / steps))\n",
    "#     print(\"Time: \" + str(eTime) + \" Seconds\")\n",
    "#     sum_loss = 0.0\n",
    "#     sum_wer_loss = 0.0\n",
    "#     steps = 0.0\n",
    "#     hw.eval()\n",
    "#     print(\"Validation Set Size = \" + str(len(test_dataloader)))\n",
    "#     for x in tqdm(test_dataloader):\n",
    "#         torch.no_grad()\n",
    "#         line_imgs = Variable(x['line_imgs'].type(dtype), requires_grad=False)\n",
    "#         # labels =  Variable(x['labels'], requires_grad=False, volatile=True)\n",
    "#         # label_lengths = Variable(x['label_lengths'], requires_grad=False, volatile=True)\n",
    "#         preds = hw(line_imgs).cpu()\n",
    "#         out = preds.data.cpu().numpy()\n",
    "#         for i, gt_line in enumerate(x['gt']):\n",
    "#             logits = out[i, ...]\n",
    "#             pred, raw_pred = string_utils.naive_decode(logits)\n",
    "#             pred_str = string_utils.label2str(pred, idx_to_char, False)\n",
    "#             cer = error_rates.cer(gt_line, pred_str)\n",
    "#             wer = error_rates.wer(gt_line, pred_str)\n",
    "#             sum_wer_loss += wer\n",
    "#             sum_loss += cer\n",
    "#             steps += 1\n",
    "\n",
    "#     message = message + \"\\nTest CER: \" + str(sum_loss / steps)\n",
    "#     message = message + \"\\nTest WER: \" + str(sum_wer_loss / steps)\n",
    "#     print(\"Test CER\", sum_loss / steps)\n",
    "#     print(\"Test WER\", sum_wer_loss / steps)\n",
    "#     best_distance += 1\n",
    "#     metric = \"CER\"\n",
    "#     if (metric == \"CER\"):\n",
    "#         if lowest_loss > sum_loss / steps:\n",
    "#             lowest_loss = sum_loss / steps\n",
    "#             print(\"Saving Best\")\n",
    "#             message = message + \"\\nBest Result :)\"\n",
    "#             torch.save(hw.state_dict(), os.path.join(model_save_path + str(epoch) + \".pt\"))\n",
    "#             best_distance = 0\n",
    "#         if best_distance > 800:\n",
    "#             break\n",
    "#     elif (metric == \"WER\"):\n",
    "#         if lowest_loss > sum_wer_loss / steps:\n",
    "#             lowest_loss = sum_wer_loss / steps\n",
    "#             print(\"Saving Best\")\n",
    "#             message = message + \"\\nBest Result :)\"\n",
    "#             torch.save(hw.state_dict(), os.path.join(model_save_path + str(epoch) + \".pt\"))\n",
    "#             best_distance = 0\n",
    "#         if best_distance > 80:\n",
    "#             break\n",
    "#     else:\n",
    "#         print(\"This is actually very bad\")ort json\n",
    "# imp\n"
   ]
  },
  {
   "cell_type": "code",
   "execution_count": null,
   "id": "da8cd34f",
   "metadata": {
    "scrolled": false
   },
   "outputs": [
    {
     "name": "stdout",
     "output_type": "stream",
     "text": [
      "Train Dataset Length: 6161\n",
      "Test Dataset Length: 966\n",
      "Freeze: False\n",
      "No metric listed, defaulting to Character Error Rate\n",
      "Metric: CER\n",
      "Using GPU\n",
      "Train Set Size = 771\n"
     ]
    },
    {
     "name": "stderr",
     "output_type": "stream",
     "text": [
      "CER: 1.0145092046193482 CTC: 9190.564453125 Ground Truth: |example , surel\n"
     ]
    },
    {
     "name": "stdout",
     "output_type": "stream",
     "text": [
      "Epoch: 0 Training CER 1.0145068496112943\n",
      "Training WER: 1.0004246092056512\n",
      "Time: 282.214875459671 Seconds\n",
      "Validation Set Size = 121\n"
     ]
    },
    {
     "name": "stderr",
     "output_type": "stream",
     "text": [
      "  0%|                                             | 0/121 [00:00<?, ?it/s]/afs/crc.nd.edu/user/j/jdulay/research/generic_model_search/env/lib/python3.7/site-packages/ipykernel_launcher.py:322: UserWarning: volatile was removed and now has no effect. Use `with torch.no_grad():` instead.\n",
      "/afs/crc.nd.edu/user/j/jdulay/research/generic_model_search/env/lib/python3.7/site-packages/ipykernel_launcher.py:323: UserWarning: volatile was removed and now has no effect. Use `with torch.no_grad():` instead.\n",
      "  1%|▎                                    | 1/121 [00:00<00:18,  6.54it/s]"
     ]
    },
    {
     "name": "stdout",
     "output_type": "stream",
     "text": [
      "--------------\n",
      "torch.Size([346, 8, 80])\n",
      "tensor([0., 0., 0., 0., 0., 0., 0., 0.], device='cuda:0')\n"
     ]
    },
    {
     "name": "stderr",
     "output_type": "stream",
     "text": [
      "\r",
      "  2%|▌                                    | 2/121 [00:00<00:17,  6.97it/s]"
     ]
    },
    {
     "name": "stdout",
     "output_type": "stream",
     "text": [
      "--------------\n",
      "torch.Size([301, 8, 80])\n",
      "tensor([0., 0., 0., 0., 0., 0., 0., 0.], device='cuda:0')\n"
     ]
    },
    {
     "name": "stderr",
     "output_type": "stream",
     "text": [
      "\r",
      "  2%|▉                                    | 3/121 [00:00<00:16,  7.26it/s]"
     ]
    },
    {
     "name": "stdout",
     "output_type": "stream",
     "text": [
      "--------------\n",
      "torch.Size([286, 8, 80])\n",
      "tensor([0., 0., 0., 0., 0., 0., 0., 0.], device='cuda:0')\n"
     ]
    },
    {
     "name": "stderr",
     "output_type": "stream",
     "text": [
      "\r",
      "  3%|█▏                                   | 4/121 [00:00<00:16,  7.17it/s]"
     ]
    },
    {
     "name": "stdout",
     "output_type": "stream",
     "text": [
      "--------------\n",
      "torch.Size([316, 8, 80])\n",
      "tensor([0., 0., 0., 0., 0., 0., 0., 0.], device='cuda:0')\n"
     ]
    },
    {
     "name": "stderr",
     "output_type": "stream",
     "text": [
      "\r",
      "  4%|█▌                                   | 5/121 [00:00<00:15,  7.61it/s]"
     ]
    },
    {
     "name": "stdout",
     "output_type": "stream",
     "text": [
      "--------------\n",
      "torch.Size([256, 8, 80])\n",
      "tensor([0., 0., 0., 0., 0., 0., 0., 0.], device='cuda:0')\n"
     ]
    },
    {
     "name": "stderr",
     "output_type": "stream",
     "text": [
      "\r",
      "  5%|█▊                                   | 6/121 [00:00<00:15,  7.52it/s]"
     ]
    },
    {
     "name": "stdout",
     "output_type": "stream",
     "text": [
      "--------------\n",
      "torch.Size([301, 8, 80])\n",
      "tensor([0., 0., 0., 0., 0., 0., 0., 0.], device='cuda:0')\n"
     ]
    },
    {
     "name": "stderr",
     "output_type": "stream",
     "text": [
      "\r",
      "  6%|██▏                                  | 7/121 [00:00<00:15,  7.58it/s]"
     ]
    },
    {
     "name": "stdout",
     "output_type": "stream",
     "text": [
      "--------------\n",
      "torch.Size([286, 8, 80])\n",
      "tensor([0., 0., 0., 0., 0., 0., 0., 0.], device='cuda:0')\n"
     ]
    },
    {
     "name": "stderr",
     "output_type": "stream",
     "text": [
      "\r",
      "  7%|██▍                                  | 8/121 [00:01<00:16,  6.65it/s]"
     ]
    },
    {
     "name": "stdout",
     "output_type": "stream",
     "text": [
      "--------------\n",
      "torch.Size([451, 8, 80])\n",
      "tensor([0., 0., 0., 0., 0., 0., 0., 0.], device='cuda:0')\n"
     ]
    },
    {
     "name": "stderr",
     "output_type": "stream",
     "text": [
      "\r",
      "  7%|██▊                                  | 9/121 [00:01<00:17,  6.35it/s]"
     ]
    },
    {
     "name": "stdout",
     "output_type": "stream",
     "text": [
      "--------------\n",
      "torch.Size([391, 8, 80])\n",
      "tensor([0., 0., 0., 0., 0., 0., 0., 0.], device='cuda:0')\n"
     ]
    },
    {
     "name": "stderr",
     "output_type": "stream",
     "text": [
      "  9%|███▎                                | 11/121 [00:01<00:18,  6.02it/s]"
     ]
    },
    {
     "name": "stdout",
     "output_type": "stream",
     "text": [
      "--------------\n",
      "torch.Size([496, 8, 80])\n",
      "tensor([0., 0., 0., 0., 0., 0., 0., 0.], device='cuda:0')\n",
      "--------------\n",
      "torch.Size([346, 8, 80])\n",
      "tensor([0., 0., 0., 0., 0., 0., 0., 0.], device='cuda:0')\n"
     ]
    },
    {
     "name": "stderr",
     "output_type": "stream",
     "text": [
      " 11%|███▊                                | 13/121 [00:01<00:17,  6.22it/s]"
     ]
    },
    {
     "name": "stdout",
     "output_type": "stream",
     "text": [
      "--------------\n",
      "torch.Size([376, 8, 80])\n",
      "tensor([0., 0., 0., 0., 0., 0., 0., 0.], device='cuda:0')\n",
      "--------------\n",
      "torch.Size([346, 8, 80])\n",
      "tensor([0., 0., 0., 0., 0., 0., 0., 0.], device='cuda:0')\n"
     ]
    },
    {
     "name": "stderr",
     "output_type": "stream",
     "text": [
      " 12%|████▍                               | 15/121 [00:02<00:16,  6.41it/s]"
     ]
    },
    {
     "name": "stdout",
     "output_type": "stream",
     "text": [
      "--------------\n",
      "torch.Size([361, 8, 80])\n",
      "tensor([0., 0., 0., 0., 0., 0., 0., 0.], device='cuda:0')\n",
      "--------------\n",
      "torch.Size([346, 8, 80])\n",
      "tensor([0., 0., 0., 0., 0., 0., 0., 0.], device='cuda:0')\n"
     ]
    },
    {
     "name": "stderr",
     "output_type": "stream",
     "text": [
      " 14%|█████                               | 17/121 [00:02<00:16,  6.31it/s]"
     ]
    },
    {
     "name": "stdout",
     "output_type": "stream",
     "text": [
      "--------------\n",
      "torch.Size([361, 8, 80])\n",
      "tensor([0., 0., 0., 0., 0., 0., 0., 0.], device='cuda:0')\n",
      "--------------\n",
      "torch.Size([376, 8, 80])\n",
      "tensor([0., 0., 0., 0., 0., 0., 0., 0.], device='cuda:0')\n"
     ]
    },
    {
     "name": "stderr",
     "output_type": "stream",
     "text": [
      " 16%|█████▋                              | 19/121 [00:02<00:15,  6.48it/s]"
     ]
    },
    {
     "name": "stdout",
     "output_type": "stream",
     "text": [
      "--------------\n",
      "torch.Size([361, 8, 80])\n",
      "tensor([0., 0., 0., 0., 0., 0., 0., 0.], device='cuda:0')\n",
      "--------------\n",
      "torch.Size([331, 8, 80])\n",
      "tensor([0., 0., 0., 0., 0., 0., 0., 0.], device='cuda:0')\n"
     ]
    },
    {
     "name": "stderr",
     "output_type": "stream",
     "text": [
      " 17%|██████▏                             | 21/121 [00:03<00:15,  6.32it/s]"
     ]
    },
    {
     "name": "stdout",
     "output_type": "stream",
     "text": [
      "--------------\n",
      "torch.Size([361, 8, 80])\n",
      "tensor([0., 0., 0., 0., 0., 0., 0., 0.], device='cuda:0')\n",
      "--------------\n",
      "torch.Size([391, 8, 80])\n",
      "tensor([0., 0., 0., 0., 0., 0., 0., 0.], device='cuda:0')\n"
     ]
    },
    {
     "name": "stderr",
     "output_type": "stream",
     "text": [
      " 19%|██████▊                             | 23/121 [00:03<00:15,  6.13it/s]"
     ]
    },
    {
     "name": "stdout",
     "output_type": "stream",
     "text": [
      "--------------\n",
      "torch.Size([361, 8, 80])\n",
      "tensor([0., 0., 0., 0., 0., 0., 0., 0.], device='cuda:0')\n",
      "--------------\n",
      "torch.Size([421, 8, 80])\n",
      "tensor([0., 0., 0., 0., 0., 0., 0., 0.], device='cuda:0')\n"
     ]
    },
    {
     "name": "stderr",
     "output_type": "stream",
     "text": [
      " 21%|███████▍                            | 25/121 [00:03<00:15,  6.28it/s]"
     ]
    },
    {
     "name": "stdout",
     "output_type": "stream",
     "text": [
      "--------------\n",
      "torch.Size([346, 8, 80])\n",
      "tensor([0., 0., 0., 0., 0., 0., 0., 0.], device='cuda:0')\n",
      "--------------\n",
      "torch.Size([361, 8, 80])\n",
      "tensor([0., 0., 0., 0., 0., 0., 0., 0.], device='cuda:0')\n"
     ]
    },
    {
     "name": "stderr",
     "output_type": "stream",
     "text": [
      " 22%|████████                            | 27/121 [00:04<00:14,  6.62it/s]"
     ]
    },
    {
     "name": "stdout",
     "output_type": "stream",
     "text": [
      "--------------\n",
      "torch.Size([346, 8, 80])\n",
      "tensor([0., 0., 0., 0., 0., 0., 0., 0.], device='cuda:0')\n",
      "--------------\n",
      "torch.Size([316, 8, 80])\n",
      "tensor([0., 0., 0., 0., 0., 0., 0., 0.], device='cuda:0')\n"
     ]
    },
    {
     "name": "stderr",
     "output_type": "stream",
     "text": [
      " 24%|████████▋                           | 29/121 [00:04<00:13,  6.75it/s]"
     ]
    },
    {
     "name": "stdout",
     "output_type": "stream",
     "text": [
      "--------------\n",
      "torch.Size([316, 8, 80])\n",
      "tensor([0., 0., 0., 0., 0., 0., 0., 0.], device='cuda:0')\n",
      "--------------\n",
      "torch.Size([346, 8, 80])\n",
      "tensor([0., 0., 0., 0., 0., 0., 0., 0.], device='cuda:0')\n"
     ]
    },
    {
     "name": "stderr",
     "output_type": "stream",
     "text": [
      " 26%|█████████▏                          | 31/121 [00:04<00:14,  6.40it/s]"
     ]
    },
    {
     "name": "stdout",
     "output_type": "stream",
     "text": [
      "--------------\n",
      "torch.Size([346, 8, 80])\n",
      "tensor([0., 0., 0., 0., 0., 0., 0., 0.], device='cuda:0')\n",
      "--------------\n",
      "torch.Size([406, 8, 80])\n",
      "tensor([0., 0., 0., 0., 0., 0., 0., 0.], device='cuda:0')\n"
     ]
    },
    {
     "name": "stderr",
     "output_type": "stream",
     "text": [
      " 27%|█████████▊                          | 33/121 [00:05<00:12,  6.93it/s]"
     ]
    },
    {
     "name": "stdout",
     "output_type": "stream",
     "text": [
      "--------------\n",
      "torch.Size([316, 8, 80])\n",
      "tensor([0., 0., 0., 0., 0., 0., 0., 0.], device='cuda:0')\n",
      "--------------\n",
      "torch.Size([286, 8, 80])\n",
      "tensor([0., 0., 0., 0., 0., 0., 0., 0.], device='cuda:0')\n"
     ]
    },
    {
     "name": "stderr",
     "output_type": "stream",
     "text": [
      " 29%|██████████▍                         | 35/121 [00:05<00:12,  6.88it/s]"
     ]
    },
    {
     "name": "stdout",
     "output_type": "stream",
     "text": [
      "--------------\n",
      "torch.Size([376, 8, 80])\n",
      "tensor([0., 0., 0., 0., 0., 0., 0., 0.], device='cuda:0')\n",
      "--------------\n",
      "torch.Size([301, 8, 80])\n",
      "tensor([0., 0., 0., 0., 0., 0., 0., 0.], device='cuda:0')\n"
     ]
    },
    {
     "name": "stderr",
     "output_type": "stream",
     "text": [
      " 31%|███████████                         | 37/121 [00:05<00:11,  7.14it/s]"
     ]
    },
    {
     "name": "stdout",
     "output_type": "stream",
     "text": [
      "--------------\n",
      "torch.Size([361, 8, 80])\n",
      "tensor([0., 0., 0., 0., 0., 0., 0., 0.], device='cuda:0')\n",
      "--------------\n",
      "torch.Size([256, 8, 80])\n",
      "tensor([0., 0., 0., 0., 0., 0., 0., 0.], device='cuda:0')\n"
     ]
    },
    {
     "name": "stderr",
     "output_type": "stream",
     "text": [
      " 32%|███████████▌                        | 39/121 [00:05<00:11,  7.27it/s]"
     ]
    },
    {
     "name": "stdout",
     "output_type": "stream",
     "text": [
      "--------------\n",
      "torch.Size([271, 8, 80])\n",
      "tensor([0., 0., 0., 0., 0., 0., 0., 0.], device='cuda:0')\n",
      "--------------\n",
      "torch.Size([316, 8, 80])\n",
      "tensor([0., 0., 0., 0., 0., 0., 0., 0.], device='cuda:0')\n"
     ]
    },
    {
     "name": "stderr",
     "output_type": "stream",
     "text": [
      " 34%|████████████▏                       | 41/121 [00:06<00:10,  7.41it/s]"
     ]
    },
    {
     "name": "stdout",
     "output_type": "stream",
     "text": [
      "--------------\n",
      "torch.Size([316, 8, 80])\n",
      "tensor([0., 0., 0., 0., 0., 0., 0., 0.], device='cuda:0')\n",
      "--------------\n",
      "torch.Size([286, 8, 80])\n",
      "tensor([0., 0., 0., 0., 0., 0., 0., 0.], device='cuda:0')\n"
     ]
    },
    {
     "name": "stderr",
     "output_type": "stream",
     "text": [
      " 36%|████████████▊                       | 43/121 [00:06<00:10,  7.27it/s]"
     ]
    },
    {
     "name": "stdout",
     "output_type": "stream",
     "text": [
      "--------------\n",
      "torch.Size([346, 8, 80])\n",
      "tensor([0., 0., 0., 0., 0., 0., 0., 0.], device='cuda:0')\n",
      "--------------\n",
      "torch.Size([301, 8, 80])\n",
      "tensor([0., 0., 0., 0., 0., 0., 0., 0.], device='cuda:0')\n"
     ]
    },
    {
     "name": "stderr",
     "output_type": "stream",
     "text": [
      " 37%|█████████████▍                      | 45/121 [00:06<00:09,  7.66it/s]"
     ]
    },
    {
     "name": "stdout",
     "output_type": "stream",
     "text": [
      "--------------\n",
      "torch.Size([256, 8, 80])\n",
      "tensor([0., 0., 0., 0., 0., 0., 0., 0.], device='cuda:0')\n",
      "--------------\n",
      "torch.Size([286, 8, 80])\n",
      "tensor([0., 0., 0., 0., 0., 0., 0., 0.], device='cuda:0')\n"
     ]
    },
    {
     "name": "stderr",
     "output_type": "stream",
     "text": [
      " 39%|█████████████▉                      | 47/121 [00:07<00:10,  6.85it/s]"
     ]
    },
    {
     "name": "stdout",
     "output_type": "stream",
     "text": [
      "--------------\n",
      "torch.Size([451, 8, 80])\n",
      "tensor([0., 0., 0., 0., 0., 0., 0., 0.], device='cuda:0')\n",
      "--------------\n",
      "torch.Size([316, 8, 80])\n",
      "tensor([0., 0., 0., 0., 0., 0., 0., 0.], device='cuda:0')\n"
     ]
    },
    {
     "name": "stderr",
     "output_type": "stream",
     "text": [
      " 40%|██████████████▌                     | 49/121 [00:07<00:11,  6.32it/s]"
     ]
    },
    {
     "name": "stdout",
     "output_type": "stream",
     "text": [
      "--------------\n",
      "torch.Size([391, 8, 80])\n",
      "tensor([0., 0., 0., 0., 0., 0., 0., 0.], device='cuda:0')\n",
      "--------------\n",
      "torch.Size([391, 8, 80])\n",
      "tensor([0., 0., 0., 0., 0., 0., 0., 0.], device='cuda:0')\n"
     ]
    },
    {
     "name": "stderr",
     "output_type": "stream",
     "text": [
      " 42%|███████████████▏                    | 51/121 [00:07<00:11,  6.15it/s]"
     ]
    },
    {
     "name": "stdout",
     "output_type": "stream",
     "text": [
      "--------------\n",
      "torch.Size([496, 8, 80])\n",
      "tensor([0., 0., 0., 0., 0., 0., 0., 0.], device='cuda:0')\n",
      "--------------\n",
      "torch.Size([301, 8, 80])\n",
      "tensor([0., 0., 0., 0., 0., 0., 0., 0.], device='cuda:0')\n"
     ]
    },
    {
     "name": "stderr",
     "output_type": "stream",
     "text": [
      " 44%|███████████████▊                    | 53/121 [00:08<00:10,  6.24it/s]"
     ]
    },
    {
     "name": "stdout",
     "output_type": "stream",
     "text": [
      "--------------\n",
      "torch.Size([316, 8, 80])\n",
      "tensor([0., 0., 0., 0., 0., 0., 0., 0.], device='cuda:0')\n",
      "--------------\n",
      "torch.Size([391, 8, 80])\n",
      "tensor([0., 0., 0., 0., 0., 0., 0., 0.], device='cuda:0')\n"
     ]
    },
    {
     "name": "stderr",
     "output_type": "stream",
     "text": [
      " 45%|████████████████▎                   | 55/121 [00:08<00:10,  6.52it/s]"
     ]
    },
    {
     "name": "stdout",
     "output_type": "stream",
     "text": [
      "--------------\n",
      "torch.Size([301, 8, 80])\n",
      "tensor([0., 0., 0., 0., 0., 0., 0., 0.], device='cuda:0')\n",
      "--------------\n",
      "torch.Size([346, 8, 80])\n",
      "tensor([0., 0., 0., 0., 0., 0., 0., 0.], device='cuda:0')\n"
     ]
    },
    {
     "name": "stderr",
     "output_type": "stream",
     "text": [
      " 47%|████████████████▉                   | 57/121 [00:08<00:09,  6.93it/s]"
     ]
    },
    {
     "name": "stdout",
     "output_type": "stream",
     "text": [
      "--------------\n",
      "torch.Size([331, 8, 80])\n",
      "tensor([0., 0., 0., 0., 0., 0., 0., 0.], device='cuda:0')\n",
      "--------------\n",
      "torch.Size([286, 8, 80])\n",
      "tensor([0., 0., 0., 0., 0., 0., 0., 0.], device='cuda:0')\n"
     ]
    },
    {
     "name": "stderr",
     "output_type": "stream",
     "text": [
      " 49%|█████████████████▌                  | 59/121 [00:08<00:09,  6.54it/s]"
     ]
    },
    {
     "name": "stdout",
     "output_type": "stream",
     "text": [
      "--------------\n",
      "torch.Size([346, 8, 80])\n",
      "tensor([0., 0., 0., 0., 0., 0., 0., 0.], device='cuda:0')\n",
      "--------------\n",
      "torch.Size([376, 8, 80])\n",
      "tensor([0., 0., 0., 0., 0., 0., 0., 0.], device='cuda:0')\n"
     ]
    },
    {
     "name": "stderr",
     "output_type": "stream",
     "text": [
      " 50%|██████████████████▏                 | 61/121 [00:09<00:08,  6.83it/s]"
     ]
    },
    {
     "name": "stdout",
     "output_type": "stream",
     "text": [
      "--------------\n",
      "torch.Size([331, 8, 80])\n",
      "tensor([0., 0., 0., 0., 0., 0., 0., 0.], device='cuda:0')\n",
      "--------------\n",
      "torch.Size([301, 8, 80])\n",
      "tensor([0., 0., 0., 0., 0., 0., 0., 0.], device='cuda:0')\n"
     ]
    },
    {
     "name": "stderr",
     "output_type": "stream",
     "text": [
      " 52%|██████████████████▋                 | 63/121 [00:09<00:08,  6.47it/s]"
     ]
    },
    {
     "name": "stdout",
     "output_type": "stream",
     "text": [
      "--------------\n",
      "torch.Size([346, 8, 80])\n",
      "tensor([0., 0., 0., 0., 0., 0., 0., 0.], device='cuda:0')\n",
      "--------------\n",
      "torch.Size([391, 8, 80])\n",
      "tensor([0., 0., 0., 0., 0., 0., 0., 0.], device='cuda:0')\n"
     ]
    },
    {
     "name": "stderr",
     "output_type": "stream",
     "text": [
      " 54%|███████████████████▎                | 65/121 [00:09<00:08,  6.37it/s]"
     ]
    },
    {
     "name": "stdout",
     "output_type": "stream",
     "text": [
      "--------------\n",
      "torch.Size([421, 8, 80])\n",
      "tensor([0., 0., 0., 0., 0., 0., 0., 0.], device='cuda:0')\n",
      "--------------\n",
      "torch.Size([316, 8, 80])\n",
      "tensor([0., 0., 0., 0., 0., 0., 0., 0.], device='cuda:0')\n"
     ]
    },
    {
     "name": "stderr",
     "output_type": "stream",
     "text": [
      " 55%|███████████████████▉                | 67/121 [00:10<00:08,  6.29it/s]"
     ]
    },
    {
     "name": "stdout",
     "output_type": "stream",
     "text": [
      "--------------\n",
      "torch.Size([361, 8, 80])\n",
      "tensor([0., 0., 0., 0., 0., 0., 0., 0.], device='cuda:0')\n",
      "--------------\n",
      "torch.Size([376, 8, 80])\n",
      "tensor([0., 0., 0., 0., 0., 0., 0., 0.], device='cuda:0')\n"
     ]
    },
    {
     "name": "stderr",
     "output_type": "stream",
     "text": [
      " 57%|████████████████████▌               | 69/121 [00:10<00:08,  6.29it/s]"
     ]
    },
    {
     "name": "stdout",
     "output_type": "stream",
     "text": [
      "--------------\n",
      "torch.Size([376, 8, 80])\n",
      "tensor([0., 0., 0., 0., 0., 0., 0., 0.], device='cuda:0')\n",
      "--------------\n",
      "torch.Size([361, 8, 80])\n",
      "tensor([0., 0., 0., 0., 0., 0., 0., 0.], device='cuda:0')\n"
     ]
    },
    {
     "name": "stderr",
     "output_type": "stream",
     "text": [
      "\r",
      " 58%|████████████████████▊               | 70/121 [00:10<00:07,  6.39it/s]"
     ]
    },
    {
     "name": "stdout",
     "output_type": "stream",
     "text": [
      "--------------\n",
      "torch.Size([346, 8, 80])\n",
      "tensor([0., 0., 0., 0., 0., 0., 0., 0.], device='cuda:0')\n",
      "--------------\n",
      "torch.Size([481, 8, 80])\n"
     ]
    },
    {
     "name": "stderr",
     "output_type": "stream",
     "text": [
      " 60%|█████████████████████▍              | 72/121 [00:10<00:08,  5.94it/s]"
     ]
    },
    {
     "name": "stdout",
     "output_type": "stream",
     "text": [
      "tensor([0., 0., 0., 0., 0., 0., 0., 0.], device='cuda:0')\n",
      "--------------\n",
      "torch.Size([376, 8, 80])\n",
      "tensor([0., 0., 0., 0., 0., 0., 0., 0.], device='cuda:0')\n"
     ]
    },
    {
     "name": "stderr",
     "output_type": "stream",
     "text": [
      "\r",
      " 60%|█████████████████████▋              | 73/121 [00:11<00:08,  5.93it/s]"
     ]
    },
    {
     "name": "stdout",
     "output_type": "stream",
     "text": [
      "--------------\n",
      "torch.Size([391, 8, 80])\n",
      "tensor([0., 0., 0., 0., 0., 0., 0., 0.], device='cuda:0')\n",
      "--------------\n",
      "torch.Size([451, 8, 80])\n",
      "tensor([0., 0., 0., 0., 0., 0., 0., 0.], device='cuda:0')\n"
     ]
    },
    {
     "name": "stderr",
     "output_type": "stream",
     "text": [
      " 63%|██████████████████████▌             | 76/121 [00:11<00:06,  6.49it/s]"
     ]
    },
    {
     "name": "stdout",
     "output_type": "stream",
     "text": [
      "--------------\n",
      "torch.Size([331, 8, 80])\n",
      "tensor([0., 0., 0., 0., 0., 0., 0., 0.], device='cuda:0')\n",
      "--------------\n",
      "torch.Size([286, 8, 80])\n",
      "tensor([0., 0., 0., 0., 0., 0., 0., 0.], device='cuda:0')\n"
     ]
    },
    {
     "name": "stderr",
     "output_type": "stream",
     "text": [
      " 64%|███████████████████████▏            | 78/121 [00:11<00:06,  6.57it/s]"
     ]
    },
    {
     "name": "stdout",
     "output_type": "stream",
     "text": [
      "--------------\n",
      "torch.Size([346, 8, 80])\n",
      "tensor([0., 0., 0., 0., 0., 0., 0., 0.], device='cuda:0')\n",
      "--------------\n",
      "torch.Size([331, 8, 80])\n",
      "tensor([0., 0., 0., 0., 0., 0., 0., 0.], device='cuda:0')\n"
     ]
    },
    {
     "name": "stderr",
     "output_type": "stream",
     "text": [
      " 66%|███████████████████████▊            | 80/121 [00:12<00:05,  6.99it/s]"
     ]
    },
    {
     "name": "stdout",
     "output_type": "stream",
     "text": [
      "--------------\n",
      "torch.Size([286, 8, 80])\n",
      "tensor([0., 0., 0., 0., 0., 0., 0., 0.], device='cuda:0')\n",
      "--------------\n",
      "torch.Size([301, 8, 80])\n",
      "tensor([0., 0., 0., 0., 0., 0., 0., 0.], device='cuda:0')\n"
     ]
    },
    {
     "name": "stderr",
     "output_type": "stream",
     "text": [
      " 68%|████████████████████████▍           | 82/121 [00:12<00:06,  6.47it/s]"
     ]
    },
    {
     "name": "stdout",
     "output_type": "stream",
     "text": [
      "--------------\n",
      "torch.Size([316, 8, 80])\n",
      "tensor([0., 0., 0., 0., 0., 0., 0., 0.], device='cuda:0')\n",
      "--------------\n",
      "torch.Size([421, 8, 80])\n",
      "tensor([0., 0., 0., 0., 0., 0., 0., 0.], device='cuda:0')\n"
     ]
    },
    {
     "name": "stderr",
     "output_type": "stream",
     "text": [
      " 69%|████████████████████████▉           | 84/121 [00:12<00:05,  6.92it/s]"
     ]
    },
    {
     "name": "stdout",
     "output_type": "stream",
     "text": [
      "--------------\n",
      "torch.Size([286, 8, 80])\n",
      "tensor([0., 0., 0., 0., 0., 0., 0., 0.], device='cuda:0')\n",
      "--------------\n",
      "torch.Size([301, 8, 80])\n",
      "tensor([0., 0., 0., 0., 0., 0., 0., 0.], device='cuda:0')\n"
     ]
    },
    {
     "name": "stderr",
     "output_type": "stream",
     "text": [
      " 71%|█████████████████████████▌          | 86/121 [00:13<00:04,  7.09it/s]"
     ]
    },
    {
     "name": "stdout",
     "output_type": "stream",
     "text": [
      "--------------\n",
      "torch.Size([301, 8, 80])\n",
      "tensor([0., 0., 0., 0., 0., 0., 0., 0.], device='cuda:0')\n",
      "--------------\n",
      "torch.Size([316, 8, 80])\n",
      "tensor([0., 0., 0., 0., 0., 0., 0., 0.], device='cuda:0')\n"
     ]
    },
    {
     "name": "stderr",
     "output_type": "stream",
     "text": [
      " 73%|██████████████████████████▏         | 88/121 [00:13<00:04,  7.05it/s]"
     ]
    },
    {
     "name": "stdout",
     "output_type": "stream",
     "text": [
      "--------------\n",
      "torch.Size([301, 8, 80])\n",
      "tensor([0., 0., 0., 0., 0., 0., 0., 0.], device='cuda:0')\n",
      "--------------\n",
      "torch.Size([331, 8, 80])\n",
      "tensor([0., 0., 0., 0., 0., 0., 0., 0.], device='cuda:0')\n"
     ]
    },
    {
     "name": "stderr",
     "output_type": "stream",
     "text": [
      " 74%|██████████████████████████▊         | 90/121 [00:13<00:04,  6.46it/s]"
     ]
    },
    {
     "name": "stdout",
     "output_type": "stream",
     "text": [
      "--------------\n",
      "torch.Size([361, 8, 80])\n",
      "tensor([0., 0., 0., 0., 0., 0., 0., 0.], device='cuda:0')\n",
      "--------------\n",
      "torch.Size([391, 8, 80])\n",
      "tensor([0., 0., 0., 0., 0., 0., 0., 0.], device='cuda:0')\n"
     ]
    },
    {
     "name": "stderr",
     "output_type": "stream",
     "text": [
      "\r",
      " 75%|███████████████████████████         | 91/121 [00:13<00:04,  6.31it/s]"
     ]
    },
    {
     "name": "stdout",
     "output_type": "stream",
     "text": [
      "--------------\n",
      "torch.Size([391, 8, 80])\n",
      "tensor([0., 0., 0., 0., 0., 0., 0., 0.], device='cuda:0')\n",
      "--------------\n",
      "torch.Size([466, 8, 80])\n",
      "tensor([0., 0., 0., 0., 0., 0., 0., 0.], device='cuda:0')\n"
     ]
    },
    {
     "name": "stderr",
     "output_type": "stream",
     "text": [
      " 78%|███████████████████████████▉        | 94/121 [00:14<00:04,  6.38it/s]"
     ]
    },
    {
     "name": "stdout",
     "output_type": "stream",
     "text": [
      "--------------\n",
      "torch.Size([286, 8, 80])\n",
      "tensor([0., 0., 0., 0., 0., 0., 0., 0.], device='cuda:0')\n",
      "--------------\n",
      "torch.Size([346, 8, 80])\n",
      "tensor([0., 0., 0., 0., 0., 0., 0., 0.], device='cuda:0')\n"
     ]
    },
    {
     "name": "stderr",
     "output_type": "stream",
     "text": [
      " 79%|████████████████████████████▌       | 96/121 [00:14<00:03,  6.70it/s]"
     ]
    },
    {
     "name": "stdout",
     "output_type": "stream",
     "text": [
      "--------------\n",
      "torch.Size([301, 8, 80])\n",
      "tensor([0., 0., 0., 0., 0., 0., 0., 0.], device='cuda:0')\n",
      "--------------\n",
      "torch.Size([331, 8, 80])\n",
      "tensor([0., 0., 0., 0., 0., 0., 0., 0.], device='cuda:0')\n"
     ]
    },
    {
     "name": "stderr",
     "output_type": "stream",
     "text": [
      " 81%|█████████████████████████████▏      | 98/121 [00:14<00:03,  6.80it/s]"
     ]
    },
    {
     "name": "stdout",
     "output_type": "stream",
     "text": [
      "--------------\n",
      "torch.Size([346, 8, 80])\n",
      "tensor([0., 0., 0., 0., 0., 0., 0., 0.], device='cuda:0')\n",
      "--------------\n",
      "torch.Size([316, 8, 80])\n",
      "tensor([0., 0., 0., 0., 0., 0., 0., 0.], device='cuda:0')\n"
     ]
    },
    {
     "name": "stderr",
     "output_type": "stream",
     "text": [
      " 83%|████████████████████████████▉      | 100/121 [00:15<00:03,  6.38it/s]"
     ]
    },
    {
     "name": "stdout",
     "output_type": "stream",
     "text": [
      "--------------\n",
      "torch.Size([421, 8, 80])\n",
      "tensor([0., 0., 0., 0., 0., 0., 0., 0.], device='cuda:0')\n",
      "--------------\n",
      "torch.Size([361, 8, 80])\n",
      "tensor([0., 0., 0., 0., 0., 0., 0., 0.], device='cuda:0')\n"
     ]
    },
    {
     "name": "stderr",
     "output_type": "stream",
     "text": [
      " 84%|█████████████████████████████▌     | 102/121 [00:15<00:03,  6.01it/s]"
     ]
    },
    {
     "name": "stdout",
     "output_type": "stream",
     "text": [
      "--------------\n",
      "torch.Size([376, 8, 80])\n",
      "tensor([0., 0., 0., 0., 0., 0., 0., 0.], device='cuda:0')\n",
      "--------------\n",
      "torch.Size([436, 8, 80])\n",
      "tensor([0., 0., 0., 0., 0., 0., 0., 0.], device='cuda:0')\n"
     ]
    },
    {
     "name": "stderr",
     "output_type": "stream",
     "text": [
      " 86%|██████████████████████████████     | 104/121 [00:15<00:02,  6.32it/s]"
     ]
    },
    {
     "name": "stdout",
     "output_type": "stream",
     "text": [
      "--------------\n",
      "torch.Size([421, 8, 80])\n",
      "tensor([0., 0., 0., 0., 0., 0., 0., 0.], device='cuda:0')\n",
      "--------------\n",
      "torch.Size([301, 8, 80])\n",
      "tensor([0., 0., 0., 0., 0., 0., 0., 0.], device='cuda:0')\n"
     ]
    },
    {
     "name": "stderr",
     "output_type": "stream",
     "text": [
      " 88%|██████████████████████████████▋    | 106/121 [00:16<00:02,  7.11it/s]"
     ]
    },
    {
     "name": "stdout",
     "output_type": "stream",
     "text": [
      "--------------\n",
      "torch.Size([331, 8, 80])\n",
      "tensor([0., 0., 0., 0., 0., 0., 0., 0.], device='cuda:0')\n",
      "--------------\n",
      "torch.Size([226, 8, 80])\n",
      "tensor([0., 0., 0., 0., 0., 0., 0., 0.], device='cuda:0')\n"
     ]
    },
    {
     "name": "stderr",
     "output_type": "stream",
     "text": [
      " 89%|███████████████████████████████▏   | 108/121 [00:16<00:01,  7.00it/s]"
     ]
    },
    {
     "name": "stdout",
     "output_type": "stream",
     "text": [
      "--------------\n",
      "torch.Size([256, 8, 80])\n",
      "tensor([0., 0., 0., 0., 0., 0., 0., 0.], device='cuda:0')\n",
      "--------------\n",
      "torch.Size([376, 8, 80])\n",
      "tensor([0., 0., 0., 0., 0., 0., 0., 0.], device='cuda:0')\n"
     ]
    },
    {
     "name": "stderr",
     "output_type": "stream",
     "text": [
      " 91%|███████████████████████████████▊   | 110/121 [00:16<00:01,  6.90it/s]"
     ]
    },
    {
     "name": "stdout",
     "output_type": "stream",
     "text": [
      "--------------\n",
      "torch.Size([421, 8, 80])\n",
      "tensor([0., 0., 0., 0., 0., 0., 0., 0.], device='cuda:0')\n",
      "--------------\n",
      "torch.Size([271, 8, 80])\n",
      "tensor([0., 0., 0., 0., 0., 0., 0., 0.], device='cuda:0')\n"
     ]
    },
    {
     "name": "stderr",
     "output_type": "stream",
     "text": [
      " 93%|████████████████████████████████▍  | 112/121 [00:17<00:01,  6.76it/s]"
     ]
    },
    {
     "name": "stdout",
     "output_type": "stream",
     "text": [
      "--------------\n",
      "torch.Size([316, 8, 80])\n",
      "tensor([0., 0., 0., 0., 0., 0., 0., 0.], device='cuda:0')\n",
      "--------------\n",
      "torch.Size([361, 8, 80])\n",
      "tensor([0., 0., 0., 0., 0., 0., 0., 0.], device='cuda:0')\n"
     ]
    },
    {
     "name": "stderr",
     "output_type": "stream",
     "text": [
      " 94%|████████████████████████████████▉  | 114/121 [00:17<00:00,  7.20it/s]"
     ]
    },
    {
     "name": "stdout",
     "output_type": "stream",
     "text": [
      "--------------\n",
      "torch.Size([346, 8, 80])\n",
      "tensor([0., 0., 0., 0., 0., 0., 0., 0.], device='cuda:0')\n",
      "--------------\n",
      "torch.Size([256, 8, 80])\n",
      "tensor([0., 0., 0., 0., 0., 0., 0., 0.], device='cuda:0')\n"
     ]
    },
    {
     "name": "stderr",
     "output_type": "stream",
     "text": [
      " 96%|█████████████████████████████████▌ | 116/121 [00:17<00:00,  6.62it/s]"
     ]
    },
    {
     "name": "stdout",
     "output_type": "stream",
     "text": [
      "--------------\n",
      "torch.Size([406, 8, 80])\n",
      "tensor([0., 0., 0., 0., 0., 0., 0., 0.], device='cuda:0')\n",
      "--------------\n",
      "torch.Size([361, 8, 80])\n",
      "tensor([0., 0., 0., 0., 0., 0., 0., 0.], device='cuda:0')\n"
     ]
    },
    {
     "name": "stderr",
     "output_type": "stream",
     "text": [
      " 98%|██████████████████████████████████▏| 118/121 [00:17<00:00,  6.79it/s]"
     ]
    },
    {
     "name": "stdout",
     "output_type": "stream",
     "text": [
      "--------------\n",
      "torch.Size([331, 8, 80])\n",
      "tensor([0., 0., 0., 0., 0., 0., 0., 0.], device='cuda:0')\n",
      "--------------\n",
      "torch.Size([331, 8, 80])\n",
      "tensor([0., 0., 0., 0., 0., 0., 0., 0.], device='cuda:0')\n"
     ]
    },
    {
     "name": "stderr",
     "output_type": "stream",
     "text": [
      " 99%|██████████████████████████████████▋| 120/121 [00:18<00:00,  6.69it/s]"
     ]
    },
    {
     "name": "stdout",
     "output_type": "stream",
     "text": [
      "--------------\n",
      "torch.Size([301, 8, 80])\n",
      "tensor([0., 0., 0., 0., 0., 0., 0., 0.], device='cuda:0')\n",
      "--------------\n",
      "torch.Size([391, 8, 80])\n",
      "tensor([0., 0., 0., 0., 0., 0., 0., 0.], device='cuda:0')\n"
     ]
    },
    {
     "name": "stderr",
     "output_type": "stream",
     "text": [
      "100%|███████████████████████████████████| 121/121 [00:18<00:00,  6.60it/s]\n"
     ]
    },
    {
     "name": "stdout",
     "output_type": "stream",
     "text": [
      "--------------\n",
      "torch.Size([331, 6, 80])\n",
      "tensor([0., 0., 0., 0., 0., 0.], device='cuda:0')\n",
      "Test CER 0.9997417277521526\n",
      "Test WER 1.0\n",
      "Test CTC 1302.670936853002\n",
      "Saving Best\n",
      "Train Set Size = 771\n"
     ]
    },
    {
     "name": "stderr",
     "output_type": "stream",
     "text": [
      "CER: 0.9734830188727076 CTC: 4519.72119140625 Ground Truth: |What 's all a\n"
     ]
    },
    {
     "name": "stdout",
     "output_type": "stream",
     "text": [
      "Epoch: 1 Training CER 0.9734805599073547\n",
      "Training WER: 0.9999185814604434\n",
      "Time: 287.09863448143005 Seconds\n",
      "Validation Set Size = 121\n"
     ]
    },
    {
     "name": "stderr",
     "output_type": "stream",
     "text": [
      "  1%|▎                                    | 1/121 [00:00<00:18,  6.41it/s]"
     ]
    },
    {
     "name": "stdout",
     "output_type": "stream",
     "text": [
      "--------------\n",
      "torch.Size([331, 8, 80])\n",
      "tensor([0., 0., 0., 0., 0., 0., 0., 0.], device='cuda:0')\n"
     ]
    },
    {
     "name": "stderr",
     "output_type": "stream",
     "text": [
      "\r",
      "  2%|▌                                    | 2/121 [00:00<00:16,  7.13it/s]"
     ]
    },
    {
     "name": "stdout",
     "output_type": "stream",
     "text": [
      "--------------\n",
      "torch.Size([286, 8, 80])\n",
      "tensor([0., 0., 0., 0., 0., 0., 0., 0.], device='cuda:0')\n"
     ]
    },
    {
     "name": "stderr",
     "output_type": "stream",
     "text": [
      "\r",
      "  2%|▉                                    | 3/121 [00:00<00:16,  7.12it/s]"
     ]
    },
    {
     "name": "stdout",
     "output_type": "stream",
     "text": [
      "--------------\n",
      "torch.Size([316, 8, 80])\n",
      "tensor([0., 0., 0., 0., 0., 0., 0., 0.], device='cuda:0')\n"
     ]
    },
    {
     "name": "stderr",
     "output_type": "stream",
     "text": [
      "\r",
      "  3%|█▏                                   | 4/121 [00:00<00:16,  6.97it/s]"
     ]
    },
    {
     "name": "stdout",
     "output_type": "stream",
     "text": [
      "--------------\n",
      "torch.Size([346, 8, 80])\n",
      "tensor([0., 0., 0., 0., 0., 0., 0., 0.], device='cuda:0')\n"
     ]
    },
    {
     "name": "stderr",
     "output_type": "stream",
     "text": [
      "\r",
      "  4%|█▌                                   | 5/121 [00:00<00:16,  6.88it/s]"
     ]
    },
    {
     "name": "stdout",
     "output_type": "stream",
     "text": [
      "--------------\n",
      "torch.Size([346, 8, 80])\n",
      "tensor([0., 0., 0., 0., 0., 0., 0., 0.], device='cuda:0')\n"
     ]
    },
    {
     "name": "stderr",
     "output_type": "stream",
     "text": [
      "\r",
      "  5%|█▊                                   | 6/121 [00:00<00:18,  6.37it/s]"
     ]
    },
    {
     "name": "stdout",
     "output_type": "stream",
     "text": [
      "--------------\n",
      "torch.Size([436, 8, 80])\n",
      "tensor([0., 0., 0., 0., 0., 0., 0., 0.], device='cuda:0')\n",
      "--------------\n",
      "torch.Size([451, 8, 80])\n",
      "tensor([0., 0., 0., 0., 0., 0., 0., 0.], device='cuda:0')\n"
     ]
    },
    {
     "name": "stderr",
     "output_type": "stream",
     "text": [
      "  7%|██▍                                  | 8/121 [00:01<00:18,  6.18it/s]"
     ]
    },
    {
     "name": "stdout",
     "output_type": "stream",
     "text": [
      "--------------\n",
      "torch.Size([346, 8, 80])\n",
      "tensor([0., 0., 0., 0., 0., 0., 0., 0.], device='cuda:0')\n"
     ]
    },
    {
     "name": "stderr",
     "output_type": "stream",
     "text": [
      "\r",
      "  7%|██▊                                  | 9/121 [00:01<00:17,  6.51it/s]"
     ]
    },
    {
     "name": "stdout",
     "output_type": "stream",
     "text": [
      "--------------\n",
      "torch.Size([301, 8, 80])\n",
      "tensor([0., 0., 0., 0., 0., 0., 0., 0.], device='cuda:0')\n"
     ]
    },
    {
     "name": "stderr",
     "output_type": "stream",
     "text": [
      "\r",
      "  8%|██▉                                 | 10/121 [00:01<00:16,  6.63it/s]"
     ]
    },
    {
     "name": "stdout",
     "output_type": "stream",
     "text": [
      "--------------\n",
      "torch.Size([331, 8, 80])\n",
      "tensor([0., 0., 0., 0., 0., 0., 0., 0.], device='cuda:0')\n"
     ]
    },
    {
     "name": "stderr",
     "output_type": "stream",
     "text": [
      "\r",
      "  9%|███▎                                | 11/121 [00:01<00:16,  6.63it/s]"
     ]
    },
    {
     "name": "stdout",
     "output_type": "stream",
     "text": [
      "--------------\n",
      "torch.Size([346, 8, 80])\n",
      "tensor([0., 0., 0., 0., 0., 0., 0., 0.], device='cuda:0')\n"
     ]
    },
    {
     "name": "stderr",
     "output_type": "stream",
     "text": [
      "\r",
      " 10%|███▌                                | 12/121 [00:01<00:16,  6.80it/s]"
     ]
    },
    {
     "name": "stdout",
     "output_type": "stream",
     "text": [
      "--------------\n",
      "torch.Size([316, 8, 80])\n",
      "tensor([0., 0., 0., 0., 0., 0., 0., 0.], device='cuda:0')\n"
     ]
    },
    {
     "name": "stderr",
     "output_type": "stream",
     "text": [
      "\r",
      " 11%|███▊                                | 13/121 [00:01<00:16,  6.64it/s]"
     ]
    },
    {
     "name": "stdout",
     "output_type": "stream",
     "text": [
      "--------------\n",
      "torch.Size([361, 8, 80])\n",
      "tensor([0., 0., 0., 0., 0., 0., 0., 0.], device='cuda:0')\n"
     ]
    },
    {
     "name": "stderr",
     "output_type": "stream",
     "text": [
      "\r",
      " 12%|████▏                               | 14/121 [00:02<00:15,  6.95it/s]"
     ]
    },
    {
     "name": "stdout",
     "output_type": "stream",
     "text": [
      "--------------\n",
      "torch.Size([286, 8, 80])\n",
      "tensor([0., 0., 0., 0., 0., 0., 0., 0.], device='cuda:0')\n"
     ]
    },
    {
     "name": "stderr",
     "output_type": "stream",
     "text": [
      "\r",
      " 12%|████▍                               | 15/121 [00:02<00:14,  7.25it/s]"
     ]
    },
    {
     "name": "stdout",
     "output_type": "stream",
     "text": [
      "--------------\n",
      "torch.Size([286, 8, 80])\n",
      "tensor([0., 0., 0., 0., 0., 0., 0., 0.], device='cuda:0')\n"
     ]
    },
    {
     "name": "stderr",
     "output_type": "stream",
     "text": [
      "\r",
      " 13%|████▊                               | 16/121 [00:02<00:14,  7.42it/s]"
     ]
    },
    {
     "name": "stdout",
     "output_type": "stream",
     "text": [
      "--------------\n",
      "torch.Size([286, 8, 80])\n",
      "tensor([0., 0., 0., 0., 0., 0., 0., 0.], device='cuda:0')\n"
     ]
    },
    {
     "name": "stderr",
     "output_type": "stream",
     "text": [
      "\r",
      " 14%|█████                               | 17/121 [00:02<00:14,  7.10it/s]"
     ]
    },
    {
     "name": "stdout",
     "output_type": "stream",
     "text": [
      "--------------\n",
      "torch.Size([361, 8, 80])\n",
      "tensor([0., 0., 0., 0., 0., 0., 0., 0.], device='cuda:0')\n"
     ]
    },
    {
     "name": "stderr",
     "output_type": "stream",
     "text": [
      "\r",
      " 15%|█████▎                              | 18/121 [00:02<00:14,  7.06it/s]"
     ]
    },
    {
     "name": "stdout",
     "output_type": "stream",
     "text": [
      "--------------\n",
      "torch.Size([331, 8, 80])\n",
      "tensor([0., 0., 0., 0., 0., 0., 0., 0.], device='cuda:0')\n"
     ]
    },
    {
     "name": "stderr",
     "output_type": "stream",
     "text": [
      "\r",
      " 16%|█████▋                              | 19/121 [00:02<00:14,  7.09it/s]"
     ]
    },
    {
     "name": "stdout",
     "output_type": "stream",
     "text": [
      "--------------\n",
      "torch.Size([316, 8, 80])\n",
      "tensor([0., 0., 0., 0., 0., 0., 0., 0.], device='cuda:0')\n"
     ]
    },
    {
     "name": "stderr",
     "output_type": "stream",
     "text": [
      "\r",
      " 17%|█████▉                              | 20/121 [00:02<00:13,  7.49it/s]"
     ]
    },
    {
     "name": "stdout",
     "output_type": "stream",
     "text": [
      "--------------\n",
      "torch.Size([256, 8, 80])\n",
      "tensor([0., 0., 0., 0., 0., 0., 0., 0.], device='cuda:0')\n"
     ]
    },
    {
     "name": "stderr",
     "output_type": "stream",
     "text": [
      "\r",
      " 17%|██████▏                             | 21/121 [00:03<00:13,  7.39it/s]"
     ]
    },
    {
     "name": "stdout",
     "output_type": "stream",
     "text": [
      "--------------\n",
      "torch.Size([316, 8, 80])\n",
      "tensor([0., 0., 0., 0., 0., 0., 0., 0.], device='cuda:0')\n"
     ]
    },
    {
     "name": "stderr",
     "output_type": "stream",
     "text": [
      "\r",
      " 18%|██████▌                             | 22/121 [00:03<00:13,  7.51it/s]"
     ]
    },
    {
     "name": "stdout",
     "output_type": "stream",
     "text": [
      "--------------\n",
      "torch.Size([286, 8, 80])\n",
      "tensor([0., 0., 0., 0., 0., 0., 0., 0.], device='cuda:0')\n"
     ]
    },
    {
     "name": "stderr",
     "output_type": "stream",
     "text": [
      "\r",
      " 19%|██████▊                             | 23/121 [00:03<00:14,  6.90it/s]"
     ]
    },
    {
     "name": "stdout",
     "output_type": "stream",
     "text": [
      "--------------\n",
      "torch.Size([406, 8, 80])\n",
      "tensor([0., 0., 0., 0., 0., 0., 0., 0.], device='cuda:0')\n"
     ]
    },
    {
     "name": "stderr",
     "output_type": "stream",
     "text": [
      "\r",
      " 20%|███████▏                            | 24/121 [00:03<00:13,  7.09it/s]"
     ]
    },
    {
     "name": "stdout",
     "output_type": "stream",
     "text": [
      "--------------\n",
      "torch.Size([301, 8, 80])\n",
      "tensor([0., 0., 0., 0., 0., 0., 0., 0.], device='cuda:0')\n"
     ]
    },
    {
     "name": "stderr",
     "output_type": "stream",
     "text": [
      "\r",
      " 21%|███████▍                            | 25/121 [00:03<00:14,  6.74it/s]"
     ]
    },
    {
     "name": "stdout",
     "output_type": "stream",
     "text": [
      "--------------\n",
      "torch.Size([391, 8, 80])\n",
      "tensor([0., 0., 0., 0., 0., 0., 0., 0.], device='cuda:0')\n"
     ]
    },
    {
     "name": "stderr",
     "output_type": "stream",
     "text": [
      "\r",
      " 21%|███████▋                            | 26/121 [00:03<00:14,  6.74it/s]"
     ]
    },
    {
     "name": "stdout",
     "output_type": "stream",
     "text": [
      "--------------\n",
      "torch.Size([331, 8, 80])\n",
      "tensor([0., 0., 0., 0., 0., 0., 0., 0.], device='cuda:0')\n"
     ]
    },
    {
     "name": "stderr",
     "output_type": "stream",
     "text": [
      "\r",
      " 22%|████████                            | 27/121 [00:03<00:13,  6.99it/s]"
     ]
    },
    {
     "name": "stdout",
     "output_type": "stream",
     "text": [
      "--------------\n",
      "torch.Size([286, 8, 80])\n",
      "tensor([0., 0., 0., 0., 0., 0., 0., 0.], device='cuda:0')\n"
     ]
    },
    {
     "name": "stderr",
     "output_type": "stream",
     "text": [
      "\r",
      " 23%|████████▎                           | 28/121 [00:04<00:14,  6.58it/s]"
     ]
    },
    {
     "name": "stdout",
     "output_type": "stream",
     "text": [
      "--------------\n",
      "torch.Size([406, 8, 80])\n",
      "tensor([0., 0., 0., 0., 0., 0., 0., 0.], device='cuda:0')\n"
     ]
    },
    {
     "name": "stderr",
     "output_type": "stream",
     "text": [
      "\r",
      " 24%|████████▋                           | 29/121 [00:04<00:13,  6.58it/s]"
     ]
    },
    {
     "name": "stdout",
     "output_type": "stream",
     "text": [
      "--------------\n",
      "torch.Size([346, 8, 80])\n",
      "tensor([0., 0., 0., 0., 0., 0., 0., 0.], device='cuda:0')\n"
     ]
    },
    {
     "name": "stderr",
     "output_type": "stream",
     "text": [
      "\r",
      " 25%|████████▉                           | 30/121 [00:04<00:13,  6.91it/s]"
     ]
    },
    {
     "name": "stdout",
     "output_type": "stream",
     "text": [
      "--------------\n",
      "torch.Size([286, 8, 80])\n",
      "tensor([0., 0., 0., 0., 0., 0., 0., 0.], device='cuda:0')\n"
     ]
    },
    {
     "name": "stderr",
     "output_type": "stream",
     "text": [
      "\r",
      " 26%|█████████▏                          | 31/121 [00:04<00:13,  6.80it/s]"
     ]
    },
    {
     "name": "stdout",
     "output_type": "stream",
     "text": [
      "--------------\n",
      "torch.Size([346, 8, 80])\n",
      "tensor([0., 0., 0., 0., 0., 0., 0., 0.], device='cuda:0')\n"
     ]
    },
    {
     "name": "stderr",
     "output_type": "stream",
     "text": [
      "\r",
      " 26%|█████████▌                          | 32/121 [00:04<00:13,  6.60it/s]"
     ]
    },
    {
     "name": "stdout",
     "output_type": "stream",
     "text": [
      "--------------\n",
      "torch.Size([376, 8, 80])\n",
      "tensor([0., 0., 0., 0., 0., 0., 0., 0.], device='cuda:0')\n"
     ]
    },
    {
     "name": "stderr",
     "output_type": "stream",
     "text": [
      "\r",
      " 27%|█████████▊                          | 33/121 [00:04<00:13,  6.75it/s]"
     ]
    },
    {
     "name": "stdout",
     "output_type": "stream",
     "text": [
      "--------------\n",
      "torch.Size([316, 8, 80])\n",
      "tensor([0., 0., 0., 0., 0., 0., 0., 0.], device='cuda:0')\n"
     ]
    },
    {
     "name": "stderr",
     "output_type": "stream",
     "text": [
      "\r",
      " 28%|██████████                          | 34/121 [00:04<00:12,  6.88it/s]"
     ]
    },
    {
     "name": "stdout",
     "output_type": "stream",
     "text": [
      "--------------\n",
      "torch.Size([316, 8, 80])\n",
      "tensor([0., 0., 0., 0., 0., 0., 0., 0.], device='cuda:0')\n"
     ]
    },
    {
     "name": "stderr",
     "output_type": "stream",
     "text": [
      "\r",
      " 29%|██████████▍                         | 35/121 [00:05<00:12,  6.87it/s]"
     ]
    },
    {
     "name": "stdout",
     "output_type": "stream",
     "text": [
      "--------------\n",
      "torch.Size([331, 8, 80])\n",
      "tensor([0., 0., 0., 0., 0., 0., 0., 0.], device='cuda:0')\n"
     ]
    },
    {
     "name": "stderr",
     "output_type": "stream",
     "text": [
      "\r",
      " 30%|██████████▋                         | 36/121 [00:05<00:12,  6.80it/s]"
     ]
    },
    {
     "name": "stdout",
     "output_type": "stream",
     "text": [
      "--------------\n",
      "torch.Size([346, 8, 80])\n",
      "tensor([0., 0., 0., 0., 0., 0., 0., 0.], device='cuda:0')\n"
     ]
    },
    {
     "name": "stderr",
     "output_type": "stream",
     "text": [
      "\r",
      " 31%|███████████                         | 37/121 [00:05<00:11,  7.22it/s]"
     ]
    },
    {
     "name": "stdout",
     "output_type": "stream",
     "text": [
      "--------------\n",
      "torch.Size([256, 8, 80])\n",
      "tensor([0., 0., 0., 0., 0., 0., 0., 0.], device='cuda:0')\n"
     ]
    },
    {
     "name": "stderr",
     "output_type": "stream",
     "text": [
      "\r",
      " 31%|███████████▎                        | 38/121 [00:05<00:11,  7.06it/s]"
     ]
    },
    {
     "name": "stdout",
     "output_type": "stream",
     "text": [
      "--------------\n",
      "torch.Size([346, 8, 80])\n",
      "tensor([0., 0., 0., 0., 0., 0., 0., 0.], device='cuda:0')\n"
     ]
    },
    {
     "name": "stderr",
     "output_type": "stream",
     "text": [
      "\r",
      " 32%|███████████▌                        | 39/121 [00:05<00:11,  7.40it/s]"
     ]
    },
    {
     "name": "stdout",
     "output_type": "stream",
     "text": [
      "--------------\n",
      "torch.Size([256, 8, 80])\n",
      "tensor([0., 0., 0., 0., 0., 0., 0., 0.], device='cuda:0')\n"
     ]
    },
    {
     "name": "stderr",
     "output_type": "stream",
     "text": [
      " 34%|████████████▏                       | 41/121 [00:06<00:12,  6.47it/s]"
     ]
    },
    {
     "name": "stdout",
     "output_type": "stream",
     "text": [
      "--------------\n",
      "torch.Size([496, 8, 80])\n",
      "tensor([0., 0., 0., 0., 0., 0., 0., 0.], device='cuda:0')\n",
      "--------------\n",
      "torch.Size([331, 8, 80])\n",
      "tensor([0., 0., 0., 0., 0., 0., 0., 0.], device='cuda:0')\n"
     ]
    },
    {
     "name": "stderr",
     "output_type": "stream",
     "text": [
      " 36%|████████████▊                       | 43/121 [00:06<00:11,  6.51it/s]"
     ]
    },
    {
     "name": "stdout",
     "output_type": "stream",
     "text": [
      "--------------\n",
      "torch.Size([301, 8, 80])\n",
      "tensor([0., 0., 0., 0., 0., 0., 0., 0.], device='cuda:0')\n",
      "--------------\n",
      "torch.Size([391, 8, 80])\n",
      "tensor([0., 0., 0., 0., 0., 0., 0., 0.], device='cuda:0')\n"
     ]
    },
    {
     "name": "stderr",
     "output_type": "stream",
     "text": [
      " 37%|█████████████▍                      | 45/121 [00:06<00:11,  6.52it/s]"
     ]
    },
    {
     "name": "stdout",
     "output_type": "stream",
     "text": [
      "--------------\n",
      "torch.Size([316, 8, 80])\n",
      "tensor([0., 0., 0., 0., 0., 0., 0., 0.], device='cuda:0')\n",
      "--------------\n",
      "torch.Size([376, 8, 80])\n",
      "tensor([0., 0., 0., 0., 0., 0., 0., 0.], device='cuda:0')\n"
     ]
    },
    {
     "name": "stderr",
     "output_type": "stream",
     "text": [
      " 39%|█████████████▉                      | 47/121 [00:06<00:12,  6.15it/s]"
     ]
    },
    {
     "name": "stdout",
     "output_type": "stream",
     "text": [
      "--------------\n",
      "torch.Size([361, 8, 80])\n",
      "tensor([0., 0., 0., 0., 0., 0., 0., 0.], device='cuda:0')\n",
      "--------------\n",
      "torch.Size([421, 8, 80])\n",
      "tensor([0., 0., 0., 0., 0., 0., 0., 0.], device='cuda:0')\n"
     ]
    },
    {
     "name": "stderr",
     "output_type": "stream",
     "text": [
      " 40%|██████████████▌                     | 49/121 [00:07<00:10,  6.94it/s]"
     ]
    },
    {
     "name": "stdout",
     "output_type": "stream",
     "text": [
      "--------------\n",
      "torch.Size([331, 8, 80])\n",
      "tensor([0., 0., 0., 0., 0., 0., 0., 0.], device='cuda:0')\n",
      "--------------\n",
      "torch.Size([241, 8, 80])\n",
      "tensor([0., 0., 0., 0., 0., 0., 0., 0.], device='cuda:0')\n"
     ]
    },
    {
     "name": "stderr",
     "output_type": "stream",
     "text": [
      " 42%|███████████████▏                    | 51/121 [00:07<00:10,  6.97it/s]"
     ]
    },
    {
     "name": "stdout",
     "output_type": "stream",
     "text": [
      "--------------\n",
      "torch.Size([346, 8, 80])\n",
      "tensor([0., 0., 0., 0., 0., 0., 0., 0.], device='cuda:0')\n",
      "--------------\n",
      "torch.Size([301, 8, 80])\n",
      "tensor([0., 0., 0., 0., 0., 0., 0., 0.], device='cuda:0')\n"
     ]
    },
    {
     "name": "stderr",
     "output_type": "stream",
     "text": [
      " 44%|███████████████▊                    | 53/121 [00:07<00:10,  6.69it/s]"
     ]
    },
    {
     "name": "stdout",
     "output_type": "stream",
     "text": [
      "--------------\n",
      "torch.Size([301, 8, 80])\n",
      "tensor([0., 0., 0., 0., 0., 0., 0., 0.], device='cuda:0')\n",
      "--------------\n",
      "torch.Size([391, 8, 80])\n",
      "tensor([0., 0., 0., 0., 0., 0., 0., 0.], device='cuda:0')\n"
     ]
    },
    {
     "name": "stderr",
     "output_type": "stream",
     "text": [
      " 45%|████████████████▎                   | 55/121 [00:08<00:09,  7.28it/s]"
     ]
    },
    {
     "name": "stdout",
     "output_type": "stream",
     "text": [
      "--------------\n",
      "torch.Size([286, 8, 80])\n",
      "tensor([0., 0., 0., 0., 0., 0., 0., 0.], device='cuda:0')\n",
      "--------------\n",
      "torch.Size([271, 8, 80])\n",
      "tensor([0., 0., 0., 0., 0., 0., 0., 0.], device='cuda:0')\n"
     ]
    },
    {
     "name": "stderr",
     "output_type": "stream",
     "text": [
      " 47%|████████████████▉                   | 57/121 [00:08<00:09,  6.52it/s]"
     ]
    },
    {
     "name": "stdout",
     "output_type": "stream",
     "text": [
      "--------------\n",
      "torch.Size([391, 8, 80])\n",
      "tensor([0., 0., 0., 0., 0., 0., 0., 0.], device='cuda:0')\n",
      "--------------\n",
      "torch.Size([391, 8, 80])\n",
      "tensor([0., 0., 0., 0., 0., 0., 0., 0.], device='cuda:0')\n"
     ]
    },
    {
     "name": "stderr",
     "output_type": "stream",
     "text": [
      " 49%|█████████████████▌                  | 59/121 [00:08<00:09,  6.35it/s]"
     ]
    },
    {
     "name": "stdout",
     "output_type": "stream",
     "text": [
      "--------------\n",
      "torch.Size([391, 8, 80])\n",
      "tensor([0., 0., 0., 0., 0., 0., 0., 0.], device='cuda:0')\n",
      "--------------\n",
      "torch.Size([361, 8, 80])\n",
      "tensor([0., 0., 0., 0., 0., 0., 0., 0.], device='cuda:0')\n"
     ]
    },
    {
     "name": "stderr",
     "output_type": "stream",
     "text": [
      " 50%|██████████████████▏                 | 61/121 [00:08<00:08,  6.75it/s]"
     ]
    },
    {
     "name": "stdout",
     "output_type": "stream",
     "text": [
      "--------------\n",
      "torch.Size([316, 8, 80])\n",
      "tensor([0., 0., 0., 0., 0., 0., 0., 0.], device='cuda:0')\n",
      "--------------\n",
      "torch.Size([316, 8, 80])\n",
      "tensor([0., 0., 0., 0., 0., 0., 0., 0.], device='cuda:0')\n"
     ]
    },
    {
     "name": "stderr",
     "output_type": "stream",
     "text": [
      " 52%|██████████████████▋                 | 63/121 [00:09<00:08,  6.55it/s]"
     ]
    },
    {
     "name": "stdout",
     "output_type": "stream",
     "text": [
      "--------------\n",
      "torch.Size([376, 8, 80])\n",
      "tensor([0., 0., 0., 0., 0., 0., 0., 0.], device='cuda:0')\n",
      "--------------\n",
      "torch.Size([361, 8, 80])\n",
      "tensor([0., 0., 0., 0., 0., 0., 0., 0.], device='cuda:0')\n"
     ]
    },
    {
     "name": "stderr",
     "output_type": "stream",
     "text": [
      " 54%|███████████████████▎                | 65/121 [00:09<00:08,  6.90it/s]"
     ]
    },
    {
     "name": "stdout",
     "output_type": "stream",
     "text": [
      "--------------\n",
      "torch.Size([301, 8, 80])\n",
      "tensor([0., 0., 0., 0., 0., 0., 0., 0.], device='cuda:0')\n",
      "--------------\n",
      "torch.Size([316, 8, 80])\n",
      "tensor([0., 0., 0., 0., 0., 0., 0., 0.], device='cuda:0')\n"
     ]
    },
    {
     "name": "stderr",
     "output_type": "stream",
     "text": [
      " 55%|███████████████████▉                | 67/121 [00:09<00:07,  6.85it/s]"
     ]
    },
    {
     "name": "stdout",
     "output_type": "stream",
     "text": [
      "--------------\n",
      "torch.Size([316, 8, 80])\n",
      "tensor([0., 0., 0., 0., 0., 0., 0., 0.], device='cuda:0')\n",
      "--------------\n",
      "torch.Size([346, 8, 80])\n",
      "tensor([0., 0., 0., 0., 0., 0., 0., 0.], device='cuda:0')\n"
     ]
    },
    {
     "name": "stderr",
     "output_type": "stream",
     "text": [
      " 57%|████████████████████▌               | 69/121 [00:10<00:08,  6.41it/s]"
     ]
    },
    {
     "name": "stdout",
     "output_type": "stream",
     "text": [
      "--------------\n",
      "torch.Size([496, 8, 80])\n",
      "tensor([0., 0., 0., 0., 0., 0., 0., 0.], device='cuda:0')\n",
      "--------------\n",
      "torch.Size([301, 8, 80])\n",
      "tensor([0., 0., 0., 0., 0., 0., 0., 0.], device='cuda:0')\n"
     ]
    },
    {
     "name": "stderr",
     "output_type": "stream",
     "text": [
      " 59%|█████████████████████               | 71/121 [00:10<00:08,  5.96it/s]"
     ]
    },
    {
     "name": "stdout",
     "output_type": "stream",
     "text": [
      "--------------\n",
      "torch.Size([466, 8, 80])\n",
      "tensor([0., 0., 0., 0., 0., 0., 0., 0.], device='cuda:0')\n",
      "--------------\n",
      "torch.Size([391, 8, 80])\n",
      "tensor([0., 0., 0., 0., 0., 0., 0., 0.], device='cuda:0')\n"
     ]
    },
    {
     "name": "stderr",
     "output_type": "stream",
     "text": [
      " 60%|█████████████████████▋              | 73/121 [00:10<00:08,  5.91it/s]"
     ]
    },
    {
     "name": "stdout",
     "output_type": "stream",
     "text": [
      "--------------\n",
      "torch.Size([406, 8, 80])\n",
      "tensor([0., 0., 0., 0., 0., 0., 0., 0.], device='cuda:0')\n",
      "--------------\n",
      "torch.Size([391, 8, 80])\n",
      "tensor([0., 0., 0., 0., 0., 0., 0., 0.], device='cuda:0')\n"
     ]
    },
    {
     "name": "stderr",
     "output_type": "stream",
     "text": [
      " 62%|██████████████████████▎             | 75/121 [00:11<00:07,  6.12it/s]"
     ]
    },
    {
     "name": "stdout",
     "output_type": "stream",
     "text": [
      "--------------\n",
      "torch.Size([346, 8, 80])\n",
      "tensor([0., 0., 0., 0., 0., 0., 0., 0.], device='cuda:0')\n",
      "--------------\n",
      "torch.Size([376, 8, 80])\n",
      "tensor([0., 0., 0., 0., 0., 0., 0., 0.], device='cuda:0')\n"
     ]
    },
    {
     "name": "stderr",
     "output_type": "stream",
     "text": [
      "\r",
      " 63%|██████████████████████▌             | 76/121 [00:11<00:07,  6.29it/s]"
     ]
    },
    {
     "name": "stdout",
     "output_type": "stream",
     "text": [
      "--------------\n",
      "torch.Size([346, 8, 80])\n",
      "tensor([0., 0., 0., 0., 0., 0., 0., 0.], device='cuda:0')\n",
      "--------------\n",
      "torch.Size([481, 8, 80])\n",
      "tensor([0., 0., 0., 0., 0., 0., 0., 0.], device='cuda:0')\n"
     ]
    },
    {
     "name": "stderr",
     "output_type": "stream",
     "text": [
      " 65%|███████████████████████▌            | 79/121 [00:11<00:07,  5.70it/s]"
     ]
    },
    {
     "name": "stdout",
     "output_type": "stream",
     "text": [
      "--------------\n",
      "torch.Size([421, 8, 80])\n",
      "tensor([0., 0., 0., 0., 0., 0., 0., 0.], device='cuda:0')\n",
      "--------------\n",
      "torch.Size([421, 8, 80])\n",
      "tensor([0., 0., 0., 0., 0., 0., 0., 0.], device='cuda:0')\n"
     ]
    },
    {
     "name": "stderr",
     "output_type": "stream",
     "text": [
      " 67%|████████████████████████            | 81/121 [00:12<00:06,  6.18it/s]"
     ]
    },
    {
     "name": "stdout",
     "output_type": "stream",
     "text": [
      "--------------\n",
      "torch.Size([286, 8, 80])\n",
      "tensor([0., 0., 0., 0., 0., 0., 0., 0.], device='cuda:0')\n",
      "--------------\n",
      "torch.Size([376, 8, 80])\n",
      "tensor([0., 0., 0., 0., 0., 0., 0., 0.], device='cuda:0')\n"
     ]
    },
    {
     "name": "stderr",
     "output_type": "stream",
     "text": [
      " 69%|████████████████████████▋           | 83/121 [00:12<00:05,  6.66it/s]"
     ]
    },
    {
     "name": "stdout",
     "output_type": "stream",
     "text": [
      "--------------\n",
      "torch.Size([301, 8, 80])\n",
      "tensor([0., 0., 0., 0., 0., 0., 0., 0.], device='cuda:0')\n",
      "--------------\n",
      "torch.Size([316, 8, 80])\n",
      "tensor([0., 0., 0., 0., 0., 0., 0., 0.], device='cuda:0')\n"
     ]
    },
    {
     "name": "stderr",
     "output_type": "stream",
     "text": [
      "\r",
      " 69%|████████████████████████▉           | 84/121 [00:12<00:05,  6.31it/s]"
     ]
    },
    {
     "name": "stdout",
     "output_type": "stream",
     "text": [
      "--------------\n",
      "torch.Size([421, 8, 80])\n",
      "tensor([0., 0., 0., 0., 0., 0., 0., 0.], device='cuda:0')\n",
      "--------------\n",
      "torch.Size([451, 8, 80])\n",
      "tensor([0., 0., 0., 0., 0., 0., 0., 0.], device='cuda:0')\n"
     ]
    },
    {
     "name": "stderr",
     "output_type": "stream",
     "text": [
      " 72%|█████████████████████████▉          | 87/121 [00:13<00:05,  6.22it/s]"
     ]
    },
    {
     "name": "stdout",
     "output_type": "stream",
     "text": [
      "--------------\n",
      "torch.Size([361, 8, 80])\n",
      "tensor([0., 0., 0., 0., 0., 0., 0., 0.], device='cuda:0')\n",
      "--------------\n",
      "torch.Size([346, 8, 80])\n",
      "tensor([0., 0., 0., 0., 0., 0., 0., 0.], device='cuda:0')\n"
     ]
    },
    {
     "name": "stderr",
     "output_type": "stream",
     "text": [
      " 74%|██████████████████████████▍         | 89/121 [00:13<00:04,  6.78it/s]"
     ]
    },
    {
     "name": "stdout",
     "output_type": "stream",
     "text": [
      "--------------\n",
      "torch.Size([316, 8, 80])\n",
      "tensor([0., 0., 0., 0., 0., 0., 0., 0.], device='cuda:0')\n",
      "--------------\n",
      "torch.Size([286, 8, 80])\n",
      "tensor([0., 0., 0., 0., 0., 0., 0., 0.], device='cuda:0')\n"
     ]
    },
    {
     "name": "stderr",
     "output_type": "stream",
     "text": [
      " 75%|███████████████████████████         | 91/121 [00:13<00:04,  6.48it/s]"
     ]
    },
    {
     "name": "stdout",
     "output_type": "stream",
     "text": [
      "--------------\n",
      "torch.Size([451, 8, 80])\n",
      "tensor([0., 0., 0., 0., 0., 0., 0., 0.], device='cuda:0')\n",
      "--------------\n",
      "torch.Size([316, 8, 80])\n",
      "tensor([0., 0., 0., 0., 0., 0., 0., 0.], device='cuda:0')\n"
     ]
    },
    {
     "name": "stderr",
     "output_type": "stream",
     "text": [
      " 77%|███████████████████████████▋        | 93/121 [00:14<00:04,  6.36it/s]"
     ]
    },
    {
     "name": "stdout",
     "output_type": "stream",
     "text": [
      "--------------\n",
      "torch.Size([361, 8, 80])\n",
      "tensor([0., 0., 0., 0., 0., 0., 0., 0.], device='cuda:0')\n",
      "--------------\n",
      "torch.Size([376, 8, 80])\n",
      "tensor([0., 0., 0., 0., 0., 0., 0., 0.], device='cuda:0')\n"
     ]
    },
    {
     "name": "stderr",
     "output_type": "stream",
     "text": [
      " 79%|████████████████████████████▎       | 95/121 [00:14<00:03,  6.77it/s]"
     ]
    },
    {
     "name": "stdout",
     "output_type": "stream",
     "text": [
      "--------------\n",
      "torch.Size([271, 8, 80])\n",
      "tensor([0., 0., 0., 0., 0., 0., 0., 0.], device='cuda:0')\n",
      "--------------\n",
      "torch.Size([346, 8, 80])\n",
      "tensor([0., 0., 0., 0., 0., 0., 0., 0.], device='cuda:0')\n"
     ]
    },
    {
     "name": "stderr",
     "output_type": "stream",
     "text": [
      " 80%|████████████████████████████▊       | 97/121 [00:14<00:03,  6.92it/s]"
     ]
    },
    {
     "name": "stdout",
     "output_type": "stream",
     "text": [
      "--------------\n",
      "torch.Size([286, 8, 80])\n",
      "tensor([0., 0., 0., 0., 0., 0., 0., 0.], device='cuda:0')\n",
      "--------------\n",
      "torch.Size([346, 8, 80])\n",
      "tensor([0., 0., 0., 0., 0., 0., 0., 0.], device='cuda:0')\n"
     ]
    },
    {
     "name": "stderr",
     "output_type": "stream",
     "text": [
      " 82%|█████████████████████████████▍      | 99/121 [00:14<00:03,  7.30it/s]"
     ]
    },
    {
     "name": "stdout",
     "output_type": "stream",
     "text": [
      "--------------\n",
      "torch.Size([301, 8, 80])\n",
      "tensor([0., 0., 0., 0., 0., 0., 0., 0.], device='cuda:0')\n",
      "--------------\n",
      "torch.Size([286, 8, 80])\n",
      "tensor([0., 0., 0., 0., 0., 0., 0., 0.], device='cuda:0')\n"
     ]
    },
    {
     "name": "stderr",
     "output_type": "stream",
     "text": [
      " 83%|█████████████████████████████▏     | 101/121 [00:15<00:02,  7.04it/s]"
     ]
    },
    {
     "name": "stdout",
     "output_type": "stream",
     "text": [
      "--------------\n",
      "torch.Size([346, 8, 80])\n",
      "tensor([0., 0., 0., 0., 0., 0., 0., 0.], device='cuda:0')\n",
      "--------------\n",
      "torch.Size([331, 8, 80])\n",
      "tensor([0., 0., 0., 0., 0., 0., 0., 0.], device='cuda:0')\n"
     ]
    },
    {
     "name": "stderr",
     "output_type": "stream",
     "text": [
      " 85%|█████████████████████████████▊     | 103/121 [00:15<00:02,  6.22it/s]"
     ]
    },
    {
     "name": "stdout",
     "output_type": "stream",
     "text": [
      "--------------\n",
      "torch.Size([451, 8, 80])\n",
      "tensor([0., 0., 0., 0., 0., 0., 0., 0.], device='cuda:0')\n",
      "--------------\n",
      "torch.Size([391, 8, 80])\n",
      "tensor([0., 0., 0., 0., 0., 0., 0., 0.], device='cuda:0')\n"
     ]
    },
    {
     "name": "stderr",
     "output_type": "stream",
     "text": [
      " 87%|██████████████████████████████▎    | 105/121 [00:15<00:02,  6.66it/s]"
     ]
    },
    {
     "name": "stdout",
     "output_type": "stream",
     "text": [
      "--------------\n",
      "torch.Size([346, 8, 80])\n",
      "tensor([0., 0., 0., 0., 0., 0., 0., 0.], device='cuda:0')\n",
      "--------------\n",
      "torch.Size([301, 8, 80])\n",
      "tensor([0., 0., 0., 0., 0., 0., 0., 0.], device='cuda:0')\n"
     ]
    },
    {
     "name": "stderr",
     "output_type": "stream",
     "text": [
      " 88%|██████████████████████████████▉    | 107/121 [00:16<00:02,  6.52it/s]"
     ]
    },
    {
     "name": "stdout",
     "output_type": "stream",
     "text": [
      "--------------\n",
      "torch.Size([301, 8, 80])\n",
      "tensor([0., 0., 0., 0., 0., 0., 0., 0.], device='cuda:0')\n",
      "--------------\n",
      "torch.Size([391, 8, 80])\n",
      "tensor([0., 0., 0., 0., 0., 0., 0., 0.], device='cuda:0')\n"
     ]
    },
    {
     "name": "stderr",
     "output_type": "stream",
     "text": [
      " 90%|███████████████████████████████▌   | 109/121 [00:16<00:01,  6.06it/s]"
     ]
    },
    {
     "name": "stdout",
     "output_type": "stream",
     "text": [
      "--------------\n",
      "torch.Size([361, 8, 80])\n",
      "tensor([0., 0., 0., 0., 0., 0., 0., 0.], device='cuda:0')\n",
      "--------------\n",
      "torch.Size([421, 8, 80])\n",
      "tensor([0., 0., 0., 0., 0., 0., 0., 0.], device='cuda:0')\n"
     ]
    },
    {
     "name": "stderr",
     "output_type": "stream",
     "text": [
      " 92%|████████████████████████████████   | 111/121 [00:16<00:01,  6.18it/s]"
     ]
    },
    {
     "name": "stdout",
     "output_type": "stream",
     "text": [
      "--------------\n",
      "torch.Size([361, 8, 80])\n",
      "tensor([0., 0., 0., 0., 0., 0., 0., 0.], device='cuda:0')\n",
      "--------------\n",
      "torch.Size([361, 8, 80])\n",
      "tensor([0., 0., 0., 0., 0., 0., 0., 0.], device='cuda:0')\n"
     ]
    },
    {
     "name": "stderr",
     "output_type": "stream",
     "text": [
      " 93%|████████████████████████████████▋  | 113/121 [00:17<00:01,  6.64it/s]"
     ]
    },
    {
     "name": "stdout",
     "output_type": "stream",
     "text": [
      "--------------\n",
      "torch.Size([316, 8, 80])\n",
      "tensor([0., 0., 0., 0., 0., 0., 0., 0.], device='cuda:0')\n",
      "--------------\n",
      "torch.Size([316, 8, 80])\n",
      "tensor([0., 0., 0., 0., 0., 0., 0., 0.], device='cuda:0')\n"
     ]
    },
    {
     "name": "stderr",
     "output_type": "stream",
     "text": [
      " 95%|█████████████████████████████████▎ | 115/121 [00:17<00:00,  6.73it/s]"
     ]
    },
    {
     "name": "stdout",
     "output_type": "stream",
     "text": [
      "--------------\n",
      "torch.Size([286, 8, 80])\n",
      "tensor([0., 0., 0., 0., 0., 0., 0., 0.], device='cuda:0')\n",
      "--------------\n",
      "torch.Size([376, 8, 80])\n",
      "tensor([0., 0., 0., 0., 0., 0., 0., 0.], device='cuda:0')\n"
     ]
    },
    {
     "name": "stderr",
     "output_type": "stream",
     "text": [
      " 97%|█████████████████████████████████▊ | 117/121 [00:17<00:00,  6.75it/s]"
     ]
    },
    {
     "name": "stdout",
     "output_type": "stream",
     "text": [
      "--------------\n",
      "torch.Size([331, 8, 80])\n",
      "tensor([0., 0., 0., 0., 0., 0., 0., 0.], device='cuda:0')\n",
      "--------------\n",
      "torch.Size([346, 8, 80])\n",
      "tensor([0., 0., 0., 0., 0., 0., 0., 0.], device='cuda:0')\n"
     ]
    },
    {
     "name": "stderr",
     "output_type": "stream",
     "text": [
      " 98%|██████████████████████████████████▍| 119/121 [00:18<00:00,  6.61it/s]"
     ]
    },
    {
     "name": "stdout",
     "output_type": "stream",
     "text": [
      "--------------\n",
      "torch.Size([361, 8, 80])\n",
      "tensor([0., 0., 0., 0., 0., 0., 0., 0.], device='cuda:0')\n",
      "--------------\n",
      "torch.Size([346, 8, 80])\n",
      "tensor([0., 0., 0., 0., 0., 0., 0., 0.], device='cuda:0')\n"
     ]
    },
    {
     "name": "stderr",
     "output_type": "stream",
     "text": [
      "100%|███████████████████████████████████| 121/121 [00:18<00:00,  6.62it/s]"
     ]
    },
    {
     "name": "stdout",
     "output_type": "stream",
     "text": [
      "--------------\n",
      "torch.Size([331, 8, 80])\n",
      "tensor([0., 0., 0., 0., 0., 0., 0., 0.], device='cuda:0')\n",
      "--------------\n",
      "torch.Size([286, 6, 80])\n",
      "tensor([0., 0., 0., 0., 0., 0.], device='cuda:0')\n",
      "Test CER 0.9543301885927004\n",
      "Test WER 1.0\n",
      "Test CTC 1108.2212732919254\n",
      "Saving Best\n"
     ]
    },
    {
     "name": "stderr",
     "output_type": "stream",
     "text": [
      "\n"
     ]
    },
    {
     "name": "stdout",
     "output_type": "stream",
     "text": [
      "Train Set Size = 771\n"
     ]
    },
    {
     "name": "stderr",
     "output_type": "stream",
     "text": [
      "CER: 0.9561978244373138 CTC: 5079.244140625 Ground Truth: |said \" Nonsense\n"
     ]
    },
    {
     "name": "stdout",
     "output_type": "stream",
     "text": [
      "Epoch: 2 Training CER 0.9562008762431186\n",
      "Training WER: 0.9998709824144008\n",
      "Time: 282.1953637599945 Seconds\n",
      "Validation Set Size = 121\n"
     ]
    },
    {
     "name": "stderr",
     "output_type": "stream",
     "text": [
      "  1%|▎                                    | 1/121 [00:00<00:17,  6.96it/s]"
     ]
    },
    {
     "name": "stdout",
     "output_type": "stream",
     "text": [
      "--------------\n",
      "torch.Size([316, 8, 80])\n",
      "tensor([0., 0., 0., 0., 0., 0., 0., 0.], device='cuda:0')\n"
     ]
    },
    {
     "name": "stderr",
     "output_type": "stream",
     "text": [
      "\r",
      "  2%|▌                                    | 2/121 [00:00<00:18,  6.38it/s]"
     ]
    },
    {
     "name": "stdout",
     "output_type": "stream",
     "text": [
      "--------------\n",
      "torch.Size([391, 8, 80])\n",
      "tensor([0., 0., 0., 0., 0., 0., 0., 0.], device='cuda:0')\n"
     ]
    },
    {
     "name": "stderr",
     "output_type": "stream",
     "text": [
      "\r",
      "  2%|▉                                    | 3/121 [00:00<00:19,  6.00it/s]"
     ]
    },
    {
     "name": "stdout",
     "output_type": "stream",
     "text": [
      "--------------\n",
      "torch.Size([421, 8, 80])\n",
      "tensor([0., 0., 0., 0., 0., 0., 0., 0.], device='cuda:0')\n"
     ]
    },
    {
     "name": "stderr",
     "output_type": "stream",
     "text": [
      "\r",
      "  3%|█▏                                   | 4/121 [00:00<00:20,  5.82it/s]"
     ]
    },
    {
     "name": "stdout",
     "output_type": "stream",
     "text": [
      "--------------\n",
      "torch.Size([421, 8, 80])\n",
      "tensor([0., 0., 0., 0., 0., 0., 0., 0.], device='cuda:0')\n"
     ]
    },
    {
     "name": "stderr",
     "output_type": "stream",
     "text": [
      "\r",
      "  4%|█▌                                   | 5/121 [00:00<00:17,  6.48it/s]"
     ]
    },
    {
     "name": "stdout",
     "output_type": "stream",
     "text": [
      "--------------\n",
      "torch.Size([271, 8, 80])\n",
      "tensor([0., 0., 0., 0., 0., 0., 0., 0.], device='cuda:0')\n"
     ]
    },
    {
     "name": "stderr",
     "output_type": "stream",
     "text": [
      "\r",
      "  5%|█▊                                   | 6/121 [00:00<00:17,  6.54it/s]"
     ]
    },
    {
     "name": "stdout",
     "output_type": "stream",
     "text": [
      "--------------\n",
      "torch.Size([346, 8, 80])\n",
      "tensor([0., 0., 0., 0., 0., 0., 0., 0.], device='cuda:0')\n",
      "--------------\n",
      "torch.Size([496, 8, 80])\n"
     ]
    },
    {
     "name": "stderr",
     "output_type": "stream",
     "text": [
      "  7%|██▍                                  | 8/121 [00:01<00:18,  6.25it/s]"
     ]
    },
    {
     "name": "stdout",
     "output_type": "stream",
     "text": [
      "tensor([0., 0., 0., 0., 0., 0., 0., 0.], device='cuda:0')\n",
      "--------------\n",
      "torch.Size([316, 8, 80])\n",
      "tensor([0., 0., 0., 0., 0., 0., 0., 0.], device='cuda:0')\n"
     ]
    },
    {
     "name": "stderr",
     "output_type": "stream",
     "text": [
      "  8%|██▉                                 | 10/121 [00:01<00:18,  6.10it/s]"
     ]
    },
    {
     "name": "stdout",
     "output_type": "stream",
     "text": [
      "--------------\n",
      "torch.Size([451, 8, 80])\n",
      "tensor([0., 0., 0., 0., 0., 0., 0., 0.], device='cuda:0')\n",
      "--------------\n",
      "torch.Size([346, 8, 80])\n",
      "tensor([0., 0., 0., 0., 0., 0., 0., 0.], device='cuda:0')\n"
     ]
    },
    {
     "name": "stderr",
     "output_type": "stream",
     "text": [
      " 10%|███▌                                | 12/121 [00:01<00:15,  6.82it/s]"
     ]
    },
    {
     "name": "stdout",
     "output_type": "stream",
     "text": [
      "--------------\n",
      "torch.Size([346, 8, 80])\n",
      "tensor([0., 0., 0., 0., 0., 0., 0., 0.], device='cuda:0')\n",
      "--------------\n",
      "torch.Size([256, 8, 80])\n",
      "tensor([0., 0., 0., 0., 0., 0., 0., 0.], device='cuda:0')\n"
     ]
    },
    {
     "name": "stderr",
     "output_type": "stream",
     "text": [
      " 12%|████▏                               | 14/121 [00:02<00:15,  7.07it/s]"
     ]
    },
    {
     "name": "stdout",
     "output_type": "stream",
     "text": [
      "--------------\n",
      "torch.Size([256, 8, 80])\n",
      "tensor([0., 0., 0., 0., 0., 0., 0., 0.], device='cuda:0')\n",
      "--------------\n",
      "torch.Size([331, 8, 80])\n",
      "tensor([0., 0., 0., 0., 0., 0., 0., 0.], device='cuda:0')\n"
     ]
    },
    {
     "name": "stderr",
     "output_type": "stream",
     "text": [
      " 13%|████▊                               | 16/121 [00:02<00:15,  6.99it/s]"
     ]
    },
    {
     "name": "stdout",
     "output_type": "stream",
     "text": [
      "--------------\n",
      "torch.Size([316, 8, 80])\n",
      "tensor([0., 0., 0., 0., 0., 0., 0., 0.], device='cuda:0')\n",
      "--------------\n",
      "torch.Size([346, 8, 80])\n",
      "tensor([0., 0., 0., 0., 0., 0., 0., 0.], device='cuda:0')\n"
     ]
    },
    {
     "name": "stderr",
     "output_type": "stream",
     "text": [
      " 15%|█████▎                              | 18/121 [00:02<00:15,  6.47it/s]"
     ]
    },
    {
     "name": "stdout",
     "output_type": "stream",
     "text": [
      "--------------\n",
      "torch.Size([361, 8, 80])\n",
      "tensor([0., 0., 0., 0., 0., 0., 0., 0.], device='cuda:0')\n",
      "--------------\n",
      "torch.Size([391, 8, 80])\n",
      "tensor([0., 0., 0., 0., 0., 0., 0., 0.], device='cuda:0')\n"
     ]
    },
    {
     "name": "stderr",
     "output_type": "stream",
     "text": [
      " 17%|█████▉                              | 20/121 [00:03<00:14,  7.06it/s]"
     ]
    },
    {
     "name": "stdout",
     "output_type": "stream",
     "text": [
      "--------------\n",
      "torch.Size([286, 8, 80])\n",
      "tensor([0., 0., 0., 0., 0., 0., 0., 0.], device='cuda:0')\n",
      "--------------\n",
      "torch.Size([286, 8, 80])\n",
      "tensor([0., 0., 0., 0., 0., 0., 0., 0.], device='cuda:0')\n"
     ]
    },
    {
     "name": "stderr",
     "output_type": "stream",
     "text": [
      " 18%|██████▌                             | 22/121 [00:03<00:15,  6.50it/s]"
     ]
    },
    {
     "name": "stdout",
     "output_type": "stream",
     "text": [
      "--------------\n",
      "torch.Size([391, 8, 80])\n",
      "tensor([0., 0., 0., 0., 0., 0., 0., 0.], device='cuda:0')\n",
      "--------------\n",
      "torch.Size([376, 8, 80])\n",
      "tensor([0., 0., 0., 0., 0., 0., 0., 0.], device='cuda:0')\n"
     ]
    },
    {
     "name": "stderr",
     "output_type": "stream",
     "text": [
      " 20%|███████▏                            | 24/121 [00:03<00:15,  6.25it/s]"
     ]
    },
    {
     "name": "stdout",
     "output_type": "stream",
     "text": [
      "--------------\n",
      "torch.Size([286, 8, 80])\n",
      "tensor([0., 0., 0., 0., 0., 0., 0., 0.], device='cuda:0')\n",
      "--------------\n",
      "torch.Size([451, 8, 80])\n",
      "tensor([0., 0., 0., 0., 0., 0., 0., 0.], device='cuda:0')\n"
     ]
    },
    {
     "name": "stderr",
     "output_type": "stream",
     "text": [
      " 21%|███████▋                            | 26/121 [00:03<00:14,  6.56it/s]"
     ]
    },
    {
     "name": "stdout",
     "output_type": "stream",
     "text": [
      "--------------\n",
      "torch.Size([286, 8, 80])\n",
      "tensor([0., 0., 0., 0., 0., 0., 0., 0.], device='cuda:0')\n",
      "--------------\n",
      "torch.Size([376, 8, 80])\n",
      "tensor([0., 0., 0., 0., 0., 0., 0., 0.], device='cuda:0')\n"
     ]
    },
    {
     "name": "stderr",
     "output_type": "stream",
     "text": [
      " 23%|████████▎                           | 28/121 [00:04<00:15,  6.01it/s]"
     ]
    },
    {
     "name": "stdout",
     "output_type": "stream",
     "text": [
      "--------------\n",
      "torch.Size([496, 8, 80])\n",
      "tensor([0., 0., 0., 0., 0., 0., 0., 0.], device='cuda:0')\n",
      "--------------\n",
      "torch.Size([361, 8, 80])\n",
      "tensor([0., 0., 0., 0., 0., 0., 0., 0.], device='cuda:0')\n"
     ]
    },
    {
     "name": "stderr",
     "output_type": "stream",
     "text": [
      " 25%|████████▉                           | 30/121 [00:04<00:13,  6.56it/s]"
     ]
    },
    {
     "name": "stdout",
     "output_type": "stream",
     "text": [
      "--------------\n",
      "torch.Size([331, 8, 80])\n",
      "tensor([0., 0., 0., 0., 0., 0., 0., 0.], device='cuda:0')\n",
      "--------------\n",
      "torch.Size([301, 8, 80])\n",
      "tensor([0., 0., 0., 0., 0., 0., 0., 0.], device='cuda:0')\n"
     ]
    },
    {
     "name": "stderr",
     "output_type": "stream",
     "text": [
      " 26%|█████████▌                          | 32/121 [00:04<00:13,  6.37it/s]"
     ]
    },
    {
     "name": "stdout",
     "output_type": "stream",
     "text": [
      "--------------\n",
      "torch.Size([346, 8, 80])\n",
      "tensor([0., 0., 0., 0., 0., 0., 0., 0.], device='cuda:0')\n",
      "--------------\n",
      "torch.Size([391, 8, 80])\n",
      "tensor([0., 0., 0., 0., 0., 0., 0., 0.], device='cuda:0')\n"
     ]
    },
    {
     "name": "stderr",
     "output_type": "stream",
     "text": [
      " 28%|██████████                          | 34/121 [00:05<00:14,  6.15it/s]"
     ]
    },
    {
     "name": "stdout",
     "output_type": "stream",
     "text": [
      "--------------\n",
      "torch.Size([316, 8, 80])\n",
      "tensor([0., 0., 0., 0., 0., 0., 0., 0.], device='cuda:0')\n",
      "--------------\n",
      "torch.Size([436, 8, 80])\n",
      "tensor([0., 0., 0., 0., 0., 0., 0., 0.], device='cuda:0')\n"
     ]
    },
    {
     "name": "stderr",
     "output_type": "stream",
     "text": [
      " 30%|██████████▋                         | 36/121 [00:05<00:13,  6.26it/s]"
     ]
    },
    {
     "name": "stdout",
     "output_type": "stream",
     "text": [
      "--------------\n",
      "torch.Size([241, 8, 80])\n",
      "tensor([0., 0., 0., 0., 0., 0., 0., 0.], device='cuda:0')\n",
      "--------------\n",
      "torch.Size([451, 8, 80])\n",
      "tensor([0., 0., 0., 0., 0., 0., 0., 0.], device='cuda:0')\n"
     ]
    },
    {
     "name": "stderr",
     "output_type": "stream",
     "text": [
      " 31%|███████████▎                        | 38/121 [00:05<00:13,  6.20it/s]"
     ]
    },
    {
     "name": "stdout",
     "output_type": "stream",
     "text": [
      "--------------\n",
      "torch.Size([346, 8, 80])\n",
      "tensor([0., 0., 0., 0., 0., 0., 0., 0.], device='cuda:0')\n",
      "--------------\n",
      "torch.Size([406, 8, 80])\n",
      "tensor([0., 0., 0., 0., 0., 0., 0., 0.], device='cuda:0')\n"
     ]
    },
    {
     "name": "stderr",
     "output_type": "stream",
     "text": [
      " 33%|███████████▉                        | 40/121 [00:06<00:11,  6.79it/s]"
     ]
    },
    {
     "name": "stdout",
     "output_type": "stream",
     "text": [
      "--------------\n",
      "torch.Size([286, 8, 80])\n",
      "tensor([0., 0., 0., 0., 0., 0., 0., 0.], device='cuda:0')\n",
      "--------------\n",
      "torch.Size([316, 8, 80])\n",
      "tensor([0., 0., 0., 0., 0., 0., 0., 0.], device='cuda:0')\n"
     ]
    },
    {
     "name": "stderr",
     "output_type": "stream",
     "text": [
      " 35%|████████████▍                       | 42/121 [00:06<00:11,  6.79it/s]"
     ]
    },
    {
     "name": "stdout",
     "output_type": "stream",
     "text": [
      "--------------\n",
      "torch.Size([331, 8, 80])\n",
      "tensor([0., 0., 0., 0., 0., 0., 0., 0.], device='cuda:0')\n",
      "--------------\n",
      "torch.Size([346, 8, 80])\n",
      "tensor([0., 0., 0., 0., 0., 0., 0., 0.], device='cuda:0')\n"
     ]
    },
    {
     "name": "stderr",
     "output_type": "stream",
     "text": [
      " 36%|█████████████                       | 44/121 [00:06<00:11,  6.56it/s]"
     ]
    },
    {
     "name": "stdout",
     "output_type": "stream",
     "text": [
      "--------------\n",
      "torch.Size([391, 8, 80])\n",
      "tensor([0., 0., 0., 0., 0., 0., 0., 0.], device='cuda:0')\n",
      "--------------\n",
      "torch.Size([346, 8, 80])\n",
      "tensor([0., 0., 0., 0., 0., 0., 0., 0.], device='cuda:0')\n"
     ]
    },
    {
     "name": "stderr",
     "output_type": "stream",
     "text": [
      " 38%|█████████████▋                      | 46/121 [00:07<00:10,  6.90it/s]"
     ]
    },
    {
     "name": "stdout",
     "output_type": "stream",
     "text": [
      "--------------\n",
      "torch.Size([361, 8, 80])\n",
      "tensor([0., 0., 0., 0., 0., 0., 0., 0.], device='cuda:0')\n",
      "--------------\n",
      "torch.Size([286, 8, 80])\n",
      "tensor([0., 0., 0., 0., 0., 0., 0., 0.], device='cuda:0')\n"
     ]
    },
    {
     "name": "stderr",
     "output_type": "stream",
     "text": [
      " 40%|██████████████▎                     | 48/121 [00:07<00:10,  6.97it/s]"
     ]
    },
    {
     "name": "stdout",
     "output_type": "stream",
     "text": [
      "--------------\n",
      "torch.Size([316, 8, 80])\n",
      "tensor([0., 0., 0., 0., 0., 0., 0., 0.], device='cuda:0')\n",
      "--------------\n",
      "torch.Size([331, 8, 80])\n",
      "tensor([0., 0., 0., 0., 0., 0., 0., 0.], device='cuda:0')\n"
     ]
    },
    {
     "name": "stderr",
     "output_type": "stream",
     "text": [
      " 41%|██████████████▉                     | 50/121 [00:07<00:10,  6.82it/s]"
     ]
    },
    {
     "name": "stdout",
     "output_type": "stream",
     "text": [
      "--------------\n",
      "torch.Size([331, 8, 80])\n",
      "tensor([0., 0., 0., 0., 0., 0., 0., 0.], device='cuda:0')\n",
      "--------------\n",
      "torch.Size([346, 8, 80])\n",
      "tensor([0., 0., 0., 0., 0., 0., 0., 0.], device='cuda:0')\n"
     ]
    },
    {
     "name": "stderr",
     "output_type": "stream",
     "text": [
      " 43%|███████████████▍                    | 52/121 [00:07<00:10,  6.41it/s]"
     ]
    },
    {
     "name": "stdout",
     "output_type": "stream",
     "text": [
      "--------------\n",
      "torch.Size([376, 8, 80])\n",
      "tensor([0., 0., 0., 0., 0., 0., 0., 0.], device='cuda:0')\n",
      "--------------\n",
      "torch.Size([391, 8, 80])\n",
      "tensor([0., 0., 0., 0., 0., 0., 0., 0.], device='cuda:0')\n"
     ]
    },
    {
     "name": "stderr",
     "output_type": "stream",
     "text": [
      " 45%|████████████████                    | 54/121 [00:08<00:09,  6.70it/s]"
     ]
    },
    {
     "name": "stdout",
     "output_type": "stream",
     "text": [
      "--------------\n",
      "torch.Size([286, 8, 80])\n",
      "tensor([0., 0., 0., 0., 0., 0., 0., 0.], device='cuda:0')\n",
      "--------------\n",
      "torch.Size([346, 8, 80])\n",
      "tensor([0., 0., 0., 0., 0., 0., 0., 0.], device='cuda:0')\n"
     ]
    },
    {
     "name": "stderr",
     "output_type": "stream",
     "text": [
      " 46%|████████████████▋                   | 56/121 [00:08<00:09,  6.79it/s]"
     ]
    },
    {
     "name": "stdout",
     "output_type": "stream",
     "text": [
      "--------------\n",
      "torch.Size([346, 8, 80])\n",
      "tensor([0., 0., 0., 0., 0., 0., 0., 0.], device='cuda:0')\n",
      "--------------\n",
      "torch.Size([316, 8, 80])\n",
      "tensor([0., 0., 0., 0., 0., 0., 0., 0.], device='cuda:0')\n"
     ]
    },
    {
     "name": "stderr",
     "output_type": "stream",
     "text": [
      " 48%|█████████████████▎                  | 58/121 [00:08<00:09,  6.98it/s]"
     ]
    },
    {
     "name": "stdout",
     "output_type": "stream",
     "text": [
      "--------------\n",
      "torch.Size([346, 8, 80])\n",
      "tensor([0., 0., 0., 0., 0., 0., 0., 0.], device='cuda:0')\n",
      "--------------\n",
      "torch.Size([286, 8, 80])\n",
      "tensor([0., 0., 0., 0., 0., 0., 0., 0.], device='cuda:0')\n"
     ]
    },
    {
     "name": "stderr",
     "output_type": "stream",
     "text": [
      " 50%|█████████████████▊                  | 60/121 [00:09<00:08,  7.37it/s]"
     ]
    },
    {
     "name": "stdout",
     "output_type": "stream",
     "text": [
      "--------------\n",
      "torch.Size([331, 8, 80])\n",
      "tensor([0., 0., 0., 0., 0., 0., 0., 0.], device='cuda:0')\n",
      "--------------\n",
      "torch.Size([256, 8, 80])\n",
      "tensor([0., 0., 0., 0., 0., 0., 0., 0.], device='cuda:0')\n"
     ]
    },
    {
     "name": "stderr",
     "output_type": "stream",
     "text": [
      " 51%|██████████████████▍                 | 62/121 [00:09<00:07,  7.44it/s]"
     ]
    },
    {
     "name": "stdout",
     "output_type": "stream",
     "text": [
      "--------------\n",
      "torch.Size([331, 8, 80])\n",
      "tensor([0., 0., 0., 0., 0., 0., 0., 0.], device='cuda:0')\n",
      "--------------\n",
      "torch.Size([286, 8, 80])\n",
      "tensor([0., 0., 0., 0., 0., 0., 0., 0.], device='cuda:0')\n"
     ]
    },
    {
     "name": "stderr",
     "output_type": "stream",
     "text": [
      " 53%|███████████████████                 | 64/121 [00:09<00:07,  7.22it/s]"
     ]
    },
    {
     "name": "stdout",
     "output_type": "stream",
     "text": [
      "--------------\n",
      "torch.Size([301, 8, 80])\n",
      "tensor([0., 0., 0., 0., 0., 0., 0., 0.], device='cuda:0')\n",
      "--------------\n",
      "torch.Size([346, 8, 80])\n",
      "tensor([0., 0., 0., 0., 0., 0., 0., 0.], device='cuda:0')\n"
     ]
    },
    {
     "name": "stderr",
     "output_type": "stream",
     "text": [
      " 55%|███████████████████▋                | 66/121 [00:09<00:07,  7.42it/s]"
     ]
    },
    {
     "name": "stdout",
     "output_type": "stream",
     "text": [
      "--------------\n",
      "torch.Size([286, 8, 80])\n",
      "tensor([0., 0., 0., 0., 0., 0., 0., 0.], device='cuda:0')\n",
      "--------------\n",
      "torch.Size([301, 8, 80])\n",
      "tensor([0., 0., 0., 0., 0., 0., 0., 0.], device='cuda:0')\n"
     ]
    },
    {
     "name": "stderr",
     "output_type": "stream",
     "text": [
      " 56%|████████████████████▏               | 68/121 [00:10<00:07,  7.12it/s]"
     ]
    },
    {
     "name": "stdout",
     "output_type": "stream",
     "text": [
      "--------------\n",
      "torch.Size([271, 8, 80])\n",
      "tensor([0., 0., 0., 0., 0., 0., 0., 0.], device='cuda:0')\n",
      "--------------\n",
      "torch.Size([376, 8, 80])\n",
      "tensor([0., 0., 0., 0., 0., 0., 0., 0.], device='cuda:0')\n"
     ]
    },
    {
     "name": "stderr",
     "output_type": "stream",
     "text": [
      " 58%|████████████████████▊               | 70/121 [00:10<00:07,  6.98it/s]"
     ]
    },
    {
     "name": "stdout",
     "output_type": "stream",
     "text": [
      "--------------\n",
      "torch.Size([301, 8, 80])\n",
      "tensor([0., 0., 0., 0., 0., 0., 0., 0.], device='cuda:0')\n",
      "--------------\n",
      "torch.Size([346, 8, 80])\n",
      "tensor([0., 0., 0., 0., 0., 0., 0., 0.], device='cuda:0')\n"
     ]
    },
    {
     "name": "stderr",
     "output_type": "stream",
     "text": [
      " 60%|█████████████████████▍              | 72/121 [00:10<00:07,  6.88it/s]"
     ]
    },
    {
     "name": "stdout",
     "output_type": "stream",
     "text": [
      "--------------\n",
      "torch.Size([361, 8, 80])\n",
      "tensor([0., 0., 0., 0., 0., 0., 0., 0.], device='cuda:0')\n",
      "--------------\n",
      "torch.Size([316, 8, 80])\n",
      "tensor([0., 0., 0., 0., 0., 0., 0., 0.], device='cuda:0')\n"
     ]
    },
    {
     "name": "stderr",
     "output_type": "stream",
     "text": [
      " 61%|██████████████████████              | 74/121 [00:11<00:06,  7.11it/s]"
     ]
    },
    {
     "name": "stdout",
     "output_type": "stream",
     "text": [
      "--------------\n",
      "torch.Size([286, 8, 80])\n",
      "tensor([0., 0., 0., 0., 0., 0., 0., 0.], device='cuda:0')\n",
      "--------------\n",
      "torch.Size([331, 8, 80])\n",
      "tensor([0., 0., 0., 0., 0., 0., 0., 0.], device='cuda:0')\n"
     ]
    },
    {
     "name": "stderr",
     "output_type": "stream",
     "text": [
      " 63%|██████████████████████▌             | 76/121 [00:11<00:06,  7.19it/s]"
     ]
    },
    {
     "name": "stdout",
     "output_type": "stream",
     "text": [
      "--------------\n",
      "torch.Size([256, 8, 80])\n",
      "tensor([0., 0., 0., 0., 0., 0., 0., 0.], device='cuda:0')\n",
      "--------------\n",
      "torch.Size([361, 8, 80])\n",
      "tensor([0., 0., 0., 0., 0., 0., 0., 0.], device='cuda:0')\n"
     ]
    },
    {
     "name": "stderr",
     "output_type": "stream",
     "text": [
      " 64%|███████████████████████▏            | 78/121 [00:11<00:06,  6.85it/s]"
     ]
    },
    {
     "name": "stdout",
     "output_type": "stream",
     "text": [
      "--------------\n",
      "torch.Size([301, 8, 80])\n",
      "tensor([0., 0., 0., 0., 0., 0., 0., 0.], device='cuda:0')\n",
      "--------------\n",
      "torch.Size([391, 8, 80])\n",
      "tensor([0., 0., 0., 0., 0., 0., 0., 0.], device='cuda:0')\n"
     ]
    },
    {
     "name": "stderr",
     "output_type": "stream",
     "text": [
      " 66%|███████████████████████▊            | 80/121 [00:11<00:05,  6.91it/s]"
     ]
    },
    {
     "name": "stdout",
     "output_type": "stream",
     "text": [
      "--------------\n",
      "torch.Size([316, 8, 80])\n",
      "tensor([0., 0., 0., 0., 0., 0., 0., 0.], device='cuda:0')\n",
      "--------------\n",
      "torch.Size([346, 8, 80])\n",
      "tensor([0., 0., 0., 0., 0., 0., 0., 0.], device='cuda:0')\n"
     ]
    },
    {
     "name": "stderr",
     "output_type": "stream",
     "text": [
      " 68%|████████████████████████▍           | 82/121 [00:12<00:06,  6.36it/s]"
     ]
    },
    {
     "name": "stdout",
     "output_type": "stream",
     "text": [
      "--------------\n",
      "torch.Size([481, 8, 80])\n",
      "tensor([0., 0., 0., 0., 0., 0., 0., 0.], device='cuda:0')\n",
      "--------------\n",
      "torch.Size([346, 8, 80])\n",
      "tensor([0., 0., 0., 0., 0., 0., 0., 0.], device='cuda:0')\n"
     ]
    },
    {
     "name": "stderr",
     "output_type": "stream",
     "text": [
      " 69%|████████████████████████▉           | 84/121 [00:12<00:05,  6.51it/s]"
     ]
    },
    {
     "name": "stdout",
     "output_type": "stream",
     "text": [
      "--------------\n",
      "torch.Size([316, 8, 80])\n",
      "tensor([0., 0., 0., 0., 0., 0., 0., 0.], device='cuda:0')\n",
      "--------------\n",
      "torch.Size([376, 8, 80])\n",
      "tensor([0., 0., 0., 0., 0., 0., 0., 0.], device='cuda:0')\n"
     ]
    },
    {
     "name": "stderr",
     "output_type": "stream",
     "text": [
      " 71%|█████████████████████████▌          | 86/121 [00:12<00:05,  6.73it/s]"
     ]
    },
    {
     "name": "stdout",
     "output_type": "stream",
     "text": [
      "--------------\n",
      "torch.Size([376, 8, 80])\n",
      "tensor([0., 0., 0., 0., 0., 0., 0., 0.], device='cuda:0')\n",
      "--------------\n",
      "torch.Size([301, 8, 80])\n",
      "tensor([0., 0., 0., 0., 0., 0., 0., 0.], device='cuda:0')\n"
     ]
    },
    {
     "name": "stderr",
     "output_type": "stream",
     "text": [
      " 73%|██████████████████████████▏         | 88/121 [00:13<00:05,  6.53it/s]"
     ]
    },
    {
     "name": "stdout",
     "output_type": "stream",
     "text": [
      "--------------\n",
      "torch.Size([406, 8, 80])\n",
      "tensor([0., 0., 0., 0., 0., 0., 0., 0.], device='cuda:0')\n",
      "--------------\n",
      "torch.Size([331, 8, 80])\n",
      "tensor([0., 0., 0., 0., 0., 0., 0., 0.], device='cuda:0')\n"
     ]
    },
    {
     "name": "stderr",
     "output_type": "stream",
     "text": [
      " 74%|██████████████████████████▊         | 90/121 [00:13<00:04,  6.81it/s]"
     ]
    },
    {
     "name": "stdout",
     "output_type": "stream",
     "text": [
      "--------------\n",
      "torch.Size([346, 8, 80])\n",
      "tensor([0., 0., 0., 0., 0., 0., 0., 0.], device='cuda:0')\n",
      "--------------\n",
      "torch.Size([301, 8, 80])\n",
      "tensor([0., 0., 0., 0., 0., 0., 0., 0.], device='cuda:0')\n"
     ]
    },
    {
     "name": "stderr",
     "output_type": "stream",
     "text": [
      " 76%|███████████████████████████▎        | 92/121 [00:13<00:04,  6.58it/s]"
     ]
    },
    {
     "name": "stdout",
     "output_type": "stream",
     "text": [
      "--------------\n",
      "torch.Size([361, 8, 80])\n",
      "tensor([0., 0., 0., 0., 0., 0., 0., 0.], device='cuda:0')\n",
      "--------------\n",
      "torch.Size([361, 8, 80])\n",
      "tensor([0., 0., 0., 0., 0., 0., 0., 0.], device='cuda:0')\n"
     ]
    },
    {
     "name": "stderr",
     "output_type": "stream",
     "text": [
      "\r",
      " 77%|███████████████████████████▋        | 93/121 [00:13<00:04,  6.08it/s]"
     ]
    },
    {
     "name": "stdout",
     "output_type": "stream",
     "text": [
      "--------------\n",
      "torch.Size([466, 8, 80])\n",
      "tensor([0., 0., 0., 0., 0., 0., 0., 0.], device='cuda:0')\n",
      "--------------\n",
      "torch.Size([451, 8, 80])\n",
      "tensor([0., 0., 0., 0., 0., 0., 0., 0.], device='cuda:0')\n"
     ]
    },
    {
     "name": "stderr",
     "output_type": "stream",
     "text": [
      " 79%|████████████████████████████▌       | 96/121 [00:14<00:04,  6.21it/s]"
     ]
    },
    {
     "name": "stdout",
     "output_type": "stream",
     "text": [
      "--------------\n",
      "torch.Size([421, 8, 80])\n",
      "tensor([0., 0., 0., 0., 0., 0., 0., 0.], device='cuda:0')\n",
      "--------------\n",
      "torch.Size([301, 8, 80])\n",
      "tensor([0., 0., 0., 0., 0., 0., 0., 0.], device='cuda:0')\n"
     ]
    },
    {
     "name": "stderr",
     "output_type": "stream",
     "text": [
      " 81%|█████████████████████████████▏      | 98/121 [00:14<00:03,  7.08it/s]"
     ]
    },
    {
     "name": "stdout",
     "output_type": "stream",
     "text": [
      "--------------\n",
      "torch.Size([316, 8, 80])\n",
      "tensor([0., 0., 0., 0., 0., 0., 0., 0.], device='cuda:0')\n",
      "--------------\n",
      "torch.Size([241, 8, 80])\n",
      "tensor([0., 0., 0., 0., 0., 0., 0., 0.], device='cuda:0')\n"
     ]
    },
    {
     "name": "stderr",
     "output_type": "stream",
     "text": [
      " 83%|████████████████████████████▉      | 100/121 [00:14<00:02,  7.44it/s]"
     ]
    },
    {
     "name": "stdout",
     "output_type": "stream",
     "text": [
      "--------------\n",
      "torch.Size([301, 8, 80])\n",
      "tensor([0., 0., 0., 0., 0., 0., 0., 0.], device='cuda:0')\n",
      "--------------\n",
      "torch.Size([271, 8, 80])\n",
      "tensor([0., 0., 0., 0., 0., 0., 0., 0.], device='cuda:0')\n"
     ]
    },
    {
     "name": "stderr",
     "output_type": "stream",
     "text": [
      " 84%|█████████████████████████████▌     | 102/121 [00:15<00:02,  6.96it/s]"
     ]
    },
    {
     "name": "stdout",
     "output_type": "stream",
     "text": [
      "--------------\n",
      "torch.Size([376, 8, 80])\n",
      "tensor([0., 0., 0., 0., 0., 0., 0., 0.], device='cuda:0')\n",
      "--------------\n",
      "torch.Size([331, 8, 80])\n",
      "tensor([0., 0., 0., 0., 0., 0., 0., 0.], device='cuda:0')\n"
     ]
    },
    {
     "name": "stderr",
     "output_type": "stream",
     "text": [
      " 86%|██████████████████████████████     | 104/121 [00:15<00:02,  6.44it/s]"
     ]
    },
    {
     "name": "stdout",
     "output_type": "stream",
     "text": [
      "--------------\n",
      "torch.Size([421, 8, 80])\n",
      "tensor([0., 0., 0., 0., 0., 0., 0., 0.], device='cuda:0')\n",
      "--------------\n",
      "torch.Size([361, 8, 80])\n",
      "tensor([0., 0., 0., 0., 0., 0., 0., 0.], device='cuda:0')\n"
     ]
    },
    {
     "name": "stderr",
     "output_type": "stream",
     "text": [
      " 88%|██████████████████████████████▋    | 106/121 [00:15<00:02,  6.28it/s]"
     ]
    },
    {
     "name": "stdout",
     "output_type": "stream",
     "text": [
      "--------------\n",
      "torch.Size([331, 8, 80])\n",
      "tensor([0., 0., 0., 0., 0., 0., 0., 0.], device='cuda:0')\n",
      "--------------\n",
      "torch.Size([406, 8, 80])\n",
      "tensor([0., 0., 0., 0., 0., 0., 0., 0.], device='cuda:0')\n"
     ]
    },
    {
     "name": "stderr",
     "output_type": "stream",
     "text": [
      " 89%|███████████████████████████████▏   | 108/121 [00:16<00:01,  6.53it/s]"
     ]
    },
    {
     "name": "stdout",
     "output_type": "stream",
     "text": [
      "--------------\n",
      "torch.Size([331, 8, 80])\n",
      "tensor([0., 0., 0., 0., 0., 0., 0., 0.], device='cuda:0')\n",
      "--------------\n",
      "torch.Size([346, 8, 80])\n",
      "tensor([0., 0., 0., 0., 0., 0., 0., 0.], device='cuda:0')\n"
     ]
    },
    {
     "name": "stderr",
     "output_type": "stream",
     "text": [
      " 91%|███████████████████████████████▊   | 110/121 [00:16<00:01,  6.84it/s]"
     ]
    },
    {
     "name": "stdout",
     "output_type": "stream",
     "text": [
      "--------------\n",
      "torch.Size([301, 8, 80])\n",
      "tensor([0., 0., 0., 0., 0., 0., 0., 0.], device='cuda:0')\n",
      "--------------\n",
      "torch.Size([331, 8, 80])\n",
      "tensor([0., 0., 0., 0., 0., 0., 0., 0.], device='cuda:0')\n"
     ]
    },
    {
     "name": "stderr",
     "output_type": "stream",
     "text": [
      " 93%|████████████████████████████████▍  | 112/121 [00:16<00:01,  6.76it/s]"
     ]
    },
    {
     "name": "stdout",
     "output_type": "stream",
     "text": [
      "--------------\n",
      "torch.Size([286, 8, 80])\n",
      "tensor([0., 0., 0., 0., 0., 0., 0., 0.], device='cuda:0')\n",
      "--------------\n",
      "torch.Size([391, 8, 80])\n",
      "tensor([0., 0., 0., 0., 0., 0., 0., 0.], device='cuda:0')\n"
     ]
    },
    {
     "name": "stderr",
     "output_type": "stream",
     "text": [
      " 94%|████████████████████████████████▉  | 114/121 [00:17<00:01,  6.69it/s]"
     ]
    },
    {
     "name": "stdout",
     "output_type": "stream",
     "text": [
      "--------------\n",
      "torch.Size([346, 8, 80])\n",
      "tensor([0., 0., 0., 0., 0., 0., 0., 0.], device='cuda:0')\n",
      "--------------\n",
      "torch.Size([361, 8, 80])\n",
      "tensor([0., 0., 0., 0., 0., 0., 0., 0.], device='cuda:0')\n"
     ]
    },
    {
     "name": "stderr",
     "output_type": "stream",
     "text": [
      " 96%|█████████████████████████████████▌ | 116/121 [00:17<00:00,  6.11it/s]"
     ]
    },
    {
     "name": "stdout",
     "output_type": "stream",
     "text": [
      "--------------\n",
      "torch.Size([421, 8, 80])\n",
      "tensor([0., 0., 0., 0., 0., 0., 0., 0.], device='cuda:0')\n",
      "--------------\n",
      "torch.Size([421, 8, 80])\n",
      "tensor([0., 0., 0., 0., 0., 0., 0., 0.], device='cuda:0')\n"
     ]
    },
    {
     "name": "stderr",
     "output_type": "stream",
     "text": [
      " 98%|██████████████████████████████████▏| 118/121 [00:17<00:00,  6.39it/s]"
     ]
    },
    {
     "name": "stdout",
     "output_type": "stream",
     "text": [
      "--------------\n",
      "torch.Size([391, 8, 80])\n",
      "tensor([0., 0., 0., 0., 0., 0., 0., 0.], device='cuda:0')\n",
      "--------------\n",
      "torch.Size([316, 8, 80])\n",
      "tensor([0., 0., 0., 0., 0., 0., 0., 0.], device='cuda:0')\n"
     ]
    },
    {
     "name": "stderr",
     "output_type": "stream",
     "text": [
      " 99%|██████████████████████████████████▋| 120/121 [00:18<00:00,  6.77it/s]"
     ]
    },
    {
     "name": "stdout",
     "output_type": "stream",
     "text": [
      "--------------\n",
      "torch.Size([346, 8, 80])\n",
      "tensor([0., 0., 0., 0., 0., 0., 0., 0.], device='cuda:0')\n",
      "--------------\n",
      "torch.Size([301, 8, 80])\n",
      "tensor([0., 0., 0., 0., 0., 0., 0., 0.], device='cuda:0')\n"
     ]
    },
    {
     "name": "stderr",
     "output_type": "stream",
     "text": [
      "100%|███████████████████████████████████| 121/121 [00:18<00:00,  6.68it/s]\n"
     ]
    },
    {
     "name": "stdout",
     "output_type": "stream",
     "text": [
      "--------------\n",
      "torch.Size([301, 6, 80])\n",
      "tensor([0., 0., 0., 0., 0., 0.], device='cuda:0')\n",
      "Test CER 0.9543301885926995\n",
      "Test WER 1.0\n",
      "Test CTC 1079.2198498964804\n",
      "Saving Best\n",
      "Train Set Size = 771\n"
     ]
    },
    {
     "name": "stderr",
     "output_type": "stream",
     "text": [
      "CER: 0.9524255053911765 CTC: 5629.4765625 Ground Truth: |that teenagers ea\n"
     ]
    },
    {
     "name": "stdout",
     "output_type": "stream",
     "text": [
      "Epoch: 3 Training CER 0.9524242099746943\n",
      "Training WER: 0.9930923683040866\n",
      "Time: 283.7682468891144 Seconds\n",
      "Validation Set Size = 121\n"
     ]
    },
    {
     "name": "stderr",
     "output_type": "stream",
     "text": [
      "  1%|▎                                    | 1/121 [00:00<00:18,  6.33it/s]"
     ]
    },
    {
     "name": "stdout",
     "output_type": "stream",
     "text": [
      "--------------\n",
      "torch.Size([376, 8, 80])\n",
      "tensor([0., 0., 0., 0., 0., 0., 0., 0.], device='cuda:0')\n"
     ]
    },
    {
     "name": "stderr",
     "output_type": "stream",
     "text": [
      "\r",
      "  2%|▌                                    | 2/121 [00:00<00:16,  7.33it/s]"
     ]
    },
    {
     "name": "stdout",
     "output_type": "stream",
     "text": [
      "--------------\n",
      "torch.Size([271, 8, 80])\n",
      "tensor([0., 0., 0., 0., 0., 0., 0., 0.], device='cuda:0')\n"
     ]
    },
    {
     "name": "stderr",
     "output_type": "stream",
     "text": [
      "\r",
      "  2%|▉                                    | 3/121 [00:00<00:18,  6.39it/s]"
     ]
    },
    {
     "name": "stdout",
     "output_type": "stream",
     "text": [
      "--------------\n",
      "torch.Size([421, 8, 80])\n",
      "tensor([0., 0., 0., 0., 0., 0., 0., 0.], device='cuda:0')\n"
     ]
    },
    {
     "name": "stderr",
     "output_type": "stream",
     "text": [
      "\r",
      "  3%|█▏                                   | 4/121 [00:00<00:17,  6.85it/s]"
     ]
    },
    {
     "name": "stdout",
     "output_type": "stream",
     "text": [
      "--------------\n",
      "torch.Size([286, 8, 80])\n",
      "tensor([0., 0., 0., 0., 0., 0., 0., 0.], device='cuda:0')\n"
     ]
    },
    {
     "name": "stderr",
     "output_type": "stream",
     "text": [
      "\r",
      "  4%|█▌                                   | 5/121 [00:00<00:17,  6.70it/s]"
     ]
    },
    {
     "name": "stdout",
     "output_type": "stream",
     "text": [
      "--------------\n",
      "torch.Size([361, 8, 80])\n",
      "tensor([0., 0., 0., 0., 0., 0., 0., 0.], device='cuda:0')\n"
     ]
    },
    {
     "name": "stderr",
     "output_type": "stream",
     "text": [
      "\r",
      "  5%|█▊                                   | 6/121 [00:00<00:16,  6.98it/s]"
     ]
    },
    {
     "name": "stdout",
     "output_type": "stream",
     "text": [
      "--------------\n",
      "torch.Size([301, 8, 80])\n",
      "tensor([0., 0., 0., 0., 0., 0., 0., 0.], device='cuda:0')\n"
     ]
    },
    {
     "name": "stderr",
     "output_type": "stream",
     "text": [
      "\r",
      "  6%|██▏                                  | 7/121 [00:01<00:17,  6.61it/s]"
     ]
    },
    {
     "name": "stdout",
     "output_type": "stream",
     "text": [
      "--------------\n",
      "torch.Size([391, 8, 80])\n",
      "tensor([0., 0., 0., 0., 0., 0., 0., 0.], device='cuda:0')\n"
     ]
    },
    {
     "name": "stderr",
     "output_type": "stream",
     "text": [
      "\r",
      "  7%|██▍                                  | 8/121 [00:01<00:17,  6.54it/s]"
     ]
    },
    {
     "name": "stdout",
     "output_type": "stream",
     "text": [
      "--------------\n",
      "torch.Size([361, 8, 80])\n",
      "tensor([0., 0., 0., 0., 0., 0., 0., 0.], device='cuda:0')\n"
     ]
    },
    {
     "name": "stderr",
     "output_type": "stream",
     "text": [
      "\r",
      "  7%|██▊                                  | 9/121 [00:01<00:16,  6.97it/s]"
     ]
    },
    {
     "name": "stdout",
     "output_type": "stream",
     "text": [
      "--------------\n",
      "torch.Size([271, 8, 80])\n",
      "tensor([0., 0., 0., 0., 0., 0., 0., 0.], device='cuda:0')\n"
     ]
    },
    {
     "name": "stderr",
     "output_type": "stream",
     "text": [
      "\r",
      "  8%|██▉                                 | 10/121 [00:01<00:15,  6.95it/s]"
     ]
    },
    {
     "name": "stdout",
     "output_type": "stream",
     "text": [
      "--------------\n",
      "torch.Size([331, 8, 80])\n",
      "tensor([0., 0., 0., 0., 0., 0., 0., 0.], device='cuda:0')\n"
     ]
    },
    {
     "name": "stderr",
     "output_type": "stream",
     "text": [
      "\r",
      "  9%|███▎                                | 11/121 [00:01<00:16,  6.78it/s]"
     ]
    },
    {
     "name": "stdout",
     "output_type": "stream",
     "text": [
      "--------------\n",
      "torch.Size([361, 8, 80])\n",
      "tensor([0., 0., 0., 0., 0., 0., 0., 0.], device='cuda:0')\n"
     ]
    },
    {
     "name": "stderr",
     "output_type": "stream",
     "text": [
      "\r",
      " 10%|███▌                                | 12/121 [00:01<00:17,  6.36it/s]"
     ]
    },
    {
     "name": "stdout",
     "output_type": "stream",
     "text": [
      "--------------\n",
      "torch.Size([421, 8, 80])\n",
      "tensor([0., 0., 0., 0., 0., 0., 0., 0.], device='cuda:0')\n"
     ]
    },
    {
     "name": "stderr",
     "output_type": "stream",
     "text": [
      "\r",
      " 11%|███▊                                | 13/121 [00:01<00:16,  6.50it/s]"
     ]
    },
    {
     "name": "stdout",
     "output_type": "stream",
     "text": [
      "--------------\n",
      "torch.Size([331, 8, 80])\n",
      "tensor([0., 0., 0., 0., 0., 0., 0., 0.], device='cuda:0')\n"
     ]
    },
    {
     "name": "stderr",
     "output_type": "stream",
     "text": [
      "\r",
      " 12%|████▏                               | 14/121 [00:02<00:15,  6.95it/s]"
     ]
    },
    {
     "name": "stdout",
     "output_type": "stream",
     "text": [
      "--------------\n",
      "torch.Size([271, 8, 80])\n",
      "tensor([0., 0., 0., 0., 0., 0., 0., 0.], device='cuda:0')\n"
     ]
    },
    {
     "name": "stderr",
     "output_type": "stream",
     "text": [
      "\r",
      " 12%|████▍                               | 15/121 [00:02<00:15,  6.69it/s]"
     ]
    },
    {
     "name": "stdout",
     "output_type": "stream",
     "text": [
      "--------------\n",
      "torch.Size([376, 8, 80])\n",
      "tensor([0., 0., 0., 0., 0., 0., 0., 0.], device='cuda:0')\n"
     ]
    },
    {
     "name": "stderr",
     "output_type": "stream",
     "text": [
      "\r",
      " 13%|████▊                               | 16/121 [00:02<00:16,  6.44it/s]"
     ]
    },
    {
     "name": "stdout",
     "output_type": "stream",
     "text": [
      "--------------\n",
      "torch.Size([391, 8, 80])\n",
      "tensor([0., 0., 0., 0., 0., 0., 0., 0.], device='cuda:0')\n"
     ]
    },
    {
     "name": "stderr",
     "output_type": "stream",
     "text": [
      "\r",
      " 14%|█████                               | 17/121 [00:02<00:15,  6.51it/s]"
     ]
    },
    {
     "name": "stdout",
     "output_type": "stream",
     "text": [
      "--------------\n",
      "torch.Size([346, 8, 80])\n",
      "tensor([0., 0., 0., 0., 0., 0., 0., 0.], device='cuda:0')\n"
     ]
    },
    {
     "name": "stderr",
     "output_type": "stream",
     "text": [
      "\r",
      " 15%|█████▎                              | 18/121 [00:02<00:15,  6.48it/s]"
     ]
    },
    {
     "name": "stdout",
     "output_type": "stream",
     "text": [
      "--------------\n",
      "torch.Size([361, 8, 80])\n",
      "tensor([0., 0., 0., 0., 0., 0., 0., 0.], device='cuda:0')\n"
     ]
    },
    {
     "name": "stderr",
     "output_type": "stream",
     "text": [
      "\r",
      " 16%|█████▋                              | 19/121 [00:02<00:15,  6.66it/s]"
     ]
    },
    {
     "name": "stdout",
     "output_type": "stream",
     "text": [
      "--------------\n",
      "torch.Size([316, 8, 80])\n",
      "tensor([0., 0., 0., 0., 0., 0., 0., 0.], device='cuda:0')\n"
     ]
    },
    {
     "name": "stderr",
     "output_type": "stream",
     "text": [
      "\r",
      " 17%|█████▉                              | 20/121 [00:02<00:14,  6.99it/s]"
     ]
    },
    {
     "name": "stdout",
     "output_type": "stream",
     "text": [
      "--------------\n",
      "torch.Size([286, 8, 80])\n",
      "tensor([0., 0., 0., 0., 0., 0., 0., 0.], device='cuda:0')\n"
     ]
    },
    {
     "name": "stderr",
     "output_type": "stream",
     "text": [
      "\r",
      " 17%|██████▏                             | 21/121 [00:03<00:14,  6.87it/s]"
     ]
    },
    {
     "name": "stdout",
     "output_type": "stream",
     "text": [
      "--------------\n",
      "torch.Size([346, 8, 80])\n",
      "tensor([0., 0., 0., 0., 0., 0., 0., 0.], device='cuda:0')\n"
     ]
    },
    {
     "name": "stderr",
     "output_type": "stream",
     "text": [
      "\r",
      " 18%|██████▌                             | 22/121 [00:03<00:14,  6.71it/s]"
     ]
    },
    {
     "name": "stdout",
     "output_type": "stream",
     "text": [
      "--------------\n",
      "torch.Size([361, 8, 80])\n",
      "tensor([0., 0., 0., 0., 0., 0., 0., 0.], device='cuda:0')\n"
     ]
    },
    {
     "name": "stderr",
     "output_type": "stream",
     "text": [
      "\r",
      " 19%|██████▊                             | 23/121 [00:03<00:15,  6.50it/s]"
     ]
    },
    {
     "name": "stdout",
     "output_type": "stream",
     "text": [
      "--------------\n",
      "torch.Size([391, 8, 80])\n",
      "tensor([0., 0., 0., 0., 0., 0., 0., 0.], device='cuda:0')\n"
     ]
    },
    {
     "name": "stderr",
     "output_type": "stream",
     "text": [
      "\r",
      " 20%|███████▏                            | 24/121 [00:03<00:15,  6.31it/s]"
     ]
    },
    {
     "name": "stdout",
     "output_type": "stream",
     "text": [
      "--------------\n",
      "torch.Size([391, 8, 80])\n",
      "tensor([0., 0., 0., 0., 0., 0., 0., 0.], device='cuda:0')\n"
     ]
    },
    {
     "name": "stderr",
     "output_type": "stream",
     "text": [
      "\r",
      " 21%|███████▍                            | 25/121 [00:03<00:14,  6.68it/s]"
     ]
    },
    {
     "name": "stdout",
     "output_type": "stream",
     "text": [
      "--------------\n",
      "torch.Size([286, 8, 80])\n",
      "tensor([0., 0., 0., 0., 0., 0., 0., 0.], device='cuda:0')\n"
     ]
    },
    {
     "name": "stderr",
     "output_type": "stream",
     "text": [
      "\r",
      " 21%|███████▋                            | 26/121 [00:03<00:14,  6.61it/s]"
     ]
    },
    {
     "name": "stdout",
     "output_type": "stream",
     "text": [
      "--------------\n",
      "torch.Size([361, 8, 80])\n",
      "tensor([0., 0., 0., 0., 0., 0., 0., 0.], device='cuda:0')\n"
     ]
    },
    {
     "name": "stderr",
     "output_type": "stream",
     "text": [
      "\r",
      " 22%|████████                            | 27/121 [00:04<00:14,  6.67it/s]"
     ]
    },
    {
     "name": "stdout",
     "output_type": "stream",
     "text": [
      "--------------\n",
      "torch.Size([331, 8, 80])\n",
      "tensor([0., 0., 0., 0., 0., 0., 0., 0.], device='cuda:0')\n"
     ]
    },
    {
     "name": "stderr",
     "output_type": "stream",
     "text": [
      "\r",
      " 23%|████████▎                           | 28/121 [00:04<00:13,  6.70it/s]"
     ]
    },
    {
     "name": "stdout",
     "output_type": "stream",
     "text": [
      "--------------\n",
      "torch.Size([346, 8, 80])\n",
      "tensor([0., 0., 0., 0., 0., 0., 0., 0.], device='cuda:0')\n"
     ]
    },
    {
     "name": "stderr",
     "output_type": "stream",
     "text": [
      "\r",
      " 24%|████████▋                           | 29/121 [00:04<00:13,  6.66it/s]"
     ]
    },
    {
     "name": "stdout",
     "output_type": "stream",
     "text": [
      "--------------\n",
      "torch.Size([346, 8, 80])\n",
      "tensor([0., 0., 0., 0., 0., 0., 0., 0.], device='cuda:0')\n"
     ]
    },
    {
     "name": "stderr",
     "output_type": "stream",
     "text": [
      "\r",
      " 25%|████████▉                           | 30/121 [00:04<00:13,  6.81it/s]"
     ]
    },
    {
     "name": "stdout",
     "output_type": "stream",
     "text": [
      "--------------\n",
      "torch.Size([316, 8, 80])\n",
      "tensor([0., 0., 0., 0., 0., 0., 0., 0.], device='cuda:0')\n"
     ]
    },
    {
     "name": "stderr",
     "output_type": "stream",
     "text": [
      "\r",
      " 26%|█████████▏                          | 31/121 [00:04<00:13,  6.77it/s]"
     ]
    },
    {
     "name": "stdout",
     "output_type": "stream",
     "text": [
      "--------------\n",
      "torch.Size([346, 8, 80])\n",
      "tensor([0., 0., 0., 0., 0., 0., 0., 0.], device='cuda:0')\n"
     ]
    },
    {
     "name": "stderr",
     "output_type": "stream",
     "text": [
      "\r",
      " 26%|█████████▌                          | 32/121 [00:04<00:13,  6.79it/s]"
     ]
    },
    {
     "name": "stdout",
     "output_type": "stream",
     "text": [
      "--------------\n",
      "torch.Size([346, 8, 80])\n",
      "tensor([0., 0., 0., 0., 0., 0., 0., 0.], device='cuda:0')\n"
     ]
    },
    {
     "name": "stderr",
     "output_type": "stream",
     "text": [
      "\r",
      " 27%|█████████▊                          | 33/121 [00:04<00:14,  6.24it/s]"
     ]
    },
    {
     "name": "stdout",
     "output_type": "stream",
     "text": [
      "--------------\n",
      "torch.Size([451, 8, 80])\n",
      "tensor([0., 0., 0., 0., 0., 0., 0., 0.], device='cuda:0')\n"
     ]
    },
    {
     "name": "stderr",
     "output_type": "stream",
     "text": [
      "\r",
      " 28%|██████████                          | 34/121 [00:05<00:14,  6.04it/s]"
     ]
    },
    {
     "name": "stdout",
     "output_type": "stream",
     "text": [
      "--------------\n",
      "torch.Size([421, 8, 80])\n",
      "tensor([0., 0., 0., 0., 0., 0., 0., 0.], device='cuda:0')\n"
     ]
    },
    {
     "name": "stderr",
     "output_type": "stream",
     "text": [
      "\r",
      " 29%|██████████▍                         | 35/121 [00:05<00:14,  6.10it/s]"
     ]
    },
    {
     "name": "stdout",
     "output_type": "stream",
     "text": [
      "--------------\n",
      "torch.Size([376, 8, 80])\n",
      "tensor([0., 0., 0., 0., 0., 0., 0., 0.], device='cuda:0')\n"
     ]
    },
    {
     "name": "stderr",
     "output_type": "stream",
     "text": [
      "\r",
      " 30%|██████████▋                         | 36/121 [00:05<00:13,  6.51it/s]"
     ]
    },
    {
     "name": "stdout",
     "output_type": "stream",
     "text": [
      "--------------\n",
      "torch.Size([286, 8, 80])\n",
      "tensor([0., 0., 0., 0., 0., 0., 0., 0.], device='cuda:0')\n"
     ]
    },
    {
     "name": "stderr",
     "output_type": "stream",
     "text": [
      "\r",
      " 31%|███████████                         | 37/121 [00:05<00:13,  6.32it/s]"
     ]
    },
    {
     "name": "stdout",
     "output_type": "stream",
     "text": [
      "--------------\n",
      "torch.Size([391, 8, 80])\n",
      "tensor([0., 0., 0., 0., 0., 0., 0., 0.], device='cuda:0')\n"
     ]
    },
    {
     "name": "stderr",
     "output_type": "stream",
     "text": [
      "\r",
      " 31%|███████████▎                        | 38/121 [00:05<00:12,  6.41it/s]"
     ]
    },
    {
     "name": "stdout",
     "output_type": "stream",
     "text": [
      "--------------\n",
      "torch.Size([346, 8, 80])\n",
      "tensor([0., 0., 0., 0., 0., 0., 0., 0.], device='cuda:0')\n"
     ]
    },
    {
     "name": "stderr",
     "output_type": "stream",
     "text": [
      "\r",
      " 32%|███████████▌                        | 39/121 [00:05<00:12,  6.58it/s]"
     ]
    },
    {
     "name": "stdout",
     "output_type": "stream",
     "text": [
      "--------------\n",
      "torch.Size([316, 8, 80])\n",
      "tensor([0., 0., 0., 0., 0., 0., 0., 0.], device='cuda:0')\n"
     ]
    },
    {
     "name": "stderr",
     "output_type": "stream",
     "text": [
      " 34%|████████████▏                       | 41/121 [00:06<00:13,  5.95it/s]"
     ]
    },
    {
     "name": "stdout",
     "output_type": "stream",
     "text": [
      "--------------\n",
      "torch.Size([496, 8, 80])\n",
      "tensor([0., 0., 0., 0., 0., 0., 0., 0.], device='cuda:0')\n",
      "--------------\n",
      "torch.Size([391, 8, 80])\n",
      "tensor([0., 0., 0., 0., 0., 0., 0., 0.], device='cuda:0')\n"
     ]
    },
    {
     "name": "stderr",
     "output_type": "stream",
     "text": [
      " 36%|████████████▊                       | 43/121 [00:06<00:12,  6.29it/s]"
     ]
    },
    {
     "name": "stdout",
     "output_type": "stream",
     "text": [
      "--------------\n",
      "torch.Size([346, 8, 80])\n",
      "tensor([0., 0., 0., 0., 0., 0., 0., 0.], device='cuda:0')\n",
      "--------------\n",
      "torch.Size([346, 8, 80])\n",
      "tensor([0., 0., 0., 0., 0., 0., 0., 0.], device='cuda:0')\n"
     ]
    },
    {
     "name": "stderr",
     "output_type": "stream",
     "text": [
      " 37%|█████████████▍                      | 45/121 [00:06<00:11,  6.36it/s]"
     ]
    },
    {
     "name": "stdout",
     "output_type": "stream",
     "text": [
      "--------------\n",
      "torch.Size([391, 8, 80])\n",
      "tensor([0., 0., 0., 0., 0., 0., 0., 0.], device='cuda:0')\n",
      "--------------\n",
      "torch.Size([346, 8, 80])\n",
      "tensor([0., 0., 0., 0., 0., 0., 0., 0.], device='cuda:0')\n"
     ]
    },
    {
     "name": "stderr",
     "output_type": "stream",
     "text": [
      " 39%|█████████████▉                      | 47/121 [00:07<00:10,  7.17it/s]"
     ]
    },
    {
     "name": "stdout",
     "output_type": "stream",
     "text": [
      "--------------\n",
      "torch.Size([241, 8, 80])\n",
      "tensor([0., 0., 0., 0., 0., 0., 0., 0.], device='cuda:0')\n",
      "--------------\n",
      "torch.Size([301, 8, 80])\n",
      "tensor([0., 0., 0., 0., 0., 0., 0., 0.], device='cuda:0')\n"
     ]
    },
    {
     "name": "stderr",
     "output_type": "stream",
     "text": [
      " 40%|██████████████▌                     | 49/121 [00:07<00:10,  6.66it/s]"
     ]
    },
    {
     "name": "stdout",
     "output_type": "stream",
     "text": [
      "--------------\n",
      "torch.Size([316, 8, 80])\n",
      "tensor([0., 0., 0., 0., 0., 0., 0., 0.], device='cuda:0')\n",
      "--------------\n",
      "torch.Size([421, 8, 80])\n",
      "tensor([0., 0., 0., 0., 0., 0., 0., 0.], device='cuda:0')\n"
     ]
    },
    {
     "name": "stderr",
     "output_type": "stream",
     "text": [
      " 42%|███████████████▏                    | 51/121 [00:07<00:10,  6.58it/s]"
     ]
    },
    {
     "name": "stdout",
     "output_type": "stream",
     "text": [
      "--------------\n",
      "torch.Size([331, 8, 80])\n",
      "tensor([0., 0., 0., 0., 0., 0., 0., 0.], device='cuda:0')\n",
      "--------------\n",
      "torch.Size([376, 8, 80])\n",
      "tensor([0., 0., 0., 0., 0., 0., 0., 0.], device='cuda:0')\n"
     ]
    },
    {
     "name": "stderr",
     "output_type": "stream",
     "text": [
      " 44%|███████████████▊                    | 53/121 [00:08<00:10,  6.55it/s]"
     ]
    },
    {
     "name": "stdout",
     "output_type": "stream",
     "text": [
      "--------------\n",
      "torch.Size([466, 8, 80])\n",
      "tensor([0., 0., 0., 0., 0., 0., 0., 0.], device='cuda:0')\n",
      "--------------\n",
      "torch.Size([286, 8, 80])\n",
      "tensor([0., 0., 0., 0., 0., 0., 0., 0.], device='cuda:0')\n"
     ]
    },
    {
     "name": "stderr",
     "output_type": "stream",
     "text": [
      " 45%|████████████████▎                   | 55/121 [00:08<00:09,  7.25it/s]"
     ]
    },
    {
     "name": "stdout",
     "output_type": "stream",
     "text": [
      "--------------\n",
      "torch.Size([301, 8, 80])\n",
      "tensor([0., 0., 0., 0., 0., 0., 0., 0.], device='cuda:0')\n",
      "--------------\n",
      "torch.Size([271, 8, 80])\n",
      "tensor([0., 0., 0., 0., 0., 0., 0., 0.], device='cuda:0')\n"
     ]
    },
    {
     "name": "stderr",
     "output_type": "stream",
     "text": [
      " 47%|████████████████▉                   | 57/121 [00:08<00:08,  7.31it/s]"
     ]
    },
    {
     "name": "stdout",
     "output_type": "stream",
     "text": [
      "--------------\n",
      "torch.Size([406, 8, 80])\n",
      "tensor([0., 0., 0., 0., 0., 0., 0., 0.], device='cuda:0')\n",
      "--------------\n",
      "torch.Size([241, 8, 80])\n",
      "tensor([0., 0., 0., 0., 0., 0., 0., 0.], device='cuda:0')\n"
     ]
    },
    {
     "name": "stderr",
     "output_type": "stream",
     "text": [
      " 49%|█████████████████▌                  | 59/121 [00:08<00:09,  6.73it/s]"
     ]
    },
    {
     "name": "stdout",
     "output_type": "stream",
     "text": [
      "--------------\n",
      "torch.Size([346, 8, 80])\n",
      "tensor([0., 0., 0., 0., 0., 0., 0., 0.], device='cuda:0')\n",
      "--------------\n",
      "torch.Size([391, 8, 80])\n",
      "tensor([0., 0., 0., 0., 0., 0., 0., 0.], device='cuda:0')\n"
     ]
    },
    {
     "name": "stderr",
     "output_type": "stream",
     "text": [
      " 50%|██████████████████▏                 | 61/121 [00:09<00:09,  6.44it/s]"
     ]
    },
    {
     "name": "stdout",
     "output_type": "stream",
     "text": [
      "--------------\n",
      "torch.Size([361, 8, 80])\n",
      "tensor([0., 0., 0., 0., 0., 0., 0., 0.], device='cuda:0')\n",
      "--------------\n",
      "torch.Size([391, 8, 80])\n",
      "tensor([0., 0., 0., 0., 0., 0., 0., 0.], device='cuda:0')\n"
     ]
    },
    {
     "name": "stderr",
     "output_type": "stream",
     "text": [
      " 52%|██████████████████▋                 | 63/121 [00:09<00:09,  6.30it/s]"
     ]
    },
    {
     "name": "stdout",
     "output_type": "stream",
     "text": [
      "--------------\n",
      "torch.Size([316, 8, 80])\n",
      "tensor([0., 0., 0., 0., 0., 0., 0., 0.], device='cuda:0')\n",
      "--------------\n",
      "torch.Size([421, 8, 80])\n",
      "tensor([0., 0., 0., 0., 0., 0., 0., 0.], device='cuda:0')\n"
     ]
    },
    {
     "name": "stderr",
     "output_type": "stream",
     "text": [
      " 54%|███████████████████▎                | 65/121 [00:09<00:08,  6.29it/s]"
     ]
    },
    {
     "name": "stdout",
     "output_type": "stream",
     "text": [
      "--------------\n",
      "torch.Size([316, 8, 80])\n",
      "tensor([0., 0., 0., 0., 0., 0., 0., 0.], device='cuda:0')\n",
      "--------------\n",
      "torch.Size([421, 8, 80])\n",
      "tensor([0., 0., 0., 0., 0., 0., 0., 0.], device='cuda:0')\n"
     ]
    },
    {
     "name": "stderr",
     "output_type": "stream",
     "text": [
      " 55%|███████████████████▉                | 67/121 [00:10<00:07,  6.90it/s]"
     ]
    },
    {
     "name": "stdout",
     "output_type": "stream",
     "text": [
      "--------------\n",
      "torch.Size([256, 8, 80])\n",
      "tensor([0., 0., 0., 0., 0., 0., 0., 0.], device='cuda:0')\n",
      "--------------\n",
      "torch.Size([316, 8, 80])\n",
      "tensor([0., 0., 0., 0., 0., 0., 0., 0.], device='cuda:0')\n"
     ]
    },
    {
     "name": "stderr",
     "output_type": "stream",
     "text": [
      " 57%|████████████████████▌               | 69/121 [00:10<00:07,  6.76it/s]"
     ]
    },
    {
     "name": "stdout",
     "output_type": "stream",
     "text": [
      "--------------\n",
      "torch.Size([301, 8, 80])\n",
      "tensor([0., 0., 0., 0., 0., 0., 0., 0.], device='cuda:0')\n",
      "--------------\n",
      "torch.Size([376, 8, 80])\n",
      "tensor([0., 0., 0., 0., 0., 0., 0., 0.], device='cuda:0')\n"
     ]
    },
    {
     "name": "stderr",
     "output_type": "stream",
     "text": [
      " 59%|█████████████████████               | 71/121 [00:10<00:07,  6.71it/s]"
     ]
    },
    {
     "name": "stdout",
     "output_type": "stream",
     "text": [
      "--------------\n",
      "torch.Size([406, 8, 80])\n",
      "tensor([0., 0., 0., 0., 0., 0., 0., 0.], device='cuda:0')\n",
      "--------------\n",
      "torch.Size([301, 8, 80])\n",
      "tensor([0., 0., 0., 0., 0., 0., 0., 0.], device='cuda:0')\n"
     ]
    },
    {
     "name": "stderr",
     "output_type": "stream",
     "text": [
      " 60%|█████████████████████▋              | 73/121 [00:11<00:07,  6.74it/s]"
     ]
    },
    {
     "name": "stdout",
     "output_type": "stream",
     "text": [
      "--------------\n",
      "torch.Size([361, 8, 80])\n",
      "tensor([0., 0., 0., 0., 0., 0., 0., 0.], device='cuda:0')\n",
      "--------------\n",
      "torch.Size([316, 8, 80])\n",
      "tensor([0., 0., 0., 0., 0., 0., 0., 0.], device='cuda:0')\n"
     ]
    },
    {
     "name": "stderr",
     "output_type": "stream",
     "text": [
      " 62%|██████████████████████▎             | 75/121 [00:11<00:07,  6.46it/s]"
     ]
    },
    {
     "name": "stdout",
     "output_type": "stream",
     "text": [
      "--------------\n",
      "torch.Size([436, 8, 80])\n",
      "tensor([0., 0., 0., 0., 0., 0., 0., 0.], device='cuda:0')\n",
      "--------------\n",
      "torch.Size([331, 8, 80])\n",
      "tensor([0., 0., 0., 0., 0., 0., 0., 0.], device='cuda:0')\n"
     ]
    },
    {
     "name": "stderr",
     "output_type": "stream",
     "text": [
      " 64%|██████████████████████▉             | 77/121 [00:11<00:06,  6.76it/s]"
     ]
    },
    {
     "name": "stdout",
     "output_type": "stream",
     "text": [
      "--------------\n",
      "torch.Size([271, 8, 80])\n",
      "tensor([0., 0., 0., 0., 0., 0., 0., 0.], device='cuda:0')\n",
      "--------------\n",
      "torch.Size([361, 8, 80])\n",
      "tensor([0., 0., 0., 0., 0., 0., 0., 0.], device='cuda:0')\n"
     ]
    },
    {
     "name": "stderr",
     "output_type": "stream",
     "text": [
      " 65%|███████████████████████▌            | 79/121 [00:11<00:06,  6.84it/s]"
     ]
    },
    {
     "name": "stdout",
     "output_type": "stream",
     "text": [
      "--------------\n",
      "torch.Size([331, 8, 80])\n",
      "tensor([0., 0., 0., 0., 0., 0., 0., 0.], device='cuda:0')\n",
      "--------------\n",
      "torch.Size([331, 8, 80])\n",
      "tensor([0., 0., 0., 0., 0., 0., 0., 0.], device='cuda:0')\n"
     ]
    },
    {
     "name": "stderr",
     "output_type": "stream",
     "text": [
      " 67%|████████████████████████            | 81/121 [00:12<00:05,  6.82it/s]"
     ]
    },
    {
     "name": "stdout",
     "output_type": "stream",
     "text": [
      "--------------\n",
      "torch.Size([301, 8, 80])\n",
      "tensor([0., 0., 0., 0., 0., 0., 0., 0.], device='cuda:0')\n",
      "--------------\n",
      "torch.Size([361, 8, 80])\n",
      "tensor([0., 0., 0., 0., 0., 0., 0., 0.], device='cuda:0')\n"
     ]
    },
    {
     "name": "stderr",
     "output_type": "stream",
     "text": [
      " 69%|████████████████████████▋           | 83/121 [00:12<00:05,  6.56it/s]"
     ]
    },
    {
     "name": "stdout",
     "output_type": "stream",
     "text": [
      "--------------\n",
      "torch.Size([346, 8, 80])\n",
      "tensor([0., 0., 0., 0., 0., 0., 0., 0.], device='cuda:0')\n",
      "--------------\n",
      "torch.Size([376, 8, 80])\n",
      "tensor([0., 0., 0., 0., 0., 0., 0., 0.], device='cuda:0')\n"
     ]
    },
    {
     "name": "stderr",
     "output_type": "stream",
     "text": [
      " 70%|█████████████████████████▎          | 85/121 [00:12<00:05,  6.78it/s]"
     ]
    },
    {
     "name": "stdout",
     "output_type": "stream",
     "text": [
      "--------------\n",
      "torch.Size([376, 8, 80])\n",
      "tensor([0., 0., 0., 0., 0., 0., 0., 0.], device='cuda:0')\n",
      "--------------\n",
      "torch.Size([301, 8, 80])\n",
      "tensor([0., 0., 0., 0., 0., 0., 0., 0.], device='cuda:0')\n"
     ]
    },
    {
     "name": "stderr",
     "output_type": "stream",
     "text": [
      " 72%|█████████████████████████▉          | 87/121 [00:13<00:05,  6.69it/s]"
     ]
    },
    {
     "name": "stdout",
     "output_type": "stream",
     "text": [
      "--------------\n",
      "torch.Size([331, 8, 80])\n",
      "tensor([0., 0., 0., 0., 0., 0., 0., 0.], device='cuda:0')\n",
      "--------------\n",
      "torch.Size([361, 8, 80])\n",
      "tensor([0., 0., 0., 0., 0., 0., 0., 0.], device='cuda:0')\n"
     ]
    },
    {
     "name": "stderr",
     "output_type": "stream",
     "text": [
      " 74%|██████████████████████████▍         | 89/121 [00:13<00:04,  7.28it/s]"
     ]
    },
    {
     "name": "stdout",
     "output_type": "stream",
     "text": [
      "--------------\n",
      "torch.Size([286, 8, 80])\n",
      "tensor([0., 0., 0., 0., 0., 0., 0., 0.], device='cuda:0')\n",
      "--------------\n",
      "torch.Size([286, 8, 80])\n",
      "tensor([0., 0., 0., 0., 0., 0., 0., 0.], device='cuda:0')\n"
     ]
    },
    {
     "name": "stderr",
     "output_type": "stream",
     "text": [
      " 75%|███████████████████████████         | 91/121 [00:13<00:04,  7.25it/s]"
     ]
    },
    {
     "name": "stdout",
     "output_type": "stream",
     "text": [
      "--------------\n",
      "torch.Size([301, 8, 80])\n",
      "tensor([0., 0., 0., 0., 0., 0., 0., 0.], device='cuda:0')\n",
      "--------------\n",
      "torch.Size([331, 8, 80])\n",
      "tensor([0., 0., 0., 0., 0., 0., 0., 0.], device='cuda:0')\n"
     ]
    },
    {
     "name": "stderr",
     "output_type": "stream",
     "text": [
      " 77%|███████████████████████████▋        | 93/121 [00:14<00:04,  6.36it/s]"
     ]
    },
    {
     "name": "stdout",
     "output_type": "stream",
     "text": [
      "--------------\n",
      "torch.Size([451, 8, 80])\n",
      "tensor([0., 0., 0., 0., 0., 0., 0., 0.], device='cuda:0')\n",
      "--------------\n",
      "torch.Size([391, 8, 80])\n",
      "tensor([0., 0., 0., 0., 0., 0., 0., 0.], device='cuda:0')\n"
     ]
    },
    {
     "name": "stderr",
     "output_type": "stream",
     "text": [
      " 79%|████████████████████████████▎       | 95/121 [00:14<00:03,  6.94it/s]"
     ]
    },
    {
     "name": "stdout",
     "output_type": "stream",
     "text": [
      "--------------\n",
      "torch.Size([316, 8, 80])\n",
      "tensor([0., 0., 0., 0., 0., 0., 0., 0.], device='cuda:0')\n",
      "--------------\n",
      "torch.Size([286, 8, 80])\n",
      "tensor([0., 0., 0., 0., 0., 0., 0., 0.], device='cuda:0')\n"
     ]
    },
    {
     "name": "stderr",
     "output_type": "stream",
     "text": [
      " 80%|████████████████████████████▊       | 97/121 [00:14<00:03,  7.20it/s]"
     ]
    },
    {
     "name": "stdout",
     "output_type": "stream",
     "text": [
      "--------------\n",
      "torch.Size([301, 8, 80])\n",
      "tensor([0., 0., 0., 0., 0., 0., 0., 0.], device='cuda:0')\n",
      "--------------\n",
      "torch.Size([301, 8, 80])\n",
      "tensor([0., 0., 0., 0., 0., 0., 0., 0.], device='cuda:0')\n"
     ]
    },
    {
     "name": "stderr",
     "output_type": "stream",
     "text": [
      " 82%|█████████████████████████████▍      | 99/121 [00:14<00:03,  6.83it/s]"
     ]
    },
    {
     "name": "stdout",
     "output_type": "stream",
     "text": [
      "--------------\n",
      "torch.Size([346, 8, 80])\n",
      "tensor([0., 0., 0., 0., 0., 0., 0., 0.], device='cuda:0')\n",
      "--------------\n",
      "torch.Size([346, 8, 80])\n",
      "tensor([0., 0., 0., 0., 0., 0., 0., 0.], device='cuda:0')\n"
     ]
    },
    {
     "name": "stderr",
     "output_type": "stream",
     "text": [
      " 83%|█████████████████████████████▏     | 101/121 [00:15<00:02,  7.02it/s]"
     ]
    },
    {
     "name": "stdout",
     "output_type": "stream",
     "text": [
      "--------------\n",
      "torch.Size([271, 8, 80])\n",
      "tensor([0., 0., 0., 0., 0., 0., 0., 0.], device='cuda:0')\n",
      "--------------\n",
      "torch.Size([346, 8, 80])\n",
      "tensor([0., 0., 0., 0., 0., 0., 0., 0.], device='cuda:0')\n"
     ]
    },
    {
     "name": "stderr",
     "output_type": "stream",
     "text": [
      " 85%|█████████████████████████████▊     | 103/121 [00:15<00:02,  6.45it/s]"
     ]
    },
    {
     "name": "stdout",
     "output_type": "stream",
     "text": [
      "--------------\n",
      "torch.Size([391, 8, 80])\n",
      "tensor([0., 0., 0., 0., 0., 0., 0., 0.], device='cuda:0')\n",
      "--------------\n",
      "torch.Size([391, 8, 80])\n",
      "tensor([0., 0., 0., 0., 0., 0., 0., 0.], device='cuda:0')\n"
     ]
    },
    {
     "name": "stderr",
     "output_type": "stream",
     "text": [
      "\r",
      " 86%|██████████████████████████████     | 104/121 [00:15<00:02,  6.56it/s]"
     ]
    },
    {
     "name": "stdout",
     "output_type": "stream",
     "text": [
      "--------------\n",
      "torch.Size([331, 8, 80])\n",
      "tensor([0., 0., 0., 0., 0., 0., 0., 0.], device='cuda:0')\n",
      "--------------\n",
      "torch.Size([451, 8, 80])\n",
      "tensor([0., 0., 0., 0., 0., 0., 0., 0.], device='cuda:0')\n"
     ]
    },
    {
     "name": "stderr",
     "output_type": "stream",
     "text": [
      " 88%|██████████████████████████████▉    | 107/121 [00:16<00:02,  6.80it/s]"
     ]
    },
    {
     "name": "stdout",
     "output_type": "stream",
     "text": [
      "--------------\n",
      "torch.Size([361, 8, 80])\n",
      "tensor([0., 0., 0., 0., 0., 0., 0., 0.], device='cuda:0')\n",
      "--------------\n",
      "torch.Size([241, 8, 80])\n",
      "tensor([0., 0., 0., 0., 0., 0., 0., 0.], device='cuda:0')\n"
     ]
    },
    {
     "name": "stderr",
     "output_type": "stream",
     "text": [
      " 90%|███████████████████████████████▌   | 109/121 [00:16<00:01,  6.73it/s]"
     ]
    },
    {
     "name": "stdout",
     "output_type": "stream",
     "text": [
      "--------------\n",
      "torch.Size([331, 8, 80])\n",
      "tensor([0., 0., 0., 0., 0., 0., 0., 0.], device='cuda:0')\n",
      "--------------\n",
      "torch.Size([361, 8, 80])\n",
      "tensor([0., 0., 0., 0., 0., 0., 0., 0.], device='cuda:0')\n"
     ]
    },
    {
     "name": "stderr",
     "output_type": "stream",
     "text": [
      " 92%|████████████████████████████████   | 111/121 [00:16<00:01,  6.48it/s]"
     ]
    },
    {
     "name": "stdout",
     "output_type": "stream",
     "text": [
      "--------------\n",
      "torch.Size([496, 8, 80])\n",
      "tensor([0., 0., 0., 0., 0., 0., 0., 0.], device='cuda:0')\n",
      "--------------\n",
      "torch.Size([271, 8, 80])\n",
      "tensor([0., 0., 0., 0., 0., 0., 0., 0.], device='cuda:0')\n"
     ]
    },
    {
     "name": "stderr",
     "output_type": "stream",
     "text": [
      " 93%|████████████████████████████████▋  | 113/121 [00:16<00:01,  6.54it/s]"
     ]
    },
    {
     "name": "stdout",
     "output_type": "stream",
     "text": [
      "--------------\n",
      "torch.Size([361, 8, 80])\n",
      "tensor([0., 0., 0., 0., 0., 0., 0., 0.], device='cuda:0')\n",
      "--------------\n",
      "torch.Size([346, 8, 80])\n",
      "tensor([0., 0., 0., 0., 0., 0., 0., 0.], device='cuda:0')\n"
     ]
    },
    {
     "name": "stderr",
     "output_type": "stream",
     "text": [
      " 95%|█████████████████████████████████▎ | 115/121 [00:17<00:00,  6.46it/s]"
     ]
    },
    {
     "name": "stdout",
     "output_type": "stream",
     "text": [
      "--------------\n",
      "torch.Size([451, 8, 80])\n",
      "tensor([0., 0., 0., 0., 0., 0., 0., 0.], device='cuda:0')\n",
      "--------------\n",
      "torch.Size([301, 8, 80])\n",
      "tensor([0., 0., 0., 0., 0., 0., 0., 0.], device='cuda:0')\n"
     ]
    },
    {
     "name": "stderr",
     "output_type": "stream",
     "text": [
      " 97%|█████████████████████████████████▊ | 117/121 [00:17<00:00,  6.05it/s]"
     ]
    },
    {
     "name": "stdout",
     "output_type": "stream",
     "text": [
      "--------------\n",
      "torch.Size([481, 8, 80])\n",
      "tensor([0., 0., 0., 0., 0., 0., 0., 0.], device='cuda:0')\n",
      "--------------\n",
      "torch.Size([361, 8, 80])\n",
      "tensor([0., 0., 0., 0., 0., 0., 0., 0.], device='cuda:0')\n"
     ]
    },
    {
     "name": "stderr",
     "output_type": "stream",
     "text": [
      " 98%|██████████████████████████████████▍| 119/121 [00:17<00:00,  6.85it/s]"
     ]
    },
    {
     "name": "stdout",
     "output_type": "stream",
     "text": [
      "--------------\n",
      "torch.Size([286, 8, 80])\n",
      "tensor([0., 0., 0., 0., 0., 0., 0., 0.], device='cuda:0')\n",
      "--------------\n",
      "torch.Size([286, 8, 80])\n",
      "tensor([0., 0., 0., 0., 0., 0., 0., 0.], device='cuda:0')\n"
     ]
    },
    {
     "name": "stderr",
     "output_type": "stream",
     "text": [
      "100%|███████████████████████████████████| 121/121 [00:18<00:00,  6.65it/s]"
     ]
    },
    {
     "name": "stdout",
     "output_type": "stream",
     "text": [
      "--------------\n",
      "torch.Size([346, 8, 80])\n",
      "tensor([0., 0., 0., 0., 0., 0., 0., 0.], device='cuda:0')\n",
      "--------------\n",
      "torch.Size([346, 6, 80])\n",
      "tensor([0., 0., 0., 0., 0., 0.], device='cuda:0')\n",
      "Test CER 0.9541731538859753\n",
      "Test WER 0.9997555785599264\n",
      "Test CTC 1068.7097567287785\n",
      "Saving Best\n"
     ]
    },
    {
     "name": "stderr",
     "output_type": "stream",
     "text": [
      "\n"
     ]
    },
    {
     "name": "stdout",
     "output_type": "stream",
     "text": [
      "Train Set Size = 771\n"
     ]
    },
    {
     "name": "stderr",
     "output_type": "stream",
     "text": [
      "CER: 0.8652023539302833 CTC: 7582.2607421875 Ground Truth: |indifferent , \n"
     ]
    },
    {
     "name": "stdout",
     "output_type": "stream",
     "text": [
      "Epoch: 4 Training CER 0.8651710162892527\n",
      "Training WER: 0.991608091127882\n",
      "Time: 282.3708553314209 Seconds\n",
      "Validation Set Size = 121\n"
     ]
    },
    {
     "name": "stderr",
     "output_type": "stream",
     "text": [
      "  1%|▎                                    | 1/121 [00:00<00:18,  6.32it/s]"
     ]
    },
    {
     "name": "stdout",
     "output_type": "stream",
     "text": [
      "--------------\n",
      "torch.Size([346, 8, 80])\n",
      "tensor([0., 0., 0., 0., 0., 0., 0., 0.], device='cuda:0')\n"
     ]
    },
    {
     "name": "stderr",
     "output_type": "stream",
     "text": [
      "\r",
      "  2%|▌                                    | 2/121 [00:00<00:16,  7.19it/s]"
     ]
    },
    {
     "name": "stdout",
     "output_type": "stream",
     "text": [
      "--------------\n",
      "torch.Size([286, 8, 80])\n",
      "tensor([0., 0., 0., 0., 0., 0., 0., 0.], device='cuda:0')\n"
     ]
    },
    {
     "name": "stderr",
     "output_type": "stream",
     "text": [
      "\r",
      "  2%|▉                                    | 3/121 [00:00<00:17,  6.83it/s]"
     ]
    },
    {
     "name": "stdout",
     "output_type": "stream",
     "text": [
      "--------------\n",
      "torch.Size([361, 8, 80])\n",
      "tensor([0., 0., 0., 0., 0., 0., 0., 0.], device='cuda:0')\n"
     ]
    },
    {
     "name": "stderr",
     "output_type": "stream",
     "text": [
      "\r",
      "  3%|█▏                                   | 4/121 [00:00<00:17,  6.88it/s]"
     ]
    },
    {
     "name": "stdout",
     "output_type": "stream",
     "text": [
      "--------------\n",
      "torch.Size([331, 8, 80])\n",
      "tensor([0., 0., 0., 0., 0., 0., 0., 0.], device='cuda:0')\n"
     ]
    },
    {
     "name": "stderr",
     "output_type": "stream",
     "text": [
      "\r",
      "  4%|█▌                                   | 5/121 [00:00<00:17,  6.81it/s]"
     ]
    },
    {
     "name": "stdout",
     "output_type": "stream",
     "text": [
      "--------------\n",
      "torch.Size([346, 8, 80])\n",
      "tensor([0., 0., 0., 0., 0., 0., 0., 0.], device='cuda:0')\n"
     ]
    },
    {
     "name": "stderr",
     "output_type": "stream",
     "text": [
      "\r",
      "  5%|█▊                                   | 6/121 [00:00<00:16,  6.81it/s]"
     ]
    },
    {
     "name": "stdout",
     "output_type": "stream",
     "text": [
      "--------------\n",
      "torch.Size([346, 8, 80])\n",
      "tensor([0., 0., 0., 0., 0., 0., 0., 0.], device='cuda:0')\n"
     ]
    },
    {
     "name": "stderr",
     "output_type": "stream",
     "text": [
      "\r",
      "  6%|██▏                                  | 7/121 [00:01<00:17,  6.56it/s]"
     ]
    },
    {
     "name": "stdout",
     "output_type": "stream",
     "text": [
      "--------------\n",
      "torch.Size([391, 8, 80])\n",
      "tensor([0., 0., 0., 0., 0., 0., 0., 0.], device='cuda:0')\n"
     ]
    },
    {
     "name": "stderr",
     "output_type": "stream",
     "text": [
      "\r",
      "  7%|██▍                                  | 8/121 [00:01<00:15,  7.09it/s]"
     ]
    },
    {
     "name": "stdout",
     "output_type": "stream",
     "text": [
      "--------------\n",
      "torch.Size([256, 8, 80])\n",
      "tensor([0., 0., 0., 0., 0., 0., 0., 0.], device='cuda:0')\n"
     ]
    },
    {
     "name": "stderr",
     "output_type": "stream",
     "text": [
      "\r",
      "  7%|██▊                                  | 9/121 [00:01<00:16,  6.81it/s]"
     ]
    },
    {
     "name": "stdout",
     "output_type": "stream",
     "text": [
      "--------------\n",
      "torch.Size([376, 8, 80])\n",
      "tensor([0., 0., 0., 0., 0., 0., 0., 0.], device='cuda:0')\n"
     ]
    },
    {
     "name": "stderr",
     "output_type": "stream",
     "text": [
      "\r",
      "  8%|██▉                                 | 10/121 [00:01<00:16,  6.91it/s]"
     ]
    },
    {
     "name": "stdout",
     "output_type": "stream",
     "text": [
      "--------------\n",
      "torch.Size([316, 8, 80])\n",
      "tensor([0., 0., 0., 0., 0., 0., 0., 0.], device='cuda:0')\n"
     ]
    },
    {
     "name": "stderr",
     "output_type": "stream",
     "text": [
      "\r",
      "  9%|███▎                                | 11/121 [00:01<00:16,  6.86it/s]"
     ]
    },
    {
     "name": "stdout",
     "output_type": "stream",
     "text": [
      "--------------\n",
      "torch.Size([346, 8, 80])\n",
      "tensor([0., 0., 0., 0., 0., 0., 0., 0.], device='cuda:0')\n"
     ]
    },
    {
     "name": "stderr",
     "output_type": "stream",
     "text": [
      "\r",
      " 10%|███▌                                | 12/121 [00:01<00:15,  6.97it/s]"
     ]
    },
    {
     "name": "stdout",
     "output_type": "stream",
     "text": [
      "--------------\n",
      "torch.Size([316, 8, 80])\n",
      "tensor([0., 0., 0., 0., 0., 0., 0., 0.], device='cuda:0')\n"
     ]
    },
    {
     "name": "stderr",
     "output_type": "stream",
     "text": [
      "\r",
      " 11%|███▊                                | 13/121 [00:01<00:15,  6.81it/s]"
     ]
    },
    {
     "name": "stdout",
     "output_type": "stream",
     "text": [
      "--------------\n",
      "torch.Size([361, 8, 80])\n",
      "tensor([0., 0., 0., 0., 0., 0., 0., 0.], device='cuda:0')\n"
     ]
    },
    {
     "name": "stderr",
     "output_type": "stream",
     "text": [
      "\r",
      " 12%|████▏                               | 14/121 [00:02<00:16,  6.67it/s]"
     ]
    },
    {
     "name": "stdout",
     "output_type": "stream",
     "text": [
      "--------------\n",
      "torch.Size([361, 8, 80])\n",
      "tensor([0., 0., 0., 0., 0., 0., 0., 0.], device='cuda:0')\n"
     ]
    },
    {
     "name": "stderr",
     "output_type": "stream",
     "text": [
      "\r",
      " 12%|████▍                               | 15/121 [00:02<00:15,  6.85it/s]"
     ]
    },
    {
     "name": "stdout",
     "output_type": "stream",
     "text": [
      "--------------\n",
      "torch.Size([316, 8, 80])\n",
      "tensor([0., 0., 0., 0., 0., 0., 0., 0.], device='cuda:0')\n"
     ]
    },
    {
     "name": "stderr",
     "output_type": "stream",
     "text": [
      "\r",
      " 13%|████▊                               | 16/121 [00:02<00:16,  6.42it/s]"
     ]
    },
    {
     "name": "stdout",
     "output_type": "stream",
     "text": [
      "--------------\n",
      "torch.Size([421, 8, 80])\n",
      "tensor([0., 0., 0., 0., 0., 0., 0., 0.], device='cuda:0')\n"
     ]
    },
    {
     "name": "stderr",
     "output_type": "stream",
     "text": [
      " 15%|█████▎                              | 18/121 [00:02<00:16,  6.16it/s]"
     ]
    },
    {
     "name": "stdout",
     "output_type": "stream",
     "text": [
      "--------------\n",
      "torch.Size([496, 8, 80])\n",
      "tensor([0., 0., 0., 0., 0., 0., 0., 0.], device='cuda:0')\n",
      "--------------\n",
      "torch.Size([316, 8, 80])\n",
      "tensor([0., 0., 0., 0., 0., 0., 0., 0.], device='cuda:0')\n"
     ]
    },
    {
     "name": "stderr",
     "output_type": "stream",
     "text": [
      " 17%|█████▉                              | 20/121 [00:03<00:15,  6.62it/s]"
     ]
    },
    {
     "name": "stdout",
     "output_type": "stream",
     "text": [
      "--------------\n",
      "torch.Size([361, 8, 80])\n",
      "tensor([0., 0., 0., 0., 0., 0., 0., 0.], device='cuda:0')\n",
      "--------------\n",
      "torch.Size([286, 8, 80])\n",
      "tensor([0., 0., 0., 0., 0., 0., 0., 0.], device='cuda:0')\n"
     ]
    },
    {
     "name": "stderr",
     "output_type": "stream",
     "text": [
      " 18%|██████▌                             | 22/121 [00:03<00:14,  6.64it/s]"
     ]
    },
    {
     "name": "stdout",
     "output_type": "stream",
     "text": [
      "--------------\n",
      "torch.Size([361, 8, 80])\n",
      "tensor([0., 0., 0., 0., 0., 0., 0., 0.], device='cuda:0')\n",
      "--------------\n",
      "torch.Size([331, 8, 80])\n",
      "tensor([0., 0., 0., 0., 0., 0., 0., 0.], device='cuda:0')\n"
     ]
    },
    {
     "name": "stderr",
     "output_type": "stream",
     "text": [
      " 20%|███████▏                            | 24/121 [00:03<00:14,  6.65it/s]"
     ]
    },
    {
     "name": "stdout",
     "output_type": "stream",
     "text": [
      "--------------\n",
      "torch.Size([391, 8, 80])\n",
      "tensor([0., 0., 0., 0., 0., 0., 0., 0.], device='cuda:0')\n",
      "--------------\n",
      "torch.Size([316, 8, 80])\n",
      "tensor([0., 0., 0., 0., 0., 0., 0., 0.], device='cuda:0')\n"
     ]
    },
    {
     "name": "stderr",
     "output_type": "stream",
     "text": [
      " 21%|███████▋                            | 26/121 [00:03<00:14,  6.59it/s]"
     ]
    },
    {
     "name": "stdout",
     "output_type": "stream",
     "text": [
      "--------------\n",
      "torch.Size([376, 8, 80])\n",
      "tensor([0., 0., 0., 0., 0., 0., 0., 0.], device='cuda:0')\n",
      "--------------\n",
      "torch.Size([346, 8, 80])\n",
      "tensor([0., 0., 0., 0., 0., 0., 0., 0.], device='cuda:0')\n"
     ]
    },
    {
     "name": "stderr",
     "output_type": "stream",
     "text": [
      " 23%|████████▎                           | 28/121 [00:04<00:14,  6.40it/s]"
     ]
    },
    {
     "name": "stdout",
     "output_type": "stream",
     "text": [
      "--------------\n",
      "torch.Size([391, 8, 80])\n",
      "tensor([0., 0., 0., 0., 0., 0., 0., 0.], device='cuda:0')\n",
      "--------------\n",
      "torch.Size([361, 8, 80])\n",
      "tensor([0., 0., 0., 0., 0., 0., 0., 0.], device='cuda:0')\n"
     ]
    },
    {
     "name": "stderr",
     "output_type": "stream",
     "text": [
      " 25%|████████▉                           | 30/121 [00:04<00:14,  6.16it/s]"
     ]
    },
    {
     "name": "stdout",
     "output_type": "stream",
     "text": [
      "--------------\n",
      "torch.Size([376, 8, 80])\n",
      "tensor([0., 0., 0., 0., 0., 0., 0., 0.], device='cuda:0')\n",
      "--------------\n",
      "torch.Size([406, 8, 80])\n",
      "tensor([0., 0., 0., 0., 0., 0., 0., 0.], device='cuda:0')\n"
     ]
    },
    {
     "name": "stderr",
     "output_type": "stream",
     "text": [
      " 26%|█████████▌                          | 32/121 [00:04<00:14,  6.12it/s]"
     ]
    },
    {
     "name": "stdout",
     "output_type": "stream",
     "text": [
      "--------------\n",
      "torch.Size([316, 8, 80])\n",
      "tensor([0., 0., 0., 0., 0., 0., 0., 0.], device='cuda:0')\n",
      "--------------\n",
      "torch.Size([436, 8, 80])\n",
      "tensor([0., 0., 0., 0., 0., 0., 0., 0.], device='cuda:0')\n"
     ]
    },
    {
     "name": "stderr",
     "output_type": "stream",
     "text": [
      " 28%|██████████                          | 34/121 [00:05<00:13,  6.32it/s]"
     ]
    },
    {
     "name": "stdout",
     "output_type": "stream",
     "text": [
      "--------------\n",
      "torch.Size([451, 8, 80])\n",
      "tensor([0., 0., 0., 0., 0., 0., 0., 0.], device='cuda:0')\n",
      "--------------\n",
      "torch.Size([286, 8, 80])\n",
      "tensor([0., 0., 0., 0., 0., 0., 0., 0.], device='cuda:0')\n"
     ]
    },
    {
     "name": "stderr",
     "output_type": "stream",
     "text": [
      " 30%|██████████▋                         | 36/121 [00:05<00:12,  6.96it/s]"
     ]
    },
    {
     "name": "stdout",
     "output_type": "stream",
     "text": [
      "--------------\n",
      "torch.Size([256, 8, 80])\n",
      "tensor([0., 0., 0., 0., 0., 0., 0., 0.], device='cuda:0')\n",
      "--------------\n",
      "torch.Size([316, 8, 80])\n",
      "tensor([0., 0., 0., 0., 0., 0., 0., 0.], device='cuda:0')\n"
     ]
    },
    {
     "name": "stderr",
     "output_type": "stream",
     "text": [
      " 31%|███████████▎                        | 38/121 [00:05<00:12,  6.46it/s]"
     ]
    },
    {
     "name": "stdout",
     "output_type": "stream",
     "text": [
      "--------------\n",
      "torch.Size([331, 8, 80])\n",
      "tensor([0., 0., 0., 0., 0., 0., 0., 0.], device='cuda:0')\n",
      "--------------\n",
      "torch.Size([421, 8, 80])\n",
      "tensor([0., 0., 0., 0., 0., 0., 0., 0.], device='cuda:0')\n"
     ]
    },
    {
     "name": "stderr",
     "output_type": "stream",
     "text": [
      " 33%|███████████▉                        | 40/121 [00:06<00:13,  6.22it/s]"
     ]
    },
    {
     "name": "stdout",
     "output_type": "stream",
     "text": [
      "--------------\n",
      "torch.Size([481, 8, 80])\n",
      "tensor([0., 0., 0., 0., 0., 0., 0., 0.], device='cuda:0')\n",
      "--------------\n",
      "torch.Size([331, 8, 80])\n",
      "tensor([0., 0., 0., 0., 0., 0., 0., 0.], device='cuda:0')\n"
     ]
    },
    {
     "name": "stderr",
     "output_type": "stream",
     "text": [
      " 35%|████████████▍                       | 42/121 [00:06<00:11,  6.68it/s]"
     ]
    },
    {
     "name": "stdout",
     "output_type": "stream",
     "text": [
      "--------------\n",
      "torch.Size([346, 8, 80])\n",
      "tensor([0., 0., 0., 0., 0., 0., 0., 0.], device='cuda:0')\n",
      "--------------\n",
      "torch.Size([301, 8, 80])\n",
      "tensor([0., 0., 0., 0., 0., 0., 0., 0.], device='cuda:0')\n"
     ]
    },
    {
     "name": "stderr",
     "output_type": "stream",
     "text": [
      " 36%|█████████████                       | 44/121 [00:06<00:11,  6.67it/s]"
     ]
    },
    {
     "name": "stdout",
     "output_type": "stream",
     "text": [
      "--------------\n",
      "torch.Size([331, 8, 80])\n",
      "tensor([0., 0., 0., 0., 0., 0., 0., 0.], device='cuda:0')\n",
      "--------------\n",
      "torch.Size([361, 8, 80])\n",
      "tensor([0., 0., 0., 0., 0., 0., 0., 0.], device='cuda:0')\n"
     ]
    },
    {
     "name": "stderr",
     "output_type": "stream",
     "text": [
      " 38%|█████████████▋                      | 46/121 [00:07<00:11,  6.48it/s]"
     ]
    },
    {
     "name": "stdout",
     "output_type": "stream",
     "text": [
      "--------------\n",
      "torch.Size([391, 8, 80])\n",
      "tensor([0., 0., 0., 0., 0., 0., 0., 0.], device='cuda:0')\n",
      "--------------\n",
      "torch.Size([361, 8, 80])\n",
      "tensor([0., 0., 0., 0., 0., 0., 0., 0.], device='cuda:0')\n"
     ]
    },
    {
     "name": "stderr",
     "output_type": "stream",
     "text": [
      " 40%|██████████████▎                     | 48/121 [00:07<00:11,  6.53it/s]"
     ]
    },
    {
     "name": "stdout",
     "output_type": "stream",
     "text": [
      "--------------\n",
      "torch.Size([406, 8, 80])\n",
      "tensor([0., 0., 0., 0., 0., 0., 0., 0.], device='cuda:0')\n",
      "--------------\n",
      "torch.Size([316, 8, 80])\n",
      "tensor([0., 0., 0., 0., 0., 0., 0., 0.], device='cuda:0')\n"
     ]
    },
    {
     "name": "stderr",
     "output_type": "stream",
     "text": [
      " 41%|██████████████▉                     | 50/121 [00:07<00:10,  6.92it/s]"
     ]
    },
    {
     "name": "stdout",
     "output_type": "stream",
     "text": [
      "--------------\n",
      "torch.Size([271, 8, 80])\n",
      "tensor([0., 0., 0., 0., 0., 0., 0., 0.], device='cuda:0')\n",
      "--------------\n",
      "torch.Size([346, 8, 80])\n",
      "tensor([0., 0., 0., 0., 0., 0., 0., 0.], device='cuda:0')\n"
     ]
    },
    {
     "name": "stderr",
     "output_type": "stream",
     "text": [
      " 43%|███████████████▍                    | 52/121 [00:07<00:10,  6.83it/s]"
     ]
    },
    {
     "name": "stdout",
     "output_type": "stream",
     "text": [
      "--------------\n",
      "torch.Size([301, 8, 80])\n",
      "tensor([0., 0., 0., 0., 0., 0., 0., 0.], device='cuda:0')\n",
      "--------------\n",
      "torch.Size([376, 8, 80])\n",
      "tensor([0., 0., 0., 0., 0., 0., 0., 0.], device='cuda:0')\n"
     ]
    },
    {
     "name": "stderr",
     "output_type": "stream",
     "text": [
      " 45%|████████████████                    | 54/121 [00:08<00:10,  6.33it/s]"
     ]
    },
    {
     "name": "stdout",
     "output_type": "stream",
     "text": [
      "--------------\n",
      "torch.Size([451, 8, 80])\n",
      "tensor([0., 0., 0., 0., 0., 0., 0., 0.], device='cuda:0')\n",
      "--------------\n",
      "torch.Size([346, 8, 80])\n",
      "tensor([0., 0., 0., 0., 0., 0., 0., 0.], device='cuda:0')\n"
     ]
    },
    {
     "name": "stderr",
     "output_type": "stream",
     "text": [
      " 46%|████████████████▋                   | 56/121 [00:08<00:08,  7.30it/s]"
     ]
    },
    {
     "name": "stdout",
     "output_type": "stream",
     "text": [
      "--------------\n",
      "torch.Size([241, 8, 80])\n",
      "tensor([0., 0., 0., 0., 0., 0., 0., 0.], device='cuda:0')\n",
      "--------------\n",
      "torch.Size([271, 8, 80])\n",
      "tensor([0., 0., 0., 0., 0., 0., 0., 0.], device='cuda:0')\n"
     ]
    },
    {
     "name": "stderr",
     "output_type": "stream",
     "text": [
      " 48%|█████████████████▎                  | 58/121 [00:08<00:08,  7.14it/s]"
     ]
    },
    {
     "name": "stdout",
     "output_type": "stream",
     "text": [
      "--------------\n",
      "torch.Size([346, 8, 80])\n",
      "tensor([0., 0., 0., 0., 0., 0., 0., 0.], device='cuda:0')\n",
      "--------------\n",
      "torch.Size([301, 8, 80])\n",
      "tensor([0., 0., 0., 0., 0., 0., 0., 0.], device='cuda:0')\n"
     ]
    },
    {
     "name": "stderr",
     "output_type": "stream",
     "text": [
      " 50%|█████████████████▊                  | 60/121 [00:09<00:08,  6.88it/s]"
     ]
    },
    {
     "name": "stdout",
     "output_type": "stream",
     "text": [
      "--------------\n",
      "torch.Size([301, 8, 80])\n",
      "tensor([0., 0., 0., 0., 0., 0., 0., 0.], device='cuda:0')\n",
      "--------------\n",
      "torch.Size([376, 8, 80])\n",
      "tensor([0., 0., 0., 0., 0., 0., 0., 0.], device='cuda:0')\n"
     ]
    },
    {
     "name": "stderr",
     "output_type": "stream",
     "text": [
      " 51%|██████████████████▍                 | 62/121 [00:09<00:08,  6.77it/s]"
     ]
    },
    {
     "name": "stdout",
     "output_type": "stream",
     "text": [
      "--------------\n",
      "torch.Size([346, 8, 80])\n",
      "tensor([0., 0., 0., 0., 0., 0., 0., 0.], device='cuda:0')\n",
      "--------------\n",
      "torch.Size([346, 8, 80])\n",
      "tensor([0., 0., 0., 0., 0., 0., 0., 0.], device='cuda:0')\n"
     ]
    },
    {
     "name": "stderr",
     "output_type": "stream",
     "text": [
      " 53%|███████████████████                 | 64/121 [00:09<00:08,  7.00it/s]"
     ]
    },
    {
     "name": "stdout",
     "output_type": "stream",
     "text": [
      "--------------\n",
      "torch.Size([286, 8, 80])\n",
      "tensor([0., 0., 0., 0., 0., 0., 0., 0.], device='cuda:0')\n",
      "--------------\n",
      "torch.Size([331, 8, 80])\n",
      "tensor([0., 0., 0., 0., 0., 0., 0., 0.], device='cuda:0')\n"
     ]
    },
    {
     "name": "stderr",
     "output_type": "stream",
     "text": [
      " 55%|███████████████████▋                | 66/121 [00:09<00:08,  6.38it/s]"
     ]
    },
    {
     "name": "stdout",
     "output_type": "stream",
     "text": [
      "--------------\n",
      "torch.Size([376, 8, 80])\n",
      "tensor([0., 0., 0., 0., 0., 0., 0., 0.], device='cuda:0')\n",
      "--------------\n",
      "torch.Size([391, 8, 80])\n",
      "tensor([0., 0., 0., 0., 0., 0., 0., 0.], device='cuda:0')\n"
     ]
    },
    {
     "name": "stderr",
     "output_type": "stream",
     "text": [
      " 56%|████████████████████▏               | 68/121 [00:10<00:09,  5.86it/s]"
     ]
    },
    {
     "name": "stdout",
     "output_type": "stream",
     "text": [
      "--------------\n",
      "torch.Size([496, 8, 80])\n",
      "tensor([0., 0., 0., 0., 0., 0., 0., 0.], device='cuda:0')\n",
      "--------------\n",
      "torch.Size([391, 8, 80])\n",
      "tensor([0., 0., 0., 0., 0., 0., 0., 0.], device='cuda:0')\n"
     ]
    },
    {
     "name": "stderr",
     "output_type": "stream",
     "text": [
      " 58%|████████████████████▊               | 70/121 [00:10<00:08,  6.17it/s]"
     ]
    },
    {
     "name": "stdout",
     "output_type": "stream",
     "text": [
      "--------------\n",
      "torch.Size([361, 8, 80])\n",
      "tensor([0., 0., 0., 0., 0., 0., 0., 0.], device='cuda:0')\n",
      "--------------\n",
      "torch.Size([346, 8, 80])\n",
      "tensor([0., 0., 0., 0., 0., 0., 0., 0.], device='cuda:0')\n"
     ]
    },
    {
     "name": "stderr",
     "output_type": "stream",
     "text": [
      " 60%|█████████████████████▍              | 72/121 [00:10<00:07,  6.65it/s]"
     ]
    },
    {
     "name": "stdout",
     "output_type": "stream",
     "text": [
      "--------------\n",
      "torch.Size([301, 8, 80])\n",
      "tensor([0., 0., 0., 0., 0., 0., 0., 0.], device='cuda:0')\n",
      "--------------\n",
      "torch.Size([346, 8, 80])\n",
      "tensor([0., 0., 0., 0., 0., 0., 0., 0.], device='cuda:0')\n"
     ]
    },
    {
     "name": "stderr",
     "output_type": "stream",
     "text": [
      " 61%|██████████████████████              | 74/121 [00:11<00:06,  6.87it/s]"
     ]
    },
    {
     "name": "stdout",
     "output_type": "stream",
     "text": [
      "--------------\n",
      "torch.Size([301, 8, 80])\n",
      "tensor([0., 0., 0., 0., 0., 0., 0., 0.], device='cuda:0')\n",
      "--------------\n",
      "torch.Size([346, 8, 80])\n",
      "tensor([0., 0., 0., 0., 0., 0., 0., 0.], device='cuda:0')\n"
     ]
    },
    {
     "name": "stderr",
     "output_type": "stream",
     "text": [
      " 63%|██████████████████████▌             | 76/121 [00:11<00:06,  7.23it/s]"
     ]
    },
    {
     "name": "stdout",
     "output_type": "stream",
     "text": [
      "--------------\n",
      "torch.Size([256, 8, 80])\n",
      "tensor([0., 0., 0., 0., 0., 0., 0., 0.], device='cuda:0')\n",
      "--------------\n",
      "torch.Size([331, 8, 80])\n",
      "tensor([0., 0., 0., 0., 0., 0., 0., 0.], device='cuda:0')\n"
     ]
    },
    {
     "name": "stderr",
     "output_type": "stream",
     "text": [
      " 64%|███████████████████████▏            | 78/121 [00:11<00:06,  6.48it/s]"
     ]
    },
    {
     "name": "stdout",
     "output_type": "stream",
     "text": [
      "--------------\n",
      "torch.Size([361, 8, 80])\n",
      "tensor([0., 0., 0., 0., 0., 0., 0., 0.], device='cuda:0')\n",
      "--------------\n",
      "torch.Size([421, 8, 80])\n",
      "tensor([0., 0., 0., 0., 0., 0., 0., 0.], device='cuda:0')\n"
     ]
    },
    {
     "name": "stderr",
     "output_type": "stream",
     "text": [
      " 66%|███████████████████████▊            | 80/121 [00:12<00:06,  6.05it/s]"
     ]
    },
    {
     "name": "stdout",
     "output_type": "stream",
     "text": [
      "--------------\n",
      "torch.Size([451, 8, 80])\n",
      "tensor([0., 0., 0., 0., 0., 0., 0., 0.], device='cuda:0')\n",
      "--------------\n",
      "torch.Size([376, 8, 80])\n",
      "tensor([0., 0., 0., 0., 0., 0., 0., 0.], device='cuda:0')\n"
     ]
    },
    {
     "name": "stderr",
     "output_type": "stream",
     "text": [
      " 68%|████████████████████████▍           | 82/121 [00:12<00:05,  6.90it/s]"
     ]
    },
    {
     "name": "stdout",
     "output_type": "stream",
     "text": [
      "--------------\n",
      "torch.Size([331, 8, 80])\n",
      "tensor([0., 0., 0., 0., 0., 0., 0., 0.], device='cuda:0')\n",
      "--------------\n",
      "torch.Size([241, 8, 80])\n",
      "tensor([0., 0., 0., 0., 0., 0., 0., 0.], device='cuda:0')\n"
     ]
    },
    {
     "name": "stderr",
     "output_type": "stream",
     "text": [
      " 69%|████████████████████████▉           | 84/121 [00:12<00:05,  7.08it/s]"
     ]
    },
    {
     "name": "stdout",
     "output_type": "stream",
     "text": [
      "--------------\n",
      "torch.Size([361, 8, 80])\n",
      "tensor([0., 0., 0., 0., 0., 0., 0., 0.], device='cuda:0')\n",
      "--------------\n",
      "torch.Size([286, 8, 80])\n",
      "tensor([0., 0., 0., 0., 0., 0., 0., 0.], device='cuda:0')\n"
     ]
    },
    {
     "name": "stderr",
     "output_type": "stream",
     "text": [
      " 71%|█████████████████████████▌          | 86/121 [00:12<00:04,  7.14it/s]"
     ]
    },
    {
     "name": "stdout",
     "output_type": "stream",
     "text": [
      "--------------\n",
      "torch.Size([361, 8, 80])\n",
      "tensor([0., 0., 0., 0., 0., 0., 0., 0.], device='cuda:0')\n",
      "--------------\n",
      "torch.Size([286, 8, 80])\n",
      "tensor([0., 0., 0., 0., 0., 0., 0., 0.], device='cuda:0')\n"
     ]
    },
    {
     "name": "stderr",
     "output_type": "stream",
     "text": [
      " 73%|██████████████████████████▏         | 88/121 [00:13<00:05,  6.41it/s]"
     ]
    },
    {
     "name": "stdout",
     "output_type": "stream",
     "text": [
      "--------------\n",
      "torch.Size([466, 8, 80])\n",
      "tensor([0., 0., 0., 0., 0., 0., 0., 0.], device='cuda:0')\n",
      "--------------\n",
      "torch.Size([361, 8, 80])\n",
      "tensor([0., 0., 0., 0., 0., 0., 0., 0.], device='cuda:0')\n"
     ]
    },
    {
     "name": "stderr",
     "output_type": "stream",
     "text": [
      " 74%|██████████████████████████▊         | 90/121 [00:13<00:04,  6.44it/s]"
     ]
    },
    {
     "name": "stdout",
     "output_type": "stream",
     "text": [
      "--------------\n",
      "torch.Size([316, 8, 80])\n",
      "tensor([0., 0., 0., 0., 0., 0., 0., 0.], device='cuda:0')\n",
      "--------------\n",
      "torch.Size([376, 8, 80])\n",
      "tensor([0., 0., 0., 0., 0., 0., 0., 0.], device='cuda:0')\n"
     ]
    },
    {
     "name": "stderr",
     "output_type": "stream",
     "text": [
      " 76%|███████████████████████████▎        | 92/121 [00:13<00:04,  6.44it/s]"
     ]
    },
    {
     "name": "stdout",
     "output_type": "stream",
     "text": [
      "--------------\n",
      "torch.Size([271, 8, 80])\n",
      "tensor([0., 0., 0., 0., 0., 0., 0., 0.], device='cuda:0')\n",
      "--------------\n",
      "torch.Size([421, 8, 80])\n",
      "tensor([0., 0., 0., 0., 0., 0., 0., 0.], device='cuda:0')\n"
     ]
    },
    {
     "name": "stderr",
     "output_type": "stream",
     "text": [
      " 78%|███████████████████████████▉        | 94/121 [00:14<00:04,  6.66it/s]"
     ]
    },
    {
     "name": "stdout",
     "output_type": "stream",
     "text": [
      "--------------\n",
      "torch.Size([316, 8, 80])\n",
      "tensor([0., 0., 0., 0., 0., 0., 0., 0.], device='cuda:0')\n",
      "--------------\n",
      "torch.Size([331, 8, 80])\n",
      "tensor([0., 0., 0., 0., 0., 0., 0., 0.], device='cuda:0')\n"
     ]
    },
    {
     "name": "stderr",
     "output_type": "stream",
     "text": [
      " 79%|████████████████████████████▌       | 96/121 [00:14<00:03,  6.73it/s]"
     ]
    },
    {
     "name": "stdout",
     "output_type": "stream",
     "text": [
      "--------------\n",
      "torch.Size([316, 8, 80])\n",
      "tensor([0., 0., 0., 0., 0., 0., 0., 0.], device='cuda:0')\n",
      "--------------\n",
      "torch.Size([346, 8, 80])\n",
      "tensor([0., 0., 0., 0., 0., 0., 0., 0.], device='cuda:0')\n"
     ]
    },
    {
     "name": "stderr",
     "output_type": "stream",
     "text": [
      " 81%|█████████████████████████████▏      | 98/121 [00:14<00:03,  6.73it/s]"
     ]
    },
    {
     "name": "stdout",
     "output_type": "stream",
     "text": [
      "--------------\n",
      "torch.Size([271, 8, 80])\n",
      "tensor([0., 0., 0., 0., 0., 0., 0., 0.], device='cuda:0')\n",
      "--------------\n",
      "torch.Size([391, 8, 80])\n",
      "tensor([0., 0., 0., 0., 0., 0., 0., 0.], device='cuda:0')\n"
     ]
    },
    {
     "name": "stderr",
     "output_type": "stream",
     "text": [
      " 83%|████████████████████████████▉      | 100/121 [00:15<00:02,  7.14it/s]"
     ]
    },
    {
     "name": "stdout",
     "output_type": "stream",
     "text": [
      "--------------\n",
      "torch.Size([316, 8, 80])\n",
      "tensor([0., 0., 0., 0., 0., 0., 0., 0.], device='cuda:0')\n",
      "--------------\n",
      "torch.Size([286, 8, 80])\n",
      "tensor([0., 0., 0., 0., 0., 0., 0., 0.], device='cuda:0')\n"
     ]
    },
    {
     "name": "stderr",
     "output_type": "stream",
     "text": [
      " 84%|█████████████████████████████▌     | 102/121 [00:15<00:02,  7.00it/s]"
     ]
    },
    {
     "name": "stdout",
     "output_type": "stream",
     "text": [
      "--------------\n",
      "torch.Size([346, 8, 80])\n",
      "tensor([0., 0., 0., 0., 0., 0., 0., 0.], device='cuda:0')\n",
      "--------------\n",
      "torch.Size([316, 8, 80])\n",
      "tensor([0., 0., 0., 0., 0., 0., 0., 0.], device='cuda:0')\n"
     ]
    },
    {
     "name": "stderr",
     "output_type": "stream",
     "text": [
      " 86%|██████████████████████████████     | 104/121 [00:15<00:02,  6.88it/s]"
     ]
    },
    {
     "name": "stdout",
     "output_type": "stream",
     "text": [
      "--------------\n",
      "torch.Size([346, 8, 80])\n",
      "tensor([0., 0., 0., 0., 0., 0., 0., 0.], device='cuda:0')\n",
      "--------------\n",
      "torch.Size([331, 8, 80])\n",
      "tensor([0., 0., 0., 0., 0., 0., 0., 0.], device='cuda:0')\n"
     ]
    },
    {
     "name": "stderr",
     "output_type": "stream",
     "text": [
      " 88%|██████████████████████████████▋    | 106/121 [00:15<00:02,  7.11it/s]"
     ]
    },
    {
     "name": "stdout",
     "output_type": "stream",
     "text": [
      "--------------\n",
      "torch.Size([301, 8, 80])\n",
      "tensor([0., 0., 0., 0., 0., 0., 0., 0.], device='cuda:0')\n",
      "--------------\n",
      "torch.Size([316, 8, 80])\n",
      "tensor([0., 0., 0., 0., 0., 0., 0., 0.], device='cuda:0')\n"
     ]
    },
    {
     "name": "stderr",
     "output_type": "stream",
     "text": [
      " 89%|███████████████████████████████▏   | 108/121 [00:16<00:02,  6.33it/s]"
     ]
    },
    {
     "name": "stdout",
     "output_type": "stream",
     "text": [
      "--------------\n",
      "torch.Size([391, 8, 80])\n",
      "tensor([0., 0., 0., 0., 0., 0., 0., 0.], device='cuda:0')\n",
      "--------------\n",
      "torch.Size([421, 8, 80])\n",
      "tensor([0., 0., 0., 0., 0., 0., 0., 0.], device='cuda:0')\n"
     ]
    },
    {
     "name": "stderr",
     "output_type": "stream",
     "text": [
      " 91%|███████████████████████████████▊   | 110/121 [00:16<00:01,  6.45it/s]"
     ]
    },
    {
     "name": "stdout",
     "output_type": "stream",
     "text": [
      "--------------\n",
      "torch.Size([346, 8, 80])\n",
      "tensor([0., 0., 0., 0., 0., 0., 0., 0.], device='cuda:0')\n",
      "--------------\n",
      "torch.Size([346, 8, 80])\n",
      "tensor([0., 0., 0., 0., 0., 0., 0., 0.], device='cuda:0')\n"
     ]
    },
    {
     "name": "stderr",
     "output_type": "stream",
     "text": [
      " 93%|████████████████████████████████▍  | 112/121 [00:16<00:01,  6.26it/s]"
     ]
    },
    {
     "name": "stdout",
     "output_type": "stream",
     "text": [
      "--------------\n",
      "torch.Size([361, 8, 80])\n",
      "tensor([0., 0., 0., 0., 0., 0., 0., 0.], device='cuda:0')\n",
      "--------------\n",
      "torch.Size([391, 8, 80])\n",
      "tensor([0., 0., 0., 0., 0., 0., 0., 0.], device='cuda:0')\n"
     ]
    },
    {
     "name": "stderr",
     "output_type": "stream",
     "text": [
      " 94%|████████████████████████████████▉  | 114/121 [00:17<00:01,  6.12it/s]"
     ]
    },
    {
     "name": "stdout",
     "output_type": "stream",
     "text": [
      "--------------\n",
      "torch.Size([301, 8, 80])\n",
      "tensor([0., 0., 0., 0., 0., 0., 0., 0.], device='cuda:0')\n",
      "--------------\n",
      "torch.Size([451, 8, 80])\n",
      "tensor([0., 0., 0., 0., 0., 0., 0., 0.], device='cuda:0')\n"
     ]
    },
    {
     "name": "stderr",
     "output_type": "stream",
     "text": [
      " 96%|█████████████████████████████████▌ | 116/121 [00:17<00:00,  6.63it/s]"
     ]
    },
    {
     "name": "stdout",
     "output_type": "stream",
     "text": [
      "--------------\n",
      "torch.Size([331, 8, 80])\n",
      "tensor([0., 0., 0., 0., 0., 0., 0., 0.], device='cuda:0')\n",
      "--------------\n",
      "torch.Size([301, 8, 80])\n",
      "tensor([0., 0., 0., 0., 0., 0., 0., 0.], device='cuda:0')\n"
     ]
    },
    {
     "name": "stderr",
     "output_type": "stream",
     "text": [
      " 98%|██████████████████████████████████▏| 118/121 [00:17<00:00,  7.18it/s]"
     ]
    },
    {
     "name": "stdout",
     "output_type": "stream",
     "text": [
      "--------------\n",
      "torch.Size([301, 8, 80])\n",
      "tensor([0., 0., 0., 0., 0., 0., 0., 0.], device='cuda:0')\n",
      "--------------\n",
      "torch.Size([286, 8, 80])\n",
      "tensor([0., 0., 0., 0., 0., 0., 0., 0.], device='cuda:0')\n"
     ]
    },
    {
     "name": "stderr",
     "output_type": "stream",
     "text": [
      " 99%|██████████████████████████████████▋| 120/121 [00:18<00:00,  6.86it/s]"
     ]
    },
    {
     "name": "stdout",
     "output_type": "stream",
     "text": [
      "--------------\n",
      "torch.Size([301, 8, 80])\n",
      "tensor([0., 0., 0., 0., 0., 0., 0., 0.], device='cuda:0')\n",
      "--------------\n",
      "torch.Size([391, 8, 80])\n",
      "tensor([0., 0., 0., 0., 0., 0., 0., 0.], device='cuda:0')\n"
     ]
    },
    {
     "name": "stderr",
     "output_type": "stream",
     "text": [
      "100%|███████████████████████████████████| 121/121 [00:18<00:00,  6.65it/s]\n"
     ]
    },
    {
     "name": "stdout",
     "output_type": "stream",
     "text": [
      "--------------\n",
      "torch.Size([301, 6, 80])\n",
      "tensor([0., 0., 0., 0., 0., 0.], device='cuda:0')\n",
      "Test CER 0.7394528731738704\n",
      "Test WER 0.9844837434990886\n",
      "Test CTC 860.8005952380952\n",
      "Saving Best\n",
      "Train Set Size = 771\n"
     ]
    },
    {
     "name": "stderr",
     "output_type": "stream",
     "text": [
      "CER: 0.6825990882876131 CTC: 9537.76171875 Ground Truth: |charming charact\n"
     ]
    },
    {
     "name": "stdout",
     "output_type": "stream",
     "text": [
      "Epoch: 5 Training CER 0.682617189011322\n",
      "Training WER: 0.9401702996380561\n",
      "Time: 282.80799317359924 Seconds\n",
      "Validation Set Size = 121\n"
     ]
    },
    {
     "name": "stderr",
     "output_type": "stream",
     "text": [
      "  1%|▎                                    | 1/121 [00:00<00:18,  6.46it/s]"
     ]
    },
    {
     "name": "stdout",
     "output_type": "stream",
     "text": [
      "--------------\n",
      "torch.Size([346, 8, 80])\n",
      "tensor([0., 0., 0., 0., 0., 0., 0., 0.], device='cuda:0')\n"
     ]
    },
    {
     "name": "stderr",
     "output_type": "stream",
     "text": [
      "\r",
      "  2%|▌                                    | 2/121 [00:00<00:17,  6.85it/s]"
     ]
    },
    {
     "name": "stdout",
     "output_type": "stream",
     "text": [
      "--------------\n",
      "torch.Size([316, 8, 80])\n",
      "tensor([0., 0., 0., 0., 0., 0., 0., 0.], device='cuda:0')\n"
     ]
    },
    {
     "name": "stderr",
     "output_type": "stream",
     "text": [
      "\r",
      "  2%|▉                                    | 3/121 [00:00<00:19,  6.08it/s]"
     ]
    },
    {
     "name": "stdout",
     "output_type": "stream",
     "text": [
      "--------------\n",
      "torch.Size([451, 8, 80])\n",
      "tensor([0., 0., 0., 0., 0., 0., 0., 0.], device='cuda:0')\n"
     ]
    },
    {
     "name": "stderr",
     "output_type": "stream",
     "text": [
      "\r",
      "  3%|█▏                                   | 4/121 [00:00<00:18,  6.47it/s]"
     ]
    },
    {
     "name": "stdout",
     "output_type": "stream",
     "text": [
      "--------------\n",
      "torch.Size([316, 8, 80])\n",
      "tensor([0., 0., 0., 0., 0., 0., 0., 0.], device='cuda:0')\n"
     ]
    },
    {
     "name": "stderr",
     "output_type": "stream",
     "text": [
      "\r",
      "  4%|█▌                                   | 5/121 [00:00<00:18,  6.36it/s]"
     ]
    },
    {
     "name": "stdout",
     "output_type": "stream",
     "text": [
      "--------------\n",
      "torch.Size([376, 8, 80])\n",
      "tensor([0., 0., 0., 0., 0., 0., 0., 0.], device='cuda:0')\n"
     ]
    },
    {
     "name": "stderr",
     "output_type": "stream",
     "text": [
      "\r",
      "  5%|█▊                                   | 6/121 [00:00<00:18,  6.18it/s]"
     ]
    },
    {
     "name": "stdout",
     "output_type": "stream",
     "text": [
      "--------------\n",
      "torch.Size([391, 8, 80])\n",
      "tensor([0., 0., 0., 0., 0., 0., 0., 0.], device='cuda:0')\n"
     ]
    },
    {
     "name": "stderr",
     "output_type": "stream",
     "text": [
      "\r",
      "  6%|██▏                                  | 7/121 [00:01<00:18,  6.10it/s]"
     ]
    },
    {
     "name": "stdout",
     "output_type": "stream",
     "text": [
      "--------------\n",
      "torch.Size([391, 8, 80])\n",
      "tensor([0., 0., 0., 0., 0., 0., 0., 0.], device='cuda:0')\n"
     ]
    },
    {
     "name": "stderr",
     "output_type": "stream",
     "text": [
      "\r",
      "  7%|██▍                                  | 8/121 [00:01<00:17,  6.31it/s]"
     ]
    },
    {
     "name": "stdout",
     "output_type": "stream",
     "text": [
      "--------------\n",
      "torch.Size([331, 8, 80])\n",
      "tensor([0., 0., 0., 0., 0., 0., 0., 0.], device='cuda:0')\n"
     ]
    },
    {
     "name": "stderr",
     "output_type": "stream",
     "text": [
      "\r",
      "  7%|██▊                                  | 9/121 [00:01<00:17,  6.59it/s]"
     ]
    },
    {
     "name": "stdout",
     "output_type": "stream",
     "text": [
      "--------------\n",
      "torch.Size([301, 8, 80])\n",
      "tensor([0., 0., 0., 0., 0., 0., 0., 0.], device='cuda:0')\n"
     ]
    },
    {
     "name": "stderr",
     "output_type": "stream",
     "text": [
      "\r",
      "  8%|██▉                                 | 10/121 [00:01<00:16,  6.86it/s]"
     ]
    },
    {
     "name": "stdout",
     "output_type": "stream",
     "text": [
      "--------------\n",
      "torch.Size([301, 8, 80])\n",
      "tensor([0., 0., 0., 0., 0., 0., 0., 0.], device='cuda:0')\n"
     ]
    },
    {
     "name": "stderr",
     "output_type": "stream",
     "text": [
      "\r",
      "  9%|███▎                                | 11/121 [00:01<00:15,  7.13it/s]"
     ]
    },
    {
     "name": "stdout",
     "output_type": "stream",
     "text": [
      "--------------\n",
      "torch.Size([286, 8, 80])\n",
      "tensor([0., 0., 0., 0., 0., 0., 0., 0.], device='cuda:0')\n"
     ]
    },
    {
     "name": "stderr",
     "output_type": "stream",
     "text": [
      "\r",
      " 10%|███▌                                | 12/121 [00:01<00:14,  7.35it/s]"
     ]
    },
    {
     "name": "stdout",
     "output_type": "stream",
     "text": [
      "--------------\n",
      "torch.Size([286, 8, 80])\n",
      "tensor([0., 0., 0., 0., 0., 0., 0., 0.], device='cuda:0')\n"
     ]
    },
    {
     "name": "stderr",
     "output_type": "stream",
     "text": [
      "\r",
      " 11%|███▊                                | 13/121 [00:01<00:14,  7.56it/s]"
     ]
    },
    {
     "name": "stdout",
     "output_type": "stream",
     "text": [
      "--------------\n",
      "torch.Size([271, 8, 80])\n",
      "tensor([0., 0., 0., 0., 0., 0., 0., 0.], device='cuda:0')\n"
     ]
    },
    {
     "name": "stderr",
     "output_type": "stream",
     "text": [
      "\r",
      " 12%|████▏                               | 14/121 [00:02<00:14,  7.24it/s]"
     ]
    },
    {
     "name": "stdout",
     "output_type": "stream",
     "text": [
      "--------------\n",
      "torch.Size([346, 8, 80])\n",
      "tensor([0., 0., 0., 0., 0., 0., 0., 0.], device='cuda:0')\n"
     ]
    },
    {
     "name": "stderr",
     "output_type": "stream",
     "text": [
      " 13%|████▊                               | 16/121 [00:02<00:16,  6.55it/s]"
     ]
    },
    {
     "name": "stdout",
     "output_type": "stream",
     "text": [
      "--------------\n",
      "torch.Size([496, 8, 80])\n",
      "tensor([0., 0., 0., 0., 0., 0., 0., 0.], device='cuda:0')\n",
      "--------------\n",
      "torch.Size([316, 8, 80])\n",
      "tensor([0., 0., 0., 0., 0., 0., 0., 0.], device='cuda:0')\n"
     ]
    },
    {
     "name": "stderr",
     "output_type": "stream",
     "text": [
      "\r",
      " 14%|█████                               | 17/121 [00:02<00:15,  6.64it/s]"
     ]
    },
    {
     "name": "stdout",
     "output_type": "stream",
     "text": [
      "--------------\n",
      "torch.Size([331, 8, 80])\n",
      "tensor([0., 0., 0., 0., 0., 0., 0., 0.], device='cuda:0')\n"
     ]
    },
    {
     "name": "stderr",
     "output_type": "stream",
     "text": [
      " 16%|█████▋                              | 19/121 [00:02<00:15,  6.50it/s]"
     ]
    },
    {
     "name": "stdout",
     "output_type": "stream",
     "text": [
      "--------------\n",
      "torch.Size([496, 8, 80])\n",
      "tensor([0., 0., 0., 0., 0., 0., 0., 0.], device='cuda:0')\n",
      "--------------\n",
      "torch.Size([271, 8, 80])\n",
      "tensor([0., 0., 0., 0., 0., 0., 0., 0.], device='cuda:0')\n"
     ]
    },
    {
     "name": "stderr",
     "output_type": "stream",
     "text": [
      " 17%|██████▏                             | 21/121 [00:03<00:15,  6.26it/s]"
     ]
    },
    {
     "name": "stdout",
     "output_type": "stream",
     "text": [
      "--------------\n",
      "torch.Size([376, 8, 80])\n",
      "tensor([0., 0., 0., 0., 0., 0., 0., 0.], device='cuda:0')\n",
      "--------------\n",
      "torch.Size([391, 8, 80])\n",
      "tensor([0., 0., 0., 0., 0., 0., 0., 0.], device='cuda:0')\n"
     ]
    },
    {
     "name": "stderr",
     "output_type": "stream",
     "text": [
      "\r",
      " 18%|██████▌                             | 22/121 [00:03<00:16,  6.16it/s]"
     ]
    },
    {
     "name": "stdout",
     "output_type": "stream",
     "text": [
      "--------------\n",
      "torch.Size([391, 8, 80])\n",
      "tensor([0., 0., 0., 0., 0., 0., 0., 0.], device='cuda:0')\n",
      "--------------\n",
      "torch.Size([451, 8, 80])\n",
      "tensor([0., 0., 0., 0., 0., 0., 0., 0.], device='cuda:0')\n"
     ]
    },
    {
     "name": "stderr",
     "output_type": "stream",
     "text": [
      " 21%|███████▍                            | 25/121 [00:03<00:14,  6.55it/s]"
     ]
    },
    {
     "name": "stdout",
     "output_type": "stream",
     "text": [
      "--------------\n",
      "torch.Size([286, 8, 80])\n",
      "tensor([0., 0., 0., 0., 0., 0., 0., 0.], device='cuda:0')\n",
      "--------------\n",
      "torch.Size([316, 8, 80])\n",
      "tensor([0., 0., 0., 0., 0., 0., 0., 0.], device='cuda:0')\n"
     ]
    },
    {
     "name": "stderr",
     "output_type": "stream",
     "text": [
      " 22%|████████                            | 27/121 [00:04<00:14,  6.61it/s]"
     ]
    },
    {
     "name": "stdout",
     "output_type": "stream",
     "text": [
      "--------------\n",
      "torch.Size([361, 8, 80])\n",
      "tensor([0., 0., 0., 0., 0., 0., 0., 0.], device='cuda:0')\n",
      "--------------\n",
      "torch.Size([331, 8, 80])\n",
      "tensor([0., 0., 0., 0., 0., 0., 0., 0.], device='cuda:0')\n"
     ]
    },
    {
     "name": "stderr",
     "output_type": "stream",
     "text": [
      " 24%|████████▋                           | 29/121 [00:04<00:13,  6.58it/s]"
     ]
    },
    {
     "name": "stdout",
     "output_type": "stream",
     "text": [
      "--------------\n",
      "torch.Size([361, 8, 80])\n",
      "tensor([0., 0., 0., 0., 0., 0., 0., 0.], device='cuda:0')\n",
      "--------------\n",
      "torch.Size([346, 8, 80])\n",
      "tensor([0., 0., 0., 0., 0., 0., 0., 0.], device='cuda:0')\n"
     ]
    },
    {
     "name": "stderr",
     "output_type": "stream",
     "text": [
      " 26%|█████████▏                          | 31/121 [00:04<00:13,  6.73it/s]"
     ]
    },
    {
     "name": "stdout",
     "output_type": "stream",
     "text": [
      "--------------\n",
      "torch.Size([376, 8, 80])\n",
      "tensor([0., 0., 0., 0., 0., 0., 0., 0.], device='cuda:0')\n",
      "--------------\n",
      "torch.Size([301, 8, 80])\n",
      "tensor([0., 0., 0., 0., 0., 0., 0., 0.], device='cuda:0')\n"
     ]
    },
    {
     "name": "stderr",
     "output_type": "stream",
     "text": [
      " 27%|█████████▊                          | 33/121 [00:05<00:13,  6.59it/s]"
     ]
    },
    {
     "name": "stdout",
     "output_type": "stream",
     "text": [
      "--------------\n",
      "torch.Size([271, 8, 80])\n",
      "tensor([0., 0., 0., 0., 0., 0., 0., 0.], device='cuda:0')\n",
      "--------------\n",
      "torch.Size([421, 8, 80])\n",
      "tensor([0., 0., 0., 0., 0., 0., 0., 0.], device='cuda:0')\n"
     ]
    },
    {
     "name": "stderr",
     "output_type": "stream",
     "text": [
      " 29%|██████████▍                         | 35/121 [00:05<00:12,  6.64it/s]"
     ]
    },
    {
     "name": "stdout",
     "output_type": "stream",
     "text": [
      "--------------\n",
      "torch.Size([346, 8, 80])\n",
      "tensor([0., 0., 0., 0., 0., 0., 0., 0.], device='cuda:0')\n",
      "--------------\n",
      "torch.Size([361, 8, 80])\n",
      "tensor([0., 0., 0., 0., 0., 0., 0., 0.], device='cuda:0')\n"
     ]
    },
    {
     "name": "stderr",
     "output_type": "stream",
     "text": [
      " 31%|███████████                         | 37/121 [00:05<00:12,  6.97it/s]"
     ]
    },
    {
     "name": "stdout",
     "output_type": "stream",
     "text": [
      "--------------\n",
      "torch.Size([316, 8, 80])\n",
      "tensor([0., 0., 0., 0., 0., 0., 0., 0.], device='cuda:0')\n",
      "--------------\n",
      "torch.Size([301, 8, 80])\n",
      "tensor([0., 0., 0., 0., 0., 0., 0., 0.], device='cuda:0')\n"
     ]
    },
    {
     "name": "stderr",
     "output_type": "stream",
     "text": [
      " 32%|███████████▌                        | 39/121 [00:05<00:11,  6.90it/s]"
     ]
    },
    {
     "name": "stdout",
     "output_type": "stream",
     "text": [
      "--------------\n",
      "torch.Size([286, 8, 80])\n",
      "tensor([0., 0., 0., 0., 0., 0., 0., 0.], device='cuda:0')\n",
      "--------------\n",
      "torch.Size([376, 8, 80])\n",
      "tensor([0., 0., 0., 0., 0., 0., 0., 0.], device='cuda:0')\n"
     ]
    },
    {
     "name": "stderr",
     "output_type": "stream",
     "text": [
      " 34%|████████████▏                       | 41/121 [00:06<00:12,  6.44it/s]"
     ]
    },
    {
     "name": "stdout",
     "output_type": "stream",
     "text": [
      "--------------\n",
      "torch.Size([361, 8, 80])\n",
      "tensor([0., 0., 0., 0., 0., 0., 0., 0.], device='cuda:0')\n",
      "--------------\n",
      "torch.Size([406, 8, 80])\n",
      "tensor([0., 0., 0., 0., 0., 0., 0., 0.], device='cuda:0')\n"
     ]
    },
    {
     "name": "stderr",
     "output_type": "stream",
     "text": [
      " 36%|████████████▊                       | 43/121 [00:06<00:10,  7.13it/s]"
     ]
    },
    {
     "name": "stdout",
     "output_type": "stream",
     "text": [
      "--------------\n",
      "torch.Size([271, 8, 80])\n",
      "tensor([0., 0., 0., 0., 0., 0., 0., 0.], device='cuda:0')\n",
      "--------------\n",
      "torch.Size([286, 8, 80])\n",
      "tensor([0., 0., 0., 0., 0., 0., 0., 0.], device='cuda:0')\n"
     ]
    },
    {
     "name": "stderr",
     "output_type": "stream",
     "text": [
      " 37%|█████████████▍                      | 45/121 [00:06<00:10,  7.19it/s]"
     ]
    },
    {
     "name": "stdout",
     "output_type": "stream",
     "text": [
      "--------------\n",
      "torch.Size([346, 8, 80])\n",
      "tensor([0., 0., 0., 0., 0., 0., 0., 0.], device='cuda:0')\n",
      "--------------\n",
      "torch.Size([286, 8, 80])\n",
      "tensor([0., 0., 0., 0., 0., 0., 0., 0.], device='cuda:0')\n"
     ]
    },
    {
     "name": "stderr",
     "output_type": "stream",
     "text": [
      " 39%|█████████████▉                      | 47/121 [00:07<00:11,  6.54it/s]"
     ]
    },
    {
     "name": "stdout",
     "output_type": "stream",
     "text": [
      "--------------\n",
      "torch.Size([331, 8, 80])\n",
      "tensor([0., 0., 0., 0., 0., 0., 0., 0.], device='cuda:0')\n",
      "--------------\n",
      "torch.Size([421, 8, 80])\n",
      "tensor([0., 0., 0., 0., 0., 0., 0., 0.], device='cuda:0')\n"
     ]
    },
    {
     "name": "stderr",
     "output_type": "stream",
     "text": [
      " 40%|██████████████▌                     | 49/121 [00:07<00:09,  7.34it/s]"
     ]
    },
    {
     "name": "stdout",
     "output_type": "stream",
     "text": [
      "--------------\n",
      "torch.Size([301, 8, 80])\n",
      "tensor([0., 0., 0., 0., 0., 0., 0., 0.], device='cuda:0')\n",
      "--------------\n",
      "torch.Size([241, 8, 80])\n",
      "tensor([0., 0., 0., 0., 0., 0., 0., 0.], device='cuda:0')\n"
     ]
    },
    {
     "name": "stderr",
     "output_type": "stream",
     "text": [
      " 42%|███████████████▏                    | 51/121 [00:07<00:09,  7.34it/s]"
     ]
    },
    {
     "name": "stdout",
     "output_type": "stream",
     "text": [
      "--------------\n",
      "torch.Size([316, 8, 80])\n",
      "tensor([0., 0., 0., 0., 0., 0., 0., 0.], device='cuda:0')\n",
      "--------------\n",
      "torch.Size([301, 8, 80])\n",
      "tensor([0., 0., 0., 0., 0., 0., 0., 0.], device='cuda:0')\n"
     ]
    },
    {
     "name": "stderr",
     "output_type": "stream",
     "text": [
      " 44%|███████████████▊                    | 53/121 [00:07<00:09,  6.82it/s]"
     ]
    },
    {
     "name": "stdout",
     "output_type": "stream",
     "text": [
      "--------------\n",
      "torch.Size([316, 8, 80])\n",
      "tensor([0., 0., 0., 0., 0., 0., 0., 0.], device='cuda:0')\n",
      "--------------\n",
      "torch.Size([391, 8, 80])\n",
      "tensor([0., 0., 0., 0., 0., 0., 0., 0.], device='cuda:0')\n"
     ]
    },
    {
     "name": "stderr",
     "output_type": "stream",
     "text": [
      " 45%|████████████████▎                   | 55/121 [00:08<00:09,  6.77it/s]"
     ]
    },
    {
     "name": "stdout",
     "output_type": "stream",
     "text": [
      "--------------\n",
      "torch.Size([301, 8, 80])\n",
      "tensor([0., 0., 0., 0., 0., 0., 0., 0.], device='cuda:0')\n",
      "--------------\n",
      "torch.Size([361, 8, 80])\n",
      "tensor([0., 0., 0., 0., 0., 0., 0., 0.], device='cuda:0')\n"
     ]
    },
    {
     "name": "stderr",
     "output_type": "stream",
     "text": [
      " 47%|████████████████▉                   | 57/121 [00:08<00:10,  6.35it/s]"
     ]
    },
    {
     "name": "stdout",
     "output_type": "stream",
     "text": [
      "--------------\n",
      "torch.Size([421, 8, 80])\n",
      "tensor([0., 0., 0., 0., 0., 0., 0., 0.], device='cuda:0')\n",
      "--------------\n",
      "torch.Size([361, 8, 80])\n",
      "tensor([0., 0., 0., 0., 0., 0., 0., 0.], device='cuda:0')\n"
     ]
    },
    {
     "name": "stderr",
     "output_type": "stream",
     "text": [
      "\r",
      " 48%|█████████████████▎                  | 58/121 [00:08<00:09,  6.65it/s]"
     ]
    },
    {
     "name": "stdout",
     "output_type": "stream",
     "text": [
      "--------------\n",
      "torch.Size([301, 8, 80])\n",
      "tensor([0., 0., 0., 0., 0., 0., 0., 0.], device='cuda:0')\n",
      "--------------\n",
      "torch.Size([451, 8, 80])\n",
      "tensor([0., 0., 0., 0., 0., 0., 0., 0.], device='cuda:0')\n"
     ]
    },
    {
     "name": "stderr",
     "output_type": "stream",
     "text": [
      " 50%|██████████████████▏                 | 61/121 [00:09<00:09,  6.09it/s]"
     ]
    },
    {
     "name": "stdout",
     "output_type": "stream",
     "text": [
      "--------------\n",
      "torch.Size([391, 8, 80])\n",
      "tensor([0., 0., 0., 0., 0., 0., 0., 0.], device='cuda:0')\n",
      "--------------\n",
      "torch.Size([376, 8, 80])\n",
      "tensor([0., 0., 0., 0., 0., 0., 0., 0.], device='cuda:0')\n"
     ]
    },
    {
     "name": "stderr",
     "output_type": "stream",
     "text": [
      " 52%|██████████████████▋                 | 63/121 [00:09<00:09,  6.23it/s]"
     ]
    },
    {
     "name": "stdout",
     "output_type": "stream",
     "text": [
      "--------------\n",
      "torch.Size([316, 8, 80])\n",
      "tensor([0., 0., 0., 0., 0., 0., 0., 0.], device='cuda:0')\n",
      "--------------\n",
      "torch.Size([391, 8, 80])\n",
      "tensor([0., 0., 0., 0., 0., 0., 0., 0.], device='cuda:0')\n"
     ]
    },
    {
     "name": "stderr",
     "output_type": "stream",
     "text": [
      " 54%|███████████████████▎                | 65/121 [00:09<00:08,  6.84it/s]"
     ]
    },
    {
     "name": "stdout",
     "output_type": "stream",
     "text": [
      "--------------\n",
      "torch.Size([316, 8, 80])\n",
      "tensor([0., 0., 0., 0., 0., 0., 0., 0.], device='cuda:0')\n",
      "--------------\n",
      "torch.Size([286, 8, 80])\n",
      "tensor([0., 0., 0., 0., 0., 0., 0., 0.], device='cuda:0')\n"
     ]
    },
    {
     "name": "stderr",
     "output_type": "stream",
     "text": [
      " 55%|███████████████████▉                | 67/121 [00:10<00:07,  6.92it/s]"
     ]
    },
    {
     "name": "stdout",
     "output_type": "stream",
     "text": [
      "--------------\n",
      "torch.Size([361, 8, 80])\n",
      "tensor([0., 0., 0., 0., 0., 0., 0., 0.], device='cuda:0')\n",
      "--------------\n",
      "torch.Size([301, 8, 80])\n",
      "tensor([0., 0., 0., 0., 0., 0., 0., 0.], device='cuda:0')\n"
     ]
    },
    {
     "name": "stderr",
     "output_type": "stream",
     "text": [
      " 57%|████████████████████▌               | 69/121 [00:10<00:07,  6.70it/s]"
     ]
    },
    {
     "name": "stdout",
     "output_type": "stream",
     "text": [
      "--------------\n",
      "torch.Size([436, 8, 80])\n",
      "tensor([0., 0., 0., 0., 0., 0., 0., 0.], device='cuda:0')\n",
      "--------------\n",
      "torch.Size([301, 8, 80])\n",
      "tensor([0., 0., 0., 0., 0., 0., 0., 0.], device='cuda:0')\n"
     ]
    },
    {
     "name": "stderr",
     "output_type": "stream",
     "text": [
      " 59%|█████████████████████               | 71/121 [00:10<00:07,  7.13it/s]"
     ]
    },
    {
     "name": "stdout",
     "output_type": "stream",
     "text": [
      "--------------\n",
      "torch.Size([301, 8, 80])\n",
      "tensor([0., 0., 0., 0., 0., 0., 0., 0.], device='cuda:0')\n",
      "--------------\n",
      "torch.Size([301, 8, 80])\n",
      "tensor([0., 0., 0., 0., 0., 0., 0., 0.], device='cuda:0')\n"
     ]
    },
    {
     "name": "stderr",
     "output_type": "stream",
     "text": [
      " 60%|█████████████████████▋              | 73/121 [00:10<00:07,  6.66it/s]"
     ]
    },
    {
     "name": "stdout",
     "output_type": "stream",
     "text": [
      "--------------\n",
      "torch.Size([421, 8, 80])\n",
      "tensor([0., 0., 0., 0., 0., 0., 0., 0.], device='cuda:0')\n",
      "--------------\n",
      "torch.Size([346, 8, 80])\n",
      "tensor([0., 0., 0., 0., 0., 0., 0., 0.], device='cuda:0')\n"
     ]
    },
    {
     "name": "stderr",
     "output_type": "stream",
     "text": [
      " 62%|██████████████████████▎             | 75/121 [00:11<00:07,  6.55it/s]"
     ]
    },
    {
     "name": "stdout",
     "output_type": "stream",
     "text": [
      "--------------\n",
      "torch.Size([421, 8, 80])\n",
      "tensor([0., 0., 0., 0., 0., 0., 0., 0.], device='cuda:0')\n",
      "--------------\n",
      "torch.Size([316, 8, 80])\n",
      "tensor([0., 0., 0., 0., 0., 0., 0., 0.], device='cuda:0')\n"
     ]
    },
    {
     "name": "stderr",
     "output_type": "stream",
     "text": [
      " 64%|██████████████████████▉             | 77/121 [00:11<00:06,  6.52it/s]"
     ]
    },
    {
     "name": "stdout",
     "output_type": "stream",
     "text": [
      "--------------\n",
      "torch.Size([391, 8, 80])\n",
      "tensor([0., 0., 0., 0., 0., 0., 0., 0.], device='cuda:0')\n",
      "--------------\n",
      "torch.Size([346, 8, 80])\n",
      "tensor([0., 0., 0., 0., 0., 0., 0., 0.], device='cuda:0')\n"
     ]
    },
    {
     "name": "stderr",
     "output_type": "stream",
     "text": [
      " 65%|███████████████████████▌            | 79/121 [00:11<00:06,  6.83it/s]"
     ]
    },
    {
     "name": "stdout",
     "output_type": "stream",
     "text": [
      "--------------\n",
      "torch.Size([256, 8, 80])\n",
      "tensor([0., 0., 0., 0., 0., 0., 0., 0.], device='cuda:0')\n",
      "--------------\n",
      "torch.Size([361, 8, 80])\n",
      "tensor([0., 0., 0., 0., 0., 0., 0., 0.], device='cuda:0')\n"
     ]
    },
    {
     "name": "stderr",
     "output_type": "stream",
     "text": [
      " 67%|████████████████████████            | 81/121 [00:12<00:05,  6.83it/s]"
     ]
    },
    {
     "name": "stdout",
     "output_type": "stream",
     "text": [
      "--------------\n",
      "torch.Size([361, 8, 80])\n",
      "tensor([0., 0., 0., 0., 0., 0., 0., 0.], device='cuda:0')\n",
      "--------------\n",
      "torch.Size([316, 8, 80])\n",
      "tensor([0., 0., 0., 0., 0., 0., 0., 0.], device='cuda:0')\n"
     ]
    },
    {
     "name": "stderr",
     "output_type": "stream",
     "text": [
      "\r",
      " 68%|████████████████████████▍           | 82/121 [00:12<00:05,  6.84it/s]"
     ]
    },
    {
     "name": "stdout",
     "output_type": "stream",
     "text": [
      "--------------\n",
      "torch.Size([331, 8, 80])\n",
      "tensor([0., 0., 0., 0., 0., 0., 0., 0.], device='cuda:0')\n",
      "--------------\n",
      "torch.Size([466, 8, 80])\n",
      "tensor([0., 0., 0., 0., 0., 0., 0., 0.], device='cuda:0')\n"
     ]
    },
    {
     "name": "stderr",
     "output_type": "stream",
     "text": [
      " 70%|█████████████████████████▎          | 85/121 [00:12<00:05,  6.85it/s]"
     ]
    },
    {
     "name": "stdout",
     "output_type": "stream",
     "text": [
      "--------------\n",
      "torch.Size([301, 8, 80])\n",
      "tensor([0., 0., 0., 0., 0., 0., 0., 0.], device='cuda:0')\n",
      "--------------\n",
      "torch.Size([301, 8, 80])\n",
      "tensor([0., 0., 0., 0., 0., 0., 0., 0.], device='cuda:0')\n"
     ]
    },
    {
     "name": "stderr",
     "output_type": "stream",
     "text": [
      " 72%|█████████████████████████▉          | 87/121 [00:13<00:05,  6.41it/s]"
     ]
    },
    {
     "name": "stdout",
     "output_type": "stream",
     "text": [
      "--------------\n",
      "torch.Size([316, 8, 80])\n",
      "tensor([0., 0., 0., 0., 0., 0., 0., 0.], device='cuda:0')\n",
      "--------------\n",
      "torch.Size([451, 8, 80])\n",
      "tensor([0., 0., 0., 0., 0., 0., 0., 0.], device='cuda:0')\n"
     ]
    },
    {
     "name": "stderr",
     "output_type": "stream",
     "text": [
      " 74%|██████████████████████████▍         | 89/121 [00:13<00:04,  6.90it/s]"
     ]
    },
    {
     "name": "stdout",
     "output_type": "stream",
     "text": [
      "--------------\n",
      "torch.Size([361, 8, 80])\n",
      "tensor([0., 0., 0., 0., 0., 0., 0., 0.], device='cuda:0')\n",
      "--------------\n",
      "torch.Size([256, 8, 80])\n",
      "tensor([0., 0., 0., 0., 0., 0., 0., 0.], device='cuda:0')\n"
     ]
    },
    {
     "name": "stderr",
     "output_type": "stream",
     "text": [
      " 75%|███████████████████████████         | 91/121 [00:13<00:04,  7.01it/s]"
     ]
    },
    {
     "name": "stdout",
     "output_type": "stream",
     "text": [
      "--------------\n",
      "torch.Size([286, 8, 80])\n",
      "tensor([0., 0., 0., 0., 0., 0., 0., 0.], device='cuda:0')\n",
      "--------------\n",
      "torch.Size([346, 8, 80])\n",
      "tensor([0., 0., 0., 0., 0., 0., 0., 0.], device='cuda:0')\n"
     ]
    },
    {
     "name": "stderr",
     "output_type": "stream",
     "text": [
      " 77%|███████████████████████████▋        | 93/121 [00:13<00:04,  6.78it/s]"
     ]
    },
    {
     "name": "stdout",
     "output_type": "stream",
     "text": [
      "--------------\n",
      "torch.Size([331, 8, 80])\n",
      "tensor([0., 0., 0., 0., 0., 0., 0., 0.], device='cuda:0')\n",
      "--------------\n",
      "torch.Size([361, 8, 80])\n",
      "tensor([0., 0., 0., 0., 0., 0., 0., 0.], device='cuda:0')\n"
     ]
    },
    {
     "name": "stderr",
     "output_type": "stream",
     "text": [
      " 79%|████████████████████████████▎       | 95/121 [00:14<00:03,  6.55it/s]"
     ]
    },
    {
     "name": "stdout",
     "output_type": "stream",
     "text": [
      "--------------\n",
      "torch.Size([361, 8, 80])\n",
      "tensor([0., 0., 0., 0., 0., 0., 0., 0.], device='cuda:0')\n",
      "--------------\n",
      "torch.Size([361, 8, 80])\n",
      "tensor([0., 0., 0., 0., 0., 0., 0., 0.], device='cuda:0')\n"
     ]
    },
    {
     "name": "stderr",
     "output_type": "stream",
     "text": [
      " 80%|████████████████████████████▊       | 97/121 [00:14<00:03,  6.35it/s]"
     ]
    },
    {
     "name": "stdout",
     "output_type": "stream",
     "text": [
      "--------------\n",
      "torch.Size([376, 8, 80])\n",
      "tensor([0., 0., 0., 0., 0., 0., 0., 0.], device='cuda:0')\n",
      "--------------\n",
      "torch.Size([376, 8, 80])\n",
      "tensor([0., 0., 0., 0., 0., 0., 0., 0.], device='cuda:0')\n"
     ]
    },
    {
     "name": "stderr",
     "output_type": "stream",
     "text": [
      " 82%|█████████████████████████████▍      | 99/121 [00:14<00:03,  6.75it/s]"
     ]
    },
    {
     "name": "stdout",
     "output_type": "stream",
     "text": [
      "--------------\n",
      "torch.Size([346, 8, 80])\n",
      "tensor([0., 0., 0., 0., 0., 0., 0., 0.], device='cuda:0')\n",
      "--------------\n",
      "torch.Size([301, 8, 80])\n",
      "tensor([0., 0., 0., 0., 0., 0., 0., 0.], device='cuda:0')\n"
     ]
    },
    {
     "name": "stderr",
     "output_type": "stream",
     "text": [
      " 83%|█████████████████████████████▏     | 101/121 [00:15<00:02,  6.68it/s]"
     ]
    },
    {
     "name": "stdout",
     "output_type": "stream",
     "text": [
      "--------------\n",
      "torch.Size([361, 8, 80])\n",
      "tensor([0., 0., 0., 0., 0., 0., 0., 0.], device='cuda:0')\n",
      "--------------\n",
      "torch.Size([346, 8, 80])\n",
      "tensor([0., 0., 0., 0., 0., 0., 0., 0.], device='cuda:0')\n"
     ]
    },
    {
     "name": "stderr",
     "output_type": "stream",
     "text": [
      " 85%|█████████████████████████████▊     | 103/121 [00:15<00:02,  6.55it/s]"
     ]
    },
    {
     "name": "stdout",
     "output_type": "stream",
     "text": [
      "--------------\n",
      "torch.Size([361, 8, 80])\n",
      "tensor([0., 0., 0., 0., 0., 0., 0., 0.], device='cuda:0')\n",
      "--------------\n",
      "torch.Size([346, 8, 80])\n",
      "tensor([0., 0., 0., 0., 0., 0., 0., 0.], device='cuda:0')\n"
     ]
    },
    {
     "name": "stderr",
     "output_type": "stream",
     "text": [
      " 87%|██████████████████████████████▎    | 105/121 [00:15<00:02,  6.61it/s]"
     ]
    },
    {
     "name": "stdout",
     "output_type": "stream",
     "text": [
      "--------------\n",
      "torch.Size([331, 8, 80])\n",
      "tensor([0., 0., 0., 0., 0., 0., 0., 0.], device='cuda:0')\n",
      "--------------\n",
      "torch.Size([346, 8, 80])\n",
      "tensor([0., 0., 0., 0., 0., 0., 0., 0.], device='cuda:0')\n"
     ]
    },
    {
     "name": "stderr",
     "output_type": "stream",
     "text": [
      " 88%|██████████████████████████████▉    | 107/121 [00:16<00:02,  5.85it/s]"
     ]
    },
    {
     "name": "stdout",
     "output_type": "stream",
     "text": [
      "--------------\n",
      "torch.Size([481, 8, 80])\n",
      "tensor([0., 0., 0., 0., 0., 0., 0., 0.], device='cuda:0')\n",
      "--------------\n",
      "torch.Size([421, 8, 80])\n",
      "tensor([0., 0., 0., 0., 0., 0., 0., 0.], device='cuda:0')\n"
     ]
    },
    {
     "name": "stderr",
     "output_type": "stream",
     "text": [
      " 90%|███████████████████████████████▌   | 109/121 [00:16<00:01,  6.22it/s]"
     ]
    },
    {
     "name": "stdout",
     "output_type": "stream",
     "text": [
      "--------------\n",
      "torch.Size([316, 8, 80])\n",
      "tensor([0., 0., 0., 0., 0., 0., 0., 0.], device='cuda:0')\n",
      "--------------\n",
      "torch.Size([361, 8, 80])\n",
      "tensor([0., 0., 0., 0., 0., 0., 0., 0.], device='cuda:0')\n"
     ]
    },
    {
     "name": "stderr",
     "output_type": "stream",
     "text": [
      " 92%|████████████████████████████████   | 111/121 [00:16<00:01,  6.72it/s]"
     ]
    },
    {
     "name": "stdout",
     "output_type": "stream",
     "text": [
      "--------------\n",
      "torch.Size([346, 8, 80])\n",
      "tensor([0., 0., 0., 0., 0., 0., 0., 0.], device='cuda:0')\n",
      "--------------\n",
      "torch.Size([286, 8, 80])\n",
      "tensor([0., 0., 0., 0., 0., 0., 0., 0.], device='cuda:0')\n"
     ]
    },
    {
     "name": "stderr",
     "output_type": "stream",
     "text": [
      " 93%|████████████████████████████████▋  | 113/121 [00:17<00:01,  6.64it/s]"
     ]
    },
    {
     "name": "stdout",
     "output_type": "stream",
     "text": [
      "--------------\n",
      "torch.Size([301, 8, 80])\n",
      "tensor([0., 0., 0., 0., 0., 0., 0., 0.], device='cuda:0')\n",
      "--------------\n",
      "torch.Size([391, 8, 80])\n",
      "tensor([0., 0., 0., 0., 0., 0., 0., 0.], device='cuda:0')\n"
     ]
    },
    {
     "name": "stderr",
     "output_type": "stream",
     "text": [
      " 95%|█████████████████████████████████▎ | 115/121 [00:17<00:00,  7.44it/s]"
     ]
    },
    {
     "name": "stdout",
     "output_type": "stream",
     "text": [
      "--------------\n",
      "torch.Size([316, 8, 80])\n",
      "tensor([0., 0., 0., 0., 0., 0., 0., 0.], device='cuda:0')\n",
      "--------------\n",
      "torch.Size([226, 8, 80])\n",
      "tensor([0., 0., 0., 0., 0., 0., 0., 0.], device='cuda:0')\n"
     ]
    },
    {
     "name": "stderr",
     "output_type": "stream",
     "text": [
      " 97%|█████████████████████████████████▊ | 117/121 [00:17<00:00,  6.74it/s]"
     ]
    },
    {
     "name": "stdout",
     "output_type": "stream",
     "text": [
      "--------------\n",
      "torch.Size([406, 8, 80])\n",
      "tensor([0., 0., 0., 0., 0., 0., 0., 0.], device='cuda:0')\n",
      "--------------\n",
      "torch.Size([346, 8, 80])\n",
      "tensor([0., 0., 0., 0., 0., 0., 0., 0.], device='cuda:0')\n"
     ]
    },
    {
     "name": "stderr",
     "output_type": "stream",
     "text": [
      " 98%|██████████████████████████████████▍| 119/121 [00:17<00:00,  6.36it/s]"
     ]
    },
    {
     "name": "stdout",
     "output_type": "stream",
     "text": [
      "--------------\n",
      "torch.Size([376, 8, 80])\n",
      "tensor([0., 0., 0., 0., 0., 0., 0., 0.], device='cuda:0')\n",
      "--------------\n",
      "torch.Size([391, 8, 80])\n",
      "tensor([0., 0., 0., 0., 0., 0., 0., 0.], device='cuda:0')\n"
     ]
    },
    {
     "name": "stderr",
     "output_type": "stream",
     "text": [
      "100%|███████████████████████████████████| 121/121 [00:18<00:00,  6.65it/s]"
     ]
    },
    {
     "name": "stdout",
     "output_type": "stream",
     "text": [
      "--------------\n",
      "torch.Size([271, 8, 80])\n",
      "tensor([0., 0., 0., 0., 0., 0., 0., 0.], device='cuda:0')\n",
      "--------------\n",
      "torch.Size([346, 6, 80])\n",
      "tensor([0., 0., 0., 0., 0., 0.], device='cuda:0')\n",
      "Test CER 0.5991298442717261\n",
      "Test WER 0.9344151751440766\n",
      "Test CTC 589.2092391304348\n",
      "Saving Best\n"
     ]
    },
    {
     "name": "stderr",
     "output_type": "stream",
     "text": [
      "\n"
     ]
    },
    {
     "name": "stdout",
     "output_type": "stream",
     "text": [
      "Train Set Size = 771\n"
     ]
    },
    {
     "name": "stderr",
     "output_type": "stream",
     "text": [
      "CER: 0.464849446754061 CTC: 6387.07958984375 Ground Truth: |and of course \n"
     ]
    },
    {
     "name": "stdout",
     "output_type": "stream",
     "text": [
      "Epoch: 6 Training CER 0.4648389209552046\n",
      "Training WER: 0.83236108928121\n",
      "Time: 282.456663608551 Seconds\n",
      "Validation Set Size = 121\n"
     ]
    },
    {
     "name": "stderr",
     "output_type": "stream",
     "text": [
      "  1%|▎                                    | 1/121 [00:00<00:18,  6.53it/s]"
     ]
    },
    {
     "name": "stdout",
     "output_type": "stream",
     "text": [
      "--------------\n",
      "torch.Size([346, 8, 80])\n",
      "tensor([0., 0., 0., 0., 0., 0., 0., 0.], device='cuda:0')\n"
     ]
    },
    {
     "name": "stderr",
     "output_type": "stream",
     "text": [
      "\r",
      "  2%|▌                                    | 2/121 [00:00<00:19,  5.95it/s]"
     ]
    },
    {
     "name": "stdout",
     "output_type": "stream",
     "text": [
      "--------------\n",
      "torch.Size([421, 8, 80])\n",
      "tensor([0., 0., 0., 0., 0., 0., 0., 0.], device='cuda:0')\n"
     ]
    },
    {
     "name": "stderr",
     "output_type": "stream",
     "text": [
      "\r",
      "  2%|▉                                    | 3/121 [00:00<00:18,  6.45it/s]"
     ]
    },
    {
     "name": "stdout",
     "output_type": "stream",
     "text": [
      "--------------\n",
      "torch.Size([316, 8, 80])\n",
      "tensor([0., 0., 0., 0., 0., 0., 0., 0.], device='cuda:0')\n"
     ]
    },
    {
     "name": "stderr",
     "output_type": "stream",
     "text": [
      "\r",
      "  3%|█▏                                   | 4/121 [00:00<00:17,  6.80it/s]"
     ]
    },
    {
     "name": "stdout",
     "output_type": "stream",
     "text": [
      "--------------\n",
      "torch.Size([301, 8, 80])\n",
      "tensor([0., 0., 0., 0., 0., 0., 0., 0.], device='cuda:0')\n"
     ]
    },
    {
     "name": "stderr",
     "output_type": "stream",
     "text": [
      "\r",
      "  4%|█▌                                   | 5/121 [00:00<00:18,  6.24it/s]"
     ]
    },
    {
     "name": "stdout",
     "output_type": "stream",
     "text": [
      "--------------\n",
      "torch.Size([436, 8, 80])\n",
      "tensor([0., 0., 0., 0., 0., 0., 0., 0.], device='cuda:0')\n"
     ]
    },
    {
     "name": "stderr",
     "output_type": "stream",
     "text": [
      "\r",
      "  5%|█▊                                   | 6/121 [00:00<00:18,  6.06it/s]"
     ]
    },
    {
     "name": "stdout",
     "output_type": "stream",
     "text": [
      "--------------\n",
      "torch.Size([421, 8, 80])\n",
      "tensor([0., 0., 0., 0., 0., 0., 0., 0.], device='cuda:0')\n"
     ]
    },
    {
     "name": "stderr",
     "output_type": "stream",
     "text": [
      "\r",
      "  6%|██▏                                  | 7/121 [00:01<00:16,  6.75it/s]"
     ]
    },
    {
     "name": "stdout",
     "output_type": "stream",
     "text": [
      "--------------\n",
      "torch.Size([241, 8, 80])\n",
      "tensor([0., 0., 0., 0., 0., 0., 0., 0.], device='cuda:0')\n"
     ]
    },
    {
     "name": "stderr",
     "output_type": "stream",
     "text": [
      "\r",
      "  7%|██▍                                  | 8/121 [00:01<00:18,  6.20it/s]"
     ]
    },
    {
     "name": "stdout",
     "output_type": "stream",
     "text": [
      "--------------\n",
      "torch.Size([451, 8, 80])\n",
      "tensor([0., 0., 0., 0., 0., 0., 0., 0.], device='cuda:0')\n"
     ]
    },
    {
     "name": "stderr",
     "output_type": "stream",
     "text": [
      "\r",
      "  7%|██▊                                  | 9/121 [00:01<00:17,  6.41it/s]"
     ]
    },
    {
     "name": "stdout",
     "output_type": "stream",
     "text": [
      "--------------\n",
      "torch.Size([331, 8, 80])\n",
      "tensor([0., 0., 0., 0., 0., 0., 0., 0.], device='cuda:0')\n"
     ]
    },
    {
     "name": "stderr",
     "output_type": "stream",
     "text": [
      "\r",
      "  8%|██▉                                 | 10/121 [00:01<00:16,  6.59it/s]"
     ]
    },
    {
     "name": "stdout",
     "output_type": "stream",
     "text": [
      "--------------\n",
      "torch.Size([331, 8, 80])\n",
      "tensor([0., 0., 0., 0., 0., 0., 0., 0.], device='cuda:0')\n"
     ]
    },
    {
     "name": "stderr",
     "output_type": "stream",
     "text": [
      "\r",
      "  9%|███▎                                | 11/121 [00:01<00:16,  6.62it/s]"
     ]
    },
    {
     "name": "stdout",
     "output_type": "stream",
     "text": [
      "--------------\n",
      "torch.Size([346, 8, 80])\n",
      "tensor([0., 0., 0., 0., 0., 0., 0., 0.], device='cuda:0')\n"
     ]
    },
    {
     "name": "stderr",
     "output_type": "stream",
     "text": [
      "\r",
      " 10%|███▌                                | 12/121 [00:01<00:16,  6.63it/s]"
     ]
    },
    {
     "name": "stdout",
     "output_type": "stream",
     "text": [
      "--------------\n",
      "torch.Size([346, 8, 80])\n",
      "tensor([0., 0., 0., 0., 0., 0., 0., 0.], device='cuda:0')\n"
     ]
    },
    {
     "name": "stderr",
     "output_type": "stream",
     "text": [
      "\r",
      " 11%|███▊                                | 13/121 [00:01<00:15,  6.90it/s]"
     ]
    },
    {
     "name": "stdout",
     "output_type": "stream",
     "text": [
      "--------------\n",
      "torch.Size([301, 8, 80])\n",
      "tensor([0., 0., 0., 0., 0., 0., 0., 0.], device='cuda:0')\n"
     ]
    },
    {
     "name": "stderr",
     "output_type": "stream",
     "text": [
      "\r",
      " 12%|████▏                               | 14/121 [00:02<00:15,  7.06it/s]"
     ]
    },
    {
     "name": "stdout",
     "output_type": "stream",
     "text": [
      "--------------\n",
      "torch.Size([301, 8, 80])\n",
      "tensor([0., 0., 0., 0., 0., 0., 0., 0.], device='cuda:0')\n"
     ]
    },
    {
     "name": "stderr",
     "output_type": "stream",
     "text": [
      "\r",
      " 12%|████▍                               | 15/121 [00:02<00:15,  6.84it/s]"
     ]
    },
    {
     "name": "stdout",
     "output_type": "stream",
     "text": [
      "--------------\n",
      "torch.Size([361, 8, 80])\n",
      "tensor([0., 0., 0., 0., 0., 0., 0., 0.], device='cuda:0')\n"
     ]
    },
    {
     "name": "stderr",
     "output_type": "stream",
     "text": [
      "\r",
      " 13%|████▊                               | 16/121 [00:02<00:15,  6.99it/s]"
     ]
    },
    {
     "name": "stdout",
     "output_type": "stream",
     "text": [
      "--------------\n",
      "torch.Size([301, 8, 80])\n",
      "tensor([0., 0., 0., 0., 0., 0., 0., 0.], device='cuda:0')\n"
     ]
    },
    {
     "name": "stderr",
     "output_type": "stream",
     "text": [
      "\r",
      " 14%|█████                               | 17/121 [00:02<00:14,  7.16it/s]"
     ]
    },
    {
     "name": "stdout",
     "output_type": "stream",
     "text": [
      "--------------\n",
      "torch.Size([301, 8, 80])\n",
      "tensor([0., 0., 0., 0., 0., 0., 0., 0.], device='cuda:0')\n"
     ]
    },
    {
     "name": "stderr",
     "output_type": "stream",
     "text": [
      "\r",
      " 15%|█████▎                              | 18/121 [00:02<00:14,  6.91it/s]"
     ]
    },
    {
     "name": "stdout",
     "output_type": "stream",
     "text": [
      "--------------\n",
      "torch.Size([361, 8, 80])\n",
      "tensor([0., 0., 0., 0., 0., 0., 0., 0.], device='cuda:0')\n"
     ]
    },
    {
     "name": "stderr",
     "output_type": "stream",
     "text": [
      "\r",
      " 16%|█████▋                              | 19/121 [00:02<00:14,  6.98it/s]"
     ]
    },
    {
     "name": "stdout",
     "output_type": "stream",
     "text": [
      "--------------\n",
      "torch.Size([316, 8, 80])\n",
      "tensor([0., 0., 0., 0., 0., 0., 0., 0.], device='cuda:0')\n",
      "--------------\n",
      "torch.Size([451, 8, 80])\n",
      "tensor([0., 0., 0., 0., 0., 0., 0., 0.], device='cuda:0')\n"
     ]
    },
    {
     "name": "stderr",
     "output_type": "stream",
     "text": [
      " 17%|██████▏                             | 21/121 [00:03<00:15,  6.56it/s]"
     ]
    },
    {
     "name": "stdout",
     "output_type": "stream",
     "text": [
      "--------------\n",
      "torch.Size([316, 8, 80])\n",
      "tensor([0., 0., 0., 0., 0., 0., 0., 0.], device='cuda:0')\n"
     ]
    },
    {
     "name": "stderr",
     "output_type": "stream",
     "text": [
      "\r",
      " 18%|██████▌                             | 22/121 [00:03<00:15,  6.41it/s]"
     ]
    },
    {
     "name": "stdout",
     "output_type": "stream",
     "text": [
      "--------------\n",
      "torch.Size([391, 8, 80])\n",
      "tensor([0., 0., 0., 0., 0., 0., 0., 0.], device='cuda:0')\n"
     ]
    },
    {
     "name": "stderr",
     "output_type": "stream",
     "text": [
      "\r",
      " 19%|██████▊                             | 23/121 [00:03<00:15,  6.48it/s]"
     ]
    },
    {
     "name": "stdout",
     "output_type": "stream",
     "text": [
      "--------------\n",
      "torch.Size([346, 8, 80])\n",
      "tensor([0., 0., 0., 0., 0., 0., 0., 0.], device='cuda:0')\n"
     ]
    },
    {
     "name": "stderr",
     "output_type": "stream",
     "text": [
      "\r",
      " 20%|███████▏                            | 24/121 [00:03<00:15,  6.40it/s]"
     ]
    },
    {
     "name": "stdout",
     "output_type": "stream",
     "text": [
      "--------------\n",
      "torch.Size([376, 8, 80])\n",
      "tensor([0., 0., 0., 0., 0., 0., 0., 0.], device='cuda:0')\n"
     ]
    },
    {
     "name": "stderr",
     "output_type": "stream",
     "text": [
      "\r",
      " 21%|███████▍                            | 25/121 [00:03<00:14,  6.79it/s]"
     ]
    },
    {
     "name": "stdout",
     "output_type": "stream",
     "text": [
      "--------------\n",
      "torch.Size([286, 8, 80])\n",
      "tensor([0., 0., 0., 0., 0., 0., 0., 0.], device='cuda:0')\n"
     ]
    },
    {
     "name": "stderr",
     "output_type": "stream",
     "text": [
      "\r",
      " 21%|███████▋                            | 26/121 [00:03<00:14,  6.52it/s]"
     ]
    },
    {
     "name": "stdout",
     "output_type": "stream",
     "text": [
      "--------------\n",
      "torch.Size([391, 8, 80])\n",
      "tensor([0., 0., 0., 0., 0., 0., 0., 0.], device='cuda:0')\n"
     ]
    },
    {
     "name": "stderr",
     "output_type": "stream",
     "text": [
      "\r",
      " 22%|████████                            | 27/121 [00:04<00:13,  6.76it/s]"
     ]
    },
    {
     "name": "stdout",
     "output_type": "stream",
     "text": [
      "--------------\n",
      "torch.Size([301, 8, 80])\n",
      "tensor([0., 0., 0., 0., 0., 0., 0., 0.], device='cuda:0')\n"
     ]
    },
    {
     "name": "stderr",
     "output_type": "stream",
     "text": [
      "\r",
      " 23%|████████▎                           | 28/121 [00:04<00:13,  6.97it/s]"
     ]
    },
    {
     "name": "stdout",
     "output_type": "stream",
     "text": [
      "--------------\n",
      "torch.Size([301, 8, 80])\n",
      "tensor([0., 0., 0., 0., 0., 0., 0., 0.], device='cuda:0')\n"
     ]
    },
    {
     "name": "stderr",
     "output_type": "stream",
     "text": [
      "\r",
      " 24%|████████▋                           | 29/121 [00:04<00:12,  7.45it/s]"
     ]
    },
    {
     "name": "stdout",
     "output_type": "stream",
     "text": [
      "--------------\n",
      "torch.Size([241, 8, 80])\n",
      "tensor([0., 0., 0., 0., 0., 0., 0., 0.], device='cuda:0')\n"
     ]
    },
    {
     "name": "stderr",
     "output_type": "stream",
     "text": [
      "\r",
      " 25%|████████▉                           | 30/121 [00:04<00:12,  7.20it/s]"
     ]
    },
    {
     "name": "stdout",
     "output_type": "stream",
     "text": [
      "--------------\n",
      "torch.Size([346, 8, 80])\n",
      "tensor([0., 0., 0., 0., 0., 0., 0., 0.], device='cuda:0')\n"
     ]
    },
    {
     "name": "stderr",
     "output_type": "stream",
     "text": [
      "\r",
      " 26%|█████████▏                          | 31/121 [00:04<00:12,  7.07it/s]"
     ]
    },
    {
     "name": "stdout",
     "output_type": "stream",
     "text": [
      "--------------\n",
      "torch.Size([346, 8, 80])\n",
      "tensor([0., 0., 0., 0., 0., 0., 0., 0.], device='cuda:0')\n"
     ]
    },
    {
     "name": "stderr",
     "output_type": "stream",
     "text": [
      "\r",
      " 26%|█████████▌                          | 32/121 [00:04<00:12,  7.28it/s]"
     ]
    },
    {
     "name": "stdout",
     "output_type": "stream",
     "text": [
      "--------------\n",
      "torch.Size([286, 8, 80])\n",
      "tensor([0., 0., 0., 0., 0., 0., 0., 0.], device='cuda:0')\n"
     ]
    },
    {
     "name": "stderr",
     "output_type": "stream",
     "text": [
      "\r",
      " 27%|█████████▊                          | 33/121 [00:04<00:12,  6.96it/s]"
     ]
    },
    {
     "name": "stdout",
     "output_type": "stream",
     "text": [
      "--------------\n",
      "torch.Size([376, 8, 80])\n",
      "tensor([0., 0., 0., 0., 0., 0., 0., 0.], device='cuda:0')\n"
     ]
    },
    {
     "name": "stderr",
     "output_type": "stream",
     "text": [
      "\r",
      " 28%|██████████                          | 34/121 [00:05<00:13,  6.69it/s]"
     ]
    },
    {
     "name": "stdout",
     "output_type": "stream",
     "text": [
      "--------------\n",
      "torch.Size([391, 8, 80])\n",
      "tensor([0., 0., 0., 0., 0., 0., 0., 0.], device='cuda:0')\n"
     ]
    },
    {
     "name": "stderr",
     "output_type": "stream",
     "text": [
      "\r",
      " 29%|██████████▍                         | 35/121 [00:05<00:13,  6.43it/s]"
     ]
    },
    {
     "name": "stdout",
     "output_type": "stream",
     "text": [
      "--------------\n",
      "torch.Size([391, 8, 80])\n",
      "tensor([0., 0., 0., 0., 0., 0., 0., 0.], device='cuda:0')\n"
     ]
    },
    {
     "name": "stderr",
     "output_type": "stream",
     "text": [
      "\r",
      " 30%|██████████▋                         | 36/121 [00:05<00:13,  6.35it/s]"
     ]
    },
    {
     "name": "stdout",
     "output_type": "stream",
     "text": [
      "--------------\n",
      "torch.Size([376, 8, 80])\n",
      "tensor([0., 0., 0., 0., 0., 0., 0., 0.], device='cuda:0')\n"
     ]
    },
    {
     "name": "stderr",
     "output_type": "stream",
     "text": [
      "\r",
      " 31%|███████████                         | 37/121 [00:05<00:13,  6.14it/s]"
     ]
    },
    {
     "name": "stdout",
     "output_type": "stream",
     "text": [
      "--------------\n",
      "torch.Size([406, 8, 80])\n",
      "tensor([0., 0., 0., 0., 0., 0., 0., 0.], device='cuda:0')\n"
     ]
    },
    {
     "name": "stderr",
     "output_type": "stream",
     "text": [
      "\r",
      " 31%|███████████▎                        | 38/121 [00:05<00:13,  6.21it/s]"
     ]
    },
    {
     "name": "stdout",
     "output_type": "stream",
     "text": [
      "--------------\n",
      "torch.Size([361, 8, 80])\n",
      "tensor([0., 0., 0., 0., 0., 0., 0., 0.], device='cuda:0')\n"
     ]
    },
    {
     "name": "stderr",
     "output_type": "stream",
     "text": [
      "\r",
      " 32%|███████████▌                        | 39/121 [00:05<00:13,  6.20it/s]"
     ]
    },
    {
     "name": "stdout",
     "output_type": "stream",
     "text": [
      "--------------\n",
      "torch.Size([376, 8, 80])\n",
      "tensor([0., 0., 0., 0., 0., 0., 0., 0.], device='cuda:0')\n"
     ]
    },
    {
     "name": "stderr",
     "output_type": "stream",
     "text": [
      "\r",
      " 33%|███████████▉                        | 40/121 [00:06<00:12,  6.47it/s]"
     ]
    },
    {
     "name": "stdout",
     "output_type": "stream",
     "text": [
      "--------------\n",
      "torch.Size([316, 8, 80])\n",
      "tensor([0., 0., 0., 0., 0., 0., 0., 0.], device='cuda:0')\n"
     ]
    },
    {
     "name": "stderr",
     "output_type": "stream",
     "text": [
      "\r",
      " 34%|████████████▏                       | 41/121 [00:06<00:12,  6.54it/s]"
     ]
    },
    {
     "name": "stdout",
     "output_type": "stream",
     "text": [
      "--------------\n",
      "torch.Size([346, 8, 80])\n",
      "tensor([0., 0., 0., 0., 0., 0., 0., 0.], device='cuda:0')\n"
     ]
    },
    {
     "name": "stderr",
     "output_type": "stream",
     "text": [
      "\r",
      " 35%|████████████▍                       | 42/121 [00:06<00:11,  6.70it/s]"
     ]
    },
    {
     "name": "stdout",
     "output_type": "stream",
     "text": [
      "--------------\n",
      "torch.Size([316, 8, 80])\n",
      "tensor([0., 0., 0., 0., 0., 0., 0., 0.], device='cuda:0')\n"
     ]
    },
    {
     "name": "stderr",
     "output_type": "stream",
     "text": [
      "\r",
      " 36%|████████████▊                       | 43/121 [00:06<00:11,  6.86it/s]"
     ]
    },
    {
     "name": "stdout",
     "output_type": "stream",
     "text": [
      "--------------\n",
      "torch.Size([316, 8, 80])\n",
      "tensor([0., 0., 0., 0., 0., 0., 0., 0.], device='cuda:0')\n"
     ]
    },
    {
     "name": "stderr",
     "output_type": "stream",
     "text": [
      "\r",
      " 36%|█████████████                       | 44/121 [00:06<00:11,  6.68it/s]"
     ]
    },
    {
     "name": "stdout",
     "output_type": "stream",
     "text": [
      "--------------\n",
      "torch.Size([361, 8, 80])\n",
      "tensor([0., 0., 0., 0., 0., 0., 0., 0.], device='cuda:0')\n"
     ]
    },
    {
     "name": "stderr",
     "output_type": "stream",
     "text": [
      "\r",
      " 37%|█████████████▍                      | 45/121 [00:06<00:12,  6.32it/s]"
     ]
    },
    {
     "name": "stdout",
     "output_type": "stream",
     "text": [
      "--------------\n",
      "torch.Size([421, 8, 80])\n",
      "tensor([0., 0., 0., 0., 0., 0., 0., 0.], device='cuda:0')\n"
     ]
    },
    {
     "name": "stderr",
     "output_type": "stream",
     "text": [
      "\r",
      " 38%|█████████████▋                      | 46/121 [00:06<00:11,  6.47it/s]"
     ]
    },
    {
     "name": "stdout",
     "output_type": "stream",
     "text": [
      "--------------\n",
      "torch.Size([331, 8, 80])\n",
      "tensor([0., 0., 0., 0., 0., 0., 0., 0.], device='cuda:0')\n"
     ]
    },
    {
     "name": "stderr",
     "output_type": "stream",
     "text": [
      "\r",
      " 39%|█████████████▉                      | 47/121 [00:07<00:10,  6.83it/s]"
     ]
    },
    {
     "name": "stdout",
     "output_type": "stream",
     "text": [
      "--------------\n",
      "torch.Size([286, 8, 80])\n",
      "tensor([0., 0., 0., 0., 0., 0., 0., 0.], device='cuda:0')\n"
     ]
    },
    {
     "name": "stderr",
     "output_type": "stream",
     "text": [
      "\r",
      " 40%|██████████████▎                     | 48/121 [00:07<00:10,  7.27it/s]"
     ]
    },
    {
     "name": "stdout",
     "output_type": "stream",
     "text": [
      "--------------\n",
      "torch.Size([256, 8, 80])\n",
      "tensor([0., 0., 0., 0., 0., 0., 0., 0.], device='cuda:0')\n"
     ]
    },
    {
     "name": "stderr",
     "output_type": "stream",
     "text": [
      "\r",
      " 40%|██████████████▌                     | 49/121 [00:07<00:09,  7.52it/s]"
     ]
    },
    {
     "name": "stdout",
     "output_type": "stream",
     "text": [
      "--------------\n",
      "torch.Size([271, 8, 80])\n",
      "tensor([0., 0., 0., 0., 0., 0., 0., 0.], device='cuda:0')\n"
     ]
    },
    {
     "name": "stderr",
     "output_type": "stream",
     "text": [
      "\r",
      " 41%|██████████████▉                     | 50/121 [00:07<00:09,  7.70it/s]"
     ]
    },
    {
     "name": "stdout",
     "output_type": "stream",
     "text": [
      "--------------\n",
      "torch.Size([271, 8, 80])\n",
      "tensor([0., 0., 0., 0., 0., 0., 0., 0.], device='cuda:0')\n"
     ]
    },
    {
     "name": "stderr",
     "output_type": "stream",
     "text": [
      "\r",
      " 42%|███████████████▏                    | 51/121 [00:07<00:09,  7.71it/s]"
     ]
    },
    {
     "name": "stdout",
     "output_type": "stream",
     "text": [
      "--------------\n",
      "torch.Size([286, 8, 80])\n",
      "tensor([0., 0., 0., 0., 0., 0., 0., 0.], device='cuda:0')\n"
     ]
    },
    {
     "name": "stderr",
     "output_type": "stream",
     "text": [
      "\r",
      " 43%|███████████████▍                    | 52/121 [00:07<00:09,  7.24it/s]"
     ]
    },
    {
     "name": "stdout",
     "output_type": "stream",
     "text": [
      "--------------\n",
      "torch.Size([361, 8, 80])\n",
      "tensor([0., 0., 0., 0., 0., 0., 0., 0.], device='cuda:0')\n"
     ]
    },
    {
     "name": "stderr",
     "output_type": "stream",
     "text": [
      "\r",
      " 44%|███████████████▊                    | 53/121 [00:07<00:09,  7.31it/s]"
     ]
    },
    {
     "name": "stdout",
     "output_type": "stream",
     "text": [
      "--------------\n",
      "torch.Size([301, 8, 80])\n",
      "tensor([0., 0., 0., 0., 0., 0., 0., 0.], device='cuda:0')\n"
     ]
    },
    {
     "name": "stderr",
     "output_type": "stream",
     "text": [
      "\r",
      " 45%|████████████████                    | 54/121 [00:07<00:09,  7.43it/s]"
     ]
    },
    {
     "name": "stdout",
     "output_type": "stream",
     "text": [
      "--------------\n",
      "torch.Size([286, 8, 80])\n",
      "tensor([0., 0., 0., 0., 0., 0., 0., 0.], device='cuda:0')\n"
     ]
    },
    {
     "name": "stderr",
     "output_type": "stream",
     "text": [
      "\r",
      " 45%|████████████████▎                   | 55/121 [00:08<00:08,  7.34it/s]"
     ]
    },
    {
     "name": "stdout",
     "output_type": "stream",
     "text": [
      "--------------\n",
      "torch.Size([316, 8, 80])\n",
      "tensor([0., 0., 0., 0., 0., 0., 0., 0.], device='cuda:0')\n"
     ]
    },
    {
     "name": "stderr",
     "output_type": "stream",
     "text": [
      "\r",
      " 46%|████████████████▋                   | 56/121 [00:08<00:09,  7.07it/s]"
     ]
    },
    {
     "name": "stdout",
     "output_type": "stream",
     "text": [
      "--------------\n",
      "torch.Size([346, 8, 80])\n",
      "tensor([0., 0., 0., 0., 0., 0., 0., 0.], device='cuda:0')\n"
     ]
    },
    {
     "name": "stderr",
     "output_type": "stream",
     "text": [
      "\r",
      " 47%|████████████████▉                   | 57/121 [00:08<00:09,  6.87it/s]"
     ]
    },
    {
     "name": "stdout",
     "output_type": "stream",
     "text": [
      "--------------\n",
      "torch.Size([361, 8, 80])\n",
      "tensor([0., 0., 0., 0., 0., 0., 0., 0.], device='cuda:0')\n"
     ]
    },
    {
     "name": "stderr",
     "output_type": "stream",
     "text": [
      "\r",
      " 48%|█████████████████▎                  | 58/121 [00:08<00:09,  6.81it/s]"
     ]
    },
    {
     "name": "stdout",
     "output_type": "stream",
     "text": [
      "--------------\n",
      "torch.Size([346, 8, 80])\n",
      "tensor([0., 0., 0., 0., 0., 0., 0., 0.], device='cuda:0')\n"
     ]
    },
    {
     "name": "stderr",
     "output_type": "stream",
     "text": [
      "\r",
      " 49%|█████████████████▌                  | 59/121 [00:08<00:09,  6.66it/s]"
     ]
    },
    {
     "name": "stdout",
     "output_type": "stream",
     "text": [
      "--------------\n",
      "torch.Size([361, 8, 80])\n",
      "tensor([0., 0., 0., 0., 0., 0., 0., 0.], device='cuda:0')\n"
     ]
    },
    {
     "name": "stderr",
     "output_type": "stream",
     "text": [
      "\r",
      " 50%|█████████████████▊                  | 60/121 [00:08<00:09,  6.59it/s]"
     ]
    },
    {
     "name": "stdout",
     "output_type": "stream",
     "text": [
      "--------------\n",
      "torch.Size([361, 8, 80])\n",
      "tensor([0., 0., 0., 0., 0., 0., 0., 0.], device='cuda:0')\n"
     ]
    },
    {
     "name": "stderr",
     "output_type": "stream",
     "text": [
      "\r",
      " 50%|██████████████████▏                 | 61/121 [00:09<00:09,  6.45it/s]"
     ]
    },
    {
     "name": "stdout",
     "output_type": "stream",
     "text": [
      "--------------\n",
      "torch.Size([376, 8, 80])\n",
      "tensor([0., 0., 0., 0., 0., 0., 0., 0.], device='cuda:0')\n"
     ]
    },
    {
     "name": "stderr",
     "output_type": "stream",
     "text": [
      "\r",
      " 51%|██████████████████▍                 | 62/121 [00:09<00:08,  6.78it/s]"
     ]
    },
    {
     "name": "stdout",
     "output_type": "stream",
     "text": [
      "--------------\n",
      "torch.Size([286, 8, 80])\n",
      "tensor([0., 0., 0., 0., 0., 0., 0., 0.], device='cuda:0')\n"
     ]
    },
    {
     "name": "stderr",
     "output_type": "stream",
     "text": [
      "\r",
      " 52%|██████████████████▋                 | 63/121 [00:09<00:08,  6.68it/s]"
     ]
    },
    {
     "name": "stdout",
     "output_type": "stream",
     "text": [
      "--------------\n",
      "torch.Size([361, 8, 80])\n",
      "tensor([0., 0., 0., 0., 0., 0., 0., 0.], device='cuda:0')\n"
     ]
    },
    {
     "name": "stderr",
     "output_type": "stream",
     "text": [
      "\r",
      " 53%|███████████████████                 | 64/121 [00:09<00:08,  6.88it/s]"
     ]
    },
    {
     "name": "stdout",
     "output_type": "stream",
     "text": [
      "--------------\n",
      "torch.Size([301, 8, 80])\n",
      "tensor([0., 0., 0., 0., 0., 0., 0., 0.], device='cuda:0')\n"
     ]
    },
    {
     "name": "stderr",
     "output_type": "stream",
     "text": [
      "\r",
      " 54%|███████████████████▎                | 65/121 [00:09<00:07,  7.02it/s]"
     ]
    },
    {
     "name": "stdout",
     "output_type": "stream",
     "text": [
      "--------------\n",
      "torch.Size([301, 8, 80])\n",
      "tensor([0., 0., 0., 0., 0., 0., 0., 0.], device='cuda:0')\n"
     ]
    },
    {
     "name": "stderr",
     "output_type": "stream",
     "text": [
      "\r",
      " 55%|███████████████████▋                | 66/121 [00:09<00:07,  6.91it/s]"
     ]
    },
    {
     "name": "stdout",
     "output_type": "stream",
     "text": [
      "--------------\n",
      "torch.Size([346, 8, 80])\n",
      "tensor([0., 0., 0., 0., 0., 0., 0., 0.], device='cuda:0')\n",
      "--------------\n",
      "torch.Size([466, 8, 80])\n",
      "tensor([0., 0., 0., 0., 0., 0., 0., 0.], device='cuda:0')\n"
     ]
    },
    {
     "name": "stderr",
     "output_type": "stream",
     "text": [
      " 56%|████████████████████▏               | 68/121 [00:10<00:08,  6.14it/s]"
     ]
    },
    {
     "name": "stdout",
     "output_type": "stream",
     "text": [
      "--------------\n",
      "torch.Size([391, 8, 80])\n",
      "tensor([0., 0., 0., 0., 0., 0., 0., 0.], device='cuda:0')\n"
     ]
    },
    {
     "name": "stderr",
     "output_type": "stream",
     "text": [
      "\r",
      " 57%|████████████████████▌               | 69/121 [00:10<00:08,  6.31it/s]"
     ]
    },
    {
     "name": "stdout",
     "output_type": "stream",
     "text": [
      "--------------\n",
      "torch.Size([331, 8, 80])\n",
      "tensor([0., 0., 0., 0., 0., 0., 0., 0.], device='cuda:0')\n"
     ]
    },
    {
     "name": "stderr",
     "output_type": "stream",
     "text": [
      "\r",
      " 58%|████████████████████▊               | 70/121 [00:10<00:08,  6.32it/s]"
     ]
    },
    {
     "name": "stdout",
     "output_type": "stream",
     "text": [
      "--------------\n",
      "torch.Size([361, 8, 80])\n",
      "tensor([0., 0., 0., 0., 0., 0., 0., 0.], device='cuda:0')\n"
     ]
    },
    {
     "name": "stderr",
     "output_type": "stream",
     "text": [
      "\r",
      " 59%|█████████████████████               | 71/121 [00:10<00:07,  6.39it/s]"
     ]
    },
    {
     "name": "stdout",
     "output_type": "stream",
     "text": [
      "--------------\n",
      "torch.Size([346, 8, 80])\n",
      "tensor([0., 0., 0., 0., 0., 0., 0., 0.], device='cuda:0')\n"
     ]
    },
    {
     "name": "stderr",
     "output_type": "stream",
     "text": [
      "\r",
      " 60%|█████████████████████▍              | 72/121 [00:10<00:07,  6.34it/s]"
     ]
    },
    {
     "name": "stdout",
     "output_type": "stream",
     "text": [
      "--------------\n",
      "torch.Size([361, 8, 80])\n",
      "tensor([0., 0., 0., 0., 0., 0., 0., 0.], device='cuda:0')\n"
     ]
    },
    {
     "name": "stderr",
     "output_type": "stream",
     "text": [
      "\r",
      " 60%|█████████████████████▋              | 73/121 [00:10<00:07,  6.09it/s]"
     ]
    },
    {
     "name": "stdout",
     "output_type": "stream",
     "text": [
      "--------------\n",
      "torch.Size([421, 8, 80])\n",
      "tensor([0., 0., 0., 0., 0., 0., 0., 0.], device='cuda:0')\n"
     ]
    },
    {
     "name": "stderr",
     "output_type": "stream",
     "text": [
      "\r",
      " 61%|██████████████████████              | 74/121 [00:11<00:07,  6.48it/s]"
     ]
    },
    {
     "name": "stdout",
     "output_type": "stream",
     "text": [
      "--------------\n",
      "torch.Size([286, 8, 80])\n",
      "tensor([0., 0., 0., 0., 0., 0., 0., 0.], device='cuda:0')\n"
     ]
    },
    {
     "name": "stderr",
     "output_type": "stream",
     "text": [
      "\r",
      " 62%|██████████████████████▎             | 75/121 [00:11<00:06,  6.62it/s]"
     ]
    },
    {
     "name": "stdout",
     "output_type": "stream",
     "text": [
      "--------------\n",
      "torch.Size([316, 8, 80])\n",
      "tensor([0., 0., 0., 0., 0., 0., 0., 0.], device='cuda:0')\n"
     ]
    },
    {
     "name": "stderr",
     "output_type": "stream",
     "text": [
      "\r",
      " 63%|██████████████████████▌             | 76/121 [00:11<00:06,  6.65it/s]"
     ]
    },
    {
     "name": "stdout",
     "output_type": "stream",
     "text": [
      "--------------\n",
      "torch.Size([346, 8, 80])\n",
      "tensor([0., 0., 0., 0., 0., 0., 0., 0.], device='cuda:0')\n"
     ]
    },
    {
     "name": "stderr",
     "output_type": "stream",
     "text": [
      "\r",
      " 64%|██████████████████████▉             | 77/121 [00:11<00:06,  6.30it/s]"
     ]
    },
    {
     "name": "stdout",
     "output_type": "stream",
     "text": [
      "--------------\n",
      "torch.Size([421, 8, 80])\n",
      "tensor([0., 0., 0., 0., 0., 0., 0., 0.], device='cuda:0')\n"
     ]
    },
    {
     "name": "stderr",
     "output_type": "stream",
     "text": [
      "\r",
      " 64%|███████████████████████▏            | 78/121 [00:11<00:06,  6.51it/s]"
     ]
    },
    {
     "name": "stdout",
     "output_type": "stream",
     "text": [
      "--------------\n",
      "torch.Size([316, 8, 80])\n",
      "tensor([0., 0., 0., 0., 0., 0., 0., 0.], device='cuda:0')\n"
     ]
    },
    {
     "name": "stderr",
     "output_type": "stream",
     "text": [
      "\r",
      " 65%|███████████████████████▌            | 79/121 [00:11<00:06,  6.72it/s]"
     ]
    },
    {
     "name": "stdout",
     "output_type": "stream",
     "text": [
      "--------------\n",
      "torch.Size([316, 8, 80])\n",
      "tensor([0., 0., 0., 0., 0., 0., 0., 0.], device='cuda:0')\n"
     ]
    },
    {
     "name": "stderr",
     "output_type": "stream",
     "text": [
      "\r",
      " 66%|███████████████████████▊            | 80/121 [00:11<00:06,  6.17it/s]"
     ]
    },
    {
     "name": "stdout",
     "output_type": "stream",
     "text": [
      "--------------\n",
      "torch.Size([451, 8, 80])\n",
      "tensor([0., 0., 0., 0., 0., 0., 0., 0.], device='cuda:0')\n"
     ]
    },
    {
     "name": "stderr",
     "output_type": "stream",
     "text": [
      "\r",
      " 67%|████████████████████████            | 81/121 [00:12<00:06,  6.08it/s]"
     ]
    },
    {
     "name": "stdout",
     "output_type": "stream",
     "text": [
      "--------------\n",
      "torch.Size([391, 8, 80])\n",
      "tensor([0., 0., 0., 0., 0., 0., 0., 0.], device='cuda:0')\n"
     ]
    },
    {
     "name": "stderr",
     "output_type": "stream",
     "text": [
      "\r",
      " 68%|████████████████████████▍           | 82/121 [00:12<00:06,  6.34it/s]"
     ]
    },
    {
     "name": "stdout",
     "output_type": "stream",
     "text": [
      "--------------\n",
      "torch.Size([316, 8, 80])\n",
      "tensor([0., 0., 0., 0., 0., 0., 0., 0.], device='cuda:0')\n"
     ]
    },
    {
     "name": "stderr",
     "output_type": "stream",
     "text": [
      "\r",
      " 69%|████████████████████████▋           | 83/121 [00:12<00:05,  6.48it/s]"
     ]
    },
    {
     "name": "stdout",
     "output_type": "stream",
     "text": [
      "--------------\n",
      "torch.Size([331, 8, 80])\n",
      "tensor([0., 0., 0., 0., 0., 0., 0., 0.], device='cuda:0')\n"
     ]
    },
    {
     "name": "stderr",
     "output_type": "stream",
     "text": [
      "\r",
      " 69%|████████████████████████▉           | 84/121 [00:12<00:05,  6.75it/s]"
     ]
    },
    {
     "name": "stdout",
     "output_type": "stream",
     "text": [
      "--------------\n",
      "torch.Size([301, 8, 80])\n",
      "tensor([0., 0., 0., 0., 0., 0., 0., 0.], device='cuda:0')\n"
     ]
    },
    {
     "name": "stderr",
     "output_type": "stream",
     "text": [
      "\r",
      " 70%|█████████████████████████▎          | 85/121 [00:12<00:05,  7.00it/s]"
     ]
    },
    {
     "name": "stdout",
     "output_type": "stream",
     "text": [
      "--------------\n",
      "torch.Size([286, 8, 80])\n",
      "tensor([0., 0., 0., 0., 0., 0., 0., 0.], device='cuda:0')\n"
     ]
    },
    {
     "name": "stderr",
     "output_type": "stream",
     "text": [
      "\r",
      " 71%|█████████████████████████▌          | 86/121 [00:12<00:04,  7.09it/s]"
     ]
    },
    {
     "name": "stdout",
     "output_type": "stream",
     "text": [
      "--------------\n",
      "torch.Size([301, 8, 80])\n",
      "tensor([0., 0., 0., 0., 0., 0., 0., 0.], device='cuda:0')\n"
     ]
    },
    {
     "name": "stderr",
     "output_type": "stream",
     "text": [
      "\r",
      " 72%|█████████████████████████▉          | 87/121 [00:12<00:04,  7.25it/s]"
     ]
    },
    {
     "name": "stdout",
     "output_type": "stream",
     "text": [
      "--------------\n",
      "torch.Size([286, 8, 80])\n",
      "tensor([0., 0., 0., 0., 0., 0., 0., 0.], device='cuda:0')\n"
     ]
    },
    {
     "name": "stderr",
     "output_type": "stream",
     "text": [
      "\r",
      " 73%|██████████████████████████▏         | 88/121 [00:13<00:04,  7.39it/s]"
     ]
    },
    {
     "name": "stdout",
     "output_type": "stream",
     "text": [
      "--------------\n",
      "torch.Size([286, 8, 80])\n",
      "tensor([0., 0., 0., 0., 0., 0., 0., 0.], device='cuda:0')\n"
     ]
    },
    {
     "name": "stderr",
     "output_type": "stream",
     "text": [
      "\r",
      " 74%|██████████████████████████▍         | 89/121 [00:13<00:04,  7.74it/s]"
     ]
    },
    {
     "name": "stdout",
     "output_type": "stream",
     "text": [
      "--------------\n",
      "torch.Size([241, 8, 80])\n",
      "tensor([0., 0., 0., 0., 0., 0., 0., 0.], device='cuda:0')\n"
     ]
    },
    {
     "name": "stderr",
     "output_type": "stream",
     "text": [
      "\r",
      " 74%|██████████████████████████▊         | 90/121 [00:13<00:04,  7.22it/s]"
     ]
    },
    {
     "name": "stdout",
     "output_type": "stream",
     "text": [
      "--------------\n",
      "torch.Size([376, 8, 80])\n",
      "tensor([0., 0., 0., 0., 0., 0., 0., 0.], device='cuda:0')\n"
     ]
    },
    {
     "name": "stderr",
     "output_type": "stream",
     "text": [
      "\r",
      " 75%|███████████████████████████         | 91/121 [00:13<00:04,  6.94it/s]"
     ]
    },
    {
     "name": "stdout",
     "output_type": "stream",
     "text": [
      "--------------\n",
      "torch.Size([361, 8, 80])\n",
      "tensor([0., 0., 0., 0., 0., 0., 0., 0.], device='cuda:0')\n"
     ]
    },
    {
     "name": "stderr",
     "output_type": "stream",
     "text": [
      "\r",
      " 76%|███████████████████████████▎        | 92/121 [00:13<00:04,  6.43it/s]"
     ]
    },
    {
     "name": "stdout",
     "output_type": "stream",
     "text": [
      "--------------\n",
      "torch.Size([421, 8, 80])\n",
      "tensor([0., 0., 0., 0., 0., 0., 0., 0.], device='cuda:0')\n"
     ]
    },
    {
     "name": "stderr",
     "output_type": "stream",
     "text": [
      "\r",
      " 77%|███████████████████████████▋        | 93/121 [00:13<00:04,  6.87it/s]"
     ]
    },
    {
     "name": "stdout",
     "output_type": "stream",
     "text": [
      "--------------\n",
      "torch.Size([271, 8, 80])\n",
      "tensor([0., 0., 0., 0., 0., 0., 0., 0.], device='cuda:0')\n"
     ]
    },
    {
     "name": "stderr",
     "output_type": "stream",
     "text": [
      "\r",
      " 78%|███████████████████████████▉        | 94/121 [00:14<00:03,  6.78it/s]"
     ]
    },
    {
     "name": "stdout",
     "output_type": "stream",
     "text": [
      "--------------\n",
      "torch.Size([346, 8, 80])\n",
      "tensor([0., 0., 0., 0., 0., 0., 0., 0.], device='cuda:0')\n"
     ]
    },
    {
     "name": "stderr",
     "output_type": "stream",
     "text": [
      "\r",
      " 79%|████████████████████████████▎       | 95/121 [00:14<00:03,  6.64it/s]"
     ]
    },
    {
     "name": "stdout",
     "output_type": "stream",
     "text": [
      "--------------\n",
      "torch.Size([361, 8, 80])\n",
      "tensor([0., 0., 0., 0., 0., 0., 0., 0.], device='cuda:0')\n"
     ]
    },
    {
     "name": "stderr",
     "output_type": "stream",
     "text": [
      "\r",
      " 79%|████████████████████████████▌       | 96/121 [00:14<00:03,  6.70it/s]"
     ]
    },
    {
     "name": "stdout",
     "output_type": "stream",
     "text": [
      "--------------\n",
      "torch.Size([331, 8, 80])\n",
      "tensor([0., 0., 0., 0., 0., 0., 0., 0.], device='cuda:0')\n"
     ]
    },
    {
     "name": "stderr",
     "output_type": "stream",
     "text": [
      "\r",
      " 80%|████████████████████████████▊       | 97/121 [00:14<00:03,  6.69it/s]"
     ]
    },
    {
     "name": "stdout",
     "output_type": "stream",
     "text": [
      "--------------\n",
      "torch.Size([346, 8, 80])\n",
      "tensor([0., 0., 0., 0., 0., 0., 0., 0.], device='cuda:0')\n"
     ]
    },
    {
     "name": "stderr",
     "output_type": "stream",
     "text": [
      "\r",
      " 81%|█████████████████████████████▏      | 98/121 [00:14<00:03,  7.09it/s]"
     ]
    },
    {
     "name": "stdout",
     "output_type": "stream",
     "text": [
      "--------------\n",
      "torch.Size([271, 8, 80])\n",
      "tensor([0., 0., 0., 0., 0., 0., 0., 0.], device='cuda:0')\n"
     ]
    },
    {
     "name": "stderr",
     "output_type": "stream",
     "text": [
      "\r",
      " 82%|█████████████████████████████▍      | 99/121 [00:14<00:02,  7.38it/s]"
     ]
    },
    {
     "name": "stdout",
     "output_type": "stream",
     "text": [
      "--------------\n",
      "torch.Size([271, 8, 80])\n",
      "tensor([0., 0., 0., 0., 0., 0., 0., 0.], device='cuda:0')\n"
     ]
    },
    {
     "name": "stderr",
     "output_type": "stream",
     "text": [
      "\r",
      " 83%|████████████████████████████▉      | 100/121 [00:14<00:02,  7.65it/s]"
     ]
    },
    {
     "name": "stdout",
     "output_type": "stream",
     "text": [
      "--------------\n",
      "torch.Size([256, 8, 80])\n",
      "tensor([0., 0., 0., 0., 0., 0., 0., 0.], device='cuda:0')\n"
     ]
    },
    {
     "name": "stderr",
     "output_type": "stream",
     "text": [
      "\r",
      " 83%|█████████████████████████████▏     | 101/121 [00:14<00:02,  7.35it/s]"
     ]
    },
    {
     "name": "stdout",
     "output_type": "stream",
     "text": [
      "--------------\n",
      "torch.Size([331, 8, 80])\n",
      "tensor([0., 0., 0., 0., 0., 0., 0., 0.], device='cuda:0')\n"
     ]
    },
    {
     "name": "stderr",
     "output_type": "stream",
     "text": [
      "\r",
      " 84%|█████████████████████████████▌     | 102/121 [00:15<00:02,  7.25it/s]"
     ]
    },
    {
     "name": "stdout",
     "output_type": "stream",
     "text": [
      "--------------\n",
      "torch.Size([316, 8, 80])\n",
      "tensor([0., 0., 0., 0., 0., 0., 0., 0.], device='cuda:0')\n"
     ]
    },
    {
     "name": "stderr",
     "output_type": "stream",
     "text": [
      "\r",
      " 85%|█████████████████████████████▊     | 103/121 [00:15<00:02,  7.20it/s]"
     ]
    },
    {
     "name": "stdout",
     "output_type": "stream",
     "text": [
      "--------------\n",
      "torch.Size([316, 8, 80])\n",
      "tensor([0., 0., 0., 0., 0., 0., 0., 0.], device='cuda:0')\n"
     ]
    },
    {
     "name": "stderr",
     "output_type": "stream",
     "text": [
      "\r",
      " 86%|██████████████████████████████     | 104/121 [00:15<00:02,  7.76it/s]"
     ]
    },
    {
     "name": "stdout",
     "output_type": "stream",
     "text": [
      "--------------\n",
      "torch.Size([226, 8, 80])\n",
      "tensor([0., 0., 0., 0., 0., 0., 0., 0.], device='cuda:0')\n",
      "--------------\n",
      "torch.Size([496, 8, 80])\n",
      "tensor([0., 0., 0., 0., 0., 0., 0., 0.], device='cuda:0')\n"
     ]
    },
    {
     "name": "stderr",
     "output_type": "stream",
     "text": [
      " 88%|██████████████████████████████▋    | 106/121 [00:15<00:02,  6.36it/s]"
     ]
    },
    {
     "name": "stdout",
     "output_type": "stream",
     "text": [
      "--------------\n",
      "torch.Size([391, 8, 80])\n",
      "tensor([0., 0., 0., 0., 0., 0., 0., 0.], device='cuda:0')\n"
     ]
    },
    {
     "name": "stderr",
     "output_type": "stream",
     "text": [
      "\r",
      " 88%|██████████████████████████████▉    | 107/121 [00:15<00:02,  6.30it/s]"
     ]
    },
    {
     "name": "stdout",
     "output_type": "stream",
     "text": [
      "--------------\n",
      "torch.Size([376, 8, 80])\n",
      "tensor([0., 0., 0., 0., 0., 0., 0., 0.], device='cuda:0')\n",
      "--------------\n",
      "torch.Size([451, 8, 80])\n",
      "tensor([0., 0., 0., 0., 0., 0., 0., 0.], device='cuda:0')\n"
     ]
    },
    {
     "name": "stderr",
     "output_type": "stream",
     "text": [
      " 90%|███████████████████████████████▌   | 109/121 [00:16<00:01,  6.24it/s]"
     ]
    },
    {
     "name": "stdout",
     "output_type": "stream",
     "text": [
      "--------------\n",
      "torch.Size([316, 8, 80])\n",
      "tensor([0., 0., 0., 0., 0., 0., 0., 0.], device='cuda:0')\n"
     ]
    },
    {
     "name": "stderr",
     "output_type": "stream",
     "text": [
      "\r",
      " 91%|███████████████████████████████▊   | 110/121 [00:16<00:01,  6.50it/s]"
     ]
    },
    {
     "name": "stdout",
     "output_type": "stream",
     "text": [
      "--------------\n",
      "torch.Size([316, 8, 80])\n",
      "tensor([0., 0., 0., 0., 0., 0., 0., 0.], device='cuda:0')\n"
     ]
    },
    {
     "name": "stderr",
     "output_type": "stream",
     "text": [
      "\r",
      " 92%|████████████████████████████████   | 111/121 [00:16<00:01,  5.87it/s]"
     ]
    },
    {
     "name": "stdout",
     "output_type": "stream",
     "text": [
      "--------------\n",
      "torch.Size([496, 8, 80])\n",
      "tensor([0., 0., 0., 0., 0., 0., 0., 0.], device='cuda:0')\n",
      "--------------\n",
      "torch.Size([481, 8, 80])\n",
      "tensor([0., 0., 0., 0., 0., 0., 0., 0.], device='cuda:0')\n"
     ]
    },
    {
     "name": "stderr",
     "output_type": "stream",
     "text": [
      " 94%|████████████████████████████████▉  | 114/121 [00:17<00:01,  6.00it/s]"
     ]
    },
    {
     "name": "stdout",
     "output_type": "stream",
     "text": [
      "--------------\n",
      "torch.Size([391, 8, 80])\n",
      "tensor([0., 0., 0., 0., 0., 0., 0., 0.], device='cuda:0')\n",
      "--------------\n",
      "torch.Size([346, 8, 80])\n",
      "tensor([0., 0., 0., 0., 0., 0., 0., 0.], device='cuda:0')\n"
     ]
    },
    {
     "name": "stderr",
     "output_type": "stream",
     "text": [
      " 96%|█████████████████████████████████▌ | 116/121 [00:17<00:00,  6.47it/s]"
     ]
    },
    {
     "name": "stdout",
     "output_type": "stream",
     "text": [
      "--------------\n",
      "torch.Size([271, 8, 80])\n",
      "tensor([0., 0., 0., 0., 0., 0., 0., 0.], device='cuda:0')\n",
      "--------------\n",
      "torch.Size([361, 8, 80])\n",
      "tensor([0., 0., 0., 0., 0., 0., 0., 0.], device='cuda:0')\n"
     ]
    },
    {
     "name": "stderr",
     "output_type": "stream",
     "text": [
      " 98%|██████████████████████████████████▏| 118/121 [00:17<00:00,  6.75it/s]"
     ]
    },
    {
     "name": "stdout",
     "output_type": "stream",
     "text": [
      "--------------\n",
      "torch.Size([331, 8, 80])\n",
      "tensor([0., 0., 0., 0., 0., 0., 0., 0.], device='cuda:0')\n",
      "--------------\n",
      "torch.Size([316, 8, 80])\n",
      "tensor([0., 0., 0., 0., 0., 0., 0., 0.], device='cuda:0')\n"
     ]
    },
    {
     "name": "stderr",
     "output_type": "stream",
     "text": [
      " 99%|██████████████████████████████████▋| 120/121 [00:17<00:00,  6.75it/s]"
     ]
    },
    {
     "name": "stdout",
     "output_type": "stream",
     "text": [
      "--------------\n",
      "torch.Size([376, 8, 80])\n",
      "tensor([0., 0., 0., 0., 0., 0., 0., 0.], device='cuda:0')\n",
      "--------------\n",
      "torch.Size([316, 8, 80])\n",
      "tensor([0., 0., 0., 0., 0., 0., 0., 0.], device='cuda:0')\n"
     ]
    },
    {
     "name": "stderr",
     "output_type": "stream",
     "text": [
      "100%|███████████████████████████████████| 121/121 [00:18<00:00,  6.70it/s]\n"
     ]
    },
    {
     "name": "stdout",
     "output_type": "stream",
     "text": [
      "--------------\n",
      "torch.Size([301, 6, 80])\n",
      "tensor([0., 0., 0., 0., 0., 0.], device='cuda:0')\n",
      "Test CER 0.3196256964764763\n",
      "Test WER 0.7713416725694863\n",
      "Test CTC 350.1245147515528\n",
      "Saving Best\n",
      "Train Set Size = 771\n"
     ]
    },
    {
     "name": "stderr",
     "output_type": "stream",
     "text": [
      "CER: 0.24987147576941393 CTC: 3417.813720703125 Ground Truth: |He said the\n"
     ]
    },
    {
     "name": "stdout",
     "output_type": "stream",
     "text": [
      "Epoch: 7 Training CER 0.24986743884752308\n",
      "Training WER: 0.6346883975317852\n",
      "Time: 286.96591687202454 Seconds\n",
      "Validation Set Size = 121\n"
     ]
    },
    {
     "name": "stderr",
     "output_type": "stream",
     "text": [
      "  1%|▎                                    | 1/121 [00:00<00:17,  6.76it/s]"
     ]
    },
    {
     "name": "stdout",
     "output_type": "stream",
     "text": [
      "--------------\n",
      "torch.Size([331, 8, 80])\n",
      "tensor([0., 0., 0., 0., 0., 0., 0., 0.], device='cuda:0')\n"
     ]
    },
    {
     "name": "stderr",
     "output_type": "stream",
     "text": [
      "\r",
      "  2%|▌                                    | 2/121 [00:00<00:19,  5.98it/s]"
     ]
    },
    {
     "name": "stdout",
     "output_type": "stream",
     "text": [
      "--------------\n",
      "torch.Size([421, 8, 80])\n",
      "tensor([0., 0., 0., 0., 0., 0., 0., 0.], device='cuda:0')\n"
     ]
    },
    {
     "name": "stderr",
     "output_type": "stream",
     "text": [
      "\r",
      "  2%|▉                                    | 3/121 [00:00<00:18,  6.55it/s]"
     ]
    },
    {
     "name": "stdout",
     "output_type": "stream",
     "text": [
      "--------------\n",
      "torch.Size([301, 8, 80])\n",
      "tensor([0., 0., 0., 0., 0., 0., 0., 0.], device='cuda:0')\n"
     ]
    },
    {
     "name": "stderr",
     "output_type": "stream",
     "text": [
      "\r",
      "  3%|█▏                                   | 4/121 [00:00<00:16,  6.91it/s]"
     ]
    },
    {
     "name": "stdout",
     "output_type": "stream",
     "text": [
      "--------------\n",
      "torch.Size([301, 8, 80])\n",
      "tensor([0., 0., 0., 0., 0., 0., 0., 0.], device='cuda:0')\n"
     ]
    },
    {
     "name": "stderr",
     "output_type": "stream",
     "text": [
      "\r",
      "  4%|█▌                                   | 5/121 [00:00<00:17,  6.80it/s]"
     ]
    },
    {
     "name": "stdout",
     "output_type": "stream",
     "text": [
      "--------------\n",
      "torch.Size([346, 8, 80])\n",
      "tensor([0., 0., 0., 0., 0., 0., 0., 0.], device='cuda:0')\n"
     ]
    },
    {
     "name": "stderr",
     "output_type": "stream",
     "text": [
      "\r",
      "  5%|█▊                                   | 6/121 [00:00<00:16,  7.03it/s]"
     ]
    },
    {
     "name": "stdout",
     "output_type": "stream",
     "text": [
      "--------------\n",
      "torch.Size([301, 8, 80])\n",
      "tensor([0., 0., 0., 0., 0., 0., 0., 0.], device='cuda:0')\n"
     ]
    },
    {
     "name": "stderr",
     "output_type": "stream",
     "text": [
      "\r",
      "  6%|██▏                                  | 7/121 [00:00<00:15,  7.43it/s]"
     ]
    },
    {
     "name": "stdout",
     "output_type": "stream",
     "text": [
      "--------------\n",
      "torch.Size([256, 8, 80])\n",
      "tensor([0., 0., 0., 0., 0., 0., 0., 0.], device='cuda:0')\n"
     ]
    },
    {
     "name": "stderr",
     "output_type": "stream",
     "text": [
      "\r",
      "  7%|██▍                                  | 8/121 [00:01<00:15,  7.29it/s]"
     ]
    },
    {
     "name": "stdout",
     "output_type": "stream",
     "text": [
      "--------------\n",
      "torch.Size([316, 8, 80])\n",
      "tensor([0., 0., 0., 0., 0., 0., 0., 0.], device='cuda:0')\n"
     ]
    },
    {
     "name": "stderr",
     "output_type": "stream",
     "text": [
      "\r",
      "  7%|██▊                                  | 9/121 [00:01<00:16,  6.80it/s]"
     ]
    },
    {
     "name": "stdout",
     "output_type": "stream",
     "text": [
      "--------------\n",
      "torch.Size([391, 8, 80])\n",
      "tensor([0., 0., 0., 0., 0., 0., 0., 0.], device='cuda:0')\n"
     ]
    },
    {
     "name": "stderr",
     "output_type": "stream",
     "text": [
      "\r",
      "  8%|██▉                                 | 10/121 [00:01<00:15,  7.26it/s]"
     ]
    },
    {
     "name": "stdout",
     "output_type": "stream",
     "text": [
      "--------------\n",
      "torch.Size([256, 8, 80])\n",
      "tensor([0., 0., 0., 0., 0., 0., 0., 0.], device='cuda:0')\n"
     ]
    },
    {
     "name": "stderr",
     "output_type": "stream",
     "text": [
      "\r",
      "  9%|███▎                                | 11/121 [00:01<00:16,  6.53it/s]"
     ]
    },
    {
     "name": "stdout",
     "output_type": "stream",
     "text": [
      "--------------\n",
      "torch.Size([451, 8, 80])\n",
      "tensor([0., 0., 0., 0., 0., 0., 0., 0.], device='cuda:0')\n"
     ]
    },
    {
     "name": "stderr",
     "output_type": "stream",
     "text": [
      "\r",
      " 10%|███▌                                | 12/121 [00:01<00:16,  6.64it/s]"
     ]
    },
    {
     "name": "stdout",
     "output_type": "stream",
     "text": [
      "--------------\n",
      "torch.Size([331, 8, 80])\n",
      "tensor([0., 0., 0., 0., 0., 0., 0., 0.], device='cuda:0')\n"
     ]
    },
    {
     "name": "stderr",
     "output_type": "stream",
     "text": [
      "\r",
      " 11%|███▊                                | 13/121 [00:01<00:16,  6.62it/s]"
     ]
    },
    {
     "name": "stdout",
     "output_type": "stream",
     "text": [
      "--------------\n",
      "torch.Size([346, 8, 80])\n",
      "tensor([0., 0., 0., 0., 0., 0., 0., 0.], device='cuda:0')\n"
     ]
    },
    {
     "name": "stderr",
     "output_type": "stream",
     "text": [
      "\r",
      " 12%|████▏                               | 14/121 [00:02<00:16,  6.34it/s]"
     ]
    },
    {
     "name": "stdout",
     "output_type": "stream",
     "text": [
      "--------------\n",
      "torch.Size([406, 8, 80])\n",
      "tensor([0., 0., 0., 0., 0., 0., 0., 0.], device='cuda:0')\n"
     ]
    },
    {
     "name": "stderr",
     "output_type": "stream",
     "text": [
      "\r",
      " 12%|████▍                               | 15/121 [00:02<00:15,  6.73it/s]"
     ]
    },
    {
     "name": "stdout",
     "output_type": "stream",
     "text": [
      "--------------\n",
      "torch.Size([286, 8, 80])\n",
      "tensor([0., 0., 0., 0., 0., 0., 0., 0.], device='cuda:0')\n"
     ]
    },
    {
     "name": "stderr",
     "output_type": "stream",
     "text": [
      "\r",
      " 13%|████▊                               | 16/121 [00:02<00:14,  7.13it/s]"
     ]
    },
    {
     "name": "stdout",
     "output_type": "stream",
     "text": [
      "--------------\n",
      "torch.Size([271, 8, 80])\n",
      "tensor([0., 0., 0., 0., 0., 0., 0., 0.], device='cuda:0')\n"
     ]
    },
    {
     "name": "stderr",
     "output_type": "stream",
     "text": [
      "\r",
      " 14%|█████                               | 17/121 [00:02<00:15,  6.77it/s]"
     ]
    },
    {
     "name": "stdout",
     "output_type": "stream",
     "text": [
      "--------------\n",
      "torch.Size([391, 8, 80])\n",
      "tensor([0., 0., 0., 0., 0., 0., 0., 0.], device='cuda:0')\n"
     ]
    },
    {
     "name": "stderr",
     "output_type": "stream",
     "text": [
      "\r",
      " 15%|█████▎                              | 18/121 [00:02<00:14,  6.97it/s]"
     ]
    },
    {
     "name": "stdout",
     "output_type": "stream",
     "text": [
      "--------------\n",
      "torch.Size([301, 8, 80])\n",
      "tensor([0., 0., 0., 0., 0., 0., 0., 0.], device='cuda:0')\n"
     ]
    },
    {
     "name": "stderr",
     "output_type": "stream",
     "text": [
      "\r",
      " 16%|█████▋                              | 19/121 [00:02<00:15,  6.73it/s]"
     ]
    },
    {
     "name": "stdout",
     "output_type": "stream",
     "text": [
      "--------------\n",
      "torch.Size([376, 8, 80])\n",
      "tensor([0., 0., 0., 0., 0., 0., 0., 0.], device='cuda:0')\n"
     ]
    },
    {
     "name": "stderr",
     "output_type": "stream",
     "text": [
      "\r",
      " 17%|█████▉                              | 20/121 [00:02<00:14,  6.76it/s]"
     ]
    },
    {
     "name": "stdout",
     "output_type": "stream",
     "text": [
      "--------------\n",
      "torch.Size([331, 8, 80])\n",
      "tensor([0., 0., 0., 0., 0., 0., 0., 0.], device='cuda:0')\n"
     ]
    },
    {
     "name": "stderr",
     "output_type": "stream",
     "text": [
      "\r",
      " 17%|██████▏                             | 21/121 [00:03<00:14,  7.02it/s]"
     ]
    },
    {
     "name": "stdout",
     "output_type": "stream",
     "text": [
      "--------------\n",
      "torch.Size([286, 8, 80])\n",
      "tensor([0., 0., 0., 0., 0., 0., 0., 0.], device='cuda:0')\n"
     ]
    },
    {
     "name": "stderr",
     "output_type": "stream",
     "text": [
      "\r",
      " 18%|██████▌                             | 22/121 [00:03<00:14,  6.68it/s]"
     ]
    },
    {
     "name": "stdout",
     "output_type": "stream",
     "text": [
      "--------------\n",
      "torch.Size([391, 8, 80])\n",
      "tensor([0., 0., 0., 0., 0., 0., 0., 0.], device='cuda:0')\n"
     ]
    },
    {
     "name": "stderr",
     "output_type": "stream",
     "text": [
      "\r",
      " 19%|██████▊                             | 23/121 [00:03<00:14,  6.95it/s]"
     ]
    },
    {
     "name": "stdout",
     "output_type": "stream",
     "text": [
      "--------------\n",
      "torch.Size([301, 8, 80])\n",
      "tensor([0., 0., 0., 0., 0., 0., 0., 0.], device='cuda:0')\n"
     ]
    },
    {
     "name": "stderr",
     "output_type": "stream",
     "text": [
      "\r",
      " 20%|███████▏                            | 24/121 [00:03<00:13,  6.96it/s]"
     ]
    },
    {
     "name": "stdout",
     "output_type": "stream",
     "text": [
      "--------------\n",
      "torch.Size([331, 8, 80])\n",
      "tensor([0., 0., 0., 0., 0., 0., 0., 0.], device='cuda:0')\n"
     ]
    },
    {
     "name": "stderr",
     "output_type": "stream",
     "text": [
      "\r",
      " 21%|███████▍                            | 25/121 [00:03<00:13,  7.02it/s]"
     ]
    },
    {
     "name": "stdout",
     "output_type": "stream",
     "text": [
      "--------------\n",
      "torch.Size([316, 8, 80])\n",
      "tensor([0., 0., 0., 0., 0., 0., 0., 0.], device='cuda:0')\n"
     ]
    },
    {
     "name": "stderr",
     "output_type": "stream",
     "text": [
      "\r",
      " 21%|███████▋                            | 26/121 [00:03<00:14,  6.71it/s]"
     ]
    },
    {
     "name": "stdout",
     "output_type": "stream",
     "text": [
      "--------------\n",
      "torch.Size([391, 8, 80])\n",
      "tensor([0., 0., 0., 0., 0., 0., 0., 0.], device='cuda:0')\n"
     ]
    },
    {
     "name": "stderr",
     "output_type": "stream",
     "text": [
      "\r",
      " 22%|████████                            | 27/121 [00:03<00:14,  6.45it/s]"
     ]
    },
    {
     "name": "stdout",
     "output_type": "stream",
     "text": [
      "--------------\n",
      "torch.Size([391, 8, 80])\n",
      "tensor([0., 0., 0., 0., 0., 0., 0., 0.], device='cuda:0')\n"
     ]
    },
    {
     "name": "stderr",
     "output_type": "stream",
     "text": [
      "\r",
      " 23%|████████▎                           | 28/121 [00:04<00:14,  6.50it/s]"
     ]
    },
    {
     "name": "stdout",
     "output_type": "stream",
     "text": [
      "--------------\n",
      "torch.Size([346, 8, 80])\n",
      "tensor([0., 0., 0., 0., 0., 0., 0., 0.], device='cuda:0')\n"
     ]
    },
    {
     "name": "stderr",
     "output_type": "stream",
     "text": [
      "\r",
      " 24%|████████▋                           | 29/121 [00:04<00:13,  6.58it/s]"
     ]
    },
    {
     "name": "stdout",
     "output_type": "stream",
     "text": [
      "--------------\n",
      "torch.Size([346, 8, 80])\n",
      "tensor([0., 0., 0., 0., 0., 0., 0., 0.], device='cuda:0')\n"
     ]
    },
    {
     "name": "stderr",
     "output_type": "stream",
     "text": [
      "\r",
      " 25%|████████▉                           | 30/121 [00:04<00:13,  6.60it/s]"
     ]
    },
    {
     "name": "stdout",
     "output_type": "stream",
     "text": [
      "--------------\n",
      "torch.Size([346, 8, 80])\n",
      "tensor([0., 0., 0., 0., 0., 0., 0., 0.], device='cuda:0')\n"
     ]
    },
    {
     "name": "stderr",
     "output_type": "stream",
     "text": [
      "\r",
      " 26%|█████████▏                          | 31/121 [00:04<00:13,  6.68it/s]"
     ]
    },
    {
     "name": "stdout",
     "output_type": "stream",
     "text": [
      "--------------\n",
      "torch.Size([331, 8, 80])\n",
      "tensor([0., 0., 0., 0., 0., 0., 0., 0.], device='cuda:0')\n"
     ]
    },
    {
     "name": "stderr",
     "output_type": "stream",
     "text": [
      "\r",
      " 26%|█████████▌                          | 32/121 [00:04<00:13,  6.81it/s]"
     ]
    },
    {
     "name": "stdout",
     "output_type": "stream",
     "text": [
      "--------------\n",
      "torch.Size([316, 8, 80])\n",
      "tensor([0., 0., 0., 0., 0., 0., 0., 0.], device='cuda:0')\n"
     ]
    },
    {
     "name": "stderr",
     "output_type": "stream",
     "text": [
      "\r",
      " 27%|█████████▊                          | 33/121 [00:04<00:12,  6.84it/s]"
     ]
    },
    {
     "name": "stdout",
     "output_type": "stream",
     "text": [
      "--------------\n",
      "torch.Size([331, 8, 80])\n",
      "tensor([0., 0., 0., 0., 0., 0., 0., 0.], device='cuda:0')\n"
     ]
    },
    {
     "name": "stderr",
     "output_type": "stream",
     "text": [
      "\r",
      " 28%|██████████                          | 34/121 [00:05<00:12,  6.93it/s]"
     ]
    },
    {
     "name": "stdout",
     "output_type": "stream",
     "text": [
      "--------------\n",
      "torch.Size([316, 8, 80])\n",
      "tensor([0., 0., 0., 0., 0., 0., 0., 0.], device='cuda:0')\n"
     ]
    },
    {
     "name": "stderr",
     "output_type": "stream",
     "text": [
      "\r",
      " 29%|██████████▍                         | 35/121 [00:05<00:12,  7.01it/s]"
     ]
    },
    {
     "name": "stdout",
     "output_type": "stream",
     "text": [
      "--------------\n",
      "torch.Size([316, 8, 80])\n",
      "tensor([0., 0., 0., 0., 0., 0., 0., 0.], device='cuda:0')\n"
     ]
    },
    {
     "name": "stderr",
     "output_type": "stream",
     "text": [
      "\r",
      " 30%|██████████▋                         | 36/121 [00:05<00:12,  7.08it/s]"
     ]
    },
    {
     "name": "stdout",
     "output_type": "stream",
     "text": [
      "--------------\n",
      "torch.Size([316, 8, 80])\n",
      "tensor([0., 0., 0., 0., 0., 0., 0., 0.], device='cuda:0')\n",
      "--------------\n",
      "torch.Size([466, 8, 80])\n",
      "tensor([0., 0., 0., 0., 0., 0., 0., 0.], device='cuda:0')\n"
     ]
    },
    {
     "name": "stderr",
     "output_type": "stream",
     "text": [
      " 31%|███████████▎                        | 38/121 [00:05<00:13,  6.32it/s]"
     ]
    },
    {
     "name": "stdout",
     "output_type": "stream",
     "text": [
      "--------------\n",
      "torch.Size([376, 8, 80])\n",
      "tensor([0., 0., 0., 0., 0., 0., 0., 0.], device='cuda:0')\n"
     ]
    },
    {
     "name": "stderr",
     "output_type": "stream",
     "text": [
      "\r",
      " 32%|███████████▌                        | 39/121 [00:05<00:13,  5.97it/s]"
     ]
    },
    {
     "name": "stdout",
     "output_type": "stream",
     "text": [
      "--------------\n",
      "torch.Size([451, 8, 80])\n",
      "tensor([0., 0., 0., 0., 0., 0., 0., 0.], device='cuda:0')\n"
     ]
    },
    {
     "name": "stderr",
     "output_type": "stream",
     "text": [
      "\r",
      " 33%|███████████▉                        | 40/121 [00:05<00:13,  6.21it/s]"
     ]
    },
    {
     "name": "stdout",
     "output_type": "stream",
     "text": [
      "--------------\n",
      "torch.Size([346, 8, 80])\n",
      "tensor([0., 0., 0., 0., 0., 0., 0., 0.], device='cuda:0')\n"
     ]
    },
    {
     "name": "stderr",
     "output_type": "stream",
     "text": [
      "\r",
      " 34%|████████████▏                       | 41/121 [00:06<00:12,  6.23it/s]"
     ]
    },
    {
     "name": "stdout",
     "output_type": "stream",
     "text": [
      "--------------\n",
      "torch.Size([376, 8, 80])\n",
      "tensor([0., 0., 0., 0., 0., 0., 0., 0.], device='cuda:0')\n"
     ]
    },
    {
     "name": "stderr",
     "output_type": "stream",
     "text": [
      "\r",
      " 35%|████████████▍                       | 42/121 [00:06<00:12,  6.10it/s]"
     ]
    },
    {
     "name": "stdout",
     "output_type": "stream",
     "text": [
      "--------------\n",
      "torch.Size([406, 8, 80])\n",
      "tensor([0., 0., 0., 0., 0., 0., 0., 0.], device='cuda:0')\n"
     ]
    },
    {
     "name": "stderr",
     "output_type": "stream",
     "text": [
      "\r",
      " 36%|████████████▊                       | 43/121 [00:06<00:11,  6.52it/s]"
     ]
    },
    {
     "name": "stdout",
     "output_type": "stream",
     "text": [
      "--------------\n",
      "torch.Size([301, 8, 80])\n",
      "tensor([0., 0., 0., 0., 0., 0., 0., 0.], device='cuda:0')\n"
     ]
    },
    {
     "name": "stderr",
     "output_type": "stream",
     "text": [
      "\r",
      " 36%|█████████████                       | 44/121 [00:06<00:11,  6.59it/s]"
     ]
    },
    {
     "name": "stdout",
     "output_type": "stream",
     "text": [
      "--------------\n",
      "torch.Size([346, 8, 80])\n",
      "tensor([0., 0., 0., 0., 0., 0., 0., 0.], device='cuda:0')\n"
     ]
    },
    {
     "name": "stderr",
     "output_type": "stream",
     "text": [
      "\r",
      " 37%|█████████████▍                      | 45/121 [00:06<00:12,  6.15it/s]"
     ]
    },
    {
     "name": "stdout",
     "output_type": "stream",
     "text": [
      "--------------\n",
      "torch.Size([451, 8, 80])\n",
      "tensor([0., 0., 0., 0., 0., 0., 0., 0.], device='cuda:0')\n"
     ]
    },
    {
     "name": "stderr",
     "output_type": "stream",
     "text": [
      "\r",
      " 38%|█████████████▋                      | 46/121 [00:06<00:11,  6.57it/s]"
     ]
    },
    {
     "name": "stdout",
     "output_type": "stream",
     "text": [
      "--------------\n",
      "torch.Size([286, 8, 80])\n",
      "tensor([0., 0., 0., 0., 0., 0., 0., 0.], device='cuda:0')\n"
     ]
    },
    {
     "name": "stderr",
     "output_type": "stream",
     "text": [
      "\r",
      " 39%|█████████████▉                      | 47/121 [00:07<00:10,  6.92it/s]"
     ]
    },
    {
     "name": "stdout",
     "output_type": "stream",
     "text": [
      "--------------\n",
      "torch.Size([286, 8, 80])\n",
      "tensor([0., 0., 0., 0., 0., 0., 0., 0.], device='cuda:0')\n"
     ]
    },
    {
     "name": "stderr",
     "output_type": "stream",
     "text": [
      "\r",
      " 40%|██████████████▎                     | 48/121 [00:07<00:10,  6.92it/s]"
     ]
    },
    {
     "name": "stdout",
     "output_type": "stream",
     "text": [
      "--------------\n",
      "torch.Size([331, 8, 80])\n",
      "tensor([0., 0., 0., 0., 0., 0., 0., 0.], device='cuda:0')\n"
     ]
    },
    {
     "name": "stderr",
     "output_type": "stream",
     "text": [
      "\r",
      " 40%|██████████████▌                     | 49/121 [00:07<00:11,  6.47it/s]"
     ]
    },
    {
     "name": "stdout",
     "output_type": "stream",
     "text": [
      "--------------\n",
      "torch.Size([421, 8, 80])\n",
      "tensor([0., 0., 0., 0., 0., 0., 0., 0.], device='cuda:0')\n"
     ]
    },
    {
     "name": "stderr",
     "output_type": "stream",
     "text": [
      "\r",
      " 41%|██████████████▉                     | 50/121 [00:07<00:10,  6.54it/s]"
     ]
    },
    {
     "name": "stdout",
     "output_type": "stream",
     "text": [
      "--------------\n",
      "torch.Size([346, 8, 80])\n",
      "tensor([0., 0., 0., 0., 0., 0., 0., 0.], device='cuda:0')\n"
     ]
    },
    {
     "name": "stderr",
     "output_type": "stream",
     "text": [
      "\r",
      " 42%|███████████████▏                    | 51/121 [00:07<00:10,  6.81it/s]"
     ]
    },
    {
     "name": "stdout",
     "output_type": "stream",
     "text": [
      "--------------\n",
      "torch.Size([301, 8, 80])\n",
      "tensor([0., 0., 0., 0., 0., 0., 0., 0.], device='cuda:0')\n"
     ]
    },
    {
     "name": "stderr",
     "output_type": "stream",
     "text": [
      "\r",
      " 43%|███████████████▍                    | 52/121 [00:07<00:09,  6.92it/s]"
     ]
    },
    {
     "name": "stdout",
     "output_type": "stream",
     "text": [
      "--------------\n",
      "torch.Size([316, 8, 80])\n",
      "tensor([0., 0., 0., 0., 0., 0., 0., 0.], device='cuda:0')\n"
     ]
    },
    {
     "name": "stderr",
     "output_type": "stream",
     "text": [
      "\r",
      " 44%|███████████████▊                    | 53/121 [00:07<00:09,  6.98it/s]"
     ]
    },
    {
     "name": "stdout",
     "output_type": "stream",
     "text": [
      "--------------\n",
      "torch.Size([316, 8, 80])\n",
      "tensor([0., 0., 0., 0., 0., 0., 0., 0.], device='cuda:0')\n"
     ]
    },
    {
     "name": "stderr",
     "output_type": "stream",
     "text": [
      "\r",
      " 45%|████████████████                    | 54/121 [00:08<00:09,  6.82it/s]"
     ]
    },
    {
     "name": "stdout",
     "output_type": "stream",
     "text": [
      "--------------\n",
      "torch.Size([361, 8, 80])\n",
      "tensor([0., 0., 0., 0., 0., 0., 0., 0.], device='cuda:0')\n"
     ]
    },
    {
     "name": "stderr",
     "output_type": "stream",
     "text": [
      "\r",
      " 45%|████████████████▎                   | 55/121 [00:08<00:09,  6.67it/s]"
     ]
    },
    {
     "name": "stdout",
     "output_type": "stream",
     "text": [
      "--------------\n",
      "torch.Size([346, 8, 80])\n",
      "tensor([0., 0., 0., 0., 0., 0., 0., 0.], device='cuda:0')\n"
     ]
    },
    {
     "name": "stderr",
     "output_type": "stream",
     "text": [
      "\r",
      " 46%|████████████████▋                   | 56/121 [00:08<00:09,  6.57it/s]"
     ]
    },
    {
     "name": "stdout",
     "output_type": "stream",
     "text": [
      "--------------\n",
      "torch.Size([361, 8, 80])\n",
      "tensor([0., 0., 0., 0., 0., 0., 0., 0.], device='cuda:0')\n"
     ]
    },
    {
     "name": "stderr",
     "output_type": "stream",
     "text": [
      "\r",
      " 47%|████████████████▉                   | 57/121 [00:08<00:09,  6.64it/s]"
     ]
    },
    {
     "name": "stdout",
     "output_type": "stream",
     "text": [
      "--------------\n",
      "torch.Size([331, 8, 80])\n",
      "tensor([0., 0., 0., 0., 0., 0., 0., 0.], device='cuda:0')\n"
     ]
    },
    {
     "name": "stderr",
     "output_type": "stream",
     "text": [
      "\r",
      " 48%|█████████████████▎                  | 58/121 [00:08<00:08,  7.11it/s]"
     ]
    },
    {
     "name": "stdout",
     "output_type": "stream",
     "text": [
      "--------------\n",
      "torch.Size([256, 8, 80])\n",
      "tensor([0., 0., 0., 0., 0., 0., 0., 0.], device='cuda:0')\n"
     ]
    },
    {
     "name": "stderr",
     "output_type": "stream",
     "text": [
      "\r",
      " 49%|█████████████████▌                  | 59/121 [00:08<00:08,  6.98it/s]"
     ]
    },
    {
     "name": "stdout",
     "output_type": "stream",
     "text": [
      "--------------\n",
      "torch.Size([346, 8, 80])\n",
      "tensor([0., 0., 0., 0., 0., 0., 0., 0.], device='cuda:0')\n"
     ]
    },
    {
     "name": "stderr",
     "output_type": "stream",
     "text": [
      "\r",
      " 50%|█████████████████▊                  | 60/121 [00:08<00:08,  6.91it/s]"
     ]
    },
    {
     "name": "stdout",
     "output_type": "stream",
     "text": [
      "--------------\n",
      "torch.Size([346, 8, 80])\n",
      "tensor([0., 0., 0., 0., 0., 0., 0., 0.], device='cuda:0')\n"
     ]
    },
    {
     "name": "stderr",
     "output_type": "stream",
     "text": [
      "\r",
      " 50%|██████████████████▏                 | 61/121 [00:09<00:08,  6.70it/s]"
     ]
    },
    {
     "name": "stdout",
     "output_type": "stream",
     "text": [
      "--------------\n",
      "torch.Size([361, 8, 80])\n",
      "tensor([0., 0., 0., 0., 0., 0., 0., 0.], device='cuda:0')\n"
     ]
    },
    {
     "name": "stderr",
     "output_type": "stream",
     "text": [
      "\r",
      " 51%|██████████████████▍                 | 62/121 [00:09<00:08,  7.17it/s]"
     ]
    },
    {
     "name": "stdout",
     "output_type": "stream",
     "text": [
      "--------------\n",
      "torch.Size([256, 8, 80])\n",
      "tensor([0., 0., 0., 0., 0., 0., 0., 0.], device='cuda:0')\n"
     ]
    },
    {
     "name": "stderr",
     "output_type": "stream",
     "text": [
      " 53%|███████████████████                 | 64/121 [00:09<00:08,  6.60it/s]"
     ]
    },
    {
     "name": "stdout",
     "output_type": "stream",
     "text": [
      "--------------\n",
      "torch.Size([496, 8, 80])\n",
      "tensor([0., 0., 0., 0., 0., 0., 0., 0.], device='cuda:0')\n",
      "--------------\n",
      "torch.Size([286, 8, 80])\n",
      "tensor([0., 0., 0., 0., 0., 0., 0., 0.], device='cuda:0')\n"
     ]
    },
    {
     "name": "stderr",
     "output_type": "stream",
     "text": [
      " 55%|███████████████████▋                | 66/121 [00:09<00:08,  6.58it/s]"
     ]
    },
    {
     "name": "stdout",
     "output_type": "stream",
     "text": [
      "--------------\n",
      "torch.Size([361, 8, 80])\n",
      "tensor([0., 0., 0., 0., 0., 0., 0., 0.], device='cuda:0')\n",
      "--------------\n",
      "torch.Size([331, 8, 80])\n",
      "tensor([0., 0., 0., 0., 0., 0., 0., 0.], device='cuda:0')\n"
     ]
    },
    {
     "name": "stderr",
     "output_type": "stream",
     "text": [
      " 56%|████████████████████▏               | 68/121 [00:10<00:07,  7.12it/s]"
     ]
    },
    {
     "name": "stdout",
     "output_type": "stream",
     "text": [
      "--------------\n",
      "torch.Size([316, 8, 80])\n",
      "tensor([0., 0., 0., 0., 0., 0., 0., 0.], device='cuda:0')\n",
      "--------------\n",
      "torch.Size([271, 8, 80])\n",
      "tensor([0., 0., 0., 0., 0., 0., 0., 0.], device='cuda:0')\n"
     ]
    },
    {
     "name": "stderr",
     "output_type": "stream",
     "text": [
      " 58%|████████████████████▊               | 70/121 [00:10<00:07,  6.92it/s]"
     ]
    },
    {
     "name": "stdout",
     "output_type": "stream",
     "text": [
      "--------------\n",
      "torch.Size([286, 8, 80])\n",
      "tensor([0., 0., 0., 0., 0., 0., 0., 0.], device='cuda:0')\n",
      "--------------\n",
      "torch.Size([376, 8, 80])\n",
      "tensor([0., 0., 0., 0., 0., 0., 0., 0.], device='cuda:0')\n"
     ]
    },
    {
     "name": "stderr",
     "output_type": "stream",
     "text": [
      " 60%|█████████████████████▍              | 72/121 [00:10<00:07,  6.79it/s]"
     ]
    },
    {
     "name": "stdout",
     "output_type": "stream",
     "text": [
      "--------------\n",
      "torch.Size([391, 8, 80])\n",
      "tensor([0., 0., 0., 0., 0., 0., 0., 0.], device='cuda:0')\n",
      "--------------\n",
      "torch.Size([301, 8, 80])\n",
      "tensor([0., 0., 0., 0., 0., 0., 0., 0.], device='cuda:0')\n"
     ]
    },
    {
     "name": "stderr",
     "output_type": "stream",
     "text": [
      " 61%|██████████████████████              | 74/121 [00:11<00:07,  6.58it/s]"
     ]
    },
    {
     "name": "stdout",
     "output_type": "stream",
     "text": [
      "--------------\n",
      "torch.Size([316, 8, 80])\n",
      "tensor([0., 0., 0., 0., 0., 0., 0., 0.], device='cuda:0')\n",
      "--------------\n",
      "torch.Size([391, 8, 80])\n",
      "tensor([0., 0., 0., 0., 0., 0., 0., 0.], device='cuda:0')\n"
     ]
    },
    {
     "name": "stderr",
     "output_type": "stream",
     "text": [
      " 63%|██████████████████████▌             | 76/121 [00:11<00:06,  6.57it/s]"
     ]
    },
    {
     "name": "stdout",
     "output_type": "stream",
     "text": [
      "--------------\n",
      "torch.Size([346, 8, 80])\n",
      "tensor([0., 0., 0., 0., 0., 0., 0., 0.], device='cuda:0')\n",
      "--------------\n",
      "torch.Size([346, 8, 80])\n",
      "tensor([0., 0., 0., 0., 0., 0., 0., 0.], device='cuda:0')\n"
     ]
    },
    {
     "name": "stderr",
     "output_type": "stream",
     "text": [
      " 64%|███████████████████████▏            | 78/121 [00:11<00:07,  5.92it/s]"
     ]
    },
    {
     "name": "stdout",
     "output_type": "stream",
     "text": [
      "--------------\n",
      "torch.Size([451, 8, 80])\n",
      "tensor([0., 0., 0., 0., 0., 0., 0., 0.], device='cuda:0')\n",
      "--------------\n",
      "torch.Size([421, 8, 80])\n",
      "tensor([0., 0., 0., 0., 0., 0., 0., 0.], device='cuda:0')\n"
     ]
    },
    {
     "name": "stderr",
     "output_type": "stream",
     "text": [
      " 66%|███████████████████████▊            | 80/121 [00:11<00:06,  6.35it/s]"
     ]
    },
    {
     "name": "stdout",
     "output_type": "stream",
     "text": [
      "--------------\n",
      "torch.Size([361, 8, 80])\n",
      "tensor([0., 0., 0., 0., 0., 0., 0., 0.], device='cuda:0')\n",
      "--------------\n",
      "torch.Size([316, 8, 80])\n",
      "tensor([0., 0., 0., 0., 0., 0., 0., 0.], device='cuda:0')\n"
     ]
    },
    {
     "name": "stderr",
     "output_type": "stream",
     "text": [
      " 68%|████████████████████████▍           | 82/121 [00:12<00:06,  6.34it/s]"
     ]
    },
    {
     "name": "stdout",
     "output_type": "stream",
     "text": [
      "--------------\n",
      "torch.Size([421, 8, 80])\n",
      "tensor([0., 0., 0., 0., 0., 0., 0., 0.], device='cuda:0')\n",
      "--------------\n",
      "torch.Size([331, 8, 80])\n",
      "tensor([0., 0., 0., 0., 0., 0., 0., 0.], device='cuda:0')\n"
     ]
    },
    {
     "name": "stderr",
     "output_type": "stream",
     "text": [
      " 69%|████████████████████████▉           | 84/121 [00:12<00:05,  6.58it/s]"
     ]
    },
    {
     "name": "stdout",
     "output_type": "stream",
     "text": [
      "--------------\n",
      "torch.Size([256, 8, 80])\n",
      "tensor([0., 0., 0., 0., 0., 0., 0., 0.], device='cuda:0')\n",
      "--------------\n",
      "torch.Size([391, 8, 80])\n",
      "tensor([0., 0., 0., 0., 0., 0., 0., 0.], device='cuda:0')\n"
     ]
    },
    {
     "name": "stderr",
     "output_type": "stream",
     "text": [
      " 71%|█████████████████████████▌          | 86/121 [00:12<00:05,  6.15it/s]"
     ]
    },
    {
     "name": "stdout",
     "output_type": "stream",
     "text": [
      "--------------\n",
      "torch.Size([481, 8, 80])\n",
      "tensor([0., 0., 0., 0., 0., 0., 0., 0.], device='cuda:0')\n",
      "--------------\n",
      "torch.Size([346, 8, 80])\n",
      "tensor([0., 0., 0., 0., 0., 0., 0., 0.], device='cuda:0')\n"
     ]
    },
    {
     "name": "stderr",
     "output_type": "stream",
     "text": [
      " 73%|██████████████████████████▏         | 88/121 [00:13<00:04,  6.89it/s]"
     ]
    },
    {
     "name": "stdout",
     "output_type": "stream",
     "text": [
      "--------------\n",
      "torch.Size([256, 8, 80])\n",
      "tensor([0., 0., 0., 0., 0., 0., 0., 0.], device='cuda:0')\n",
      "--------------\n",
      "torch.Size([316, 8, 80])\n",
      "tensor([0., 0., 0., 0., 0., 0., 0., 0.], device='cuda:0')\n"
     ]
    },
    {
     "name": "stderr",
     "output_type": "stream",
     "text": [
      " 74%|██████████████████████████▊         | 90/121 [00:13<00:04,  7.11it/s]"
     ]
    },
    {
     "name": "stdout",
     "output_type": "stream",
     "text": [
      "--------------\n",
      "torch.Size([286, 8, 80])\n",
      "tensor([0., 0., 0., 0., 0., 0., 0., 0.], device='cuda:0')\n",
      "--------------\n",
      "torch.Size([331, 8, 80])\n",
      "tensor([0., 0., 0., 0., 0., 0., 0., 0.], device='cuda:0')\n"
     ]
    },
    {
     "name": "stderr",
     "output_type": "stream",
     "text": [
      " 76%|███████████████████████████▎        | 92/121 [00:13<00:04,  6.65it/s]"
     ]
    },
    {
     "name": "stdout",
     "output_type": "stream",
     "text": [
      "--------------\n",
      "torch.Size([361, 8, 80])\n",
      "tensor([0., 0., 0., 0., 0., 0., 0., 0.], device='cuda:0')\n",
      "--------------\n",
      "torch.Size([391, 8, 80])\n",
      "tensor([0., 0., 0., 0., 0., 0., 0., 0.], device='cuda:0')\n"
     ]
    },
    {
     "name": "stderr",
     "output_type": "stream",
     "text": [
      " 78%|███████████████████████████▉        | 94/121 [00:14<00:04,  6.47it/s]"
     ]
    },
    {
     "name": "stdout",
     "output_type": "stream",
     "text": [
      "--------------\n",
      "torch.Size([436, 8, 80])\n",
      "tensor([0., 0., 0., 0., 0., 0., 0., 0.], device='cuda:0')\n",
      "--------------\n",
      "torch.Size([346, 8, 80])\n",
      "tensor([0., 0., 0., 0., 0., 0., 0., 0.], device='cuda:0')\n"
     ]
    },
    {
     "name": "stderr",
     "output_type": "stream",
     "text": [
      " 79%|████████████████████████████▌       | 96/121 [00:14<00:03,  6.86it/s]"
     ]
    },
    {
     "name": "stdout",
     "output_type": "stream",
     "text": [
      "--------------\n",
      "torch.Size([376, 8, 80])\n",
      "tensor([0., 0., 0., 0., 0., 0., 0., 0.], device='cuda:0')\n",
      "--------------\n",
      "torch.Size([286, 8, 80])\n",
      "tensor([0., 0., 0., 0., 0., 0., 0., 0.], device='cuda:0')\n"
     ]
    },
    {
     "name": "stderr",
     "output_type": "stream",
     "text": [
      " 81%|█████████████████████████████▏      | 98/121 [00:14<00:03,  7.05it/s]"
     ]
    },
    {
     "name": "stdout",
     "output_type": "stream",
     "text": [
      "--------------\n",
      "torch.Size([316, 8, 80])\n",
      "tensor([0., 0., 0., 0., 0., 0., 0., 0.], device='cuda:0')\n",
      "--------------\n",
      "torch.Size([316, 8, 80])\n",
      "tensor([0., 0., 0., 0., 0., 0., 0., 0.], device='cuda:0')\n"
     ]
    },
    {
     "name": "stderr",
     "output_type": "stream",
     "text": [
      " 83%|████████████████████████████▉      | 100/121 [00:14<00:02,  7.25it/s]"
     ]
    },
    {
     "name": "stdout",
     "output_type": "stream",
     "text": [
      "--------------\n",
      "torch.Size([286, 8, 80])\n",
      "tensor([0., 0., 0., 0., 0., 0., 0., 0.], device='cuda:0')\n",
      "--------------\n",
      "torch.Size([316, 8, 80])\n",
      "tensor([0., 0., 0., 0., 0., 0., 0., 0.], device='cuda:0')\n"
     ]
    },
    {
     "name": "stderr",
     "output_type": "stream",
     "text": [
      " 84%|█████████████████████████████▌     | 102/121 [00:15<00:02,  7.07it/s]"
     ]
    },
    {
     "name": "stdout",
     "output_type": "stream",
     "text": [
      "--------------\n",
      "torch.Size([361, 8, 80])\n",
      "tensor([0., 0., 0., 0., 0., 0., 0., 0.], device='cuda:0')\n",
      "--------------\n",
      "torch.Size([316, 8, 80])\n",
      "tensor([0., 0., 0., 0., 0., 0., 0., 0.], device='cuda:0')\n"
     ]
    },
    {
     "name": "stderr",
     "output_type": "stream",
     "text": [
      "\r",
      " 85%|█████████████████████████████▊     | 103/121 [00:15<00:02,  6.65it/s]"
     ]
    },
    {
     "name": "stdout",
     "output_type": "stream",
     "text": [
      "--------------\n",
      "torch.Size([391, 8, 80])\n",
      "tensor([0., 0., 0., 0., 0., 0., 0., 0.], device='cuda:0')\n"
     ]
    },
    {
     "name": "stderr",
     "output_type": "stream",
     "text": [
      " 87%|██████████████████████████████▎    | 105/121 [00:15<00:02,  6.07it/s]"
     ]
    },
    {
     "name": "stdout",
     "output_type": "stream",
     "text": [
      "--------------\n",
      "torch.Size([496, 8, 80])\n",
      "tensor([0., 0., 0., 0., 0., 0., 0., 0.], device='cuda:0')\n",
      "--------------\n",
      "torch.Size([361, 8, 80])\n",
      "tensor([0., 0., 0., 0., 0., 0., 0., 0.], device='cuda:0')\n"
     ]
    },
    {
     "name": "stderr",
     "output_type": "stream",
     "text": [
      " 88%|██████████████████████████████▉    | 107/121 [00:16<00:02,  6.15it/s]"
     ]
    },
    {
     "name": "stdout",
     "output_type": "stream",
     "text": [
      "--------------\n",
      "torch.Size([391, 8, 80])\n",
      "tensor([0., 0., 0., 0., 0., 0., 0., 0.], device='cuda:0')\n",
      "--------------\n",
      "torch.Size([361, 8, 80])\n",
      "tensor([0., 0., 0., 0., 0., 0., 0., 0.], device='cuda:0')\n"
     ]
    },
    {
     "name": "stderr",
     "output_type": "stream",
     "text": [
      " 90%|███████████████████████████████▌   | 109/121 [00:16<00:01,  6.37it/s]"
     ]
    },
    {
     "name": "stdout",
     "output_type": "stream",
     "text": [
      "--------------\n",
      "torch.Size([286, 8, 80])\n",
      "tensor([0., 0., 0., 0., 0., 0., 0., 0.], device='cuda:0')\n",
      "--------------\n",
      "torch.Size([391, 8, 80])\n",
      "tensor([0., 0., 0., 0., 0., 0., 0., 0.], device='cuda:0')\n"
     ]
    },
    {
     "name": "stderr",
     "output_type": "stream",
     "text": [
      " 92%|████████████████████████████████   | 111/121 [00:16<00:01,  6.52it/s]"
     ]
    },
    {
     "name": "stdout",
     "output_type": "stream",
     "text": [
      "--------------\n",
      "torch.Size([346, 8, 80])\n",
      "tensor([0., 0., 0., 0., 0., 0., 0., 0.], device='cuda:0')\n",
      "--------------\n",
      "torch.Size([346, 8, 80])\n",
      "tensor([0., 0., 0., 0., 0., 0., 0., 0.], device='cuda:0')\n"
     ]
    },
    {
     "name": "stderr",
     "output_type": "stream",
     "text": [
      " 93%|████████████████████████████████▋  | 113/121 [00:17<00:01,  6.41it/s]"
     ]
    },
    {
     "name": "stdout",
     "output_type": "stream",
     "text": [
      "--------------\n",
      "torch.Size([391, 8, 80])\n",
      "tensor([0., 0., 0., 0., 0., 0., 0., 0.], device='cuda:0')\n",
      "--------------\n",
      "torch.Size([346, 8, 80])\n",
      "tensor([0., 0., 0., 0., 0., 0., 0., 0.], device='cuda:0')\n"
     ]
    },
    {
     "name": "stderr",
     "output_type": "stream",
     "text": [
      " 95%|█████████████████████████████████▎ | 115/121 [00:17<00:00,  6.50it/s]"
     ]
    },
    {
     "name": "stdout",
     "output_type": "stream",
     "text": [
      "--------------\n",
      "torch.Size([406, 8, 80])\n",
      "tensor([0., 0., 0., 0., 0., 0., 0., 0.], device='cuda:0')\n",
      "--------------\n",
      "torch.Size([301, 8, 80])\n",
      "tensor([0., 0., 0., 0., 0., 0., 0., 0.], device='cuda:0')\n"
     ]
    },
    {
     "name": "stderr",
     "output_type": "stream",
     "text": [
      " 97%|█████████████████████████████████▊ | 117/121 [00:17<00:00,  6.69it/s]"
     ]
    },
    {
     "name": "stdout",
     "output_type": "stream",
     "text": [
      "--------------\n",
      "torch.Size([286, 8, 80])\n",
      "tensor([0., 0., 0., 0., 0., 0., 0., 0.], device='cuda:0')\n",
      "--------------\n",
      "torch.Size([361, 8, 80])\n",
      "tensor([0., 0., 0., 0., 0., 0., 0., 0.], device='cuda:0')\n"
     ]
    },
    {
     "name": "stderr",
     "output_type": "stream",
     "text": [
      " 98%|██████████████████████████████████▍| 119/121 [00:17<00:00,  6.59it/s]"
     ]
    },
    {
     "name": "stdout",
     "output_type": "stream",
     "text": [
      "--------------\n",
      "torch.Size([331, 8, 80])\n",
      "tensor([0., 0., 0., 0., 0., 0., 0., 0.], device='cuda:0')\n",
      "--------------\n",
      "torch.Size([376, 8, 80])\n",
      "tensor([0., 0., 0., 0., 0., 0., 0., 0.], device='cuda:0')\n"
     ]
    },
    {
     "name": "stderr",
     "output_type": "stream",
     "text": [
      "100%|███████████████████████████████████| 121/121 [00:18<00:00,  6.66it/s]"
     ]
    },
    {
     "name": "stdout",
     "output_type": "stream",
     "text": [
      "--------------\n",
      "torch.Size([271, 8, 80])\n",
      "tensor([0., 0., 0., 0., 0., 0., 0., 0.], device='cuda:0')\n",
      "--------------\n",
      "torch.Size([421, 6, 80])\n",
      "tensor([0., 0., 0., 0., 0., 0.], device='cuda:0')\n",
      "Test CER 0.21008679335660171\n",
      "Test WER 0.5616832257529663\n",
      "Test CTC 241.92682453416148\n",
      "Saving Best\n"
     ]
    },
    {
     "name": "stderr",
     "output_type": "stream",
     "text": [
      "\n"
     ]
    },
    {
     "name": "stdout",
     "output_type": "stream",
     "text": [
      "Train Set Size = 771\n"
     ]
    },
    {
     "name": "stderr",
     "output_type": "stream",
     "text": [
      "CER: 0.17432098454776965 CTC: 2295.747314453125 Ground Truth: |In 1 9 5 0 \n"
     ]
    },
    {
     "name": "stdout",
     "output_type": "stream",
     "text": [
      "Epoch: 8 Training CER 0.17430146386435888\n",
      "Training WER: 0.509159581024479\n",
      "Time: 280.72877264022827 Seconds\n",
      "Validation Set Size = 121\n"
     ]
    },
    {
     "name": "stderr",
     "output_type": "stream",
     "text": [
      "  1%|▎                                    | 1/121 [00:00<00:22,  5.38it/s]"
     ]
    },
    {
     "name": "stdout",
     "output_type": "stream",
     "text": [
      "--------------\n",
      "torch.Size([436, 8, 80])\n",
      "tensor([0., 0., 0., 0., 0., 0., 0., 0.], device='cuda:0')\n"
     ]
    },
    {
     "name": "stderr",
     "output_type": "stream",
     "text": [
      "\r",
      "  2%|▌                                    | 2/121 [00:00<00:20,  5.92it/s]"
     ]
    },
    {
     "name": "stdout",
     "output_type": "stream",
     "text": [
      "--------------\n",
      "torch.Size([361, 8, 80])\n",
      "tensor([0., 0., 0., 0., 0., 0., 0., 0.], device='cuda:0')\n"
     ]
    },
    {
     "name": "stderr",
     "output_type": "stream",
     "text": [
      "\r",
      "  2%|▉                                    | 3/121 [00:00<00:18,  6.34it/s]"
     ]
    },
    {
     "name": "stdout",
     "output_type": "stream",
     "text": [
      "--------------\n",
      "torch.Size([331, 8, 80])\n",
      "tensor([0., 0., 0., 0., 0., 0., 0., 0.], device='cuda:0')\n"
     ]
    },
    {
     "name": "stderr",
     "output_type": "stream",
     "text": [
      "\r",
      "  3%|█▏                                   | 4/121 [00:00<00:16,  6.90it/s]"
     ]
    },
    {
     "name": "stdout",
     "output_type": "stream",
     "text": [
      "--------------\n",
      "torch.Size([286, 8, 80])\n",
      "tensor([0., 0., 0., 0., 0., 0., 0., 0.], device='cuda:0')\n"
     ]
    },
    {
     "name": "stderr",
     "output_type": "stream",
     "text": [
      "\r",
      "  4%|█▌                                   | 5/121 [00:00<00:16,  6.88it/s]"
     ]
    },
    {
     "name": "stdout",
     "output_type": "stream",
     "text": [
      "--------------\n",
      "torch.Size([346, 8, 80])\n",
      "tensor([0., 0., 0., 0., 0., 0., 0., 0.], device='cuda:0')\n"
     ]
    },
    {
     "name": "stderr",
     "output_type": "stream",
     "text": [
      "\r",
      "  5%|█▊                                   | 6/121 [00:00<00:17,  6.61it/s]"
     ]
    },
    {
     "name": "stdout",
     "output_type": "stream",
     "text": [
      "--------------\n",
      "torch.Size([391, 8, 80])\n",
      "tensor([0., 0., 0., 0., 0., 0., 0., 0.], device='cuda:0')\n"
     ]
    },
    {
     "name": "stderr",
     "output_type": "stream",
     "text": [
      "\r",
      "  6%|██▏                                  | 7/121 [00:01<00:16,  7.08it/s]"
     ]
    },
    {
     "name": "stdout",
     "output_type": "stream",
     "text": [
      "--------------\n",
      "torch.Size([271, 8, 80])\n",
      "tensor([0., 0., 0., 0., 0., 0., 0., 0.], device='cuda:0')\n"
     ]
    },
    {
     "name": "stderr",
     "output_type": "stream",
     "text": [
      "\r",
      "  7%|██▍                                  | 8/121 [00:01<00:16,  6.67it/s]"
     ]
    },
    {
     "name": "stdout",
     "output_type": "stream",
     "text": [
      "--------------\n",
      "torch.Size([391, 8, 80])\n",
      "tensor([0., 0., 0., 0., 0., 0., 0., 0.], device='cuda:0')\n"
     ]
    },
    {
     "name": "stderr",
     "output_type": "stream",
     "text": [
      "\r",
      "  7%|██▊                                  | 9/121 [00:01<00:15,  7.09it/s]"
     ]
    },
    {
     "name": "stdout",
     "output_type": "stream",
     "text": [
      "--------------\n",
      "torch.Size([271, 8, 80])\n",
      "tensor([0., 0., 0., 0., 0., 0., 0., 0.], device='cuda:0')\n"
     ]
    },
    {
     "name": "stderr",
     "output_type": "stream",
     "text": [
      "\r",
      "  8%|██▉                                 | 10/121 [00:01<00:15,  7.33it/s]"
     ]
    },
    {
     "name": "stdout",
     "output_type": "stream",
     "text": [
      "--------------\n",
      "torch.Size([286, 8, 80])\n",
      "tensor([0., 0., 0., 0., 0., 0., 0., 0.], device='cuda:0')\n"
     ]
    },
    {
     "name": "stderr",
     "output_type": "stream",
     "text": [
      "\r",
      "  9%|███▎                                | 11/121 [00:01<00:15,  7.25it/s]"
     ]
    },
    {
     "name": "stdout",
     "output_type": "stream",
     "text": [
      "--------------\n",
      "torch.Size([316, 8, 80])\n",
      "tensor([0., 0., 0., 0., 0., 0., 0., 0.], device='cuda:0')\n"
     ]
    },
    {
     "name": "stderr",
     "output_type": "stream",
     "text": [
      "\r",
      " 10%|███▌                                | 12/121 [00:01<00:14,  7.32it/s]"
     ]
    },
    {
     "name": "stdout",
     "output_type": "stream",
     "text": [
      "--------------\n",
      "torch.Size([301, 8, 80])\n",
      "tensor([0., 0., 0., 0., 0., 0., 0., 0.], device='cuda:0')\n"
     ]
    },
    {
     "name": "stderr",
     "output_type": "stream",
     "text": [
      "\r",
      " 11%|███▊                                | 13/121 [00:01<00:15,  6.99it/s]"
     ]
    },
    {
     "name": "stdout",
     "output_type": "stream",
     "text": [
      "--------------\n",
      "torch.Size([361, 8, 80])\n",
      "tensor([0., 0., 0., 0., 0., 0., 0., 0.], device='cuda:0')\n",
      "--------------\n",
      "torch.Size([451, 8, 80])\n",
      "tensor([0., 0., 0., 0., 0., 0., 0., 0.], device='cuda:0')\n"
     ]
    },
    {
     "name": "stderr",
     "output_type": "stream",
     "text": [
      " 12%|████▍                               | 15/121 [00:02<00:16,  6.33it/s]"
     ]
    },
    {
     "name": "stdout",
     "output_type": "stream",
     "text": [
      "--------------\n",
      "torch.Size([361, 8, 80])\n",
      "tensor([0., 0., 0., 0., 0., 0., 0., 0.], device='cuda:0')\n"
     ]
    },
    {
     "name": "stderr",
     "output_type": "stream",
     "text": [
      "\r",
      " 13%|████▊                               | 16/121 [00:02<00:16,  6.30it/s]"
     ]
    },
    {
     "name": "stdout",
     "output_type": "stream",
     "text": [
      "--------------\n",
      "torch.Size([376, 8, 80])\n",
      "tensor([0., 0., 0., 0., 0., 0., 0., 0.], device='cuda:0')\n"
     ]
    },
    {
     "name": "stderr",
     "output_type": "stream",
     "text": [
      "\r",
      " 14%|█████                               | 17/121 [00:02<00:15,  6.69it/s]"
     ]
    },
    {
     "name": "stdout",
     "output_type": "stream",
     "text": [
      "--------------\n",
      "torch.Size([286, 8, 80])\n",
      "tensor([0., 0., 0., 0., 0., 0., 0., 0.], device='cuda:0')\n"
     ]
    },
    {
     "name": "stderr",
     "output_type": "stream",
     "text": [
      "\r",
      " 15%|█████▎                              | 18/121 [00:02<00:15,  6.59it/s]"
     ]
    },
    {
     "name": "stdout",
     "output_type": "stream",
     "text": [
      "--------------\n",
      "torch.Size([361, 8, 80])\n",
      "tensor([0., 0., 0., 0., 0., 0., 0., 0.], device='cuda:0')\n"
     ]
    },
    {
     "name": "stderr",
     "output_type": "stream",
     "text": [
      "\r",
      " 16%|█████▋                              | 19/121 [00:02<00:14,  7.27it/s]"
     ]
    },
    {
     "name": "stdout",
     "output_type": "stream",
     "text": [
      "--------------\n",
      "torch.Size([226, 8, 80])\n",
      "tensor([0., 0., 0., 0., 0., 0., 0., 0.], device='cuda:0')\n"
     ]
    },
    {
     "name": "stderr",
     "output_type": "stream",
     "text": [
      "\r",
      " 17%|█████▉                              | 20/121 [00:02<00:14,  6.82it/s]"
     ]
    },
    {
     "name": "stdout",
     "output_type": "stream",
     "text": [
      "--------------\n",
      "torch.Size([391, 8, 80])\n",
      "tensor([0., 0., 0., 0., 0., 0., 0., 0.], device='cuda:0')\n"
     ]
    },
    {
     "name": "stderr",
     "output_type": "stream",
     "text": [
      "\r",
      " 17%|██████▏                             | 21/121 [00:03<00:14,  7.12it/s]"
     ]
    },
    {
     "name": "stdout",
     "output_type": "stream",
     "text": [
      "--------------\n",
      "torch.Size([286, 8, 80])\n",
      "tensor([0., 0., 0., 0., 0., 0., 0., 0.], device='cuda:0')\n"
     ]
    },
    {
     "name": "stderr",
     "output_type": "stream",
     "text": [
      "\r",
      " 18%|██████▌                             | 22/121 [00:03<00:14,  6.88it/s]"
     ]
    },
    {
     "name": "stdout",
     "output_type": "stream",
     "text": [
      "--------------\n",
      "torch.Size([376, 8, 80])\n",
      "tensor([0., 0., 0., 0., 0., 0., 0., 0.], device='cuda:0')\n",
      "--------------\n",
      "torch.Size([466, 8, 80])\n",
      "tensor([0., 0., 0., 0., 0., 0., 0., 0.], device='cuda:0')\n"
     ]
    },
    {
     "name": "stderr",
     "output_type": "stream",
     "text": [
      " 20%|███████▏                            | 24/121 [00:03<00:15,  6.35it/s]"
     ]
    },
    {
     "name": "stdout",
     "output_type": "stream",
     "text": [
      "--------------\n",
      "torch.Size([346, 8, 80])\n",
      "tensor([0., 0., 0., 0., 0., 0., 0., 0.], device='cuda:0')\n"
     ]
    },
    {
     "name": "stderr",
     "output_type": "stream",
     "text": [
      "\r",
      " 21%|███████▍                            | 25/121 [00:03<00:15,  6.37it/s]"
     ]
    },
    {
     "name": "stdout",
     "output_type": "stream",
     "text": [
      "--------------\n",
      "torch.Size([361, 8, 80])\n",
      "tensor([0., 0., 0., 0., 0., 0., 0., 0.], device='cuda:0')\n"
     ]
    },
    {
     "name": "stderr",
     "output_type": "stream",
     "text": [
      "\r",
      " 21%|███████▋                            | 26/121 [00:03<00:14,  6.52it/s]"
     ]
    },
    {
     "name": "stdout",
     "output_type": "stream",
     "text": [
      "--------------\n",
      "torch.Size([331, 8, 80])\n",
      "tensor([0., 0., 0., 0., 0., 0., 0., 0.], device='cuda:0')\n"
     ]
    },
    {
     "name": "stderr",
     "output_type": "stream",
     "text": [
      "\r",
      " 22%|████████                            | 27/121 [00:04<00:14,  6.56it/s]"
     ]
    },
    {
     "name": "stdout",
     "output_type": "stream",
     "text": [
      "--------------\n",
      "torch.Size([346, 8, 80])\n",
      "tensor([0., 0., 0., 0., 0., 0., 0., 0.], device='cuda:0')\n"
     ]
    },
    {
     "name": "stderr",
     "output_type": "stream",
     "text": [
      "\r",
      " 23%|████████▎                           | 28/121 [00:04<00:14,  6.44it/s]"
     ]
    },
    {
     "name": "stdout",
     "output_type": "stream",
     "text": [
      "--------------\n",
      "torch.Size([376, 8, 80])\n",
      "tensor([0., 0., 0., 0., 0., 0., 0., 0.], device='cuda:0')\n"
     ]
    },
    {
     "name": "stderr",
     "output_type": "stream",
     "text": [
      "\r",
      " 24%|████████▋                           | 29/121 [00:04<00:14,  6.54it/s]"
     ]
    },
    {
     "name": "stdout",
     "output_type": "stream",
     "text": [
      "--------------\n",
      "torch.Size([346, 8, 80])\n",
      "tensor([0., 0., 0., 0., 0., 0., 0., 0.], device='cuda:0')\n"
     ]
    },
    {
     "name": "stderr",
     "output_type": "stream",
     "text": [
      "\r",
      " 25%|████████▉                           | 30/121 [00:04<00:14,  6.40it/s]"
     ]
    },
    {
     "name": "stdout",
     "output_type": "stream",
     "text": [
      "--------------\n",
      "torch.Size([376, 8, 80])\n",
      "tensor([0., 0., 0., 0., 0., 0., 0., 0.], device='cuda:0')\n"
     ]
    },
    {
     "name": "stderr",
     "output_type": "stream",
     "text": [
      "\r",
      " 26%|█████████▏                          | 31/121 [00:04<00:13,  6.47it/s]"
     ]
    },
    {
     "name": "stdout",
     "output_type": "stream",
     "text": [
      "--------------\n",
      "torch.Size([346, 8, 80])\n",
      "tensor([0., 0., 0., 0., 0., 0., 0., 0.], device='cuda:0')\n"
     ]
    },
    {
     "name": "stderr",
     "output_type": "stream",
     "text": [
      "\r",
      " 26%|█████████▌                          | 32/121 [00:04<00:14,  6.17it/s]"
     ]
    },
    {
     "name": "stdout",
     "output_type": "stream",
     "text": [
      "--------------\n",
      "torch.Size([421, 8, 80])\n",
      "tensor([0., 0., 0., 0., 0., 0., 0., 0.], device='cuda:0')\n"
     ]
    },
    {
     "name": "stderr",
     "output_type": "stream",
     "text": [
      "\r",
      " 27%|█████████▊                          | 33/121 [00:05<00:14,  5.96it/s]"
     ]
    },
    {
     "name": "stdout",
     "output_type": "stream",
     "text": [
      "--------------\n",
      "torch.Size([421, 8, 80])\n",
      "tensor([0., 0., 0., 0., 0., 0., 0., 0.], device='cuda:0')\n"
     ]
    },
    {
     "name": "stderr",
     "output_type": "stream",
     "text": [
      "\r",
      " 28%|██████████                          | 34/121 [00:05<00:14,  6.18it/s]"
     ]
    },
    {
     "name": "stdout",
     "output_type": "stream",
     "text": [
      "--------------\n",
      "torch.Size([346, 8, 80])\n",
      "tensor([0., 0., 0., 0., 0., 0., 0., 0.], device='cuda:0')\n"
     ]
    },
    {
     "name": "stderr",
     "output_type": "stream",
     "text": [
      "\r",
      " 29%|██████████▍                         | 35/121 [00:05<00:12,  6.68it/s]"
     ]
    },
    {
     "name": "stdout",
     "output_type": "stream",
     "text": [
      "--------------\n",
      "torch.Size([271, 8, 80])\n",
      "tensor([0., 0., 0., 0., 0., 0., 0., 0.], device='cuda:0')\n"
     ]
    },
    {
     "name": "stderr",
     "output_type": "stream",
     "text": [
      "\r",
      " 30%|██████████▋                         | 36/121 [00:05<00:13,  6.46it/s]"
     ]
    },
    {
     "name": "stdout",
     "output_type": "stream",
     "text": [
      "--------------\n",
      "torch.Size([391, 8, 80])\n",
      "tensor([0., 0., 0., 0., 0., 0., 0., 0.], device='cuda:0')\n"
     ]
    },
    {
     "name": "stderr",
     "output_type": "stream",
     "text": [
      "\r",
      " 31%|███████████                         | 37/121 [00:05<00:12,  6.55it/s]"
     ]
    },
    {
     "name": "stdout",
     "output_type": "stream",
     "text": [
      "--------------\n",
      "torch.Size([346, 8, 80])\n",
      "tensor([0., 0., 0., 0., 0., 0., 0., 0.], device='cuda:0')\n"
     ]
    },
    {
     "name": "stderr",
     "output_type": "stream",
     "text": [
      "\r",
      " 31%|███████████▎                        | 38/121 [00:05<00:12,  6.81it/s]"
     ]
    },
    {
     "name": "stdout",
     "output_type": "stream",
     "text": [
      "--------------\n",
      "torch.Size([301, 8, 80])\n",
      "tensor([0., 0., 0., 0., 0., 0., 0., 0.], device='cuda:0')\n"
     ]
    },
    {
     "name": "stderr",
     "output_type": "stream",
     "text": [
      "\r",
      " 32%|███████████▌                        | 39/121 [00:05<00:11,  6.92it/s]"
     ]
    },
    {
     "name": "stdout",
     "output_type": "stream",
     "text": [
      "--------------\n",
      "torch.Size([316, 8, 80])\n",
      "tensor([0., 0., 0., 0., 0., 0., 0., 0.], device='cuda:0')\n"
     ]
    },
    {
     "name": "stderr",
     "output_type": "stream",
     "text": [
      "\r",
      " 33%|███████████▉                        | 40/121 [00:06<00:11,  7.18it/s]"
     ]
    },
    {
     "name": "stdout",
     "output_type": "stream",
     "text": [
      "--------------\n",
      "torch.Size([286, 8, 80])\n",
      "tensor([0., 0., 0., 0., 0., 0., 0., 0.], device='cuda:0')\n"
     ]
    },
    {
     "name": "stderr",
     "output_type": "stream",
     "text": [
      "\r",
      " 34%|████████████▏                       | 41/121 [00:06<00:10,  7.40it/s]"
     ]
    },
    {
     "name": "stdout",
     "output_type": "stream",
     "text": [
      "--------------\n",
      "torch.Size([286, 8, 80])\n",
      "tensor([0., 0., 0., 0., 0., 0., 0., 0.], device='cuda:0')\n"
     ]
    },
    {
     "name": "stderr",
     "output_type": "stream",
     "text": [
      "\r",
      " 35%|████████████▍                       | 42/121 [00:06<00:11,  6.99it/s]"
     ]
    },
    {
     "name": "stdout",
     "output_type": "stream",
     "text": [
      "--------------\n",
      "torch.Size([376, 8, 80])\n",
      "tensor([0., 0., 0., 0., 0., 0., 0., 0.], device='cuda:0')\n"
     ]
    },
    {
     "name": "stderr",
     "output_type": "stream",
     "text": [
      "\r",
      " 36%|████████████▊                       | 43/121 [00:06<00:11,  6.98it/s]"
     ]
    },
    {
     "name": "stdout",
     "output_type": "stream",
     "text": [
      "--------------\n",
      "torch.Size([331, 8, 80])\n",
      "tensor([0., 0., 0., 0., 0., 0., 0., 0.], device='cuda:0')\n"
     ]
    },
    {
     "name": "stderr",
     "output_type": "stream",
     "text": [
      "\r",
      " 36%|█████████████                       | 44/121 [00:06<00:10,  7.20it/s]"
     ]
    },
    {
     "name": "stdout",
     "output_type": "stream",
     "text": [
      "--------------\n",
      "torch.Size([286, 8, 80])\n",
      "tensor([0., 0., 0., 0., 0., 0., 0., 0.], device='cuda:0')\n"
     ]
    },
    {
     "name": "stderr",
     "output_type": "stream",
     "text": [
      "\r",
      " 37%|█████████████▍                      | 45/121 [00:06<00:10,  7.02it/s]"
     ]
    },
    {
     "name": "stdout",
     "output_type": "stream",
     "text": [
      "--------------\n",
      "torch.Size([346, 8, 80])\n",
      "tensor([0., 0., 0., 0., 0., 0., 0., 0.], device='cuda:0')\n"
     ]
    },
    {
     "name": "stderr",
     "output_type": "stream",
     "text": [
      "\r",
      " 38%|█████████████▋                      | 46/121 [00:06<00:11,  6.67it/s]"
     ]
    },
    {
     "name": "stdout",
     "output_type": "stream",
     "text": [
      "--------------\n",
      "torch.Size([391, 8, 80])\n",
      "tensor([0., 0., 0., 0., 0., 0., 0., 0.], device='cuda:0')\n"
     ]
    },
    {
     "name": "stderr",
     "output_type": "stream",
     "text": [
      "\r",
      " 39%|█████████████▉                      | 47/121 [00:07<00:10,  6.96it/s]"
     ]
    },
    {
     "name": "stdout",
     "output_type": "stream",
     "text": [
      "--------------\n",
      "torch.Size([286, 8, 80])\n",
      "tensor([0., 0., 0., 0., 0., 0., 0., 0.], device='cuda:0')\n"
     ]
    },
    {
     "name": "stderr",
     "output_type": "stream",
     "text": [
      "\r",
      " 40%|██████████████▎                     | 48/121 [00:07<00:10,  7.20it/s]"
     ]
    },
    {
     "name": "stdout",
     "output_type": "stream",
     "text": [
      "--------------\n",
      "torch.Size([286, 8, 80])\n",
      "tensor([0., 0., 0., 0., 0., 0., 0., 0.], device='cuda:0')\n"
     ]
    },
    {
     "name": "stderr",
     "output_type": "stream",
     "text": [
      "\r",
      " 40%|██████████████▌                     | 49/121 [00:07<00:10,  7.20it/s]"
     ]
    },
    {
     "name": "stdout",
     "output_type": "stream",
     "text": [
      "--------------\n",
      "torch.Size([316, 8, 80])\n",
      "tensor([0., 0., 0., 0., 0., 0., 0., 0.], device='cuda:0')\n"
     ]
    },
    {
     "name": "stderr",
     "output_type": "stream",
     "text": [
      "\r",
      " 41%|██████████████▉                     | 50/121 [00:07<00:10,  6.94it/s]"
     ]
    },
    {
     "name": "stdout",
     "output_type": "stream",
     "text": [
      "--------------\n",
      "torch.Size([361, 8, 80])\n",
      "tensor([0., 0., 0., 0., 0., 0., 0., 0.], device='cuda:0')\n"
     ]
    },
    {
     "name": "stderr",
     "output_type": "stream",
     "text": [
      "\r",
      " 42%|███████████████▏                    | 51/121 [00:07<00:10,  6.85it/s]"
     ]
    },
    {
     "name": "stdout",
     "output_type": "stream",
     "text": [
      "--------------\n",
      "torch.Size([346, 8, 80])\n",
      "tensor([0., 0., 0., 0., 0., 0., 0., 0.], device='cuda:0')\n"
     ]
    },
    {
     "name": "stderr",
     "output_type": "stream",
     "text": [
      "\r",
      " 43%|███████████████▍                    | 52/121 [00:07<00:10,  6.31it/s]"
     ]
    },
    {
     "name": "stdout",
     "output_type": "stream",
     "text": [
      "--------------\n",
      "torch.Size([451, 8, 80])\n",
      "tensor([0., 0., 0., 0., 0., 0., 0., 0.], device='cuda:0')\n"
     ]
    },
    {
     "name": "stderr",
     "output_type": "stream",
     "text": [
      " 45%|████████████████                    | 54/121 [00:08<00:10,  6.14it/s]"
     ]
    },
    {
     "name": "stdout",
     "output_type": "stream",
     "text": [
      "--------------\n",
      "torch.Size([496, 8, 80])\n",
      "tensor([0., 0., 0., 0., 0., 0., 0., 0.], device='cuda:0')\n",
      "--------------\n",
      "torch.Size([316, 8, 80])\n",
      "tensor([0., 0., 0., 0., 0., 0., 0., 0.], device='cuda:0')\n"
     ]
    },
    {
     "name": "stderr",
     "output_type": "stream",
     "text": [
      " 46%|████████████████▋                   | 56/121 [00:08<00:09,  6.50it/s]"
     ]
    },
    {
     "name": "stdout",
     "output_type": "stream",
     "text": [
      "--------------\n",
      "torch.Size([391, 8, 80])\n",
      "tensor([0., 0., 0., 0., 0., 0., 0., 0.], device='cuda:0')\n",
      "--------------\n",
      "torch.Size([286, 8, 80])\n",
      "tensor([0., 0., 0., 0., 0., 0., 0., 0.], device='cuda:0')\n"
     ]
    },
    {
     "name": "stderr",
     "output_type": "stream",
     "text": [
      " 48%|█████████████████▎                  | 58/121 [00:08<00:08,  7.45it/s]"
     ]
    },
    {
     "name": "stdout",
     "output_type": "stream",
     "text": [
      "--------------\n",
      "torch.Size([256, 8, 80])\n",
      "tensor([0., 0., 0., 0., 0., 0., 0., 0.], device='cuda:0')\n",
      "--------------\n",
      "torch.Size([256, 8, 80])\n",
      "tensor([0., 0., 0., 0., 0., 0., 0., 0.], device='cuda:0')\n"
     ]
    },
    {
     "name": "stderr",
     "output_type": "stream",
     "text": [
      " 50%|█████████████████▊                  | 60/121 [00:08<00:08,  7.17it/s]"
     ]
    },
    {
     "name": "stdout",
     "output_type": "stream",
     "text": [
      "--------------\n",
      "torch.Size([346, 8, 80])\n",
      "tensor([0., 0., 0., 0., 0., 0., 0., 0.], device='cuda:0')\n",
      "--------------\n",
      "torch.Size([316, 8, 80])\n",
      "tensor([0., 0., 0., 0., 0., 0., 0., 0.], device='cuda:0')\n"
     ]
    },
    {
     "name": "stderr",
     "output_type": "stream",
     "text": [
      " 51%|██████████████████▍                 | 62/121 [00:09<00:09,  6.54it/s]"
     ]
    },
    {
     "name": "stdout",
     "output_type": "stream",
     "text": [
      "--------------\n",
      "torch.Size([376, 8, 80])\n",
      "tensor([0., 0., 0., 0., 0., 0., 0., 0.], device='cuda:0')\n",
      "--------------\n",
      "torch.Size([391, 8, 80])\n",
      "tensor([0., 0., 0., 0., 0., 0., 0., 0.], device='cuda:0')\n"
     ]
    },
    {
     "name": "stderr",
     "output_type": "stream",
     "text": [
      " 53%|███████████████████                 | 64/121 [00:09<00:08,  6.79it/s]"
     ]
    },
    {
     "name": "stdout",
     "output_type": "stream",
     "text": [
      "--------------\n",
      "torch.Size([301, 8, 80])\n",
      "tensor([0., 0., 0., 0., 0., 0., 0., 0.], device='cuda:0')\n",
      "--------------\n",
      "torch.Size([331, 8, 80])\n",
      "tensor([0., 0., 0., 0., 0., 0., 0., 0.], device='cuda:0')\n"
     ]
    },
    {
     "name": "stderr",
     "output_type": "stream",
     "text": [
      " 55%|███████████████████▋                | 66/121 [00:09<00:08,  6.31it/s]"
     ]
    },
    {
     "name": "stdout",
     "output_type": "stream",
     "text": [
      "--------------\n",
      "torch.Size([346, 8, 80])\n",
      "tensor([0., 0., 0., 0., 0., 0., 0., 0.], device='cuda:0')\n",
      "--------------\n",
      "torch.Size([421, 8, 80])\n",
      "tensor([0., 0., 0., 0., 0., 0., 0., 0.], device='cuda:0')\n"
     ]
    },
    {
     "name": "stderr",
     "output_type": "stream",
     "text": [
      " 56%|████████████████████▏               | 68/121 [00:10<00:08,  6.15it/s]"
     ]
    },
    {
     "name": "stdout",
     "output_type": "stream",
     "text": [
      "--------------\n",
      "torch.Size([481, 8, 80])\n",
      "tensor([0., 0., 0., 0., 0., 0., 0., 0.], device='cuda:0')\n",
      "--------------\n",
      "torch.Size([316, 8, 80])\n",
      "tensor([0., 0., 0., 0., 0., 0., 0., 0.], device='cuda:0')\n"
     ]
    },
    {
     "name": "stderr",
     "output_type": "stream",
     "text": [
      " 58%|████████████████████▊               | 70/121 [00:10<00:07,  6.47it/s]"
     ]
    },
    {
     "name": "stdout",
     "output_type": "stream",
     "text": [
      "--------------\n",
      "torch.Size([406, 8, 80])\n",
      "tensor([0., 0., 0., 0., 0., 0., 0., 0.], device='cuda:0')\n",
      "--------------\n",
      "torch.Size([286, 8, 80])\n",
      "tensor([0., 0., 0., 0., 0., 0., 0., 0.], device='cuda:0')\n"
     ]
    },
    {
     "name": "stderr",
     "output_type": "stream",
     "text": [
      " 60%|█████████████████████▍              | 72/121 [00:10<00:07,  6.45it/s]"
     ]
    },
    {
     "name": "stdout",
     "output_type": "stream",
     "text": [
      "--------------\n",
      "torch.Size([301, 8, 80])\n",
      "tensor([0., 0., 0., 0., 0., 0., 0., 0.], device='cuda:0')\n",
      "--------------\n",
      "torch.Size([391, 8, 80])\n",
      "tensor([0., 0., 0., 0., 0., 0., 0., 0.], device='cuda:0')\n"
     ]
    },
    {
     "name": "stderr",
     "output_type": "stream",
     "text": [
      "\r",
      " 60%|█████████████████████▋              | 73/121 [00:10<00:07,  6.44it/s]"
     ]
    },
    {
     "name": "stdout",
     "output_type": "stream",
     "text": [
      "--------------\n",
      "torch.Size([361, 8, 80])\n",
      "tensor([0., 0., 0., 0., 0., 0., 0., 0.], device='cuda:0')\n"
     ]
    },
    {
     "name": "stderr",
     "output_type": "stream",
     "text": [
      " 62%|██████████████████████▎             | 75/121 [00:11<00:07,  5.77it/s]"
     ]
    },
    {
     "name": "stdout",
     "output_type": "stream",
     "text": [
      "--------------\n",
      "torch.Size([496, 8, 80])\n",
      "tensor([0., 0., 0., 0., 0., 0., 0., 0.], device='cuda:0')\n",
      "--------------\n",
      "torch.Size([421, 8, 80])\n",
      "tensor([0., 0., 0., 0., 0., 0., 0., 0.], device='cuda:0')\n"
     ]
    },
    {
     "name": "stderr",
     "output_type": "stream",
     "text": [
      " 64%|██████████████████████▉             | 77/121 [00:11<00:07,  5.87it/s]"
     ]
    },
    {
     "name": "stdout",
     "output_type": "stream",
     "text": [
      "--------------\n",
      "torch.Size([391, 8, 80])\n",
      "tensor([0., 0., 0., 0., 0., 0., 0., 0.], device='cuda:0')\n",
      "--------------\n",
      "torch.Size([391, 8, 80])\n",
      "tensor([0., 0., 0., 0., 0., 0., 0., 0.], device='cuda:0')\n"
     ]
    },
    {
     "name": "stderr",
     "output_type": "stream",
     "text": [
      " 65%|███████████████████████▌            | 79/121 [00:12<00:06,  6.39it/s]"
     ]
    },
    {
     "name": "stdout",
     "output_type": "stream",
     "text": [
      "--------------\n",
      "torch.Size([346, 8, 80])\n",
      "tensor([0., 0., 0., 0., 0., 0., 0., 0.], device='cuda:0')\n",
      "--------------\n",
      "torch.Size([316, 8, 80])\n",
      "tensor([0., 0., 0., 0., 0., 0., 0., 0.], device='cuda:0')\n"
     ]
    },
    {
     "name": "stderr",
     "output_type": "stream",
     "text": [
      " 67%|████████████████████████            | 81/121 [00:12<00:05,  6.68it/s]"
     ]
    },
    {
     "name": "stdout",
     "output_type": "stream",
     "text": [
      "--------------\n",
      "torch.Size([346, 8, 80])\n",
      "tensor([0., 0., 0., 0., 0., 0., 0., 0.], device='cuda:0')\n",
      "--------------\n",
      "torch.Size([316, 8, 80])\n",
      "tensor([0., 0., 0., 0., 0., 0., 0., 0.], device='cuda:0')\n"
     ]
    },
    {
     "name": "stderr",
     "output_type": "stream",
     "text": [
      " 69%|████████████████████████▋           | 83/121 [00:12<00:05,  6.55it/s]"
     ]
    },
    {
     "name": "stdout",
     "output_type": "stream",
     "text": [
      "--------------\n",
      "torch.Size([421, 8, 80])\n",
      "tensor([0., 0., 0., 0., 0., 0., 0., 0.], device='cuda:0')\n",
      "--------------\n",
      "torch.Size([316, 8, 80])\n",
      "tensor([0., 0., 0., 0., 0., 0., 0., 0.], device='cuda:0')\n"
     ]
    },
    {
     "name": "stderr",
     "output_type": "stream",
     "text": [
      " 70%|█████████████████████████▎          | 85/121 [00:12<00:05,  6.80it/s]"
     ]
    },
    {
     "name": "stdout",
     "output_type": "stream",
     "text": [
      "--------------\n",
      "torch.Size([376, 8, 80])\n",
      "tensor([0., 0., 0., 0., 0., 0., 0., 0.], device='cuda:0')\n",
      "--------------\n",
      "torch.Size([286, 8, 80])\n",
      "tensor([0., 0., 0., 0., 0., 0., 0., 0.], device='cuda:0')\n"
     ]
    },
    {
     "name": "stderr",
     "output_type": "stream",
     "text": [
      " 72%|█████████████████████████▉          | 87/121 [00:13<00:04,  6.89it/s]"
     ]
    },
    {
     "name": "stdout",
     "output_type": "stream",
     "text": [
      "--------------\n",
      "torch.Size([331, 8, 80])\n",
      "tensor([0., 0., 0., 0., 0., 0., 0., 0.], device='cuda:0')\n",
      "--------------\n",
      "torch.Size([316, 8, 80])\n",
      "tensor([0., 0., 0., 0., 0., 0., 0., 0.], device='cuda:0')\n"
     ]
    },
    {
     "name": "stderr",
     "output_type": "stream",
     "text": [
      " 74%|██████████████████████████▍         | 89/121 [00:13<00:04,  7.35it/s]"
     ]
    },
    {
     "name": "stdout",
     "output_type": "stream",
     "text": [
      "--------------\n",
      "torch.Size([226, 8, 80])\n",
      "tensor([0., 0., 0., 0., 0., 0., 0., 0.], device='cuda:0')\n",
      "--------------\n",
      "torch.Size([331, 8, 80])\n",
      "tensor([0., 0., 0., 0., 0., 0., 0., 0.], device='cuda:0')\n"
     ]
    },
    {
     "name": "stderr",
     "output_type": "stream",
     "text": [
      " 75%|███████████████████████████         | 91/121 [00:13<00:04,  6.89it/s]"
     ]
    },
    {
     "name": "stdout",
     "output_type": "stream",
     "text": [
      "--------------\n",
      "torch.Size([361, 8, 80])\n",
      "tensor([0., 0., 0., 0., 0., 0., 0., 0.], device='cuda:0')\n",
      "--------------\n",
      "torch.Size([346, 8, 80])\n",
      "tensor([0., 0., 0., 0., 0., 0., 0., 0.], device='cuda:0')\n"
     ]
    },
    {
     "name": "stderr",
     "output_type": "stream",
     "text": [
      " 77%|███████████████████████████▋        | 93/121 [00:14<00:03,  7.28it/s]"
     ]
    },
    {
     "name": "stdout",
     "output_type": "stream",
     "text": [
      "--------------\n",
      "torch.Size([316, 8, 80])\n",
      "tensor([0., 0., 0., 0., 0., 0., 0., 0.], device='cuda:0')\n",
      "--------------\n",
      "torch.Size([271, 8, 80])\n",
      "tensor([0., 0., 0., 0., 0., 0., 0., 0.], device='cuda:0')\n"
     ]
    },
    {
     "name": "stderr",
     "output_type": "stream",
     "text": [
      " 79%|████████████████████████████▎       | 95/121 [00:14<00:03,  6.82it/s]"
     ]
    },
    {
     "name": "stdout",
     "output_type": "stream",
     "text": [
      "--------------\n",
      "torch.Size([406, 8, 80])\n",
      "tensor([0., 0., 0., 0., 0., 0., 0., 0.], device='cuda:0')\n",
      "--------------\n",
      "torch.Size([331, 8, 80])\n",
      "tensor([0., 0., 0., 0., 0., 0., 0., 0.], device='cuda:0')\n"
     ]
    },
    {
     "name": "stderr",
     "output_type": "stream",
     "text": [
      " 80%|████████████████████████████▊       | 97/121 [00:14<00:03,  7.12it/s]"
     ]
    },
    {
     "name": "stdout",
     "output_type": "stream",
     "text": [
      "--------------\n",
      "torch.Size([346, 8, 80])\n",
      "tensor([0., 0., 0., 0., 0., 0., 0., 0.], device='cuda:0')\n",
      "--------------\n",
      "torch.Size([271, 8, 80])\n",
      "tensor([0., 0., 0., 0., 0., 0., 0., 0.], device='cuda:0')\n"
     ]
    },
    {
     "name": "stderr",
     "output_type": "stream",
     "text": [
      " 82%|█████████████████████████████▍      | 99/121 [00:14<00:03,  7.31it/s]"
     ]
    },
    {
     "name": "stdout",
     "output_type": "stream",
     "text": [
      "--------------\n",
      "torch.Size([346, 8, 80])\n",
      "tensor([0., 0., 0., 0., 0., 0., 0., 0.], device='cuda:0')\n",
      "--------------\n",
      "torch.Size([271, 8, 80])\n",
      "tensor([0., 0., 0., 0., 0., 0., 0., 0.], device='cuda:0')\n"
     ]
    },
    {
     "name": "stderr",
     "output_type": "stream",
     "text": [
      " 83%|█████████████████████████████▏     | 101/121 [00:15<00:02,  6.90it/s]"
     ]
    },
    {
     "name": "stdout",
     "output_type": "stream",
     "text": [
      "--------------\n",
      "torch.Size([361, 8, 80])\n",
      "tensor([0., 0., 0., 0., 0., 0., 0., 0.], device='cuda:0')\n",
      "--------------\n",
      "torch.Size([361, 8, 80])\n",
      "tensor([0., 0., 0., 0., 0., 0., 0., 0.], device='cuda:0')\n"
     ]
    },
    {
     "name": "stderr",
     "output_type": "stream",
     "text": [
      " 85%|█████████████████████████████▊     | 103/121 [00:15<00:02,  6.99it/s]"
     ]
    },
    {
     "name": "stdout",
     "output_type": "stream",
     "text": [
      "--------------\n",
      "torch.Size([301, 8, 80])\n",
      "tensor([0., 0., 0., 0., 0., 0., 0., 0.], device='cuda:0')\n",
      "--------------\n",
      "torch.Size([346, 8, 80])\n",
      "tensor([0., 0., 0., 0., 0., 0., 0., 0.], device='cuda:0')\n"
     ]
    },
    {
     "name": "stderr",
     "output_type": "stream",
     "text": [
      " 87%|██████████████████████████████▎    | 105/121 [00:15<00:02,  7.38it/s]"
     ]
    },
    {
     "name": "stdout",
     "output_type": "stream",
     "text": [
      "--------------\n",
      "torch.Size([346, 8, 80])\n",
      "tensor([0., 0., 0., 0., 0., 0., 0., 0.], device='cuda:0')\n",
      "--------------\n",
      "torch.Size([256, 8, 80])\n",
      "tensor([0., 0., 0., 0., 0., 0., 0., 0.], device='cuda:0')\n"
     ]
    },
    {
     "name": "stderr",
     "output_type": "stream",
     "text": [
      " 88%|██████████████████████████████▉    | 107/121 [00:16<00:02,  6.64it/s]"
     ]
    },
    {
     "name": "stdout",
     "output_type": "stream",
     "text": [
      "--------------\n",
      "torch.Size([301, 8, 80])\n",
      "tensor([0., 0., 0., 0., 0., 0., 0., 0.], device='cuda:0')\n",
      "--------------\n",
      "torch.Size([451, 8, 80])\n",
      "tensor([0., 0., 0., 0., 0., 0., 0., 0.], device='cuda:0')\n"
     ]
    },
    {
     "name": "stderr",
     "output_type": "stream",
     "text": [
      " 90%|███████████████████████████████▌   | 109/121 [00:16<00:01,  6.78it/s]"
     ]
    },
    {
     "name": "stdout",
     "output_type": "stream",
     "text": [
      "--------------\n",
      "torch.Size([301, 8, 80])\n",
      "tensor([0., 0., 0., 0., 0., 0., 0., 0.], device='cuda:0')\n",
      "--------------\n",
      "torch.Size([361, 8, 80])\n",
      "tensor([0., 0., 0., 0., 0., 0., 0., 0.], device='cuda:0')\n"
     ]
    },
    {
     "name": "stderr",
     "output_type": "stream",
     "text": [
      " 92%|████████████████████████████████   | 111/121 [00:16<00:01,  6.87it/s]"
     ]
    },
    {
     "name": "stdout",
     "output_type": "stream",
     "text": [
      "--------------\n",
      "torch.Size([286, 8, 80])\n",
      "tensor([0., 0., 0., 0., 0., 0., 0., 0.], device='cuda:0')\n",
      "--------------\n",
      "torch.Size([361, 8, 80])\n",
      "tensor([0., 0., 0., 0., 0., 0., 0., 0.], device='cuda:0')\n"
     ]
    },
    {
     "name": "stderr",
     "output_type": "stream",
     "text": [
      " 93%|████████████████████████████████▋  | 113/121 [00:16<00:01,  7.05it/s]"
     ]
    },
    {
     "name": "stdout",
     "output_type": "stream",
     "text": [
      "--------------\n",
      "torch.Size([271, 8, 80])\n",
      "tensor([0., 0., 0., 0., 0., 0., 0., 0.], device='cuda:0')\n",
      "--------------\n",
      "torch.Size([346, 8, 80])\n",
      "tensor([0., 0., 0., 0., 0., 0., 0., 0.], device='cuda:0')\n"
     ]
    },
    {
     "name": "stderr",
     "output_type": "stream",
     "text": [
      " 95%|█████████████████████████████████▎ | 115/121 [00:17<00:00,  6.88it/s]"
     ]
    },
    {
     "name": "stdout",
     "output_type": "stream",
     "text": [
      "--------------\n",
      "torch.Size([391, 8, 80])\n",
      "tensor([0., 0., 0., 0., 0., 0., 0., 0.], device='cuda:0')\n",
      "--------------\n",
      "torch.Size([316, 8, 80])\n",
      "tensor([0., 0., 0., 0., 0., 0., 0., 0.], device='cuda:0')\n"
     ]
    },
    {
     "name": "stderr",
     "output_type": "stream",
     "text": [
      " 97%|█████████████████████████████████▊ | 117/121 [00:17<00:00,  7.35it/s]"
     ]
    },
    {
     "name": "stdout",
     "output_type": "stream",
     "text": [
      "--------------\n",
      "torch.Size([241, 8, 80])\n",
      "tensor([0., 0., 0., 0., 0., 0., 0., 0.], device='cuda:0')\n",
      "--------------\n",
      "torch.Size([316, 8, 80])\n",
      "tensor([0., 0., 0., 0., 0., 0., 0., 0.], device='cuda:0')\n"
     ]
    },
    {
     "name": "stderr",
     "output_type": "stream",
     "text": [
      " 98%|██████████████████████████████████▍| 119/121 [00:17<00:00,  6.83it/s]"
     ]
    },
    {
     "name": "stdout",
     "output_type": "stream",
     "text": [
      "--------------\n",
      "torch.Size([361, 8, 80])\n",
      "tensor([0., 0., 0., 0., 0., 0., 0., 0.], device='cuda:0')\n",
      "--------------\n",
      "torch.Size([361, 8, 80])\n",
      "tensor([0., 0., 0., 0., 0., 0., 0., 0.], device='cuda:0')\n"
     ]
    },
    {
     "name": "stderr",
     "output_type": "stream",
     "text": [
      "100%|███████████████████████████████████| 121/121 [00:18<00:00,  6.70it/s]"
     ]
    },
    {
     "name": "stdout",
     "output_type": "stream",
     "text": [
      "--------------\n",
      "torch.Size([451, 8, 80])\n",
      "tensor([0., 0., 0., 0., 0., 0., 0., 0.], device='cuda:0')\n",
      "--------------\n",
      "torch.Size([361, 6, 80])\n",
      "tensor([0., 0., 0., 0., 0., 0.], device='cuda:0')\n",
      "Test CER 0.1989731460938922\n",
      "Test WER 0.5467327542064817\n",
      "Test CTC 244.41352872670808\n",
      "Saving Best\n"
     ]
    },
    {
     "name": "stderr",
     "output_type": "stream",
     "text": [
      "\n"
     ]
    },
    {
     "name": "stdout",
     "output_type": "stream",
     "text": [
      "Train Set Size = 771\n"
     ]
    },
    {
     "name": "stderr",
     "output_type": "stream",
     "text": [
      "CER: 0.1349651488312543 CTC: 494.8957824707031 Ground Truth: |In A Taste o\n"
     ]
    },
    {
     "name": "stdout",
     "output_type": "stream",
     "text": [
      "Epoch: 9 Training CER 0.13494324246072495\n",
      "Training WER: 0.42467871047484185\n",
      "Time: 285.58079862594604 Seconds\n",
      "Validation Set Size = 121\n"
     ]
    },
    {
     "name": "stderr",
     "output_type": "stream",
     "text": [
      "  1%|▎                                    | 1/121 [00:00<00:20,  5.80it/s]"
     ]
    },
    {
     "name": "stdout",
     "output_type": "stream",
     "text": [
      "--------------\n",
      "torch.Size([391, 8, 80])\n",
      "tensor([0., 0., 0., 0., 0., 0., 0., 0.], device='cuda:0')\n"
     ]
    },
    {
     "name": "stderr",
     "output_type": "stream",
     "text": [
      "\r",
      "  2%|▌                                    | 2/121 [00:00<00:19,  6.16it/s]"
     ]
    },
    {
     "name": "stdout",
     "output_type": "stream",
     "text": [
      "--------------\n",
      "torch.Size([361, 8, 80])\n",
      "tensor([0., 0., 0., 0., 0., 0., 0., 0.], device='cuda:0')\n"
     ]
    },
    {
     "name": "stderr",
     "output_type": "stream",
     "text": [
      "\r",
      "  2%|▉                                    | 3/121 [00:00<00:17,  6.61it/s]"
     ]
    },
    {
     "name": "stdout",
     "output_type": "stream",
     "text": [
      "--------------\n",
      "torch.Size([316, 8, 80])\n",
      "tensor([0., 0., 0., 0., 0., 0., 0., 0.], device='cuda:0')\n"
     ]
    },
    {
     "name": "stderr",
     "output_type": "stream",
     "text": [
      "\r",
      "  3%|█▏                                   | 4/121 [00:00<00:17,  6.71it/s]"
     ]
    },
    {
     "name": "stdout",
     "output_type": "stream",
     "text": [
      "--------------\n",
      "torch.Size([331, 8, 80])\n",
      "tensor([0., 0., 0., 0., 0., 0., 0., 0.], device='cuda:0')\n"
     ]
    },
    {
     "name": "stderr",
     "output_type": "stream",
     "text": [
      "\r",
      "  4%|█▌                                   | 5/121 [00:00<00:15,  7.50it/s]"
     ]
    },
    {
     "name": "stdout",
     "output_type": "stream",
     "text": [
      "--------------\n",
      "torch.Size([241, 8, 80])\n",
      "tensor([0., 0., 0., 0., 0., 0., 0., 0.], device='cuda:0')\n"
     ]
    },
    {
     "name": "stderr",
     "output_type": "stream",
     "text": [
      "\r",
      "  5%|█▊                                   | 6/121 [00:00<00:15,  7.52it/s]"
     ]
    },
    {
     "name": "stdout",
     "output_type": "stream",
     "text": [
      "--------------\n",
      "torch.Size([301, 8, 80])\n",
      "tensor([0., 0., 0., 0., 0., 0., 0., 0.], device='cuda:0')\n"
     ]
    },
    {
     "name": "stderr",
     "output_type": "stream",
     "text": [
      "\r",
      "  6%|██▏                                  | 7/121 [00:01<00:16,  7.10it/s]"
     ]
    },
    {
     "name": "stdout",
     "output_type": "stream",
     "text": [
      "--------------\n",
      "torch.Size([376, 8, 80])\n",
      "tensor([0., 0., 0., 0., 0., 0., 0., 0.], device='cuda:0')\n"
     ]
    },
    {
     "name": "stderr",
     "output_type": "stream",
     "text": [
      "\r",
      "  7%|██▍                                  | 8/121 [00:01<00:16,  7.05it/s]"
     ]
    },
    {
     "name": "stdout",
     "output_type": "stream",
     "text": [
      "--------------\n",
      "torch.Size([331, 8, 80])\n",
      "tensor([0., 0., 0., 0., 0., 0., 0., 0.], device='cuda:0')\n"
     ]
    },
    {
     "name": "stderr",
     "output_type": "stream",
     "text": [
      "\r",
      "  7%|██▊                                  | 9/121 [00:01<00:15,  7.19it/s]"
     ]
    },
    {
     "name": "stdout",
     "output_type": "stream",
     "text": [
      "--------------\n",
      "torch.Size([301, 8, 80])\n",
      "tensor([0., 0., 0., 0., 0., 0., 0., 0.], device='cuda:0')\n"
     ]
    },
    {
     "name": "stderr",
     "output_type": "stream",
     "text": [
      "\r",
      "  8%|██▉                                 | 10/121 [00:01<00:15,  7.30it/s]"
     ]
    },
    {
     "name": "stdout",
     "output_type": "stream",
     "text": [
      "--------------\n",
      "torch.Size([301, 8, 80])\n",
      "tensor([0., 0., 0., 0., 0., 0., 0., 0.], device='cuda:0')\n"
     ]
    },
    {
     "name": "stderr",
     "output_type": "stream",
     "text": [
      "\r",
      "  9%|███▎                                | 11/121 [00:01<00:14,  7.51it/s]"
     ]
    },
    {
     "name": "stdout",
     "output_type": "stream",
     "text": [
      "--------------\n",
      "torch.Size([286, 8, 80])\n",
      "tensor([0., 0., 0., 0., 0., 0., 0., 0.], device='cuda:0')\n"
     ]
    },
    {
     "name": "stderr",
     "output_type": "stream",
     "text": [
      "\r",
      " 10%|███▌                                | 12/121 [00:01<00:15,  7.22it/s]"
     ]
    },
    {
     "name": "stdout",
     "output_type": "stream",
     "text": [
      "--------------\n",
      "torch.Size([361, 8, 80])\n",
      "tensor([0., 0., 0., 0., 0., 0., 0., 0.], device='cuda:0')\n"
     ]
    },
    {
     "name": "stderr",
     "output_type": "stream",
     "text": [
      "\r",
      " 11%|███▊                                | 13/121 [00:01<00:14,  7.39it/s]"
     ]
    },
    {
     "name": "stdout",
     "output_type": "stream",
     "text": [
      "--------------\n",
      "torch.Size([286, 8, 80])\n",
      "tensor([0., 0., 0., 0., 0., 0., 0., 0.], device='cuda:0')\n"
     ]
    },
    {
     "name": "stderr",
     "output_type": "stream",
     "text": [
      "\r",
      " 12%|████▏                               | 14/121 [00:01<00:14,  7.22it/s]"
     ]
    },
    {
     "name": "stdout",
     "output_type": "stream",
     "text": [
      "--------------\n",
      "torch.Size([331, 8, 80])\n",
      "tensor([0., 0., 0., 0., 0., 0., 0., 0.], device='cuda:0')\n"
     ]
    },
    {
     "name": "stderr",
     "output_type": "stream",
     "text": [
      "\r",
      " 12%|████▍                               | 15/121 [00:02<00:14,  7.14it/s]"
     ]
    },
    {
     "name": "stdout",
     "output_type": "stream",
     "text": [
      "--------------\n",
      "torch.Size([331, 8, 80])\n",
      "tensor([0., 0., 0., 0., 0., 0., 0., 0.], device='cuda:0')\n"
     ]
    },
    {
     "name": "stderr",
     "output_type": "stream",
     "text": [
      "\r",
      " 13%|████▊                               | 16/121 [00:02<00:14,  7.34it/s]"
     ]
    },
    {
     "name": "stdout",
     "output_type": "stream",
     "text": [
      "--------------\n",
      "torch.Size([286, 8, 80])\n",
      "tensor([0., 0., 0., 0., 0., 0., 0., 0.], device='cuda:0')\n"
     ]
    },
    {
     "name": "stderr",
     "output_type": "stream",
     "text": [
      "\r",
      " 14%|█████                               | 17/121 [00:02<00:15,  6.82it/s]"
     ]
    },
    {
     "name": "stdout",
     "output_type": "stream",
     "text": [
      "--------------\n",
      "torch.Size([391, 8, 80])\n",
      "tensor([0., 0., 0., 0., 0., 0., 0., 0.], device='cuda:0')\n"
     ]
    },
    {
     "name": "stderr",
     "output_type": "stream",
     "text": [
      "\r",
      " 15%|█████▎                              | 18/121 [00:02<00:14,  7.03it/s]"
     ]
    },
    {
     "name": "stdout",
     "output_type": "stream",
     "text": [
      "--------------\n",
      "torch.Size([301, 8, 80])\n",
      "tensor([0., 0., 0., 0., 0., 0., 0., 0.], device='cuda:0')\n"
     ]
    },
    {
     "name": "stderr",
     "output_type": "stream",
     "text": [
      "\r",
      " 16%|█████▋                              | 19/121 [00:02<00:15,  6.70it/s]"
     ]
    },
    {
     "name": "stdout",
     "output_type": "stream",
     "text": [
      "--------------\n",
      "torch.Size([391, 8, 80])\n",
      "tensor([0., 0., 0., 0., 0., 0., 0., 0.], device='cuda:0')\n"
     ]
    },
    {
     "name": "stderr",
     "output_type": "stream",
     "text": [
      "\r",
      " 17%|█████▉                              | 20/121 [00:02<00:14,  7.19it/s]"
     ]
    },
    {
     "name": "stdout",
     "output_type": "stream",
     "text": [
      "--------------\n",
      "torch.Size([256, 8, 80])\n",
      "tensor([0., 0., 0., 0., 0., 0., 0., 0.], device='cuda:0')\n"
     ]
    },
    {
     "name": "stderr",
     "output_type": "stream",
     "text": [
      "\r",
      " 17%|██████▏                             | 21/121 [00:03<00:15,  6.48it/s]"
     ]
    },
    {
     "name": "stdout",
     "output_type": "stream",
     "text": [
      "--------------\n",
      "torch.Size([451, 8, 80])\n",
      "tensor([0., 0., 0., 0., 0., 0., 0., 0.], device='cuda:0')\n"
     ]
    },
    {
     "name": "stderr",
     "output_type": "stream",
     "text": [
      "\r",
      " 18%|██████▌                             | 22/121 [00:03<00:15,  6.39it/s]"
     ]
    },
    {
     "name": "stdout",
     "output_type": "stream",
     "text": [
      "--------------\n",
      "torch.Size([376, 8, 80])\n",
      "tensor([0., 0., 0., 0., 0., 0., 0., 0.], device='cuda:0')\n"
     ]
    },
    {
     "name": "stderr",
     "output_type": "stream",
     "text": [
      "\r",
      " 19%|██████▊                             | 23/121 [00:03<00:14,  6.63it/s]"
     ]
    },
    {
     "name": "stdout",
     "output_type": "stream",
     "text": [
      "--------------\n",
      "torch.Size([316, 8, 80])\n",
      "tensor([0., 0., 0., 0., 0., 0., 0., 0.], device='cuda:0')\n"
     ]
    },
    {
     "name": "stderr",
     "output_type": "stream",
     "text": [
      "\r",
      " 20%|███████▏                            | 24/121 [00:03<00:14,  6.87it/s]"
     ]
    },
    {
     "name": "stdout",
     "output_type": "stream",
     "text": [
      "--------------\n",
      "torch.Size([301, 8, 80])\n",
      "tensor([0., 0., 0., 0., 0., 0., 0., 0.], device='cuda:0')\n"
     ]
    },
    {
     "name": "stderr",
     "output_type": "stream",
     "text": [
      "\r",
      " 21%|███████▍                            | 25/121 [00:03<00:13,  6.94it/s]"
     ]
    },
    {
     "name": "stdout",
     "output_type": "stream",
     "text": [
      "--------------\n",
      "torch.Size([316, 8, 80])\n",
      "tensor([0., 0., 0., 0., 0., 0., 0., 0.], device='cuda:0')\n"
     ]
    },
    {
     "name": "stderr",
     "output_type": "stream",
     "text": [
      "\r",
      " 21%|███████▋                            | 26/121 [00:03<00:13,  6.84it/s]"
     ]
    },
    {
     "name": "stdout",
     "output_type": "stream",
     "text": [
      "--------------\n",
      "torch.Size([346, 8, 80])\n",
      "tensor([0., 0., 0., 0., 0., 0., 0., 0.], device='cuda:0')\n"
     ]
    },
    {
     "name": "stderr",
     "output_type": "stream",
     "text": [
      "\r",
      " 22%|████████                            | 27/121 [00:03<00:13,  6.76it/s]"
     ]
    },
    {
     "name": "stdout",
     "output_type": "stream",
     "text": [
      "--------------\n",
      "torch.Size([346, 8, 80])\n",
      "tensor([0., 0., 0., 0., 0., 0., 0., 0.], device='cuda:0')\n"
     ]
    },
    {
     "name": "stderr",
     "output_type": "stream",
     "text": [
      "\r",
      " 23%|████████▎                           | 28/121 [00:04<00:13,  6.70it/s]"
     ]
    },
    {
     "name": "stdout",
     "output_type": "stream",
     "text": [
      "--------------\n",
      "torch.Size([346, 8, 80])\n",
      "tensor([0., 0., 0., 0., 0., 0., 0., 0.], device='cuda:0')\n"
     ]
    },
    {
     "name": "stderr",
     "output_type": "stream",
     "text": [
      "\r",
      " 24%|████████▋                           | 29/121 [00:04<00:14,  6.54it/s]"
     ]
    },
    {
     "name": "stdout",
     "output_type": "stream",
     "text": [
      "--------------\n",
      "torch.Size([376, 8, 80])\n",
      "tensor([0., 0., 0., 0., 0., 0., 0., 0.], device='cuda:0')\n"
     ]
    },
    {
     "name": "stderr",
     "output_type": "stream",
     "text": [
      "\r",
      " 25%|████████▉                           | 30/121 [00:04<00:14,  6.33it/s]"
     ]
    },
    {
     "name": "stdout",
     "output_type": "stream",
     "text": [
      "--------------\n",
      "torch.Size([391, 8, 80])\n",
      "tensor([0., 0., 0., 0., 0., 0., 0., 0.], device='cuda:0')\n"
     ]
    },
    {
     "name": "stderr",
     "output_type": "stream",
     "text": [
      "\r",
      " 26%|█████████▏                          | 31/121 [00:04<00:13,  6.62it/s]"
     ]
    },
    {
     "name": "stdout",
     "output_type": "stream",
     "text": [
      "--------------\n",
      "torch.Size([301, 8, 80])\n",
      "tensor([0., 0., 0., 0., 0., 0., 0., 0.], device='cuda:0')\n"
     ]
    },
    {
     "name": "stderr",
     "output_type": "stream",
     "text": [
      "\r",
      " 26%|█████████▌                          | 32/121 [00:04<00:14,  6.23it/s]"
     ]
    },
    {
     "name": "stdout",
     "output_type": "stream",
     "text": [
      "--------------\n",
      "torch.Size([421, 8, 80])\n",
      "tensor([0., 0., 0., 0., 0., 0., 0., 0.], device='cuda:0')\n"
     ]
    },
    {
     "name": "stderr",
     "output_type": "stream",
     "text": [
      "\r",
      " 27%|█████████▊                          | 33/121 [00:04<00:13,  6.39it/s]"
     ]
    },
    {
     "name": "stdout",
     "output_type": "stream",
     "text": [
      "--------------\n",
      "torch.Size([331, 8, 80])\n",
      "tensor([0., 0., 0., 0., 0., 0., 0., 0.], device='cuda:0')\n"
     ]
    },
    {
     "name": "stderr",
     "output_type": "stream",
     "text": [
      "\r",
      " 28%|██████████                          | 34/121 [00:04<00:13,  6.44it/s]"
     ]
    },
    {
     "name": "stdout",
     "output_type": "stream",
     "text": [
      "--------------\n",
      "torch.Size([346, 8, 80])\n",
      "tensor([0., 0., 0., 0., 0., 0., 0., 0.], device='cuda:0')\n",
      "--------------\n",
      "torch.Size([451, 8, 80])\n",
      "tensor([0., 0., 0., 0., 0., 0., 0., 0.], device='cuda:0')\n"
     ]
    },
    {
     "name": "stderr",
     "output_type": "stream",
     "text": [
      " 30%|██████████▋                         | 36/121 [00:05<00:13,  6.45it/s]"
     ]
    },
    {
     "name": "stdout",
     "output_type": "stream",
     "text": [
      "--------------\n",
      "torch.Size([286, 8, 80])\n",
      "tensor([0., 0., 0., 0., 0., 0., 0., 0.], device='cuda:0')\n"
     ]
    },
    {
     "name": "stderr",
     "output_type": "stream",
     "text": [
      "\r",
      " 31%|███████████                         | 37/121 [00:05<00:12,  6.76it/s]"
     ]
    },
    {
     "name": "stdout",
     "output_type": "stream",
     "text": [
      "--------------\n",
      "torch.Size([301, 8, 80])\n",
      "tensor([0., 0., 0., 0., 0., 0., 0., 0.], device='cuda:0')\n"
     ]
    },
    {
     "name": "stderr",
     "output_type": "stream",
     "text": [
      "\r",
      " 31%|███████████▎                        | 38/121 [00:05<00:12,  6.61it/s]"
     ]
    },
    {
     "name": "stdout",
     "output_type": "stream",
     "text": [
      "--------------\n",
      "torch.Size([361, 8, 80])\n",
      "tensor([0., 0., 0., 0., 0., 0., 0., 0.], device='cuda:0')\n"
     ]
    },
    {
     "name": "stderr",
     "output_type": "stream",
     "text": [
      "\r",
      " 32%|███████████▌                        | 39/121 [00:05<00:12,  6.61it/s]"
     ]
    },
    {
     "name": "stdout",
     "output_type": "stream",
     "text": [
      "--------------\n",
      "torch.Size([331, 8, 80])\n",
      "tensor([0., 0., 0., 0., 0., 0., 0., 0.], device='cuda:0')\n"
     ]
    },
    {
     "name": "stderr",
     "output_type": "stream",
     "text": [
      "\r",
      " 33%|███████████▉                        | 40/121 [00:05<00:12,  6.60it/s]"
     ]
    },
    {
     "name": "stdout",
     "output_type": "stream",
     "text": [
      "--------------\n",
      "torch.Size([346, 8, 80])\n",
      "tensor([0., 0., 0., 0., 0., 0., 0., 0.], device='cuda:0')\n"
     ]
    },
    {
     "name": "stderr",
     "output_type": "stream",
     "text": [
      "\r",
      " 34%|████████████▏                       | 41/121 [00:06<00:12,  6.41it/s]"
     ]
    },
    {
     "name": "stdout",
     "output_type": "stream",
     "text": [
      "--------------\n",
      "torch.Size([376, 8, 80])\n",
      "tensor([0., 0., 0., 0., 0., 0., 0., 0.], device='cuda:0')\n"
     ]
    },
    {
     "name": "stderr",
     "output_type": "stream",
     "text": [
      "\r",
      " 35%|████████████▍                       | 42/121 [00:06<00:12,  6.45it/s]"
     ]
    },
    {
     "name": "stdout",
     "output_type": "stream",
     "text": [
      "--------------\n",
      "torch.Size([346, 8, 80])\n",
      "tensor([0., 0., 0., 0., 0., 0., 0., 0.], device='cuda:0')\n"
     ]
    },
    {
     "name": "stderr",
     "output_type": "stream",
     "text": [
      "\r",
      " 36%|████████████▊                       | 43/121 [00:06<00:11,  6.68it/s]"
     ]
    },
    {
     "name": "stdout",
     "output_type": "stream",
     "text": [
      "--------------\n",
      "torch.Size([316, 8, 80])\n",
      "tensor([0., 0., 0., 0., 0., 0., 0., 0.], device='cuda:0')\n"
     ]
    },
    {
     "name": "stderr",
     "output_type": "stream",
     "text": [
      "\r",
      " 36%|█████████████                       | 44/121 [00:06<00:11,  6.69it/s]"
     ]
    },
    {
     "name": "stdout",
     "output_type": "stream",
     "text": [
      "--------------\n",
      "torch.Size([346, 8, 80])\n",
      "tensor([0., 0., 0., 0., 0., 0., 0., 0.], device='cuda:0')\n"
     ]
    },
    {
     "name": "stderr",
     "output_type": "stream",
     "text": [
      "\r",
      " 37%|█████████████▍                      | 45/121 [00:06<00:10,  6.96it/s]"
     ]
    },
    {
     "name": "stdout",
     "output_type": "stream",
     "text": [
      "--------------\n",
      "torch.Size([286, 8, 80])\n",
      "tensor([0., 0., 0., 0., 0., 0., 0., 0.], device='cuda:0')\n"
     ]
    },
    {
     "name": "stderr",
     "output_type": "stream",
     "text": [
      "\r",
      " 38%|█████████████▋                      | 46/121 [00:06<00:10,  6.85it/s]"
     ]
    },
    {
     "name": "stdout",
     "output_type": "stream",
     "text": [
      "--------------\n",
      "torch.Size([346, 8, 80])\n",
      "tensor([0., 0., 0., 0., 0., 0., 0., 0.], device='cuda:0')\n"
     ]
    },
    {
     "name": "stderr",
     "output_type": "stream",
     "text": [
      "\r",
      " 39%|█████████████▉                      | 47/121 [00:06<00:10,  7.04it/s]"
     ]
    },
    {
     "name": "stdout",
     "output_type": "stream",
     "text": [
      "--------------\n",
      "torch.Size([301, 8, 80])\n",
      "tensor([0., 0., 0., 0., 0., 0., 0., 0.], device='cuda:0')\n"
     ]
    },
    {
     "name": "stderr",
     "output_type": "stream",
     "text": [
      "\r",
      " 40%|██████████████▎                     | 48/121 [00:07<00:11,  6.49it/s]"
     ]
    },
    {
     "name": "stdout",
     "output_type": "stream",
     "text": [
      "--------------\n",
      "torch.Size([421, 8, 80])\n",
      "tensor([0., 0., 0., 0., 0., 0., 0., 0.], device='cuda:0')\n"
     ]
    },
    {
     "name": "stderr",
     "output_type": "stream",
     "text": [
      "\r",
      " 40%|██████████████▌                     | 49/121 [00:07<00:11,  6.53it/s]"
     ]
    },
    {
     "name": "stdout",
     "output_type": "stream",
     "text": [
      "--------------\n",
      "torch.Size([346, 8, 80])\n",
      "tensor([0., 0., 0., 0., 0., 0., 0., 0.], device='cuda:0')\n"
     ]
    },
    {
     "name": "stderr",
     "output_type": "stream",
     "text": [
      "\r",
      " 41%|██████████████▉                     | 50/121 [00:07<00:11,  6.29it/s]"
     ]
    },
    {
     "name": "stdout",
     "output_type": "stream",
     "text": [
      "--------------\n",
      "torch.Size([406, 8, 80])\n",
      "tensor([0., 0., 0., 0., 0., 0., 0., 0.], device='cuda:0')\n"
     ]
    },
    {
     "name": "stderr",
     "output_type": "stream",
     "text": [
      "\r",
      " 42%|███████████████▏                    | 51/121 [00:07<00:11,  6.17it/s]"
     ]
    },
    {
     "name": "stdout",
     "output_type": "stream",
     "text": [
      "--------------\n",
      "torch.Size([391, 8, 80])\n",
      "tensor([0., 0., 0., 0., 0., 0., 0., 0.], device='cuda:0')\n"
     ]
    },
    {
     "name": "stderr",
     "output_type": "stream",
     "text": [
      "\r",
      " 43%|███████████████▍                    | 52/121 [00:07<00:10,  6.57it/s]"
     ]
    },
    {
     "name": "stdout",
     "output_type": "stream",
     "text": [
      "--------------\n",
      "torch.Size([286, 8, 80])\n",
      "tensor([0., 0., 0., 0., 0., 0., 0., 0.], device='cuda:0')\n"
     ]
    },
    {
     "name": "stderr",
     "output_type": "stream",
     "text": [
      "\r",
      " 44%|███████████████▊                    | 53/121 [00:07<00:10,  6.60it/s]"
     ]
    },
    {
     "name": "stdout",
     "output_type": "stream",
     "text": [
      "--------------\n",
      "torch.Size([346, 8, 80])\n",
      "tensor([0., 0., 0., 0., 0., 0., 0., 0.], device='cuda:0')\n"
     ]
    },
    {
     "name": "stderr",
     "output_type": "stream",
     "text": [
      "\r",
      " 45%|████████████████                    | 54/121 [00:08<00:10,  6.50it/s]"
     ]
    },
    {
     "name": "stdout",
     "output_type": "stream",
     "text": [
      "--------------\n",
      "torch.Size([361, 8, 80])\n",
      "tensor([0., 0., 0., 0., 0., 0., 0., 0.], device='cuda:0')\n"
     ]
    },
    {
     "name": "stderr",
     "output_type": "stream",
     "text": [
      "\r",
      " 45%|████████████████▎                   | 55/121 [00:08<00:10,  6.42it/s]"
     ]
    },
    {
     "name": "stdout",
     "output_type": "stream",
     "text": [
      "--------------\n",
      "torch.Size([376, 8, 80])\n",
      "tensor([0., 0., 0., 0., 0., 0., 0., 0.], device='cuda:0')\n"
     ]
    },
    {
     "name": "stderr",
     "output_type": "stream",
     "text": [
      "\r",
      " 46%|████████████████▋                   | 56/121 [00:08<00:09,  6.55it/s]"
     ]
    },
    {
     "name": "stdout",
     "output_type": "stream",
     "text": [
      "--------------\n",
      "torch.Size([331, 8, 80])\n",
      "tensor([0., 0., 0., 0., 0., 0., 0., 0.], device='cuda:0')\n"
     ]
    },
    {
     "name": "stderr",
     "output_type": "stream",
     "text": [
      "\r",
      " 47%|████████████████▉                   | 57/121 [00:08<00:09,  6.72it/s]"
     ]
    },
    {
     "name": "stdout",
     "output_type": "stream",
     "text": [
      "--------------\n",
      "torch.Size([316, 8, 80])\n",
      "tensor([0., 0., 0., 0., 0., 0., 0., 0.], device='cuda:0')\n"
     ]
    },
    {
     "name": "stderr",
     "output_type": "stream",
     "text": [
      "\r",
      " 48%|█████████████████▎                  | 58/121 [00:08<00:08,  7.07it/s]"
     ]
    },
    {
     "name": "stdout",
     "output_type": "stream",
     "text": [
      "--------------\n",
      "torch.Size([286, 8, 80])\n",
      "tensor([0., 0., 0., 0., 0., 0., 0., 0.], device='cuda:0')\n"
     ]
    },
    {
     "name": "stderr",
     "output_type": "stream",
     "text": [
      "\r",
      " 49%|█████████████████▌                  | 59/121 [00:08<00:08,  7.37it/s]"
     ]
    },
    {
     "name": "stdout",
     "output_type": "stream",
     "text": [
      "--------------\n",
      "torch.Size([271, 8, 80])\n",
      "tensor([0., 0., 0., 0., 0., 0., 0., 0.], device='cuda:0')\n"
     ]
    },
    {
     "name": "stderr",
     "output_type": "stream",
     "text": [
      "\r",
      " 50%|█████████████████▊                  | 60/121 [00:08<00:08,  7.13it/s]"
     ]
    },
    {
     "name": "stdout",
     "output_type": "stream",
     "text": [
      "--------------\n",
      "torch.Size([346, 8, 80])\n",
      "tensor([0., 0., 0., 0., 0., 0., 0., 0.], device='cuda:0')\n"
     ]
    },
    {
     "name": "stderr",
     "output_type": "stream",
     "text": [
      "\r",
      " 50%|██████████████████▏                 | 61/121 [00:09<00:08,  6.83it/s]"
     ]
    },
    {
     "name": "stdout",
     "output_type": "stream",
     "text": [
      "--------------\n",
      "torch.Size([376, 8, 80])\n",
      "tensor([0., 0., 0., 0., 0., 0., 0., 0.], device='cuda:0')\n"
     ]
    },
    {
     "name": "stderr",
     "output_type": "stream",
     "text": [
      "\r",
      " 51%|██████████████████▍                 | 62/121 [00:09<00:08,  7.00it/s]"
     ]
    },
    {
     "name": "stdout",
     "output_type": "stream",
     "text": [
      "--------------\n",
      "torch.Size([301, 8, 80])\n",
      "tensor([0., 0., 0., 0., 0., 0., 0., 0.], device='cuda:0')\n"
     ]
    },
    {
     "name": "stderr",
     "output_type": "stream",
     "text": [
      "\r",
      " 52%|██████████████████▋                 | 63/121 [00:09<00:08,  6.74it/s]"
     ]
    },
    {
     "name": "stdout",
     "output_type": "stream",
     "text": [
      "--------------\n",
      "torch.Size([376, 8, 80])\n",
      "tensor([0., 0., 0., 0., 0., 0., 0., 0.], device='cuda:0')\n"
     ]
    },
    {
     "name": "stderr",
     "output_type": "stream",
     "text": [
      "\r",
      " 53%|███████████████████                 | 64/121 [00:09<00:08,  6.64it/s]"
     ]
    },
    {
     "name": "stdout",
     "output_type": "stream",
     "text": [
      "--------------\n",
      "torch.Size([361, 8, 80])\n",
      "tensor([0., 0., 0., 0., 0., 0., 0., 0.], device='cuda:0')\n"
     ]
    },
    {
     "name": "stderr",
     "output_type": "stream",
     "text": [
      "\r",
      " 54%|███████████████████▎                | 65/121 [00:09<00:08,  6.95it/s]"
     ]
    },
    {
     "name": "stdout",
     "output_type": "stream",
     "text": [
      "--------------\n",
      "torch.Size([286, 8, 80])\n",
      "tensor([0., 0., 0., 0., 0., 0., 0., 0.], device='cuda:0')\n"
     ]
    },
    {
     "name": "stderr",
     "output_type": "stream",
     "text": [
      "\r",
      " 55%|███████████████████▋                | 66/121 [00:09<00:07,  6.96it/s]"
     ]
    },
    {
     "name": "stdout",
     "output_type": "stream",
     "text": [
      "--------------\n",
      "torch.Size([331, 8, 80])\n",
      "tensor([0., 0., 0., 0., 0., 0., 0., 0.], device='cuda:0')\n"
     ]
    },
    {
     "name": "stderr",
     "output_type": "stream",
     "text": [
      "\r",
      " 55%|███████████████████▉                | 67/121 [00:09<00:07,  6.88it/s]"
     ]
    },
    {
     "name": "stdout",
     "output_type": "stream",
     "text": [
      "--------------\n",
      "torch.Size([346, 8, 80])\n",
      "tensor([0., 0., 0., 0., 0., 0., 0., 0.], device='cuda:0')\n"
     ]
    },
    {
     "name": "stderr",
     "output_type": "stream",
     "text": [
      "\r",
      " 56%|████████████████████▏               | 68/121 [00:10<00:07,  6.83it/s]"
     ]
    },
    {
     "name": "stdout",
     "output_type": "stream",
     "text": [
      "--------------\n",
      "torch.Size([346, 8, 80])\n",
      "tensor([0., 0., 0., 0., 0., 0., 0., 0.], device='cuda:0')\n"
     ]
    },
    {
     "name": "stderr",
     "output_type": "stream",
     "text": [
      "\r",
      " 57%|████████████████████▌               | 69/121 [00:10<00:07,  6.86it/s]"
     ]
    },
    {
     "name": "stdout",
     "output_type": "stream",
     "text": [
      "--------------\n",
      "torch.Size([331, 8, 80])\n",
      "tensor([0., 0., 0., 0., 0., 0., 0., 0.], device='cuda:0')\n"
     ]
    },
    {
     "name": "stderr",
     "output_type": "stream",
     "text": [
      "\r",
      " 58%|████████████████████▊               | 70/121 [00:10<00:07,  6.51it/s]"
     ]
    },
    {
     "name": "stdout",
     "output_type": "stream",
     "text": [
      "--------------\n",
      "torch.Size([406, 8, 80])\n",
      "tensor([0., 0., 0., 0., 0., 0., 0., 0.], device='cuda:0')\n"
     ]
    },
    {
     "name": "stderr",
     "output_type": "stream",
     "text": [
      "\r",
      " 59%|█████████████████████               | 71/121 [00:10<00:07,  6.49it/s]"
     ]
    },
    {
     "name": "stdout",
     "output_type": "stream",
     "text": [
      "--------------\n",
      "torch.Size([361, 8, 80])\n",
      "tensor([0., 0., 0., 0., 0., 0., 0., 0.], device='cuda:0')\n"
     ]
    },
    {
     "name": "stderr",
     "output_type": "stream",
     "text": [
      "\r",
      " 60%|█████████████████████▍              | 72/121 [00:10<00:07,  6.44it/s]"
     ]
    },
    {
     "name": "stdout",
     "output_type": "stream",
     "text": [
      "--------------\n",
      "torch.Size([361, 8, 80])\n",
      "tensor([0., 0., 0., 0., 0., 0., 0., 0.], device='cuda:0')\n"
     ]
    },
    {
     "name": "stderr",
     "output_type": "stream",
     "text": [
      "\r",
      " 60%|█████████████████████▋              | 73/121 [00:10<00:07,  6.63it/s]"
     ]
    },
    {
     "name": "stdout",
     "output_type": "stream",
     "text": [
      "--------------\n",
      "torch.Size([316, 8, 80])\n",
      "tensor([0., 0., 0., 0., 0., 0., 0., 0.], device='cuda:0')\n"
     ]
    },
    {
     "name": "stderr",
     "output_type": "stream",
     "text": [
      "\r",
      " 61%|██████████████████████              | 74/121 [00:10<00:06,  6.92it/s]"
     ]
    },
    {
     "name": "stdout",
     "output_type": "stream",
     "text": [
      "--------------\n",
      "torch.Size([301, 8, 80])\n",
      "tensor([0., 0., 0., 0., 0., 0., 0., 0.], device='cuda:0')\n"
     ]
    },
    {
     "name": "stderr",
     "output_type": "stream",
     "text": [
      "\r",
      " 62%|██████████████████████▎             | 75/121 [00:11<00:06,  6.96it/s]"
     ]
    },
    {
     "name": "stdout",
     "output_type": "stream",
     "text": [
      "--------------\n",
      "torch.Size([316, 8, 80])\n",
      "tensor([0., 0., 0., 0., 0., 0., 0., 0.], device='cuda:0')\n"
     ]
    },
    {
     "name": "stderr",
     "output_type": "stream",
     "text": [
      "\r",
      " 63%|██████████████████████▌             | 76/121 [00:11<00:06,  7.16it/s]"
     ]
    },
    {
     "name": "stdout",
     "output_type": "stream",
     "text": [
      "--------------\n",
      "torch.Size([286, 8, 80])\n",
      "tensor([0., 0., 0., 0., 0., 0., 0., 0.], device='cuda:0')\n"
     ]
    },
    {
     "name": "stderr",
     "output_type": "stream",
     "text": [
      "\r",
      " 64%|██████████████████████▉             | 77/121 [00:11<00:06,  7.14it/s]"
     ]
    },
    {
     "name": "stdout",
     "output_type": "stream",
     "text": [
      "--------------\n",
      "torch.Size([316, 8, 80])\n",
      "tensor([0., 0., 0., 0., 0., 0., 0., 0.], device='cuda:0')\n"
     ]
    },
    {
     "name": "stderr",
     "output_type": "stream",
     "text": [
      "\r",
      " 64%|███████████████████████▏            | 78/121 [00:11<00:06,  6.89it/s]"
     ]
    },
    {
     "name": "stdout",
     "output_type": "stream",
     "text": [
      "--------------\n",
      "torch.Size([361, 8, 80])\n",
      "tensor([0., 0., 0., 0., 0., 0., 0., 0.], device='cuda:0')\n"
     ]
    },
    {
     "name": "stderr",
     "output_type": "stream",
     "text": [
      " 66%|███████████████████████▊            | 80/121 [00:11<00:06,  6.05it/s]"
     ]
    },
    {
     "name": "stdout",
     "output_type": "stream",
     "text": [
      "--------------\n",
      "torch.Size([496, 8, 80])\n",
      "tensor([0., 0., 0., 0., 0., 0., 0., 0.], device='cuda:0')\n",
      "--------------\n",
      "torch.Size([391, 8, 80])\n",
      "tensor([0., 0., 0., 0., 0., 0., 0., 0.], device='cuda:0')\n"
     ]
    },
    {
     "name": "stderr",
     "output_type": "stream",
     "text": [
      " 68%|████████████████████████▍           | 82/121 [00:12<00:05,  6.56it/s]"
     ]
    },
    {
     "name": "stdout",
     "output_type": "stream",
     "text": [
      "--------------\n",
      "torch.Size([301, 8, 80])\n",
      "tensor([0., 0., 0., 0., 0., 0., 0., 0.], device='cuda:0')\n",
      "--------------\n",
      "torch.Size([331, 8, 80])\n",
      "tensor([0., 0., 0., 0., 0., 0., 0., 0.], device='cuda:0')\n"
     ]
    },
    {
     "name": "stderr",
     "output_type": "stream",
     "text": [
      " 69%|████████████████████████▉           | 84/121 [00:12<00:05,  6.67it/s]"
     ]
    },
    {
     "name": "stdout",
     "output_type": "stream",
     "text": [
      "--------------\n",
      "torch.Size([436, 8, 80])\n",
      "tensor([0., 0., 0., 0., 0., 0., 0., 0.], device='cuda:0')\n",
      "--------------\n",
      "torch.Size([271, 8, 80])\n",
      "tensor([0., 0., 0., 0., 0., 0., 0., 0.], device='cuda:0')\n"
     ]
    },
    {
     "name": "stderr",
     "output_type": "stream",
     "text": [
      " 71%|█████████████████████████▌          | 86/121 [00:12<00:05,  6.52it/s]"
     ]
    },
    {
     "name": "stdout",
     "output_type": "stream",
     "text": [
      "--------------\n",
      "torch.Size([466, 8, 80])\n",
      "tensor([0., 0., 0., 0., 0., 0., 0., 0.], device='cuda:0')\n",
      "--------------\n",
      "torch.Size([286, 8, 80])\n",
      "tensor([0., 0., 0., 0., 0., 0., 0., 0.], device='cuda:0')\n"
     ]
    },
    {
     "name": "stderr",
     "output_type": "stream",
     "text": [
      " 73%|██████████████████████████▏         | 88/121 [00:13<00:04,  6.81it/s]"
     ]
    },
    {
     "name": "stdout",
     "output_type": "stream",
     "text": [
      "--------------\n",
      "torch.Size([361, 8, 80])\n",
      "tensor([0., 0., 0., 0., 0., 0., 0., 0.], device='cuda:0')\n",
      "--------------\n",
      "torch.Size([286, 8, 80])\n",
      "tensor([0., 0., 0., 0., 0., 0., 0., 0.], device='cuda:0')\n"
     ]
    },
    {
     "name": "stderr",
     "output_type": "stream",
     "text": [
      " 74%|██████████████████████████▊         | 90/121 [00:13<00:04,  7.11it/s]"
     ]
    },
    {
     "name": "stdout",
     "output_type": "stream",
     "text": [
      "--------------\n",
      "torch.Size([286, 8, 80])\n",
      "tensor([0., 0., 0., 0., 0., 0., 0., 0.], device='cuda:0')\n",
      "--------------\n",
      "torch.Size([316, 8, 80])\n",
      "tensor([0., 0., 0., 0., 0., 0., 0., 0.], device='cuda:0')\n"
     ]
    },
    {
     "name": "stderr",
     "output_type": "stream",
     "text": [
      " 76%|███████████████████████████▎        | 92/121 [00:13<00:03,  7.28it/s]"
     ]
    },
    {
     "name": "stdout",
     "output_type": "stream",
     "text": [
      "--------------\n",
      "torch.Size([361, 8, 80])\n",
      "tensor([0., 0., 0., 0., 0., 0., 0., 0.], device='cuda:0')\n",
      "--------------\n",
      "torch.Size([256, 8, 80])\n",
      "tensor([0., 0., 0., 0., 0., 0., 0., 0.], device='cuda:0')\n"
     ]
    },
    {
     "name": "stderr",
     "output_type": "stream",
     "text": [
      " 78%|███████████████████████████▉        | 94/121 [00:13<00:03,  7.25it/s]"
     ]
    },
    {
     "name": "stdout",
     "output_type": "stream",
     "text": [
      "--------------\n",
      "torch.Size([286, 8, 80])\n",
      "tensor([0., 0., 0., 0., 0., 0., 0., 0.], device='cuda:0')\n",
      "--------------\n",
      "torch.Size([331, 8, 80])\n",
      "tensor([0., 0., 0., 0., 0., 0., 0., 0.], device='cuda:0')\n"
     ]
    },
    {
     "name": "stderr",
     "output_type": "stream",
     "text": [
      " 79%|████████████████████████████▌       | 96/121 [00:14<00:03,  6.40it/s]"
     ]
    },
    {
     "name": "stdout",
     "output_type": "stream",
     "text": [
      "--------------\n",
      "torch.Size([391, 8, 80])\n",
      "tensor([0., 0., 0., 0., 0., 0., 0., 0.], device='cuda:0')\n",
      "--------------\n",
      "torch.Size([421, 8, 80])\n",
      "tensor([0., 0., 0., 0., 0., 0., 0., 0.], device='cuda:0')\n"
     ]
    },
    {
     "name": "stderr",
     "output_type": "stream",
     "text": [
      "\r",
      " 80%|████████████████████████████▊       | 97/121 [00:14<00:03,  6.15it/s]"
     ]
    },
    {
     "name": "stdout",
     "output_type": "stream",
     "text": [
      "--------------\n",
      "torch.Size([421, 8, 80])\n",
      "tensor([0., 0., 0., 0., 0., 0., 0., 0.], device='cuda:0')\n",
      "--------------\n",
      "torch.Size([451, 8, 80])\n",
      "tensor([0., 0., 0., 0., 0., 0., 0., 0.], device='cuda:0')\n"
     ]
    },
    {
     "name": "stderr",
     "output_type": "stream",
     "text": [
      " 83%|████████████████████████████▉      | 100/121 [00:15<00:03,  5.61it/s]"
     ]
    },
    {
     "name": "stdout",
     "output_type": "stream",
     "text": [
      "--------------\n",
      "torch.Size([481, 8, 80])\n",
      "tensor([0., 0., 0., 0., 0., 0., 0., 0.], device='cuda:0')\n",
      "--------------\n",
      "torch.Size([391, 8, 80])\n",
      "tensor([0., 0., 0., 0., 0., 0., 0., 0.], device='cuda:0')\n"
     ]
    },
    {
     "name": "stderr",
     "output_type": "stream",
     "text": [
      "\r",
      " 83%|█████████████████████████████▏     | 101/121 [00:15<00:03,  6.03it/s]"
     ]
    },
    {
     "name": "stdout",
     "output_type": "stream",
     "text": [
      "--------------\n",
      "torch.Size([301, 8, 80])\n",
      "tensor([0., 0., 0., 0., 0., 0., 0., 0.], device='cuda:0')\n"
     ]
    },
    {
     "name": "stderr",
     "output_type": "stream",
     "text": [
      " 85%|█████████████████████████████▊     | 103/121 [00:15<00:03,  4.94it/s]"
     ]
    },
    {
     "name": "stdout",
     "output_type": "stream",
     "text": [
      "--------------\n",
      "torch.Size([361, 8, 80])\n",
      "tensor([0., 0., 0., 0., 0., 0., 0., 0.], device='cuda:0')\n",
      "--------------\n",
      "torch.Size([316, 8, 80])\n",
      "tensor([0., 0., 0., 0., 0., 0., 0., 0.], device='cuda:0')\n"
     ]
    },
    {
     "name": "stderr",
     "output_type": "stream",
     "text": [
      " 87%|██████████████████████████████▎    | 105/121 [00:15<00:02,  5.58it/s]"
     ]
    },
    {
     "name": "stdout",
     "output_type": "stream",
     "text": [
      "--------------\n",
      "torch.Size([391, 8, 80])\n",
      "tensor([0., 0., 0., 0., 0., 0., 0., 0.], device='cuda:0')\n",
      "--------------\n",
      "torch.Size([346, 8, 80])\n",
      "tensor([0., 0., 0., 0., 0., 0., 0., 0.], device='cuda:0')\n"
     ]
    },
    {
     "name": "stderr",
     "output_type": "stream",
     "text": [
      " 88%|██████████████████████████████▉    | 107/121 [00:16<00:02,  5.92it/s]"
     ]
    },
    {
     "name": "stdout",
     "output_type": "stream",
     "text": [
      "--------------\n",
      "torch.Size([301, 8, 80])\n",
      "tensor([0., 0., 0., 0., 0., 0., 0., 0.], device='cuda:0')\n",
      "--------------\n",
      "torch.Size([421, 8, 80])\n",
      "tensor([0., 0., 0., 0., 0., 0., 0., 0.], device='cuda:0')\n"
     ]
    },
    {
     "name": "stderr",
     "output_type": "stream",
     "text": [
      " 90%|███████████████████████████████▌   | 109/121 [00:16<00:01,  6.36it/s]"
     ]
    },
    {
     "name": "stdout",
     "output_type": "stream",
     "text": [
      "--------------\n",
      "torch.Size([316, 8, 80])\n",
      "tensor([0., 0., 0., 0., 0., 0., 0., 0.], device='cuda:0')\n",
      "--------------\n",
      "torch.Size([346, 8, 80])\n",
      "tensor([0., 0., 0., 0., 0., 0., 0., 0.], device='cuda:0')\n"
     ]
    },
    {
     "name": "stderr",
     "output_type": "stream",
     "text": [
      " 92%|████████████████████████████████   | 111/121 [00:16<00:01,  6.46it/s]"
     ]
    },
    {
     "name": "stdout",
     "output_type": "stream",
     "text": [
      "--------------\n",
      "torch.Size([391, 8, 80])\n",
      "tensor([0., 0., 0., 0., 0., 0., 0., 0.], device='cuda:0')\n",
      "--------------\n",
      "torch.Size([316, 8, 80])\n",
      "tensor([0., 0., 0., 0., 0., 0., 0., 0.], device='cuda:0')\n"
     ]
    },
    {
     "name": "stderr",
     "output_type": "stream",
     "text": [
      " 93%|████████████████████████████████▋  | 113/121 [00:17<00:01,  6.34it/s]"
     ]
    },
    {
     "name": "stdout",
     "output_type": "stream",
     "text": [
      "--------------\n",
      "torch.Size([496, 8, 80])\n",
      "tensor([0., 0., 0., 0., 0., 0., 0., 0.], device='cuda:0')\n",
      "--------------\n",
      "torch.Size([286, 8, 80])\n",
      "tensor([0., 0., 0., 0., 0., 0., 0., 0.], device='cuda:0')\n"
     ]
    },
    {
     "name": "stderr",
     "output_type": "stream",
     "text": [
      " 95%|█████████████████████████████████▎ | 115/121 [00:17<00:00,  6.49it/s]"
     ]
    },
    {
     "name": "stdout",
     "output_type": "stream",
     "text": [
      "--------------\n",
      "torch.Size([346, 8, 80])\n",
      "tensor([0., 0., 0., 0., 0., 0., 0., 0.], device='cuda:0')\n",
      "--------------\n",
      "torch.Size([346, 8, 80])\n",
      "tensor([0., 0., 0., 0., 0., 0., 0., 0.], device='cuda:0')\n"
     ]
    },
    {
     "name": "stderr",
     "output_type": "stream",
     "text": [
      " 97%|█████████████████████████████████▊ | 117/121 [00:17<00:00,  6.25it/s]"
     ]
    },
    {
     "name": "stdout",
     "output_type": "stream",
     "text": [
      "--------------\n",
      "torch.Size([316, 8, 80])\n",
      "tensor([0., 0., 0., 0., 0., 0., 0., 0.], device='cuda:0')\n",
      "--------------\n",
      "torch.Size([451, 8, 80])\n",
      "tensor([0., 0., 0., 0., 0., 0., 0., 0.], device='cuda:0')\n"
     ]
    },
    {
     "name": "stderr",
     "output_type": "stream",
     "text": [
      " 98%|██████████████████████████████████▍| 119/121 [00:18<00:00,  6.78it/s]"
     ]
    },
    {
     "name": "stdout",
     "output_type": "stream",
     "text": [
      "--------------\n",
      "torch.Size([331, 8, 80])\n",
      "tensor([0., 0., 0., 0., 0., 0., 0., 0.], device='cuda:0')\n",
      "--------------\n",
      "torch.Size([286, 8, 80])\n",
      "tensor([0., 0., 0., 0., 0., 0., 0., 0.], device='cuda:0')\n"
     ]
    },
    {
     "name": "stderr",
     "output_type": "stream",
     "text": [
      "100%|███████████████████████████████████| 121/121 [00:18<00:00,  6.58it/s]"
     ]
    },
    {
     "name": "stdout",
     "output_type": "stream",
     "text": [
      "--------------\n",
      "torch.Size([346, 8, 80])\n",
      "tensor([0., 0., 0., 0., 0., 0., 0., 0.], device='cuda:0')\n",
      "--------------\n",
      "torch.Size([346, 6, 80])\n",
      "tensor([0., 0., 0., 0., 0., 0.], device='cuda:0')\n",
      "Test CER 0.14497210702603253\n",
      "Test WER 0.4449272550166974\n",
      "Test CTC 159.37645574534162\n",
      "Saving Best\n"
     ]
    },
    {
     "name": "stderr",
     "output_type": "stream",
     "text": [
      "\n"
     ]
    },
    {
     "name": "stdout",
     "output_type": "stream",
     "text": [
      "Train Set Size = 771\n"
     ]
    },
    {
     "name": "stderr",
     "output_type": "stream",
     "text": [
      "CER: 0.1074794069486773 CTC: 2903.334228515625 Ground Truth: |been warned \n"
     ]
    },
    {
     "name": "stdout",
     "output_type": "stream",
     "text": [
      "Epoch: 10 Training CER 0.10747950899398805\n",
      "Training WER: 0.35967883621838664\n",
      "Time: 278.31752490997314 Seconds\n",
      "Validation Set Size = 121\n"
     ]
    },
    {
     "name": "stderr",
     "output_type": "stream",
     "text": [
      "  1%|▎                                    | 1/121 [00:00<00:22,  5.33it/s]"
     ]
    },
    {
     "name": "stdout",
     "output_type": "stream",
     "text": [
      "--------------\n",
      "torch.Size([421, 8, 80])\n",
      "tensor([0., 0., 0., 0., 0., 0., 0., 0.], device='cuda:0')\n"
     ]
    },
    {
     "name": "stderr",
     "output_type": "stream",
     "text": [
      "\r",
      "  2%|▌                                    | 2/121 [00:00<00:18,  6.41it/s]"
     ]
    },
    {
     "name": "stdout",
     "output_type": "stream",
     "text": [
      "--------------\n",
      "torch.Size([301, 8, 80])\n",
      "tensor([0., 0., 0., 0., 0., 0., 0., 0.], device='cuda:0')\n"
     ]
    },
    {
     "name": "stderr",
     "output_type": "stream",
     "text": [
      "\r",
      "  2%|▉                                    | 3/121 [00:00<00:17,  6.69it/s]"
     ]
    },
    {
     "name": "stdout",
     "output_type": "stream",
     "text": [
      "--------------\n",
      "torch.Size([316, 8, 80])\n",
      "tensor([0., 0., 0., 0., 0., 0., 0., 0.], device='cuda:0')\n"
     ]
    },
    {
     "name": "stderr",
     "output_type": "stream",
     "text": [
      "\r",
      "  3%|█▏                                   | 4/121 [00:00<00:17,  6.63it/s]"
     ]
    },
    {
     "name": "stdout",
     "output_type": "stream",
     "text": [
      "--------------\n",
      "torch.Size([346, 8, 80])\n",
      "tensor([0., 0., 0., 0., 0., 0., 0., 0.], device='cuda:0')\n"
     ]
    },
    {
     "name": "stderr",
     "output_type": "stream",
     "text": [
      "\r",
      "  4%|█▌                                   | 5/121 [00:00<00:17,  6.60it/s]"
     ]
    },
    {
     "name": "stdout",
     "output_type": "stream",
     "text": [
      "--------------\n",
      "torch.Size([346, 8, 80])\n",
      "tensor([0., 0., 0., 0., 0., 0., 0., 0.], device='cuda:0')\n"
     ]
    },
    {
     "name": "stderr",
     "output_type": "stream",
     "text": [
      "\r",
      "  5%|█▊                                   | 6/121 [00:00<00:16,  6.82it/s]"
     ]
    },
    {
     "name": "stdout",
     "output_type": "stream",
     "text": [
      "--------------\n",
      "torch.Size([316, 8, 80])\n",
      "tensor([0., 0., 0., 0., 0., 0., 0., 0.], device='cuda:0')\n"
     ]
    },
    {
     "name": "stderr",
     "output_type": "stream",
     "text": [
      "\r",
      "  6%|██▏                                  | 7/121 [00:01<00:17,  6.65it/s]"
     ]
    },
    {
     "name": "stdout",
     "output_type": "stream",
     "text": [
      "--------------\n",
      "torch.Size([361, 8, 80])\n",
      "tensor([0., 0., 0., 0., 0., 0., 0., 0.], device='cuda:0')\n"
     ]
    },
    {
     "name": "stderr",
     "output_type": "stream",
     "text": [
      "\r",
      "  7%|██▍                                  | 8/121 [00:01<00:17,  6.45it/s]"
     ]
    },
    {
     "name": "stdout",
     "output_type": "stream",
     "text": [
      "--------------\n",
      "torch.Size([391, 8, 80])\n",
      "tensor([0., 0., 0., 0., 0., 0., 0., 0.], device='cuda:0')\n"
     ]
    },
    {
     "name": "stderr",
     "output_type": "stream",
     "text": [
      "\r",
      "  7%|██▊                                  | 9/121 [00:01<00:17,  6.30it/s]"
     ]
    },
    {
     "name": "stdout",
     "output_type": "stream",
     "text": [
      "--------------\n",
      "torch.Size([391, 8, 80])\n",
      "tensor([0., 0., 0., 0., 0., 0., 0., 0.], device='cuda:0')\n"
     ]
    },
    {
     "name": "stderr",
     "output_type": "stream",
     "text": [
      "\r",
      "  8%|██▉                                 | 10/121 [00:01<00:18,  5.95it/s]"
     ]
    },
    {
     "name": "stdout",
     "output_type": "stream",
     "text": [
      "--------------\n",
      "torch.Size([451, 8, 80])\n",
      "tensor([0., 0., 0., 0., 0., 0., 0., 0.], device='cuda:0')\n"
     ]
    },
    {
     "name": "stderr",
     "output_type": "stream",
     "text": [
      "\r",
      "  9%|███▎                                | 11/121 [00:01<00:18,  6.08it/s]"
     ]
    },
    {
     "name": "stdout",
     "output_type": "stream",
     "text": [
      "--------------\n",
      "torch.Size([361, 8, 80])\n",
      "tensor([0., 0., 0., 0., 0., 0., 0., 0.], device='cuda:0')\n"
     ]
    },
    {
     "name": "stderr",
     "output_type": "stream",
     "text": [
      "\r",
      " 10%|███▌                                | 12/121 [00:01<00:18,  6.02it/s]"
     ]
    },
    {
     "name": "stdout",
     "output_type": "stream",
     "text": [
      "--------------\n",
      "torch.Size([391, 8, 80])\n",
      "tensor([0., 0., 0., 0., 0., 0., 0., 0.], device='cuda:0')\n"
     ]
    },
    {
     "name": "stderr",
     "output_type": "stream",
     "text": [
      "\r",
      " 11%|███▊                                | 13/121 [00:02<00:17,  6.01it/s]"
     ]
    },
    {
     "name": "stdout",
     "output_type": "stream",
     "text": [
      "--------------\n",
      "torch.Size([391, 8, 80])\n",
      "tensor([0., 0., 0., 0., 0., 0., 0., 0.], device='cuda:0')\n"
     ]
    },
    {
     "name": "stderr",
     "output_type": "stream",
     "text": [
      "\r",
      " 12%|████▏                               | 14/121 [00:02<00:16,  6.64it/s]"
     ]
    },
    {
     "name": "stdout",
     "output_type": "stream",
     "text": [
      "--------------\n",
      "torch.Size([256, 8, 80])\n",
      "tensor([0., 0., 0., 0., 0., 0., 0., 0.], device='cuda:0')\n"
     ]
    },
    {
     "name": "stderr",
     "output_type": "stream",
     "text": [
      "\r",
      " 12%|████▍                               | 15/121 [00:02<00:16,  6.55it/s]"
     ]
    },
    {
     "name": "stdout",
     "output_type": "stream",
     "text": [
      "--------------\n",
      "torch.Size([361, 8, 80])\n",
      "tensor([0., 0., 0., 0., 0., 0., 0., 0.], device='cuda:0')\n"
     ]
    },
    {
     "name": "stderr",
     "output_type": "stream",
     "text": [
      "\r",
      " 13%|████▊                               | 16/121 [00:02<00:16,  6.56it/s]"
     ]
    },
    {
     "name": "stdout",
     "output_type": "stream",
     "text": [
      "--------------\n",
      "torch.Size([346, 8, 80])\n",
      "tensor([0., 0., 0., 0., 0., 0., 0., 0.], device='cuda:0')\n"
     ]
    },
    {
     "name": "stderr",
     "output_type": "stream",
     "text": [
      "\r",
      " 14%|█████                               | 17/121 [00:02<00:15,  6.84it/s]"
     ]
    },
    {
     "name": "stdout",
     "output_type": "stream",
     "text": [
      "--------------\n",
      "torch.Size([286, 8, 80])\n",
      "tensor([0., 0., 0., 0., 0., 0., 0., 0.], device='cuda:0')\n"
     ]
    },
    {
     "name": "stderr",
     "output_type": "stream",
     "text": [
      "\r",
      " 15%|█████▎                              | 18/121 [00:02<00:15,  6.53it/s]"
     ]
    },
    {
     "name": "stdout",
     "output_type": "stream",
     "text": [
      "--------------\n",
      "torch.Size([391, 8, 80])\n",
      "tensor([0., 0., 0., 0., 0., 0., 0., 0.], device='cuda:0')\n"
     ]
    },
    {
     "name": "stderr",
     "output_type": "stream",
     "text": [
      "\r",
      " 16%|█████▋                              | 19/121 [00:02<00:15,  6.56it/s]"
     ]
    },
    {
     "name": "stdout",
     "output_type": "stream",
     "text": [
      "--------------\n",
      "torch.Size([346, 8, 80])\n",
      "tensor([0., 0., 0., 0., 0., 0., 0., 0.], device='cuda:0')\n"
     ]
    },
    {
     "name": "stderr",
     "output_type": "stream",
     "text": [
      "\r",
      " 17%|█████▉                              | 20/121 [00:03<00:15,  6.49it/s]"
     ]
    },
    {
     "name": "stdout",
     "output_type": "stream",
     "text": [
      "--------------\n",
      "torch.Size([361, 8, 80])\n",
      "tensor([0., 0., 0., 0., 0., 0., 0., 0.], device='cuda:0')\n"
     ]
    },
    {
     "name": "stderr",
     "output_type": "stream",
     "text": [
      "\r",
      " 17%|██████▏                             | 21/121 [00:03<00:15,  6.49it/s]"
     ]
    },
    {
     "name": "stdout",
     "output_type": "stream",
     "text": [
      "--------------\n",
      "torch.Size([361, 8, 80])\n",
      "tensor([0., 0., 0., 0., 0., 0., 0., 0.], device='cuda:0')\n"
     ]
    },
    {
     "name": "stderr",
     "output_type": "stream",
     "text": [
      "\r",
      " 18%|██████▌                             | 22/121 [00:03<00:15,  6.58it/s]"
     ]
    },
    {
     "name": "stdout",
     "output_type": "stream",
     "text": [
      "--------------\n",
      "torch.Size([346, 8, 80])\n",
      "tensor([0., 0., 0., 0., 0., 0., 0., 0.], device='cuda:0')\n"
     ]
    },
    {
     "name": "stderr",
     "output_type": "stream",
     "text": [
      "\r",
      " 19%|██████▊                             | 23/121 [00:03<00:14,  6.54it/s]"
     ]
    },
    {
     "name": "stdout",
     "output_type": "stream",
     "text": [
      "--------------\n",
      "torch.Size([361, 8, 80])\n",
      "tensor([0., 0., 0., 0., 0., 0., 0., 0.], device='cuda:0')\n"
     ]
    },
    {
     "name": "stderr",
     "output_type": "stream",
     "text": [
      "\r",
      " 20%|███████▏                            | 24/121 [00:03<00:15,  6.39it/s]"
     ]
    },
    {
     "name": "stdout",
     "output_type": "stream",
     "text": [
      "--------------\n",
      "torch.Size([391, 8, 80])\n",
      "tensor([0., 0., 0., 0., 0., 0., 0., 0.], device='cuda:0')\n"
     ]
    },
    {
     "name": "stderr",
     "output_type": "stream",
     "text": [
      "\r",
      " 21%|███████▍                            | 25/121 [00:03<00:14,  6.70it/s]"
     ]
    },
    {
     "name": "stdout",
     "output_type": "stream",
     "text": [
      "--------------\n",
      "torch.Size([301, 8, 80])\n",
      "tensor([0., 0., 0., 0., 0., 0., 0., 0.], device='cuda:0')\n"
     ]
    },
    {
     "name": "stderr",
     "output_type": "stream",
     "text": [
      "\r",
      " 21%|███████▋                            | 26/121 [00:04<00:15,  6.29it/s]"
     ]
    },
    {
     "name": "stdout",
     "output_type": "stream",
     "text": [
      "--------------\n",
      "torch.Size([436, 8, 80])\n",
      "tensor([0., 0., 0., 0., 0., 0., 0., 0.], device='cuda:0')\n"
     ]
    },
    {
     "name": "stderr",
     "output_type": "stream",
     "text": [
      "\r",
      " 22%|████████                            | 27/121 [00:04<00:14,  6.68it/s]"
     ]
    },
    {
     "name": "stdout",
     "output_type": "stream",
     "text": [
      "--------------\n",
      "torch.Size([286, 8, 80])\n",
      "tensor([0., 0., 0., 0., 0., 0., 0., 0.], device='cuda:0')\n"
     ]
    },
    {
     "name": "stderr",
     "output_type": "stream",
     "text": [
      "\r",
      " 23%|████████▎                           | 28/121 [00:04<00:13,  7.06it/s]"
     ]
    },
    {
     "name": "stdout",
     "output_type": "stream",
     "text": [
      "--------------\n",
      "torch.Size([271, 8, 80])\n",
      "tensor([0., 0., 0., 0., 0., 0., 0., 0.], device='cuda:0')\n"
     ]
    },
    {
     "name": "stderr",
     "output_type": "stream",
     "text": [
      "\r",
      " 24%|████████▋                           | 29/121 [00:04<00:13,  6.61it/s]"
     ]
    },
    {
     "name": "stdout",
     "output_type": "stream",
     "text": [
      "--------------\n",
      "torch.Size([406, 8, 80])\n",
      "tensor([0., 0., 0., 0., 0., 0., 0., 0.], device='cuda:0')\n"
     ]
    },
    {
     "name": "stderr",
     "output_type": "stream",
     "text": [
      "\r",
      " 25%|████████▉                           | 30/121 [00:04<00:13,  6.85it/s]"
     ]
    },
    {
     "name": "stdout",
     "output_type": "stream",
     "text": [
      "--------------\n",
      "torch.Size([301, 8, 80])\n",
      "tensor([0., 0., 0., 0., 0., 0., 0., 0.], device='cuda:0')\n"
     ]
    },
    {
     "name": "stderr",
     "output_type": "stream",
     "text": [
      "\r",
      " 26%|█████████▏                          | 31/121 [00:04<00:12,  7.03it/s]"
     ]
    },
    {
     "name": "stdout",
     "output_type": "stream",
     "text": [
      "--------------\n",
      "torch.Size([301, 8, 80])\n",
      "tensor([0., 0., 0., 0., 0., 0., 0., 0.], device='cuda:0')\n"
     ]
    },
    {
     "name": "stderr",
     "output_type": "stream",
     "text": [
      "\r",
      " 26%|█████████▌                          | 32/121 [00:04<00:13,  6.68it/s]"
     ]
    },
    {
     "name": "stdout",
     "output_type": "stream",
     "text": [
      "--------------\n",
      "torch.Size([391, 8, 80])\n",
      "tensor([0., 0., 0., 0., 0., 0., 0., 0.], device='cuda:0')\n"
     ]
    },
    {
     "name": "stderr",
     "output_type": "stream",
     "text": [
      "\r",
      " 27%|█████████▊                          | 33/121 [00:05<00:12,  6.79it/s]"
     ]
    },
    {
     "name": "stdout",
     "output_type": "stream",
     "text": [
      "--------------\n",
      "torch.Size([316, 8, 80])\n",
      "tensor([0., 0., 0., 0., 0., 0., 0., 0.], device='cuda:0')\n"
     ]
    },
    {
     "name": "stderr",
     "output_type": "stream",
     "text": [
      "\r",
      " 28%|██████████                          | 34/121 [00:05<00:12,  6.82it/s]"
     ]
    },
    {
     "name": "stdout",
     "output_type": "stream",
     "text": [
      "--------------\n",
      "torch.Size([331, 8, 80])\n",
      "tensor([0., 0., 0., 0., 0., 0., 0., 0.], device='cuda:0')\n"
     ]
    },
    {
     "name": "stderr",
     "output_type": "stream",
     "text": [
      "\r",
      " 29%|██████████▍                         | 35/121 [00:05<00:12,  7.09it/s]"
     ]
    },
    {
     "name": "stdout",
     "output_type": "stream",
     "text": [
      "--------------\n",
      "torch.Size([286, 8, 80])\n",
      "tensor([0., 0., 0., 0., 0., 0., 0., 0.], device='cuda:0')\n"
     ]
    },
    {
     "name": "stderr",
     "output_type": "stream",
     "text": [
      "\r",
      " 30%|██████████▋                         | 36/121 [00:05<00:12,  6.56it/s]"
     ]
    },
    {
     "name": "stdout",
     "output_type": "stream",
     "text": [
      "--------------\n",
      "torch.Size([421, 8, 80])\n",
      "tensor([0., 0., 0., 0., 0., 0., 0., 0.], device='cuda:0')\n"
     ]
    },
    {
     "name": "stderr",
     "output_type": "stream",
     "text": [
      "\r",
      " 31%|███████████                         | 37/121 [00:05<00:12,  6.61it/s]"
     ]
    },
    {
     "name": "stdout",
     "output_type": "stream",
     "text": [
      "--------------\n",
      "torch.Size([331, 8, 80])\n",
      "tensor([0., 0., 0., 0., 0., 0., 0., 0.], device='cuda:0')\n"
     ]
    },
    {
     "name": "stderr",
     "output_type": "stream",
     "text": [
      "\r",
      " 31%|███████████▎                        | 38/121 [00:05<00:12,  6.67it/s]"
     ]
    },
    {
     "name": "stdout",
     "output_type": "stream",
     "text": [
      "--------------\n",
      "torch.Size([331, 8, 80])\n",
      "tensor([0., 0., 0., 0., 0., 0., 0., 0.], device='cuda:0')\n"
     ]
    },
    {
     "name": "stderr",
     "output_type": "stream",
     "text": [
      "\r",
      " 32%|███████████▌                        | 39/121 [00:05<00:12,  6.41it/s]"
     ]
    },
    {
     "name": "stdout",
     "output_type": "stream",
     "text": [
      "--------------\n",
      "torch.Size([391, 8, 80])\n",
      "tensor([0., 0., 0., 0., 0., 0., 0., 0.], device='cuda:0')\n"
     ]
    },
    {
     "name": "stderr",
     "output_type": "stream",
     "text": [
      "\r",
      " 33%|███████████▉                        | 40/121 [00:06<00:13,  6.11it/s]"
     ]
    },
    {
     "name": "stdout",
     "output_type": "stream",
     "text": [
      "--------------\n",
      "torch.Size([421, 8, 80])\n",
      "tensor([0., 0., 0., 0., 0., 0., 0., 0.], device='cuda:0')\n"
     ]
    },
    {
     "name": "stderr",
     "output_type": "stream",
     "text": [
      "\r",
      " 34%|████████████▏                       | 41/121 [00:06<00:12,  6.23it/s]"
     ]
    },
    {
     "name": "stdout",
     "output_type": "stream",
     "text": [
      "--------------\n",
      "torch.Size([346, 8, 80])\n",
      "tensor([0., 0., 0., 0., 0., 0., 0., 0.], device='cuda:0')\n"
     ]
    },
    {
     "name": "stderr",
     "output_type": "stream",
     "text": [
      "\r",
      " 35%|████████████▍                       | 42/121 [00:06<00:12,  6.54it/s]"
     ]
    },
    {
     "name": "stdout",
     "output_type": "stream",
     "text": [
      "--------------\n",
      "torch.Size([301, 8, 80])\n",
      "tensor([0., 0., 0., 0., 0., 0., 0., 0.], device='cuda:0')\n"
     ]
    },
    {
     "name": "stderr",
     "output_type": "stream",
     "text": [
      " 36%|█████████████                       | 44/121 [00:06<00:12,  6.11it/s]"
     ]
    },
    {
     "name": "stdout",
     "output_type": "stream",
     "text": [
      "--------------\n",
      "torch.Size([496, 8, 80])\n",
      "tensor([0., 0., 0., 0., 0., 0., 0., 0.], device='cuda:0')\n",
      "--------------\n",
      "torch.Size([331, 8, 80])\n",
      "tensor([0., 0., 0., 0., 0., 0., 0., 0.], device='cuda:0')\n"
     ]
    },
    {
     "name": "stderr",
     "output_type": "stream",
     "text": [
      " 38%|█████████████▋                      | 46/121 [00:07<00:11,  6.67it/s]"
     ]
    },
    {
     "name": "stdout",
     "output_type": "stream",
     "text": [
      "--------------\n",
      "torch.Size([316, 8, 80])\n",
      "tensor([0., 0., 0., 0., 0., 0., 0., 0.], device='cuda:0')\n",
      "--------------\n",
      "torch.Size([301, 8, 80])\n",
      "tensor([0., 0., 0., 0., 0., 0., 0., 0.], device='cuda:0')\n"
     ]
    },
    {
     "name": "stderr",
     "output_type": "stream",
     "text": [
      " 40%|██████████████▎                     | 48/121 [00:07<00:11,  6.39it/s]"
     ]
    },
    {
     "name": "stdout",
     "output_type": "stream",
     "text": [
      "--------------\n",
      "torch.Size([271, 8, 80])\n",
      "tensor([0., 0., 0., 0., 0., 0., 0., 0.], device='cuda:0')\n",
      "--------------\n",
      "torch.Size([451, 8, 80])\n",
      "tensor([0., 0., 0., 0., 0., 0., 0., 0.], device='cuda:0')\n"
     ]
    },
    {
     "name": "stderr",
     "output_type": "stream",
     "text": [
      " 41%|██████████████▉                     | 50/121 [00:07<00:11,  6.42it/s]"
     ]
    },
    {
     "name": "stdout",
     "output_type": "stream",
     "text": [
      "--------------\n",
      "torch.Size([346, 8, 80])\n",
      "tensor([0., 0., 0., 0., 0., 0., 0., 0.], device='cuda:0')\n",
      "--------------\n",
      "torch.Size([361, 8, 80])\n",
      "tensor([0., 0., 0., 0., 0., 0., 0., 0.], device='cuda:0')\n"
     ]
    },
    {
     "name": "stderr",
     "output_type": "stream",
     "text": [
      " 43%|███████████████▍                    | 52/121 [00:07<00:10,  6.84it/s]"
     ]
    },
    {
     "name": "stdout",
     "output_type": "stream",
     "text": [
      "--------------\n",
      "torch.Size([316, 8, 80])\n",
      "tensor([0., 0., 0., 0., 0., 0., 0., 0.], device='cuda:0')\n",
      "--------------\n",
      "torch.Size([301, 8, 80])\n",
      "tensor([0., 0., 0., 0., 0., 0., 0., 0.], device='cuda:0')\n"
     ]
    },
    {
     "name": "stderr",
     "output_type": "stream",
     "text": [
      " 45%|████████████████                    | 54/121 [00:08<00:09,  7.02it/s]"
     ]
    },
    {
     "name": "stdout",
     "output_type": "stream",
     "text": [
      "--------------\n",
      "torch.Size([316, 8, 80])\n",
      "tensor([0., 0., 0., 0., 0., 0., 0., 0.], device='cuda:0')\n",
      "--------------\n",
      "torch.Size([316, 8, 80])\n",
      "tensor([0., 0., 0., 0., 0., 0., 0., 0.], device='cuda:0')\n"
     ]
    },
    {
     "name": "stderr",
     "output_type": "stream",
     "text": [
      " 46%|████████████████▋                   | 56/121 [00:08<00:09,  6.87it/s]"
     ]
    },
    {
     "name": "stdout",
     "output_type": "stream",
     "text": [
      "--------------\n",
      "torch.Size([331, 8, 80])\n",
      "tensor([0., 0., 0., 0., 0., 0., 0., 0.], device='cuda:0')\n",
      "--------------\n",
      "torch.Size([346, 8, 80])\n",
      "tensor([0., 0., 0., 0., 0., 0., 0., 0.], device='cuda:0')\n"
     ]
    },
    {
     "name": "stderr",
     "output_type": "stream",
     "text": [
      " 48%|█████████████████▎                  | 58/121 [00:08<00:09,  6.60it/s]"
     ]
    },
    {
     "name": "stdout",
     "output_type": "stream",
     "text": [
      "--------------\n",
      "torch.Size([376, 8, 80])\n",
      "tensor([0., 0., 0., 0., 0., 0., 0., 0.], device='cuda:0')\n",
      "--------------\n",
      "torch.Size([346, 8, 80])\n",
      "tensor([0., 0., 0., 0., 0., 0., 0., 0.], device='cuda:0')\n"
     ]
    },
    {
     "name": "stderr",
     "output_type": "stream",
     "text": [
      " 50%|█████████████████▊                  | 60/121 [00:09<00:09,  6.47it/s]"
     ]
    },
    {
     "name": "stdout",
     "output_type": "stream",
     "text": [
      "--------------\n",
      "torch.Size([331, 8, 80])\n",
      "tensor([0., 0., 0., 0., 0., 0., 0., 0.], device='cuda:0')\n",
      "--------------\n",
      "torch.Size([376, 8, 80])\n",
      "tensor([0., 0., 0., 0., 0., 0., 0., 0.], device='cuda:0')\n"
     ]
    },
    {
     "name": "stderr",
     "output_type": "stream",
     "text": [
      " 51%|██████████████████▍                 | 62/121 [00:09<00:08,  6.67it/s]"
     ]
    },
    {
     "name": "stdout",
     "output_type": "stream",
     "text": [
      "--------------\n",
      "torch.Size([346, 8, 80])\n",
      "tensor([0., 0., 0., 0., 0., 0., 0., 0.], device='cuda:0')\n",
      "--------------\n",
      "torch.Size([316, 8, 80])\n",
      "tensor([0., 0., 0., 0., 0., 0., 0., 0.], device='cuda:0')\n"
     ]
    },
    {
     "name": "stderr",
     "output_type": "stream",
     "text": [
      " 53%|███████████████████                 | 64/121 [00:09<00:08,  6.56it/s]"
     ]
    },
    {
     "name": "stdout",
     "output_type": "stream",
     "text": [
      "--------------\n",
      "torch.Size([421, 8, 80])\n",
      "tensor([0., 0., 0., 0., 0., 0., 0., 0.], device='cuda:0')\n",
      "--------------\n",
      "torch.Size([301, 8, 80])\n",
      "tensor([0., 0., 0., 0., 0., 0., 0., 0.], device='cuda:0')\n"
     ]
    },
    {
     "name": "stderr",
     "output_type": "stream",
     "text": [
      " 55%|███████████████████▋                | 66/121 [00:10<00:08,  6.24it/s]"
     ]
    },
    {
     "name": "stdout",
     "output_type": "stream",
     "text": [
      "--------------\n",
      "torch.Size([406, 8, 80])\n",
      "tensor([0., 0., 0., 0., 0., 0., 0., 0.], device='cuda:0')\n",
      "--------------\n",
      "torch.Size([376, 8, 80])\n",
      "tensor([0., 0., 0., 0., 0., 0., 0., 0.], device='cuda:0')\n"
     ]
    },
    {
     "name": "stderr",
     "output_type": "stream",
     "text": [
      " 56%|████████████████████▏               | 68/121 [00:10<00:07,  7.00it/s]"
     ]
    },
    {
     "name": "stdout",
     "output_type": "stream",
     "text": [
      "--------------\n",
      "torch.Size([301, 8, 80])\n",
      "tensor([0., 0., 0., 0., 0., 0., 0., 0.], device='cuda:0')\n",
      "--------------\n",
      "torch.Size([271, 8, 80])\n",
      "tensor([0., 0., 0., 0., 0., 0., 0., 0.], device='cuda:0')\n"
     ]
    },
    {
     "name": "stderr",
     "output_type": "stream",
     "text": [
      " 58%|████████████████████▊               | 70/121 [00:10<00:07,  7.08it/s]"
     ]
    },
    {
     "name": "stdout",
     "output_type": "stream",
     "text": [
      "--------------\n",
      "torch.Size([346, 8, 80])\n",
      "tensor([0., 0., 0., 0., 0., 0., 0., 0.], device='cuda:0')\n",
      "--------------\n",
      "torch.Size([286, 8, 80])\n",
      "tensor([0., 0., 0., 0., 0., 0., 0., 0.], device='cuda:0')\n"
     ]
    },
    {
     "name": "stderr",
     "output_type": "stream",
     "text": [
      " 60%|█████████████████████▍              | 72/121 [00:10<00:06,  7.23it/s]"
     ]
    },
    {
     "name": "stdout",
     "output_type": "stream",
     "text": [
      "--------------\n",
      "torch.Size([286, 8, 80])\n",
      "tensor([0., 0., 0., 0., 0., 0., 0., 0.], device='cuda:0')\n",
      "--------------\n",
      "torch.Size([316, 8, 80])\n",
      "tensor([0., 0., 0., 0., 0., 0., 0., 0.], device='cuda:0')\n"
     ]
    },
    {
     "name": "stderr",
     "output_type": "stream",
     "text": [
      " 61%|██████████████████████              | 74/121 [00:11<00:06,  6.80it/s]"
     ]
    },
    {
     "name": "stdout",
     "output_type": "stream",
     "text": [
      "--------------\n",
      "torch.Size([361, 8, 80])\n",
      "tensor([0., 0., 0., 0., 0., 0., 0., 0.], device='cuda:0')\n",
      "--------------\n",
      "torch.Size([346, 8, 80])\n",
      "tensor([0., 0., 0., 0., 0., 0., 0., 0.], device='cuda:0')\n"
     ]
    },
    {
     "name": "stderr",
     "output_type": "stream",
     "text": [
      " 63%|██████████████████████▌             | 76/121 [00:11<00:06,  6.79it/s]"
     ]
    },
    {
     "name": "stdout",
     "output_type": "stream",
     "text": [
      "--------------\n",
      "torch.Size([286, 8, 80])\n",
      "tensor([0., 0., 0., 0., 0., 0., 0., 0.], device='cuda:0')\n",
      "--------------\n",
      "torch.Size([361, 8, 80])\n",
      "tensor([0., 0., 0., 0., 0., 0., 0., 0.], device='cuda:0')\n"
     ]
    },
    {
     "name": "stderr",
     "output_type": "stream",
     "text": [
      " 64%|███████████████████████▏            | 78/121 [00:11<00:06,  6.63it/s]"
     ]
    },
    {
     "name": "stdout",
     "output_type": "stream",
     "text": [
      "--------------\n",
      "torch.Size([316, 8, 80])\n",
      "tensor([0., 0., 0., 0., 0., 0., 0., 0.], device='cuda:0')\n",
      "--------------\n",
      "torch.Size([376, 8, 80])\n",
      "tensor([0., 0., 0., 0., 0., 0., 0., 0.], device='cuda:0')\n"
     ]
    },
    {
     "name": "stderr",
     "output_type": "stream",
     "text": [
      " 66%|███████████████████████▊            | 80/121 [00:12<00:06,  6.57it/s]"
     ]
    },
    {
     "name": "stdout",
     "output_type": "stream",
     "text": [
      "--------------\n",
      "torch.Size([421, 8, 80])\n",
      "tensor([0., 0., 0., 0., 0., 0., 0., 0.], device='cuda:0')\n",
      "--------------\n",
      "torch.Size([286, 8, 80])\n",
      "tensor([0., 0., 0., 0., 0., 0., 0., 0.], device='cuda:0')\n"
     ]
    },
    {
     "name": "stderr",
     "output_type": "stream",
     "text": [
      " 68%|████████████████████████▍           | 82/121 [00:12<00:06,  6.50it/s]"
     ]
    },
    {
     "name": "stdout",
     "output_type": "stream",
     "text": [
      "--------------\n",
      "torch.Size([316, 8, 80])\n",
      "tensor([0., 0., 0., 0., 0., 0., 0., 0.], device='cuda:0')\n",
      "--------------\n",
      "torch.Size([376, 8, 80])\n",
      "tensor([0., 0., 0., 0., 0., 0., 0., 0.], device='cuda:0')\n"
     ]
    },
    {
     "name": "stderr",
     "output_type": "stream",
     "text": [
      " 69%|████████████████████████▉           | 84/121 [00:12<00:05,  6.65it/s]"
     ]
    },
    {
     "name": "stdout",
     "output_type": "stream",
     "text": [
      "--------------\n",
      "torch.Size([451, 8, 80])\n",
      "tensor([0., 0., 0., 0., 0., 0., 0., 0.], device='cuda:0')\n",
      "--------------\n",
      "torch.Size([241, 8, 80])\n",
      "tensor([0., 0., 0., 0., 0., 0., 0., 0.], device='cuda:0')\n"
     ]
    },
    {
     "name": "stderr",
     "output_type": "stream",
     "text": [
      " 71%|█████████████████████████▌          | 86/121 [00:13<00:05,  6.56it/s]"
     ]
    },
    {
     "name": "stdout",
     "output_type": "stream",
     "text": [
      "--------------\n",
      "torch.Size([331, 8, 80])\n",
      "tensor([0., 0., 0., 0., 0., 0., 0., 0.], device='cuda:0')\n",
      "--------------\n",
      "torch.Size([361, 8, 80])\n",
      "tensor([0., 0., 0., 0., 0., 0., 0., 0.], device='cuda:0')\n"
     ]
    },
    {
     "name": "stderr",
     "output_type": "stream",
     "text": [
      " 73%|██████████████████████████▏         | 88/121 [00:13<00:05,  6.57it/s]"
     ]
    },
    {
     "name": "stdout",
     "output_type": "stream",
     "text": [
      "--------------\n",
      "torch.Size([301, 8, 80])\n",
      "tensor([0., 0., 0., 0., 0., 0., 0., 0.], device='cuda:0')\n",
      "--------------\n",
      "torch.Size([376, 8, 80])\n",
      "tensor([0., 0., 0., 0., 0., 0., 0., 0.], device='cuda:0')\n"
     ]
    },
    {
     "name": "stderr",
     "output_type": "stream",
     "text": [
      " 74%|██████████████████████████▊         | 90/121 [00:13<00:04,  7.06it/s]"
     ]
    },
    {
     "name": "stdout",
     "output_type": "stream",
     "text": [
      "--------------\n",
      "torch.Size([331, 8, 80])\n",
      "tensor([0., 0., 0., 0., 0., 0., 0., 0.], device='cuda:0')\n",
      "--------------\n",
      "torch.Size([271, 8, 80])\n",
      "tensor([0., 0., 0., 0., 0., 0., 0., 0.], device='cuda:0')\n"
     ]
    },
    {
     "name": "stderr",
     "output_type": "stream",
     "text": [
      " 76%|███████████████████████████▎        | 92/121 [00:13<00:04,  7.21it/s]"
     ]
    },
    {
     "name": "stdout",
     "output_type": "stream",
     "text": [
      "--------------\n",
      "torch.Size([301, 8, 80])\n",
      "tensor([0., 0., 0., 0., 0., 0., 0., 0.], device='cuda:0')\n",
      "--------------\n",
      "torch.Size([301, 8, 80])\n",
      "tensor([0., 0., 0., 0., 0., 0., 0., 0.], device='cuda:0')\n"
     ]
    },
    {
     "name": "stderr",
     "output_type": "stream",
     "text": [
      " 78%|███████████████████████████▉        | 94/121 [00:14<00:03,  6.78it/s]"
     ]
    },
    {
     "name": "stdout",
     "output_type": "stream",
     "text": [
      "--------------\n",
      "torch.Size([391, 8, 80])\n",
      "tensor([0., 0., 0., 0., 0., 0., 0., 0.], device='cuda:0')\n",
      "--------------\n",
      "torch.Size([331, 8, 80])\n",
      "tensor([0., 0., 0., 0., 0., 0., 0., 0.], device='cuda:0')\n"
     ]
    },
    {
     "name": "stderr",
     "output_type": "stream",
     "text": [
      " 79%|████████████████████████████▌       | 96/121 [00:14<00:03,  6.93it/s]"
     ]
    },
    {
     "name": "stdout",
     "output_type": "stream",
     "text": [
      "--------------\n",
      "torch.Size([286, 8, 80])\n",
      "tensor([0., 0., 0., 0., 0., 0., 0., 0.], device='cuda:0')\n",
      "--------------\n",
      "torch.Size([331, 8, 80])\n",
      "tensor([0., 0., 0., 0., 0., 0., 0., 0.], device='cuda:0')\n"
     ]
    },
    {
     "name": "stderr",
     "output_type": "stream",
     "text": [
      "\r",
      " 80%|████████████████████████████▊       | 97/121 [00:14<00:03,  7.28it/s]"
     ]
    },
    {
     "name": "stdout",
     "output_type": "stream",
     "text": [
      "--------------\n",
      "torch.Size([256, 8, 80])\n",
      "tensor([0., 0., 0., 0., 0., 0., 0., 0.], device='cuda:0')\n",
      "--------------\n",
      "torch.Size([466, 8, 80])\n",
      "tensor([0., 0., 0., 0., 0., 0., 0., 0.], device='cuda:0')\n"
     ]
    },
    {
     "name": "stderr",
     "output_type": "stream",
     "text": [
      " 83%|████████████████████████████▉      | 100/121 [00:15<00:03,  6.60it/s]"
     ]
    },
    {
     "name": "stdout",
     "output_type": "stream",
     "text": [
      "--------------\n",
      "torch.Size([286, 8, 80])\n",
      "tensor([0., 0., 0., 0., 0., 0., 0., 0.], device='cuda:0')\n",
      "--------------\n",
      "torch.Size([361, 8, 80])\n",
      "tensor([0., 0., 0., 0., 0., 0., 0., 0.], device='cuda:0')\n"
     ]
    },
    {
     "name": "stderr",
     "output_type": "stream",
     "text": [
      " 84%|█████████████████████████████▌     | 102/121 [00:15<00:03,  5.35it/s]"
     ]
    },
    {
     "name": "stdout",
     "output_type": "stream",
     "text": [
      "--------------\n",
      "torch.Size([451, 8, 80])\n",
      "tensor([0., 0., 0., 0., 0., 0., 0., 0.], device='cuda:0')\n",
      "--------------\n",
      "torch.Size([286, 8, 80])\n",
      "tensor([0., 0., 0., 0., 0., 0., 0., 0.], device='cuda:0')\n"
     ]
    },
    {
     "name": "stderr",
     "output_type": "stream",
     "text": [
      "\r",
      " 85%|█████████████████████████████▊     | 103/121 [00:15<00:03,  5.88it/s]"
     ]
    },
    {
     "name": "stdout",
     "output_type": "stream",
     "text": [
      "--------------\n",
      "torch.Size([301, 8, 80])\n",
      "tensor([0., 0., 0., 0., 0., 0., 0., 0.], device='cuda:0')\n",
      "--------------\n",
      "torch.Size([481, 8, 80])\n",
      "tensor([0., 0., 0., 0., 0., 0., 0., 0.], device='cuda:0')\n"
     ]
    },
    {
     "name": "stderr",
     "output_type": "stream",
     "text": [
      " 88%|██████████████████████████████▋    | 106/121 [00:16<00:02,  6.28it/s]"
     ]
    },
    {
     "name": "stdout",
     "output_type": "stream",
     "text": [
      "--------------\n",
      "torch.Size([301, 8, 80])\n",
      "tensor([0., 0., 0., 0., 0., 0., 0., 0.], device='cuda:0')\n",
      "--------------\n",
      "torch.Size([346, 8, 80])\n",
      "tensor([0., 0., 0., 0., 0., 0., 0., 0.], device='cuda:0')\n"
     ]
    },
    {
     "name": "stderr",
     "output_type": "stream",
     "text": [
      " 89%|███████████████████████████████▏   | 108/121 [00:16<00:02,  6.40it/s]"
     ]
    },
    {
     "name": "stdout",
     "output_type": "stream",
     "text": [
      "--------------\n",
      "torch.Size([301, 8, 80])\n",
      "tensor([0., 0., 0., 0., 0., 0., 0., 0.], device='cuda:0')\n",
      "--------------\n",
      "torch.Size([391, 8, 80])\n",
      "tensor([0., 0., 0., 0., 0., 0., 0., 0.], device='cuda:0')\n"
     ]
    },
    {
     "name": "stderr",
     "output_type": "stream",
     "text": [
      " 91%|███████████████████████████████▊   | 110/121 [00:16<00:01,  6.22it/s]"
     ]
    },
    {
     "name": "stdout",
     "output_type": "stream",
     "text": [
      "--------------\n",
      "torch.Size([376, 8, 80])\n",
      "tensor([0., 0., 0., 0., 0., 0., 0., 0.], device='cuda:0')\n",
      "--------------\n",
      "torch.Size([391, 8, 80])\n",
      "tensor([0., 0., 0., 0., 0., 0., 0., 0.], device='cuda:0')\n"
     ]
    },
    {
     "name": "stderr",
     "output_type": "stream",
     "text": [
      " 93%|████████████████████████████████▍  | 112/121 [00:17<00:01,  6.03it/s]"
     ]
    },
    {
     "name": "stdout",
     "output_type": "stream",
     "text": [
      "--------------\n",
      "torch.Size([496, 8, 80])\n",
      "tensor([0., 0., 0., 0., 0., 0., 0., 0.], device='cuda:0')\n",
      "--------------\n",
      "torch.Size([331, 8, 80])\n",
      "tensor([0., 0., 0., 0., 0., 0., 0., 0.], device='cuda:0')\n"
     ]
    },
    {
     "name": "stderr",
     "output_type": "stream",
     "text": [
      " 94%|████████████████████████████████▉  | 114/121 [00:17<00:01,  6.43it/s]"
     ]
    },
    {
     "name": "stdout",
     "output_type": "stream",
     "text": [
      "--------------\n",
      "torch.Size([346, 8, 80])\n",
      "tensor([0., 0., 0., 0., 0., 0., 0., 0.], device='cuda:0')\n",
      "--------------\n",
      "torch.Size([331, 8, 80])\n",
      "tensor([0., 0., 0., 0., 0., 0., 0., 0.], device='cuda:0')\n"
     ]
    },
    {
     "name": "stderr",
     "output_type": "stream",
     "text": [
      " 96%|█████████████████████████████████▌ | 116/121 [00:17<00:00,  7.09it/s]"
     ]
    },
    {
     "name": "stdout",
     "output_type": "stream",
     "text": [
      "--------------\n",
      "torch.Size([301, 8, 80])\n",
      "tensor([0., 0., 0., 0., 0., 0., 0., 0.], device='cuda:0')\n",
      "--------------\n",
      "torch.Size([286, 8, 80])\n",
      "tensor([0., 0., 0., 0., 0., 0., 0., 0.], device='cuda:0')\n"
     ]
    },
    {
     "name": "stderr",
     "output_type": "stream",
     "text": [
      " 98%|██████████████████████████████████▏| 118/121 [00:18<00:00,  6.60it/s]"
     ]
    },
    {
     "name": "stdout",
     "output_type": "stream",
     "text": [
      "--------------\n",
      "torch.Size([346, 8, 80])\n",
      "tensor([0., 0., 0., 0., 0., 0., 0., 0.], device='cuda:0')\n",
      "--------------\n",
      "torch.Size([406, 8, 80])\n",
      "tensor([0., 0., 0., 0., 0., 0., 0., 0.], device='cuda:0')\n"
     ]
    },
    {
     "name": "stderr",
     "output_type": "stream",
     "text": [
      " 99%|██████████████████████████████████▋| 120/121 [00:18<00:00,  6.76it/s]"
     ]
    },
    {
     "name": "stdout",
     "output_type": "stream",
     "text": [
      "--------------\n",
      "torch.Size([346, 8, 80])\n",
      "tensor([0., 0., 0., 0., 0., 0., 0., 0.], device='cuda:0')\n",
      "--------------\n",
      "torch.Size([331, 8, 80])\n",
      "tensor([0., 0., 0., 0., 0., 0., 0., 0.], device='cuda:0')\n"
     ]
    },
    {
     "name": "stderr",
     "output_type": "stream",
     "text": [
      "100%|███████████████████████████████████| 121/121 [00:18<00:00,  6.56it/s]\n"
     ]
    },
    {
     "name": "stdout",
     "output_type": "stream",
     "text": [
      "--------------\n",
      "torch.Size([301, 6, 80])\n",
      "tensor([0., 0., 0., 0., 0., 0.], device='cuda:0')\n",
      "Test CER 0.1348097943958111\n",
      "Test WER 0.41689021738538085\n",
      "Test CTC 137.56896997929607\n",
      "Saving Best\n",
      "Train Set Size = 771\n"
     ]
    },
    {
     "name": "stderr",
     "output_type": "stream",
     "text": [
      "CER: 0.08876723047071473 CTC: 1239.295166015625 Ground Truth: |which could\n"
     ]
    },
    {
     "name": "stdout",
     "output_type": "stream",
     "text": [
      "Epoch: 11 Training CER 0.08879069518469991\n",
      "Training WER: 0.31273084048511124\n",
      "Time: 284.598623752594 Seconds\n",
      "Validation Set Size = 121\n"
     ]
    },
    {
     "name": "stderr",
     "output_type": "stream",
     "text": [
      "  1%|▎                                    | 1/121 [00:00<00:19,  6.19it/s]"
     ]
    },
    {
     "name": "stdout",
     "output_type": "stream",
     "text": [
      "--------------\n",
      "torch.Size([301, 8, 80])\n",
      "tensor([0., 0., 0., 0., 0., 0., 0., 0.], device='cuda:0')\n"
     ]
    },
    {
     "name": "stderr",
     "output_type": "stream",
     "text": [
      "\r",
      "  2%|▌                                    | 2/121 [00:00<00:21,  5.61it/s]"
     ]
    },
    {
     "name": "stdout",
     "output_type": "stream",
     "text": [
      "--------------\n",
      "torch.Size([451, 8, 80])\n",
      "tensor([0., 0., 0., 0., 0., 0., 0., 0.], device='cuda:0')\n",
      "--------------\n",
      "torch.Size([451, 8, 80])\n",
      "tensor([0., 0., 0., 0., 0., 0., 0., 0.], device='cuda:0')\n"
     ]
    },
    {
     "name": "stderr",
     "output_type": "stream",
     "text": [
      "  3%|█▏                                   | 4/121 [00:00<00:20,  5.82it/s]"
     ]
    },
    {
     "name": "stdout",
     "output_type": "stream",
     "text": [
      "--------------\n",
      "torch.Size([361, 8, 80])\n",
      "tensor([0., 0., 0., 0., 0., 0., 0., 0.], device='cuda:0')\n",
      "--------------\n",
      "torch.Size([451, 8, 80])\n",
      "tensor([0., 0., 0., 0., 0., 0., 0., 0.], device='cuda:0')\n"
     ]
    },
    {
     "name": "stderr",
     "output_type": "stream",
     "text": [
      "  5%|█▊                                   | 6/121 [00:01<00:19,  6.01it/s]"
     ]
    },
    {
     "name": "stdout",
     "output_type": "stream",
     "text": [
      "--------------\n",
      "torch.Size([331, 8, 80])\n",
      "tensor([0., 0., 0., 0., 0., 0., 0., 0.], device='cuda:0')\n"
     ]
    },
    {
     "name": "stderr",
     "output_type": "stream",
     "text": [
      "\r",
      "  6%|██▏                                  | 7/121 [00:01<00:17,  6.44it/s]"
     ]
    },
    {
     "name": "stdout",
     "output_type": "stream",
     "text": [
      "--------------\n",
      "torch.Size([301, 8, 80])\n",
      "tensor([0., 0., 0., 0., 0., 0., 0., 0.], device='cuda:0')\n"
     ]
    },
    {
     "name": "stderr",
     "output_type": "stream",
     "text": [
      "\r",
      "  7%|██▍                                  | 8/121 [00:01<00:17,  6.45it/s]"
     ]
    },
    {
     "name": "stdout",
     "output_type": "stream",
     "text": [
      "--------------\n",
      "torch.Size([361, 8, 80])\n",
      "tensor([0., 0., 0., 0., 0., 0., 0., 0.], device='cuda:0')\n",
      "--------------\n",
      "torch.Size([466, 8, 80])\n",
      "tensor([0., 0., 0., 0., 0., 0., 0., 0.], device='cuda:0')\n"
     ]
    },
    {
     "name": "stderr",
     "output_type": "stream",
     "text": [
      "  8%|██▉                                 | 10/121 [00:01<00:18,  5.96it/s]"
     ]
    },
    {
     "name": "stdout",
     "output_type": "stream",
     "text": [
      "--------------\n",
      "torch.Size([391, 8, 80])\n",
      "tensor([0., 0., 0., 0., 0., 0., 0., 0.], device='cuda:0')\n"
     ]
    },
    {
     "name": "stderr",
     "output_type": "stream",
     "text": [
      "\r",
      "  9%|███▎                                | 11/121 [00:01<00:18,  6.10it/s]"
     ]
    },
    {
     "name": "stdout",
     "output_type": "stream",
     "text": [
      "--------------\n",
      "torch.Size([361, 8, 80])\n",
      "tensor([0., 0., 0., 0., 0., 0., 0., 0.], device='cuda:0')\n"
     ]
    },
    {
     "name": "stderr",
     "output_type": "stream",
     "text": [
      "\r",
      " 10%|███▌                                | 12/121 [00:01<00:17,  6.31it/s]"
     ]
    },
    {
     "name": "stdout",
     "output_type": "stream",
     "text": [
      "--------------\n",
      "torch.Size([346, 8, 80])\n",
      "tensor([0., 0., 0., 0., 0., 0., 0., 0.], device='cuda:0')\n"
     ]
    },
    {
     "name": "stderr",
     "output_type": "stream",
     "text": [
      " 12%|████▏                               | 14/121 [00:02<00:17,  6.03it/s]"
     ]
    },
    {
     "name": "stdout",
     "output_type": "stream",
     "text": [
      "--------------\n",
      "torch.Size([496, 8, 80])\n",
      "tensor([0., 0., 0., 0., 0., 0., 0., 0.], device='cuda:0')\n",
      "--------------\n",
      "torch.Size([346, 8, 80])\n",
      "tensor([0., 0., 0., 0., 0., 0., 0., 0.], device='cuda:0')\n"
     ]
    },
    {
     "name": "stderr",
     "output_type": "stream",
     "text": [
      " 13%|████▊                               | 16/121 [00:02<00:16,  6.52it/s]"
     ]
    },
    {
     "name": "stdout",
     "output_type": "stream",
     "text": [
      "--------------\n",
      "torch.Size([331, 8, 80])\n",
      "tensor([0., 0., 0., 0., 0., 0., 0., 0.], device='cuda:0')\n",
      "--------------\n",
      "torch.Size([316, 8, 80])\n",
      "tensor([0., 0., 0., 0., 0., 0., 0., 0.], device='cuda:0')\n"
     ]
    },
    {
     "name": "stderr",
     "output_type": "stream",
     "text": [
      " 15%|█████▎                              | 18/121 [00:02<00:15,  6.58it/s]"
     ]
    },
    {
     "name": "stdout",
     "output_type": "stream",
     "text": [
      "--------------\n",
      "torch.Size([361, 8, 80])\n",
      "tensor([0., 0., 0., 0., 0., 0., 0., 0.], device='cuda:0')\n",
      "--------------\n",
      "torch.Size([346, 8, 80])\n",
      "tensor([0., 0., 0., 0., 0., 0., 0., 0.], device='cuda:0')\n"
     ]
    },
    {
     "name": "stderr",
     "output_type": "stream",
     "text": [
      " 17%|█████▉                              | 20/121 [00:03<00:15,  6.53it/s]"
     ]
    },
    {
     "name": "stdout",
     "output_type": "stream",
     "text": [
      "--------------\n",
      "torch.Size([286, 8, 80])\n",
      "tensor([0., 0., 0., 0., 0., 0., 0., 0.], device='cuda:0')\n",
      "--------------\n",
      "torch.Size([406, 8, 80])\n",
      "tensor([0., 0., 0., 0., 0., 0., 0., 0.], device='cuda:0')\n"
     ]
    },
    {
     "name": "stderr",
     "output_type": "stream",
     "text": [
      " 18%|██████▌                             | 22/121 [00:03<00:14,  6.71it/s]"
     ]
    },
    {
     "name": "stdout",
     "output_type": "stream",
     "text": [
      "--------------\n",
      "torch.Size([436, 8, 80])\n",
      "tensor([0., 0., 0., 0., 0., 0., 0., 0.], device='cuda:0')\n",
      "--------------\n",
      "torch.Size([256, 8, 80])\n",
      "tensor([0., 0., 0., 0., 0., 0., 0., 0.], device='cuda:0')\n"
     ]
    },
    {
     "name": "stderr",
     "output_type": "stream",
     "text": [
      " 20%|███████▏                            | 24/121 [00:03<00:15,  6.46it/s]"
     ]
    },
    {
     "name": "stdout",
     "output_type": "stream",
     "text": [
      "--------------\n",
      "torch.Size([391, 8, 80])\n",
      "tensor([0., 0., 0., 0., 0., 0., 0., 0.], device='cuda:0')\n",
      "--------------\n",
      "torch.Size([361, 8, 80])\n",
      "tensor([0., 0., 0., 0., 0., 0., 0., 0.], device='cuda:0')\n"
     ]
    },
    {
     "name": "stderr",
     "output_type": "stream",
     "text": [
      " 21%|███████▋                            | 26/121 [00:04<00:14,  6.47it/s]"
     ]
    },
    {
     "name": "stdout",
     "output_type": "stream",
     "text": [
      "--------------\n",
      "torch.Size([391, 8, 80])\n",
      "tensor([0., 0., 0., 0., 0., 0., 0., 0.], device='cuda:0')\n",
      "--------------\n",
      "torch.Size([331, 8, 80])\n",
      "tensor([0., 0., 0., 0., 0., 0., 0., 0.], device='cuda:0')\n"
     ]
    },
    {
     "name": "stderr",
     "output_type": "stream",
     "text": [
      " 23%|████████▎                           | 28/121 [00:04<00:13,  7.10it/s]"
     ]
    },
    {
     "name": "stdout",
     "output_type": "stream",
     "text": [
      "--------------\n",
      "torch.Size([331, 8, 80])\n",
      "tensor([0., 0., 0., 0., 0., 0., 0., 0.], device='cuda:0')\n",
      "--------------\n",
      "torch.Size([256, 8, 80])\n",
      "tensor([0., 0., 0., 0., 0., 0., 0., 0.], device='cuda:0')\n"
     ]
    },
    {
     "name": "stderr",
     "output_type": "stream",
     "text": [
      " 25%|████████▉                           | 30/121 [00:04<00:14,  6.49it/s]"
     ]
    },
    {
     "name": "stdout",
     "output_type": "stream",
     "text": [
      "--------------\n",
      "torch.Size([391, 8, 80])\n",
      "tensor([0., 0., 0., 0., 0., 0., 0., 0.], device='cuda:0')\n",
      "--------------\n",
      "torch.Size([391, 8, 80])\n",
      "tensor([0., 0., 0., 0., 0., 0., 0., 0.], device='cuda:0')\n"
     ]
    },
    {
     "name": "stderr",
     "output_type": "stream",
     "text": [
      " 26%|█████████▌                          | 32/121 [00:05<00:13,  6.63it/s]"
     ]
    },
    {
     "name": "stdout",
     "output_type": "stream",
     "text": [
      "--------------\n",
      "torch.Size([346, 8, 80])\n",
      "tensor([0., 0., 0., 0., 0., 0., 0., 0.], device='cuda:0')\n",
      "--------------\n",
      "torch.Size([331, 8, 80])\n",
      "tensor([0., 0., 0., 0., 0., 0., 0., 0.], device='cuda:0')\n"
     ]
    },
    {
     "name": "stderr",
     "output_type": "stream",
     "text": [
      " 28%|██████████                          | 34/121 [00:05<00:13,  6.23it/s]"
     ]
    },
    {
     "name": "stdout",
     "output_type": "stream",
     "text": [
      "--------------\n",
      "torch.Size([376, 8, 80])\n",
      "tensor([0., 0., 0., 0., 0., 0., 0., 0.], device='cuda:0')\n",
      "--------------\n",
      "torch.Size([421, 8, 80])\n",
      "tensor([0., 0., 0., 0., 0., 0., 0., 0.], device='cuda:0')\n"
     ]
    },
    {
     "name": "stderr",
     "output_type": "stream",
     "text": [
      " 30%|██████████▋                         | 36/121 [00:05<00:13,  6.40it/s]"
     ]
    },
    {
     "name": "stdout",
     "output_type": "stream",
     "text": [
      "--------------\n",
      "torch.Size([331, 8, 80])\n",
      "tensor([0., 0., 0., 0., 0., 0., 0., 0.], device='cuda:0')\n",
      "--------------\n",
      "torch.Size([376, 8, 80])\n",
      "tensor([0., 0., 0., 0., 0., 0., 0., 0.], device='cuda:0')\n"
     ]
    },
    {
     "name": "stderr",
     "output_type": "stream",
     "text": [
      " 31%|███████████▎                        | 38/121 [00:05<00:12,  6.89it/s]"
     ]
    },
    {
     "name": "stdout",
     "output_type": "stream",
     "text": [
      "--------------\n",
      "torch.Size([331, 8, 80])\n",
      "tensor([0., 0., 0., 0., 0., 0., 0., 0.], device='cuda:0')\n",
      "--------------\n",
      "torch.Size([286, 8, 80])\n",
      "tensor([0., 0., 0., 0., 0., 0., 0., 0.], device='cuda:0')\n"
     ]
    },
    {
     "name": "stderr",
     "output_type": "stream",
     "text": [
      " 33%|███████████▉                        | 40/121 [00:06<00:11,  6.76it/s]"
     ]
    },
    {
     "name": "stdout",
     "output_type": "stream",
     "text": [
      "--------------\n",
      "torch.Size([346, 8, 80])\n",
      "tensor([0., 0., 0., 0., 0., 0., 0., 0.], device='cuda:0')\n",
      "--------------\n",
      "torch.Size([346, 8, 80])\n",
      "tensor([0., 0., 0., 0., 0., 0., 0., 0.], device='cuda:0')\n"
     ]
    },
    {
     "name": "stderr",
     "output_type": "stream",
     "text": [
      " 35%|████████████▍                       | 42/121 [00:06<00:12,  6.31it/s]"
     ]
    },
    {
     "name": "stdout",
     "output_type": "stream",
     "text": [
      "--------------\n",
      "torch.Size([391, 8, 80])\n",
      "tensor([0., 0., 0., 0., 0., 0., 0., 0.], device='cuda:0')\n",
      "--------------\n",
      "torch.Size([391, 8, 80])\n",
      "tensor([0., 0., 0., 0., 0., 0., 0., 0.], device='cuda:0')\n"
     ]
    },
    {
     "name": "stderr",
     "output_type": "stream",
     "text": [
      " 36%|█████████████                       | 44/121 [00:06<00:12,  6.36it/s]"
     ]
    },
    {
     "name": "stdout",
     "output_type": "stream",
     "text": [
      "--------------\n",
      "torch.Size([376, 8, 80])\n",
      "tensor([0., 0., 0., 0., 0., 0., 0., 0.], device='cuda:0')\n",
      "--------------\n",
      "torch.Size([346, 8, 80])\n",
      "tensor([0., 0., 0., 0., 0., 0., 0., 0.], device='cuda:0')\n"
     ]
    },
    {
     "name": "stderr",
     "output_type": "stream",
     "text": [
      " 38%|█████████████▋                      | 46/121 [00:07<00:11,  6.53it/s]"
     ]
    },
    {
     "name": "stdout",
     "output_type": "stream",
     "text": [
      "--------------\n",
      "torch.Size([346, 8, 80])\n",
      "tensor([0., 0., 0., 0., 0., 0., 0., 0.], device='cuda:0')\n",
      "--------------\n",
      "torch.Size([331, 8, 80])\n",
      "tensor([0., 0., 0., 0., 0., 0., 0., 0.], device='cuda:0')\n"
     ]
    },
    {
     "name": "stderr",
     "output_type": "stream",
     "text": [
      " 40%|██████████████▎                     | 48/121 [00:07<00:10,  6.91it/s]"
     ]
    },
    {
     "name": "stdout",
     "output_type": "stream",
     "text": [
      "--------------\n",
      "torch.Size([361, 8, 80])\n",
      "tensor([0., 0., 0., 0., 0., 0., 0., 0.], device='cuda:0')\n",
      "--------------\n",
      "torch.Size([271, 8, 80])\n",
      "tensor([0., 0., 0., 0., 0., 0., 0., 0.], device='cuda:0')\n"
     ]
    },
    {
     "name": "stderr",
     "output_type": "stream",
     "text": [
      " 41%|██████████████▉                     | 50/121 [00:07<00:10,  6.63it/s]"
     ]
    },
    {
     "name": "stdout",
     "output_type": "stream",
     "text": [
      "--------------\n",
      "torch.Size([346, 8, 80])\n",
      "tensor([0., 0., 0., 0., 0., 0., 0., 0.], device='cuda:0')\n",
      "--------------\n",
      "torch.Size([361, 8, 80])\n",
      "tensor([0., 0., 0., 0., 0., 0., 0., 0.], device='cuda:0')\n"
     ]
    },
    {
     "name": "stderr",
     "output_type": "stream",
     "text": [
      " 43%|███████████████▍                    | 52/121 [00:08<00:10,  6.43it/s]"
     ]
    },
    {
     "name": "stdout",
     "output_type": "stream",
     "text": [
      "--------------\n",
      "torch.Size([391, 8, 80])\n",
      "tensor([0., 0., 0., 0., 0., 0., 0., 0.], device='cuda:0')\n",
      "--------------\n",
      "torch.Size([346, 8, 80])\n",
      "tensor([0., 0., 0., 0., 0., 0., 0., 0.], device='cuda:0')\n"
     ]
    },
    {
     "name": "stderr",
     "output_type": "stream",
     "text": [
      " 45%|████████████████                    | 54/121 [00:08<00:11,  5.85it/s]"
     ]
    },
    {
     "name": "stdout",
     "output_type": "stream",
     "text": [
      "--------------\n",
      "torch.Size([316, 8, 80])\n",
      "tensor([0., 0., 0., 0., 0., 0., 0., 0.], device='cuda:0')\n",
      "--------------\n",
      "torch.Size([241, 8, 80])\n",
      "tensor([0., 0., 0., 0., 0., 0., 0., 0.], device='cuda:0')\n"
     ]
    },
    {
     "name": "stderr",
     "output_type": "stream",
     "text": [
      " 46%|████████████████▋                   | 56/121 [00:08<00:10,  6.23it/s]"
     ]
    },
    {
     "name": "stdout",
     "output_type": "stream",
     "text": [
      "--------------\n",
      "torch.Size([421, 8, 80])\n",
      "tensor([0., 0., 0., 0., 0., 0., 0., 0.], device='cuda:0')\n",
      "--------------\n",
      "torch.Size([301, 8, 80])\n",
      "tensor([0., 0., 0., 0., 0., 0., 0., 0.], device='cuda:0')\n"
     ]
    },
    {
     "name": "stderr",
     "output_type": "stream",
     "text": [
      " 48%|█████████████████▎                  | 58/121 [00:09<00:09,  6.55it/s]"
     ]
    },
    {
     "name": "stdout",
     "output_type": "stream",
     "text": [
      "--------------\n",
      "torch.Size([331, 8, 80])\n",
      "tensor([0., 0., 0., 0., 0., 0., 0., 0.], device='cuda:0')\n",
      "--------------\n",
      "torch.Size([331, 8, 80])\n",
      "tensor([0., 0., 0., 0., 0., 0., 0., 0.], device='cuda:0')\n"
     ]
    },
    {
     "name": "stderr",
     "output_type": "stream",
     "text": [
      " 50%|█████████████████▊                  | 60/121 [00:09<00:09,  6.59it/s]"
     ]
    },
    {
     "name": "stdout",
     "output_type": "stream",
     "text": [
      "--------------\n",
      "torch.Size([346, 8, 80])\n",
      "tensor([0., 0., 0., 0., 0., 0., 0., 0.], device='cuda:0')\n",
      "--------------\n",
      "torch.Size([346, 8, 80])\n",
      "tensor([0., 0., 0., 0., 0., 0., 0., 0.], device='cuda:0')\n"
     ]
    },
    {
     "name": "stderr",
     "output_type": "stream",
     "text": [
      " 51%|██████████████████▍                 | 62/121 [00:09<00:09,  6.13it/s]"
     ]
    },
    {
     "name": "stdout",
     "output_type": "stream",
     "text": [
      "--------------\n",
      "torch.Size([421, 8, 80])\n",
      "tensor([0., 0., 0., 0., 0., 0., 0., 0.], device='cuda:0')\n",
      "--------------\n",
      "torch.Size([406, 8, 80])\n",
      "tensor([0., 0., 0., 0., 0., 0., 0., 0.], device='cuda:0')\n"
     ]
    },
    {
     "name": "stderr",
     "output_type": "stream",
     "text": [
      " 53%|███████████████████                 | 64/121 [00:10<00:09,  6.12it/s]"
     ]
    },
    {
     "name": "stdout",
     "output_type": "stream",
     "text": [
      "--------------\n",
      "torch.Size([496, 8, 80])\n",
      "tensor([0., 0., 0., 0., 0., 0., 0., 0.], device='cuda:0')\n",
      "--------------\n",
      "torch.Size([301, 8, 80])\n",
      "tensor([0., 0., 0., 0., 0., 0., 0., 0.], device='cuda:0')\n"
     ]
    },
    {
     "name": "stderr",
     "output_type": "stream",
     "text": [
      " 55%|███████████████████▋                | 66/121 [00:10<00:08,  6.55it/s]"
     ]
    },
    {
     "name": "stdout",
     "output_type": "stream",
     "text": [
      "--------------\n",
      "torch.Size([301, 8, 80])\n",
      "tensor([0., 0., 0., 0., 0., 0., 0., 0.], device='cuda:0')\n",
      "--------------\n",
      "torch.Size([346, 8, 80])\n",
      "tensor([0., 0., 0., 0., 0., 0., 0., 0.], device='cuda:0')\n"
     ]
    },
    {
     "name": "stderr",
     "output_type": "stream",
     "text": [
      " 56%|████████████████████▏               | 68/121 [00:10<00:08,  6.55it/s]"
     ]
    },
    {
     "name": "stdout",
     "output_type": "stream",
     "text": [
      "--------------\n",
      "torch.Size([391, 8, 80])\n",
      "tensor([0., 0., 0., 0., 0., 0., 0., 0.], device='cuda:0')\n",
      "--------------\n",
      "torch.Size([316, 8, 80])\n",
      "tensor([0., 0., 0., 0., 0., 0., 0., 0.], device='cuda:0')\n"
     ]
    },
    {
     "name": "stderr",
     "output_type": "stream",
     "text": [
      " 58%|████████████████████▊               | 70/121 [00:10<00:07,  6.81it/s]"
     ]
    },
    {
     "name": "stdout",
     "output_type": "stream",
     "text": [
      "--------------\n",
      "torch.Size([316, 8, 80])\n",
      "tensor([0., 0., 0., 0., 0., 0., 0., 0.], device='cuda:0')\n",
      "--------------\n",
      "torch.Size([331, 8, 80])\n",
      "tensor([0., 0., 0., 0., 0., 0., 0., 0.], device='cuda:0')\n"
     ]
    },
    {
     "name": "stderr",
     "output_type": "stream",
     "text": [
      " 60%|█████████████████████▍              | 72/121 [00:11<00:06,  7.18it/s]"
     ]
    },
    {
     "name": "stdout",
     "output_type": "stream",
     "text": [
      "--------------\n",
      "torch.Size([286, 8, 80])\n",
      "tensor([0., 0., 0., 0., 0., 0., 0., 0.], device='cuda:0')\n",
      "--------------\n",
      "torch.Size([301, 8, 80])\n",
      "tensor([0., 0., 0., 0., 0., 0., 0., 0.], device='cuda:0')\n"
     ]
    },
    {
     "name": "stderr",
     "output_type": "stream",
     "text": [
      " 61%|██████████████████████              | 74/121 [00:11<00:06,  7.47it/s]"
     ]
    },
    {
     "name": "stdout",
     "output_type": "stream",
     "text": [
      "--------------\n",
      "torch.Size([331, 8, 80])\n",
      "tensor([0., 0., 0., 0., 0., 0., 0., 0.], device='cuda:0')\n",
      "--------------\n",
      "torch.Size([256, 8, 80])\n",
      "tensor([0., 0., 0., 0., 0., 0., 0., 0.], device='cuda:0')\n"
     ]
    },
    {
     "name": "stderr",
     "output_type": "stream",
     "text": [
      " 63%|██████████████████████▌             | 76/121 [00:11<00:06,  7.25it/s]"
     ]
    },
    {
     "name": "stdout",
     "output_type": "stream",
     "text": [
      "--------------\n",
      "torch.Size([316, 8, 80])\n",
      "tensor([0., 0., 0., 0., 0., 0., 0., 0.], device='cuda:0')\n",
      "--------------\n",
      "torch.Size([331, 8, 80])\n",
      "tensor([0., 0., 0., 0., 0., 0., 0., 0.], device='cuda:0')\n"
     ]
    },
    {
     "name": "stderr",
     "output_type": "stream",
     "text": [
      " 64%|███████████████████████▏            | 78/121 [00:12<00:05,  7.36it/s]"
     ]
    },
    {
     "name": "stdout",
     "output_type": "stream",
     "text": [
      "--------------\n",
      "torch.Size([346, 8, 80])\n",
      "tensor([0., 0., 0., 0., 0., 0., 0., 0.], device='cuda:0')\n",
      "--------------\n",
      "torch.Size([271, 8, 80])\n",
      "tensor([0., 0., 0., 0., 0., 0., 0., 0.], device='cuda:0')\n"
     ]
    },
    {
     "name": "stderr",
     "output_type": "stream",
     "text": [
      " 66%|███████████████████████▊            | 80/121 [00:12<00:06,  6.30it/s]"
     ]
    },
    {
     "name": "stdout",
     "output_type": "stream",
     "text": [
      "--------------\n",
      "torch.Size([481, 8, 80])\n",
      "tensor([0., 0., 0., 0., 0., 0., 0., 0.], device='cuda:0')\n",
      "--------------\n",
      "torch.Size([391, 8, 80])\n",
      "tensor([0., 0., 0., 0., 0., 0., 0., 0.], device='cuda:0')\n"
     ]
    },
    {
     "name": "stderr",
     "output_type": "stream",
     "text": [
      " 68%|████████████████████████▍           | 82/121 [00:12<00:06,  6.39it/s]"
     ]
    },
    {
     "name": "stdout",
     "output_type": "stream",
     "text": [
      "--------------\n",
      "torch.Size([376, 8, 80])\n",
      "tensor([0., 0., 0., 0., 0., 0., 0., 0.], device='cuda:0')\n",
      "--------------\n",
      "torch.Size([346, 8, 80])\n",
      "tensor([0., 0., 0., 0., 0., 0., 0., 0.], device='cuda:0')\n"
     ]
    },
    {
     "name": "stderr",
     "output_type": "stream",
     "text": [
      " 69%|████████████████████████▉           | 84/121 [00:13<00:05,  6.21it/s]"
     ]
    },
    {
     "name": "stdout",
     "output_type": "stream",
     "text": [
      "--------------\n",
      "torch.Size([376, 8, 80])\n",
      "tensor([0., 0., 0., 0., 0., 0., 0., 0.], device='cuda:0')\n",
      "--------------\n",
      "torch.Size([406, 8, 80])\n",
      "tensor([0., 0., 0., 0., 0., 0., 0., 0.], device='cuda:0')\n"
     ]
    },
    {
     "name": "stderr",
     "output_type": "stream",
     "text": [
      " 71%|█████████████████████████▌          | 86/121 [00:13<00:05,  6.63it/s]"
     ]
    },
    {
     "name": "stdout",
     "output_type": "stream",
     "text": [
      "--------------\n",
      "torch.Size([271, 8, 80])\n",
      "tensor([0., 0., 0., 0., 0., 0., 0., 0.], device='cuda:0')\n",
      "--------------\n",
      "torch.Size([361, 8, 80])\n",
      "tensor([0., 0., 0., 0., 0., 0., 0., 0.], device='cuda:0')\n"
     ]
    },
    {
     "name": "stderr",
     "output_type": "stream",
     "text": [
      " 73%|██████████████████████████▏         | 88/121 [00:13<00:05,  6.44it/s]"
     ]
    },
    {
     "name": "stdout",
     "output_type": "stream",
     "text": [
      "--------------\n",
      "torch.Size([301, 8, 80])\n",
      "tensor([0., 0., 0., 0., 0., 0., 0., 0.], device='cuda:0')\n",
      "--------------\n",
      "torch.Size([421, 8, 80])\n",
      "tensor([0., 0., 0., 0., 0., 0., 0., 0.], device='cuda:0')\n"
     ]
    },
    {
     "name": "stderr",
     "output_type": "stream",
     "text": [
      " 74%|██████████████████████████▊         | 90/121 [00:13<00:04,  6.42it/s]"
     ]
    },
    {
     "name": "stdout",
     "output_type": "stream",
     "text": [
      "--------------\n",
      "torch.Size([361, 8, 80])\n",
      "tensor([0., 0., 0., 0., 0., 0., 0., 0.], device='cuda:0')\n",
      "--------------\n",
      "torch.Size([361, 8, 80])\n",
      "tensor([0., 0., 0., 0., 0., 0., 0., 0.], device='cuda:0')\n"
     ]
    },
    {
     "name": "stderr",
     "output_type": "stream",
     "text": [
      " 76%|███████████████████████████▎        | 92/121 [00:14<00:04,  6.91it/s]"
     ]
    },
    {
     "name": "stdout",
     "output_type": "stream",
     "text": [
      "--------------\n",
      "torch.Size([301, 8, 80])\n",
      "tensor([0., 0., 0., 0., 0., 0., 0., 0.], device='cuda:0')\n",
      "--------------\n",
      "torch.Size([316, 8, 80])\n",
      "tensor([0., 0., 0., 0., 0., 0., 0., 0.], device='cuda:0')\n"
     ]
    },
    {
     "name": "stderr",
     "output_type": "stream",
     "text": [
      " 78%|███████████████████████████▉        | 94/121 [00:14<00:03,  6.77it/s]"
     ]
    },
    {
     "name": "stdout",
     "output_type": "stream",
     "text": [
      "--------------\n",
      "torch.Size([346, 8, 80])\n",
      "tensor([0., 0., 0., 0., 0., 0., 0., 0.], device='cuda:0')\n",
      "--------------\n",
      "torch.Size([346, 8, 80])\n",
      "tensor([0., 0., 0., 0., 0., 0., 0., 0.], device='cuda:0')\n"
     ]
    },
    {
     "name": "stderr",
     "output_type": "stream",
     "text": [
      " 79%|████████████████████████████▌       | 96/121 [00:14<00:03,  7.40it/s]"
     ]
    },
    {
     "name": "stdout",
     "output_type": "stream",
     "text": [
      "--------------\n",
      "torch.Size([256, 8, 80])\n",
      "tensor([0., 0., 0., 0., 0., 0., 0., 0.], device='cuda:0')\n",
      "--------------\n",
      "torch.Size([286, 8, 80])\n",
      "tensor([0., 0., 0., 0., 0., 0., 0., 0.], device='cuda:0')\n"
     ]
    },
    {
     "name": "stderr",
     "output_type": "stream",
     "text": [
      " 81%|█████████████████████████████▏      | 98/121 [00:15<00:03,  6.75it/s]"
     ]
    },
    {
     "name": "stdout",
     "output_type": "stream",
     "text": [
      "--------------\n",
      "torch.Size([301, 8, 80])\n",
      "tensor([0., 0., 0., 0., 0., 0., 0., 0.], device='cuda:0')\n",
      "--------------\n",
      "torch.Size([421, 8, 80])\n",
      "tensor([0., 0., 0., 0., 0., 0., 0., 0.], device='cuda:0')\n"
     ]
    },
    {
     "name": "stderr",
     "output_type": "stream",
     "text": [
      " 83%|████████████████████████████▉      | 100/121 [00:15<00:03,  6.88it/s]"
     ]
    },
    {
     "name": "stdout",
     "output_type": "stream",
     "text": [
      "--------------\n",
      "torch.Size([301, 8, 80])\n",
      "tensor([0., 0., 0., 0., 0., 0., 0., 0.], device='cuda:0')\n",
      "--------------\n",
      "torch.Size([346, 8, 80])\n",
      "tensor([0., 0., 0., 0., 0., 0., 0., 0.], device='cuda:0')\n"
     ]
    },
    {
     "name": "stderr",
     "output_type": "stream",
     "text": [
      " 84%|█████████████████████████████▌     | 102/121 [00:15<00:02,  6.51it/s]"
     ]
    },
    {
     "name": "stdout",
     "output_type": "stream",
     "text": [
      "--------------\n",
      "torch.Size([346, 8, 80])\n",
      "tensor([0., 0., 0., 0., 0., 0., 0., 0.], device='cuda:0')\n",
      "--------------\n",
      "torch.Size([391, 8, 80])\n",
      "tensor([0., 0., 0., 0., 0., 0., 0., 0.], device='cuda:0')\n"
     ]
    },
    {
     "name": "stderr",
     "output_type": "stream",
     "text": [
      " 86%|██████████████████████████████     | 104/121 [00:16<00:02,  6.63it/s]"
     ]
    },
    {
     "name": "stdout",
     "output_type": "stream",
     "text": [
      "--------------\n",
      "torch.Size([361, 8, 80])\n",
      "tensor([0., 0., 0., 0., 0., 0., 0., 0.], device='cuda:0')\n",
      "--------------\n",
      "torch.Size([331, 8, 80])\n",
      "tensor([0., 0., 0., 0., 0., 0., 0., 0.], device='cuda:0')\n"
     ]
    },
    {
     "name": "stderr",
     "output_type": "stream",
     "text": [
      " 88%|██████████████████████████████▋    | 106/121 [00:16<00:02,  6.72it/s]"
     ]
    },
    {
     "name": "stdout",
     "output_type": "stream",
     "text": [
      "--------------\n",
      "torch.Size([331, 8, 80])\n",
      "tensor([0., 0., 0., 0., 0., 0., 0., 0.], device='cuda:0')\n",
      "--------------\n",
      "torch.Size([331, 8, 80])\n",
      "tensor([0., 0., 0., 0., 0., 0., 0., 0.], device='cuda:0')\n"
     ]
    },
    {
     "name": "stderr",
     "output_type": "stream",
     "text": [
      " 89%|███████████████████████████████▏   | 108/121 [00:16<00:01,  6.95it/s]"
     ]
    },
    {
     "name": "stdout",
     "output_type": "stream",
     "text": [
      "--------------\n",
      "torch.Size([286, 8, 80])\n",
      "tensor([0., 0., 0., 0., 0., 0., 0., 0.], device='cuda:0')\n",
      "--------------\n",
      "torch.Size([331, 8, 80])\n",
      "tensor([0., 0., 0., 0., 0., 0., 0., 0.], device='cuda:0')\n"
     ]
    },
    {
     "name": "stderr",
     "output_type": "stream",
     "text": [
      " 91%|███████████████████████████████▊   | 110/121 [00:16<00:01,  6.94it/s]"
     ]
    },
    {
     "name": "stdout",
     "output_type": "stream",
     "text": [
      "--------------\n",
      "torch.Size([376, 8, 80])\n",
      "tensor([0., 0., 0., 0., 0., 0., 0., 0.], device='cuda:0')\n",
      "--------------\n",
      "torch.Size([301, 8, 80])\n",
      "tensor([0., 0., 0., 0., 0., 0., 0., 0.], device='cuda:0')\n"
     ]
    },
    {
     "name": "stderr",
     "output_type": "stream",
     "text": [
      " 93%|████████████████████████████████▍  | 112/121 [00:17<00:01,  7.17it/s]"
     ]
    },
    {
     "name": "stdout",
     "output_type": "stream",
     "text": [
      "--------------\n",
      "torch.Size([286, 8, 80])\n",
      "tensor([0., 0., 0., 0., 0., 0., 0., 0.], device='cuda:0')\n",
      "--------------\n",
      "torch.Size([316, 8, 80])\n",
      "tensor([0., 0., 0., 0., 0., 0., 0., 0.], device='cuda:0')\n"
     ]
    },
    {
     "name": "stderr",
     "output_type": "stream",
     "text": [
      " 94%|████████████████████████████████▉  | 114/121 [00:17<00:00,  7.36it/s]"
     ]
    },
    {
     "name": "stdout",
     "output_type": "stream",
     "text": [
      "--------------\n",
      "torch.Size([361, 8, 80])\n",
      "tensor([0., 0., 0., 0., 0., 0., 0., 0.], device='cuda:0')\n",
      "--------------\n",
      "torch.Size([241, 8, 80])\n",
      "tensor([0., 0., 0., 0., 0., 0., 0., 0.], device='cuda:0')\n"
     ]
    },
    {
     "name": "stderr",
     "output_type": "stream",
     "text": [
      " 96%|█████████████████████████████████▌ | 116/121 [00:17<00:00,  6.75it/s]"
     ]
    },
    {
     "name": "stdout",
     "output_type": "stream",
     "text": [
      "--------------\n",
      "torch.Size([451, 8, 80])\n",
      "tensor([0., 0., 0., 0., 0., 0., 0., 0.], device='cuda:0')\n",
      "--------------\n",
      "torch.Size([316, 8, 80])\n",
      "tensor([0., 0., 0., 0., 0., 0., 0., 0.], device='cuda:0')\n"
     ]
    },
    {
     "name": "stderr",
     "output_type": "stream",
     "text": [
      " 98%|██████████████████████████████████▏| 118/121 [00:18<00:00,  7.25it/s]"
     ]
    },
    {
     "name": "stdout",
     "output_type": "stream",
     "text": [
      "--------------\n",
      "torch.Size([316, 8, 80])\n",
      "tensor([0., 0., 0., 0., 0., 0., 0., 0.], device='cuda:0')\n",
      "--------------\n",
      "torch.Size([256, 8, 80])\n",
      "tensor([0., 0., 0., 0., 0., 0., 0., 0.], device='cuda:0')\n"
     ]
    },
    {
     "name": "stderr",
     "output_type": "stream",
     "text": [
      " 99%|██████████████████████████████████▋| 120/121 [00:18<00:00,  7.08it/s]"
     ]
    },
    {
     "name": "stdout",
     "output_type": "stream",
     "text": [
      "--------------\n",
      "torch.Size([316, 8, 80])\n",
      "tensor([0., 0., 0., 0., 0., 0., 0., 0.], device='cuda:0')\n",
      "--------------\n",
      "torch.Size([346, 8, 80])\n",
      "tensor([0., 0., 0., 0., 0., 0., 0., 0.], device='cuda:0')\n"
     ]
    },
    {
     "name": "stderr",
     "output_type": "stream",
     "text": [
      "100%|███████████████████████████████████| 121/121 [00:18<00:00,  6.57it/s]\n"
     ]
    },
    {
     "name": "stdout",
     "output_type": "stream",
     "text": [
      "--------------\n",
      "torch.Size([301, 6, 80])\n",
      "tensor([0., 0., 0., 0., 0., 0.], device='cuda:0')\n",
      "Test CER 0.1334654866721142\n",
      "Test WER 0.4068675719191076\n",
      "Test CTC 174.12165178571428\n",
      "Saving Best\n",
      "Train Set Size = 771\n"
     ]
    },
    {
     "name": "stderr",
     "output_type": "stream",
     "text": [
      "CER: 0.07210946856037981 CTC: 760.9727783203125 Ground Truth: |Scarborough\n"
     ]
    },
    {
     "name": "stdout",
     "output_type": "stream",
     "text": [
      "Epoch: 12 Training CER 0.07210137129591979\n",
      "Training WER: 0.2650784874875412\n",
      "Time: 281.200900554657 Seconds\n",
      "Validation Set Size = 121\n"
     ]
    },
    {
     "name": "stderr",
     "output_type": "stream",
     "text": [
      "  1%|▎                                    | 1/121 [00:00<00:17,  6.81it/s]"
     ]
    },
    {
     "name": "stdout",
     "output_type": "stream",
     "text": [
      "--------------\n",
      "torch.Size([331, 8, 80])\n",
      "tensor([0., 0., 0., 0., 0., 0., 0., 0.], device='cuda:0')\n"
     ]
    },
    {
     "name": "stderr",
     "output_type": "stream",
     "text": [
      "\r",
      "  2%|▌                                    | 2/121 [00:00<00:17,  6.99it/s]"
     ]
    },
    {
     "name": "stdout",
     "output_type": "stream",
     "text": [
      "--------------\n",
      "torch.Size([316, 8, 80])\n",
      "tensor([0., 0., 0., 0., 0., 0., 0., 0.], device='cuda:0')\n"
     ]
    },
    {
     "name": "stderr",
     "output_type": "stream",
     "text": [
      "\r",
      "  2%|▉                                    | 3/121 [00:00<00:19,  6.19it/s]"
     ]
    },
    {
     "name": "stdout",
     "output_type": "stream",
     "text": [
      "--------------\n",
      "torch.Size([436, 8, 80])\n",
      "tensor([0., 0., 0., 0., 0., 0., 0., 0.], device='cuda:0')\n"
     ]
    },
    {
     "name": "stderr",
     "output_type": "stream",
     "text": [
      "\r",
      "  3%|█▏                                   | 4/121 [00:00<00:19,  5.96it/s]"
     ]
    },
    {
     "name": "stdout",
     "output_type": "stream",
     "text": [
      "--------------\n",
      "torch.Size([421, 8, 80])\n",
      "tensor([0., 0., 0., 0., 0., 0., 0., 0.], device='cuda:0')\n",
      "--------------\n",
      "torch.Size([451, 8, 80])\n",
      "tensor([0., 0., 0., 0., 0., 0., 0., 0.], device='cuda:0')\n"
     ]
    },
    {
     "name": "stderr",
     "output_type": "stream",
     "text": [
      "  5%|█▊                                   | 6/121 [00:00<00:18,  6.09it/s]"
     ]
    },
    {
     "name": "stdout",
     "output_type": "stream",
     "text": [
      "--------------\n",
      "torch.Size([316, 8, 80])\n",
      "tensor([0., 0., 0., 0., 0., 0., 0., 0.], device='cuda:0')\n"
     ]
    },
    {
     "name": "stderr",
     "output_type": "stream",
     "text": [
      "\r",
      "  6%|██▏                                  | 7/121 [00:01<00:18,  6.27it/s]"
     ]
    },
    {
     "name": "stdout",
     "output_type": "stream",
     "text": [
      "--------------\n",
      "torch.Size([346, 8, 80])\n",
      "tensor([0., 0., 0., 0., 0., 0., 0., 0.], device='cuda:0')\n"
     ]
    },
    {
     "name": "stderr",
     "output_type": "stream",
     "text": [
      "\r",
      "  7%|██▍                                  | 8/121 [00:01<00:17,  6.61it/s]"
     ]
    },
    {
     "name": "stdout",
     "output_type": "stream",
     "text": [
      "--------------\n",
      "torch.Size([301, 8, 80])\n",
      "tensor([0., 0., 0., 0., 0., 0., 0., 0.], device='cuda:0')\n"
     ]
    },
    {
     "name": "stderr",
     "output_type": "stream",
     "text": [
      "\r",
      "  7%|██▊                                  | 9/121 [00:01<00:15,  7.20it/s]"
     ]
    },
    {
     "name": "stdout",
     "output_type": "stream",
     "text": [
      "--------------\n",
      "torch.Size([241, 8, 80])\n",
      "tensor([0., 0., 0., 0., 0., 0., 0., 0.], device='cuda:0')\n"
     ]
    },
    {
     "name": "stderr",
     "output_type": "stream",
     "text": [
      "\r",
      "  8%|██▉                                 | 10/121 [00:01<00:17,  6.47it/s]"
     ]
    },
    {
     "name": "stdout",
     "output_type": "stream",
     "text": [
      "--------------\n",
      "torch.Size([451, 8, 80])\n",
      "tensor([0., 0., 0., 0., 0., 0., 0., 0.], device='cuda:0')\n"
     ]
    },
    {
     "name": "stderr",
     "output_type": "stream",
     "text": [
      "\r",
      "  9%|███▎                                | 11/121 [00:01<00:16,  6.57it/s]"
     ]
    },
    {
     "name": "stdout",
     "output_type": "stream",
     "text": [
      "--------------\n",
      "torch.Size([331, 8, 80])\n",
      "tensor([0., 0., 0., 0., 0., 0., 0., 0.], device='cuda:0')\n"
     ]
    },
    {
     "name": "stderr",
     "output_type": "stream",
     "text": [
      "\r",
      " 10%|███▌                                | 12/121 [00:01<00:16,  6.74it/s]"
     ]
    },
    {
     "name": "stdout",
     "output_type": "stream",
     "text": [
      "--------------\n",
      "torch.Size([316, 8, 80])\n",
      "tensor([0., 0., 0., 0., 0., 0., 0., 0.], device='cuda:0')\n"
     ]
    },
    {
     "name": "stderr",
     "output_type": "stream",
     "text": [
      "\r",
      " 11%|███▊                                | 13/121 [00:01<00:15,  7.03it/s]"
     ]
    },
    {
     "name": "stdout",
     "output_type": "stream",
     "text": [
      "--------------\n",
      "torch.Size([286, 8, 80])\n",
      "tensor([0., 0., 0., 0., 0., 0., 0., 0.], device='cuda:0')\n"
     ]
    },
    {
     "name": "stderr",
     "output_type": "stream",
     "text": [
      "\r",
      " 12%|████▏                               | 14/121 [00:02<00:14,  7.25it/s]"
     ]
    },
    {
     "name": "stdout",
     "output_type": "stream",
     "text": [
      "--------------\n",
      "torch.Size([286, 8, 80])\n",
      "tensor([0., 0., 0., 0., 0., 0., 0., 0.], device='cuda:0')\n"
     ]
    },
    {
     "name": "stderr",
     "output_type": "stream",
     "text": [
      "\r",
      " 12%|████▍                               | 15/121 [00:02<00:14,  7.46it/s]"
     ]
    },
    {
     "name": "stdout",
     "output_type": "stream",
     "text": [
      "--------------\n",
      "torch.Size([286, 8, 80])\n",
      "tensor([0., 0., 0., 0., 0., 0., 0., 0.], device='cuda:0')\n"
     ]
    },
    {
     "name": "stderr",
     "output_type": "stream",
     "text": [
      "\r",
      " 13%|████▊                               | 16/121 [00:02<00:14,  7.08it/s]"
     ]
    },
    {
     "name": "stdout",
     "output_type": "stream",
     "text": [
      "--------------\n",
      "torch.Size([361, 8, 80])\n",
      "tensor([0., 0., 0., 0., 0., 0., 0., 0.], device='cuda:0')\n"
     ]
    },
    {
     "name": "stderr",
     "output_type": "stream",
     "text": [
      "\r",
      " 14%|█████                               | 17/121 [00:02<00:14,  7.03it/s]"
     ]
    },
    {
     "name": "stdout",
     "output_type": "stream",
     "text": [
      "--------------\n",
      "torch.Size([331, 8, 80])\n",
      "tensor([0., 0., 0., 0., 0., 0., 0., 0.], device='cuda:0')\n"
     ]
    },
    {
     "name": "stderr",
     "output_type": "stream",
     "text": [
      "\r",
      " 15%|█████▎                              | 18/121 [00:02<00:15,  6.75it/s]"
     ]
    },
    {
     "name": "stdout",
     "output_type": "stream",
     "text": [
      "--------------\n",
      "torch.Size([376, 8, 80])\n",
      "tensor([0., 0., 0., 0., 0., 0., 0., 0.], device='cuda:0')\n"
     ]
    },
    {
     "name": "stderr",
     "output_type": "stream",
     "text": [
      "\r",
      " 16%|█████▋                              | 19/121 [00:02<00:14,  7.04it/s]"
     ]
    },
    {
     "name": "stdout",
     "output_type": "stream",
     "text": [
      "--------------\n",
      "torch.Size([286, 8, 80])\n",
      "tensor([0., 0., 0., 0., 0., 0., 0., 0.], device='cuda:0')\n"
     ]
    },
    {
     "name": "stderr",
     "output_type": "stream",
     "text": [
      "\r",
      " 17%|█████▉                              | 20/121 [00:02<00:14,  6.96it/s]"
     ]
    },
    {
     "name": "stdout",
     "output_type": "stream",
     "text": [
      "--------------\n",
      "torch.Size([346, 8, 80])\n",
      "tensor([0., 0., 0., 0., 0., 0., 0., 0.], device='cuda:0')\n"
     ]
    },
    {
     "name": "stderr",
     "output_type": "stream",
     "text": [
      "\r",
      " 17%|██████▏                             | 21/121 [00:03<00:14,  6.85it/s]"
     ]
    },
    {
     "name": "stdout",
     "output_type": "stream",
     "text": [
      "--------------\n",
      "torch.Size([346, 8, 80])\n",
      "tensor([0., 0., 0., 0., 0., 0., 0., 0.], device='cuda:0')\n"
     ]
    },
    {
     "name": "stderr",
     "output_type": "stream",
     "text": [
      " 19%|██████▊                             | 23/121 [00:03<00:16,  5.93it/s]"
     ]
    },
    {
     "name": "stdout",
     "output_type": "stream",
     "text": [
      "--------------\n",
      "torch.Size([496, 8, 80])\n",
      "tensor([0., 0., 0., 0., 0., 0., 0., 0.], device='cuda:0')\n",
      "--------------\n",
      "torch.Size([421, 8, 80])\n",
      "tensor([0., 0., 0., 0., 0., 0., 0., 0.], device='cuda:0')\n"
     ]
    },
    {
     "name": "stderr",
     "output_type": "stream",
     "text": [
      " 21%|███████▍                            | 25/121 [00:03<00:15,  6.31it/s]"
     ]
    },
    {
     "name": "stdout",
     "output_type": "stream",
     "text": [
      "--------------\n",
      "torch.Size([346, 8, 80])\n",
      "tensor([0., 0., 0., 0., 0., 0., 0., 0.], device='cuda:0')\n",
      "--------------\n",
      "torch.Size([346, 8, 80])\n",
      "tensor([0., 0., 0., 0., 0., 0., 0., 0.], device='cuda:0')\n"
     ]
    },
    {
     "name": "stderr",
     "output_type": "stream",
     "text": [
      " 22%|████████                            | 27/121 [00:04<00:14,  6.64it/s]"
     ]
    },
    {
     "name": "stdout",
     "output_type": "stream",
     "text": [
      "--------------\n",
      "torch.Size([391, 8, 80])\n",
      "tensor([0., 0., 0., 0., 0., 0., 0., 0.], device='cuda:0')\n",
      "--------------\n",
      "torch.Size([286, 8, 80])\n",
      "tensor([0., 0., 0., 0., 0., 0., 0., 0.], device='cuda:0')\n"
     ]
    },
    {
     "name": "stderr",
     "output_type": "stream",
     "text": [
      " 24%|████████▋                           | 29/121 [00:04<00:13,  6.71it/s]"
     ]
    },
    {
     "name": "stdout",
     "output_type": "stream",
     "text": [
      "--------------\n",
      "torch.Size([316, 8, 80])\n",
      "tensor([0., 0., 0., 0., 0., 0., 0., 0.], device='cuda:0')\n",
      "--------------\n",
      "torch.Size([361, 8, 80])\n",
      "tensor([0., 0., 0., 0., 0., 0., 0., 0.], device='cuda:0')\n"
     ]
    },
    {
     "name": "stderr",
     "output_type": "stream",
     "text": [
      " 26%|█████████▏                          | 31/121 [00:04<00:13,  6.77it/s]"
     ]
    },
    {
     "name": "stdout",
     "output_type": "stream",
     "text": [
      "--------------\n",
      "torch.Size([376, 8, 80])\n",
      "tensor([0., 0., 0., 0., 0., 0., 0., 0.], device='cuda:0')\n",
      "--------------\n",
      "torch.Size([316, 8, 80])\n",
      "tensor([0., 0., 0., 0., 0., 0., 0., 0.], device='cuda:0')\n"
     ]
    },
    {
     "name": "stderr",
     "output_type": "stream",
     "text": [
      " 27%|█████████▊                          | 33/121 [00:05<00:14,  6.19it/s]"
     ]
    },
    {
     "name": "stdout",
     "output_type": "stream",
     "text": [
      "--------------\n",
      "torch.Size([361, 8, 80])\n",
      "tensor([0., 0., 0., 0., 0., 0., 0., 0.], device='cuda:0')\n",
      "--------------\n",
      "torch.Size([451, 8, 80])\n",
      "tensor([0., 0., 0., 0., 0., 0., 0., 0.], device='cuda:0')\n"
     ]
    },
    {
     "name": "stderr",
     "output_type": "stream",
     "text": [
      "\r",
      " 28%|██████████                          | 34/121 [00:05<00:14,  5.99it/s]"
     ]
    },
    {
     "name": "stdout",
     "output_type": "stream",
     "text": [
      "--------------\n",
      "torch.Size([421, 8, 80])\n",
      "tensor([0., 0., 0., 0., 0., 0., 0., 0.], device='cuda:0')\n"
     ]
    },
    {
     "name": "stderr",
     "output_type": "stream",
     "text": [
      " 30%|██████████▋                         | 36/121 [00:05<00:15,  5.54it/s]"
     ]
    },
    {
     "name": "stdout",
     "output_type": "stream",
     "text": [
      "--------------\n",
      "torch.Size([346, 8, 80])\n",
      "tensor([0., 0., 0., 0., 0., 0., 0., 0.], device='cuda:0')\n",
      "--------------\n",
      "torch.Size([346, 8, 80])\n",
      "tensor([0., 0., 0., 0., 0., 0., 0., 0.], device='cuda:0')\n"
     ]
    },
    {
     "name": "stderr",
     "output_type": "stream",
     "text": [
      " 31%|███████████▎                        | 38/121 [00:05<00:13,  6.32it/s]"
     ]
    },
    {
     "name": "stdout",
     "output_type": "stream",
     "text": [
      "--------------\n",
      "torch.Size([361, 8, 80])\n",
      "tensor([0., 0., 0., 0., 0., 0., 0., 0.], device='cuda:0')\n",
      "--------------\n",
      "torch.Size([271, 8, 80])\n",
      "tensor([0., 0., 0., 0., 0., 0., 0., 0.], device='cuda:0')\n"
     ]
    },
    {
     "name": "stderr",
     "output_type": "stream",
     "text": [
      "\r",
      " 32%|███████████▌                        | 39/121 [00:06<00:12,  6.51it/s]"
     ]
    },
    {
     "name": "stdout",
     "output_type": "stream",
     "text": [
      "--------------\n",
      "torch.Size([331, 8, 80])\n",
      "tensor([0., 0., 0., 0., 0., 0., 0., 0.], device='cuda:0')\n",
      "--------------\n",
      "torch.Size([496, 8, 80])\n"
     ]
    },
    {
     "name": "stderr",
     "output_type": "stream",
     "text": [
      " 34%|████████████▏                       | 41/121 [00:06<00:12,  6.30it/s]"
     ]
    },
    {
     "name": "stdout",
     "output_type": "stream",
     "text": [
      "tensor([0., 0., 0., 0., 0., 0., 0., 0.], device='cuda:0')\n",
      "--------------\n",
      "torch.Size([301, 8, 80])\n",
      "tensor([0., 0., 0., 0., 0., 0., 0., 0.], device='cuda:0')\n"
     ]
    },
    {
     "name": "stderr",
     "output_type": "stream",
     "text": [
      " 36%|████████████▊                       | 43/121 [00:06<00:11,  6.70it/s]"
     ]
    },
    {
     "name": "stdout",
     "output_type": "stream",
     "text": [
      "--------------\n",
      "torch.Size([361, 8, 80])\n",
      "tensor([0., 0., 0., 0., 0., 0., 0., 0.], device='cuda:0')\n",
      "--------------\n",
      "torch.Size([286, 8, 80])\n",
      "tensor([0., 0., 0., 0., 0., 0., 0., 0.], device='cuda:0')\n"
     ]
    },
    {
     "name": "stderr",
     "output_type": "stream",
     "text": [
      " 37%|█████████████▍                      | 45/121 [00:06<00:10,  7.05it/s]"
     ]
    },
    {
     "name": "stdout",
     "output_type": "stream",
     "text": [
      "--------------\n",
      "torch.Size([286, 8, 80])\n",
      "tensor([0., 0., 0., 0., 0., 0., 0., 0.], device='cuda:0')\n",
      "--------------\n",
      "torch.Size([316, 8, 80])\n",
      "tensor([0., 0., 0., 0., 0., 0., 0., 0.], device='cuda:0')\n"
     ]
    },
    {
     "name": "stderr",
     "output_type": "stream",
     "text": [
      " 39%|█████████████▉                      | 47/121 [00:07<00:09,  7.47it/s]"
     ]
    },
    {
     "name": "stdout",
     "output_type": "stream",
     "text": [
      "--------------\n",
      "torch.Size([256, 8, 80])\n",
      "tensor([0., 0., 0., 0., 0., 0., 0., 0.], device='cuda:0')\n",
      "--------------\n",
      "torch.Size([301, 8, 80])\n",
      "tensor([0., 0., 0., 0., 0., 0., 0., 0.], device='cuda:0')\n"
     ]
    },
    {
     "name": "stderr",
     "output_type": "stream",
     "text": [
      " 40%|██████████████▌                     | 49/121 [00:07<00:10,  6.75it/s]"
     ]
    },
    {
     "name": "stdout",
     "output_type": "stream",
     "text": [
      "--------------\n",
      "torch.Size([346, 8, 80])\n",
      "tensor([0., 0., 0., 0., 0., 0., 0., 0.], device='cuda:0')\n",
      "--------------\n",
      "torch.Size([391, 8, 80])\n",
      "tensor([0., 0., 0., 0., 0., 0., 0., 0.], device='cuda:0')\n"
     ]
    },
    {
     "name": "stderr",
     "output_type": "stream",
     "text": [
      " 42%|███████████████▏                    | 51/121 [00:07<00:10,  6.92it/s]"
     ]
    },
    {
     "name": "stdout",
     "output_type": "stream",
     "text": [
      "--------------\n",
      "torch.Size([361, 8, 80])\n",
      "tensor([0., 0., 0., 0., 0., 0., 0., 0.], device='cuda:0')\n",
      "--------------\n",
      "torch.Size([286, 8, 80])\n",
      "tensor([0., 0., 0., 0., 0., 0., 0., 0.], device='cuda:0')\n"
     ]
    },
    {
     "name": "stderr",
     "output_type": "stream",
     "text": [
      " 44%|███████████████▊                    | 53/121 [00:08<00:10,  6.57it/s]"
     ]
    },
    {
     "name": "stdout",
     "output_type": "stream",
     "text": [
      "--------------\n",
      "torch.Size([391, 8, 80])\n",
      "tensor([0., 0., 0., 0., 0., 0., 0., 0.], device='cuda:0')\n",
      "--------------\n",
      "torch.Size([346, 8, 80])\n",
      "tensor([0., 0., 0., 0., 0., 0., 0., 0.], device='cuda:0')\n"
     ]
    },
    {
     "name": "stderr",
     "output_type": "stream",
     "text": [
      " 45%|████████████████▎                   | 55/121 [00:08<00:09,  6.70it/s]"
     ]
    },
    {
     "name": "stdout",
     "output_type": "stream",
     "text": [
      "--------------\n",
      "torch.Size([331, 8, 80])\n",
      "tensor([0., 0., 0., 0., 0., 0., 0., 0.], device='cuda:0')\n",
      "--------------\n",
      "torch.Size([331, 8, 80])\n",
      "tensor([0., 0., 0., 0., 0., 0., 0., 0.], device='cuda:0')\n"
     ]
    },
    {
     "name": "stderr",
     "output_type": "stream",
     "text": [
      " 47%|████████████████▉                   | 57/121 [00:08<00:09,  6.44it/s]"
     ]
    },
    {
     "name": "stdout",
     "output_type": "stream",
     "text": [
      "--------------\n",
      "torch.Size([391, 8, 80])\n",
      "tensor([0., 0., 0., 0., 0., 0., 0., 0.], device='cuda:0')\n",
      "--------------\n",
      "torch.Size([361, 8, 80])\n",
      "tensor([0., 0., 0., 0., 0., 0., 0., 0.], device='cuda:0')\n"
     ]
    },
    {
     "name": "stderr",
     "output_type": "stream",
     "text": [
      " 49%|█████████████████▌                  | 59/121 [00:09<00:08,  6.89it/s]"
     ]
    },
    {
     "name": "stdout",
     "output_type": "stream",
     "text": [
      "--------------\n",
      "torch.Size([391, 8, 80])\n",
      "tensor([0., 0., 0., 0., 0., 0., 0., 0.], device='cuda:0')\n",
      "--------------\n",
      "torch.Size([241, 8, 80])\n",
      "tensor([0., 0., 0., 0., 0., 0., 0., 0.], device='cuda:0')\n"
     ]
    },
    {
     "name": "stderr",
     "output_type": "stream",
     "text": [
      " 50%|██████████████████▏                 | 61/121 [00:09<00:08,  6.91it/s]"
     ]
    },
    {
     "name": "stdout",
     "output_type": "stream",
     "text": [
      "--------------\n",
      "torch.Size([316, 8, 80])\n",
      "tensor([0., 0., 0., 0., 0., 0., 0., 0.], device='cuda:0')\n",
      "--------------\n",
      "torch.Size([331, 8, 80])\n",
      "tensor([0., 0., 0., 0., 0., 0., 0., 0.], device='cuda:0')\n"
     ]
    },
    {
     "name": "stderr",
     "output_type": "stream",
     "text": [
      " 52%|██████████████████▋                 | 63/121 [00:09<00:08,  7.02it/s]"
     ]
    },
    {
     "name": "stdout",
     "output_type": "stream",
     "text": [
      "--------------\n",
      "torch.Size([256, 8, 80])\n",
      "tensor([0., 0., 0., 0., 0., 0., 0., 0.], device='cuda:0')\n",
      "--------------\n",
      "torch.Size([331, 8, 80])\n",
      "tensor([0., 0., 0., 0., 0., 0., 0., 0.], device='cuda:0')\n"
     ]
    },
    {
     "name": "stderr",
     "output_type": "stream",
     "text": [
      " 54%|███████████████████▎                | 65/121 [00:09<00:08,  6.58it/s]"
     ]
    },
    {
     "name": "stdout",
     "output_type": "stream",
     "text": [
      "--------------\n",
      "torch.Size([346, 8, 80])\n",
      "tensor([0., 0., 0., 0., 0., 0., 0., 0.], device='cuda:0')\n",
      "--------------\n",
      "torch.Size([376, 8, 80])\n",
      "tensor([0., 0., 0., 0., 0., 0., 0., 0.], device='cuda:0')\n"
     ]
    },
    {
     "name": "stderr",
     "output_type": "stream",
     "text": [
      " 55%|███████████████████▉                | 67/121 [00:10<00:08,  6.28it/s]"
     ]
    },
    {
     "name": "stdout",
     "output_type": "stream",
     "text": [
      "--------------\n",
      "torch.Size([376, 8, 80])\n",
      "tensor([0., 0., 0., 0., 0., 0., 0., 0.], device='cuda:0')\n",
      "--------------\n",
      "torch.Size([391, 8, 80])\n",
      "tensor([0., 0., 0., 0., 0., 0., 0., 0.], device='cuda:0')\n"
     ]
    },
    {
     "name": "stderr",
     "output_type": "stream",
     "text": [
      " 57%|████████████████████▌               | 69/121 [00:10<00:07,  6.58it/s]"
     ]
    },
    {
     "name": "stdout",
     "output_type": "stream",
     "text": [
      "--------------\n",
      "torch.Size([316, 8, 80])\n",
      "tensor([0., 0., 0., 0., 0., 0., 0., 0.], device='cuda:0')\n",
      "--------------\n",
      "torch.Size([346, 8, 80])\n",
      "tensor([0., 0., 0., 0., 0., 0., 0., 0.], device='cuda:0')\n"
     ]
    },
    {
     "name": "stderr",
     "output_type": "stream",
     "text": [
      " 59%|█████████████████████               | 71/121 [00:10<00:07,  6.30it/s]"
     ]
    },
    {
     "name": "stdout",
     "output_type": "stream",
     "text": [
      "--------------\n",
      "torch.Size([331, 8, 80])\n",
      "tensor([0., 0., 0., 0., 0., 0., 0., 0.], device='cuda:0')\n",
      "--------------\n",
      "torch.Size([421, 8, 80])\n",
      "tensor([0., 0., 0., 0., 0., 0., 0., 0.], device='cuda:0')\n"
     ]
    },
    {
     "name": "stderr",
     "output_type": "stream",
     "text": [
      "\r",
      " 60%|█████████████████████▍              | 72/121 [00:10<00:07,  6.38it/s]"
     ]
    },
    {
     "name": "stdout",
     "output_type": "stream",
     "text": [
      "--------------\n",
      "torch.Size([346, 8, 80])\n",
      "tensor([0., 0., 0., 0., 0., 0., 0., 0.], device='cuda:0')\n",
      "--------------\n",
      "torch.Size([451, 8, 80])\n",
      "tensor([0., 0., 0., 0., 0., 0., 0., 0.], device='cuda:0')\n"
     ]
    },
    {
     "name": "stderr",
     "output_type": "stream",
     "text": [
      " 62%|██████████████████████▎             | 75/121 [00:11<00:07,  6.36it/s]"
     ]
    },
    {
     "name": "stdout",
     "output_type": "stream",
     "text": [
      "--------------\n",
      "torch.Size([346, 8, 80])\n",
      "tensor([0., 0., 0., 0., 0., 0., 0., 0.], device='cuda:0')\n",
      "--------------\n",
      "torch.Size([331, 8, 80])\n",
      "tensor([0., 0., 0., 0., 0., 0., 0., 0.], device='cuda:0')\n"
     ]
    },
    {
     "name": "stderr",
     "output_type": "stream",
     "text": [
      " 64%|██████████████████████▉             | 77/121 [00:11<00:06,  6.62it/s]"
     ]
    },
    {
     "name": "stdout",
     "output_type": "stream",
     "text": [
      "--------------\n",
      "torch.Size([346, 8, 80])\n",
      "tensor([0., 0., 0., 0., 0., 0., 0., 0.], device='cuda:0')\n",
      "--------------\n",
      "torch.Size([316, 8, 80])\n",
      "tensor([0., 0., 0., 0., 0., 0., 0., 0.], device='cuda:0')\n"
     ]
    },
    {
     "name": "stderr",
     "output_type": "stream",
     "text": [
      " 65%|███████████████████████▌            | 79/121 [00:12<00:05,  7.10it/s]"
     ]
    },
    {
     "name": "stdout",
     "output_type": "stream",
     "text": [
      "--------------\n",
      "torch.Size([256, 8, 80])\n",
      "tensor([0., 0., 0., 0., 0., 0., 0., 0.], device='cuda:0')\n",
      "--------------\n",
      "torch.Size([316, 8, 80])\n",
      "tensor([0., 0., 0., 0., 0., 0., 0., 0.], device='cuda:0')\n"
     ]
    },
    {
     "name": "stderr",
     "output_type": "stream",
     "text": [
      " 67%|████████████████████████            | 81/121 [00:12<00:05,  6.79it/s]"
     ]
    },
    {
     "name": "stdout",
     "output_type": "stream",
     "text": [
      "--------------\n",
      "torch.Size([391, 8, 80])\n",
      "tensor([0., 0., 0., 0., 0., 0., 0., 0.], device='cuda:0')\n",
      "--------------\n",
      "torch.Size([316, 8, 80])\n",
      "tensor([0., 0., 0., 0., 0., 0., 0., 0.], device='cuda:0')\n"
     ]
    },
    {
     "name": "stderr",
     "output_type": "stream",
     "text": [
      " 69%|████████████████████████▋           | 83/121 [00:12<00:05,  6.43it/s]"
     ]
    },
    {
     "name": "stdout",
     "output_type": "stream",
     "text": [
      "--------------\n",
      "torch.Size([406, 8, 80])\n",
      "tensor([0., 0., 0., 0., 0., 0., 0., 0.], device='cuda:0')\n",
      "--------------\n",
      "torch.Size([361, 8, 80])\n",
      "tensor([0., 0., 0., 0., 0., 0., 0., 0.], device='cuda:0')\n"
     ]
    },
    {
     "name": "stderr",
     "output_type": "stream",
     "text": [
      " 70%|█████████████████████████▎          | 85/121 [00:12<00:05,  6.98it/s]"
     ]
    },
    {
     "name": "stdout",
     "output_type": "stream",
     "text": [
      "--------------\n",
      "torch.Size([241, 8, 80])\n",
      "tensor([0., 0., 0., 0., 0., 0., 0., 0.], device='cuda:0')\n",
      "--------------\n",
      "torch.Size([331, 8, 80])\n",
      "tensor([0., 0., 0., 0., 0., 0., 0., 0.], device='cuda:0')\n"
     ]
    },
    {
     "name": "stderr",
     "output_type": "stream",
     "text": [
      " 72%|█████████████████████████▉          | 87/121 [00:13<00:05,  6.75it/s]"
     ]
    },
    {
     "name": "stdout",
     "output_type": "stream",
     "text": [
      "--------------\n",
      "torch.Size([376, 8, 80])\n",
      "tensor([0., 0., 0., 0., 0., 0., 0., 0.], device='cuda:0')\n",
      "--------------\n",
      "torch.Size([331, 8, 80])\n",
      "tensor([0., 0., 0., 0., 0., 0., 0., 0.], device='cuda:0')\n"
     ]
    },
    {
     "name": "stderr",
     "output_type": "stream",
     "text": [
      " 74%|██████████████████████████▍         | 89/121 [00:13<00:04,  6.95it/s]"
     ]
    },
    {
     "name": "stdout",
     "output_type": "stream",
     "text": [
      "--------------\n",
      "torch.Size([271, 8, 80])\n",
      "tensor([0., 0., 0., 0., 0., 0., 0., 0.], device='cuda:0')\n",
      "--------------\n",
      "torch.Size([361, 8, 80])\n",
      "tensor([0., 0., 0., 0., 0., 0., 0., 0.], device='cuda:0')\n"
     ]
    },
    {
     "name": "stderr",
     "output_type": "stream",
     "text": [
      " 75%|███████████████████████████         | 91/121 [00:13<00:04,  6.76it/s]"
     ]
    },
    {
     "name": "stdout",
     "output_type": "stream",
     "text": [
      "--------------\n",
      "torch.Size([271, 8, 80])\n",
      "tensor([0., 0., 0., 0., 0., 0., 0., 0.], device='cuda:0')\n",
      "--------------\n",
      "torch.Size([406, 8, 80])\n",
      "tensor([0., 0., 0., 0., 0., 0., 0., 0.], device='cuda:0')\n"
     ]
    },
    {
     "name": "stderr",
     "output_type": "stream",
     "text": [
      " 77%|███████████████████████████▋        | 93/121 [00:14<00:04,  6.67it/s]"
     ]
    },
    {
     "name": "stdout",
     "output_type": "stream",
     "text": [
      "--------------\n",
      "torch.Size([286, 8, 80])\n",
      "tensor([0., 0., 0., 0., 0., 0., 0., 0.], device='cuda:0')\n",
      "--------------\n",
      "torch.Size([391, 8, 80])\n",
      "tensor([0., 0., 0., 0., 0., 0., 0., 0.], device='cuda:0')\n"
     ]
    },
    {
     "name": "stderr",
     "output_type": "stream",
     "text": [
      " 79%|████████████████████████████▎       | 95/121 [00:14<00:03,  6.89it/s]"
     ]
    },
    {
     "name": "stdout",
     "output_type": "stream",
     "text": [
      "--------------\n",
      "torch.Size([361, 8, 80])\n",
      "tensor([0., 0., 0., 0., 0., 0., 0., 0.], device='cuda:0')\n",
      "--------------\n",
      "torch.Size([286, 8, 80])\n",
      "tensor([0., 0., 0., 0., 0., 0., 0., 0.], device='cuda:0')\n"
     ]
    },
    {
     "name": "stderr",
     "output_type": "stream",
     "text": [
      " 80%|████████████████████████████▊       | 97/121 [00:14<00:03,  6.72it/s]"
     ]
    },
    {
     "name": "stdout",
     "output_type": "stream",
     "text": [
      "--------------\n",
      "torch.Size([346, 8, 80])\n",
      "tensor([0., 0., 0., 0., 0., 0., 0., 0.], device='cuda:0')\n",
      "--------------\n",
      "torch.Size([361, 8, 80])\n",
      "tensor([0., 0., 0., 0., 0., 0., 0., 0.], device='cuda:0')\n"
     ]
    },
    {
     "name": "stderr",
     "output_type": "stream",
     "text": [
      "\r",
      " 81%|█████████████████████████████▏      | 98/121 [00:14<00:03,  7.23it/s]"
     ]
    },
    {
     "name": "stdout",
     "output_type": "stream",
     "text": [
      "--------------\n",
      "torch.Size([241, 8, 80])\n",
      "tensor([0., 0., 0., 0., 0., 0., 0., 0.], device='cuda:0')\n",
      "--------------\n",
      "torch.Size([481, 8, 80])\n",
      "tensor([0., 0., 0., 0., 0., 0., 0., 0.], device='cuda:0')\n"
     ]
    },
    {
     "name": "stderr",
     "output_type": "stream",
     "text": [
      " 83%|█████████████████████████████▏     | 101/121 [00:15<00:03,  6.44it/s]"
     ]
    },
    {
     "name": "stdout",
     "output_type": "stream",
     "text": [
      "--------------\n",
      "torch.Size([391, 8, 80])\n",
      "tensor([0., 0., 0., 0., 0., 0., 0., 0.], device='cuda:0')\n",
      "--------------\n",
      "torch.Size([331, 8, 80])\n",
      "tensor([0., 0., 0., 0., 0., 0., 0., 0.], device='cuda:0')\n"
     ]
    },
    {
     "name": "stderr",
     "output_type": "stream",
     "text": [
      " 85%|█████████████████████████████▊     | 103/121 [00:15<00:02,  6.23it/s]"
     ]
    },
    {
     "name": "stdout",
     "output_type": "stream",
     "text": [
      "--------------\n",
      "torch.Size([421, 8, 80])\n",
      "tensor([0., 0., 0., 0., 0., 0., 0., 0.], device='cuda:0')\n",
      "--------------\n",
      "torch.Size([361, 8, 80])\n",
      "tensor([0., 0., 0., 0., 0., 0., 0., 0.], device='cuda:0')\n"
     ]
    },
    {
     "name": "stderr",
     "output_type": "stream",
     "text": [
      " 87%|██████████████████████████████▎    | 105/121 [00:15<00:02,  6.52it/s]"
     ]
    },
    {
     "name": "stdout",
     "output_type": "stream",
     "text": [
      "--------------\n",
      "torch.Size([316, 8, 80])\n",
      "tensor([0., 0., 0., 0., 0., 0., 0., 0.], device='cuda:0')\n",
      "--------------\n",
      "torch.Size([346, 8, 80])\n",
      "tensor([0., 0., 0., 0., 0., 0., 0., 0.], device='cuda:0')\n"
     ]
    },
    {
     "name": "stderr",
     "output_type": "stream",
     "text": [
      " 88%|██████████████████████████████▉    | 107/121 [00:16<00:02,  6.34it/s]"
     ]
    },
    {
     "name": "stdout",
     "output_type": "stream",
     "text": [
      "--------------\n",
      "torch.Size([421, 8, 80])\n",
      "tensor([0., 0., 0., 0., 0., 0., 0., 0.], device='cuda:0')\n",
      "--------------\n",
      "torch.Size([346, 8, 80])\n",
      "tensor([0., 0., 0., 0., 0., 0., 0., 0.], device='cuda:0')\n"
     ]
    },
    {
     "name": "stderr",
     "output_type": "stream",
     "text": [
      "\r",
      " 89%|███████████████████████████████▏   | 108/121 [00:16<00:01,  6.70it/s]"
     ]
    },
    {
     "name": "stdout",
     "output_type": "stream",
     "text": [
      "--------------\n",
      "torch.Size([286, 8, 80])\n",
      "tensor([0., 0., 0., 0., 0., 0., 0., 0.], device='cuda:0')\n",
      "--------------\n",
      "torch.Size([466, 8, 80])\n",
      "tensor([0., 0., 0., 0., 0., 0., 0., 0.], device='cuda:0')\n"
     ]
    },
    {
     "name": "stderr",
     "output_type": "stream",
     "text": [
      " 92%|████████████████████████████████   | 111/121 [00:16<00:01,  6.40it/s]"
     ]
    },
    {
     "name": "stdout",
     "output_type": "stream",
     "text": [
      "--------------\n",
      "torch.Size([376, 8, 80])\n",
      "tensor([0., 0., 0., 0., 0., 0., 0., 0.], device='cuda:0')\n",
      "--------------\n",
      "torch.Size([316, 8, 80])\n",
      "tensor([0., 0., 0., 0., 0., 0., 0., 0.], device='cuda:0')\n"
     ]
    },
    {
     "name": "stderr",
     "output_type": "stream",
     "text": [
      " 93%|████████████████████████████████▋  | 113/121 [00:17<00:01,  6.57it/s]"
     ]
    },
    {
     "name": "stdout",
     "output_type": "stream",
     "text": [
      "--------------\n",
      "torch.Size([331, 8, 80])\n",
      "tensor([0., 0., 0., 0., 0., 0., 0., 0.], device='cuda:0')\n",
      "--------------\n",
      "torch.Size([346, 8, 80])\n",
      "tensor([0., 0., 0., 0., 0., 0., 0., 0.], device='cuda:0')\n"
     ]
    },
    {
     "name": "stderr",
     "output_type": "stream",
     "text": [
      " 95%|█████████████████████████████████▎ | 115/121 [00:17<00:00,  6.66it/s]"
     ]
    },
    {
     "name": "stdout",
     "output_type": "stream",
     "text": [
      "--------------\n",
      "torch.Size([391, 8, 80])\n",
      "tensor([0., 0., 0., 0., 0., 0., 0., 0.], device='cuda:0')\n",
      "--------------\n",
      "torch.Size([301, 8, 80])\n",
      "tensor([0., 0., 0., 0., 0., 0., 0., 0.], device='cuda:0')\n"
     ]
    },
    {
     "name": "stderr",
     "output_type": "stream",
     "text": [
      " 97%|█████████████████████████████████▊ | 117/121 [00:17<00:00,  7.24it/s]"
     ]
    },
    {
     "name": "stdout",
     "output_type": "stream",
     "text": [
      "--------------\n",
      "torch.Size([271, 8, 80])\n",
      "tensor([0., 0., 0., 0., 0., 0., 0., 0.], device='cuda:0')\n",
      "--------------\n",
      "torch.Size([286, 8, 80])\n",
      "tensor([0., 0., 0., 0., 0., 0., 0., 0.], device='cuda:0')\n"
     ]
    },
    {
     "name": "stderr",
     "output_type": "stream",
     "text": [
      " 98%|██████████████████████████████████▍| 119/121 [00:18<00:00,  7.13it/s]"
     ]
    },
    {
     "name": "stdout",
     "output_type": "stream",
     "text": [
      "--------------\n",
      "torch.Size([346, 8, 80])\n",
      "tensor([0., 0., 0., 0., 0., 0., 0., 0.], device='cuda:0')\n",
      "--------------\n",
      "torch.Size([301, 8, 80])\n",
      "tensor([0., 0., 0., 0., 0., 0., 0., 0.], device='cuda:0')\n"
     ]
    },
    {
     "name": "stderr",
     "output_type": "stream",
     "text": [
      "100%|███████████████████████████████████| 121/121 [00:18<00:00,  6.62it/s]"
     ]
    },
    {
     "name": "stdout",
     "output_type": "stream",
     "text": [
      "--------------\n",
      "torch.Size([271, 8, 80])\n",
      "tensor([0., 0., 0., 0., 0., 0., 0., 0.], device='cuda:0')\n",
      "--------------\n",
      "torch.Size([301, 6, 80])\n",
      "tensor([0., 0., 0., 0., 0., 0.], device='cuda:0')\n",
      "Test CER 0.10816769329557117\n",
      "Test WER 0.36046294598217077\n",
      "Test CTC 151.15796454451345\n",
      "Saving Best\n"
     ]
    },
    {
     "name": "stderr",
     "output_type": "stream",
     "text": [
      "\n"
     ]
    },
    {
     "name": "stdout",
     "output_type": "stream",
     "text": [
      "Train Set Size = 771\n"
     ]
    },
    {
     "name": "stderr",
     "output_type": "stream",
     "text": [
      "CER: 0.059759574277600494 CTC: 1152.815185546875 Ground Truth: |magnificen\n"
     ]
    },
    {
     "name": "stdout",
     "output_type": "stream",
     "text": [
      "Epoch: 13 Training CER 0.05974987462262929\n",
      "Training WER: 0.22960979912329835\n",
      "Time: 280.04212641716003 Seconds\n",
      "Validation Set Size = 121\n"
     ]
    },
    {
     "name": "stderr",
     "output_type": "stream",
     "text": [
      "  1%|▎                                    | 1/121 [00:00<00:19,  6.26it/s]"
     ]
    },
    {
     "name": "stdout",
     "output_type": "stream",
     "text": [
      "--------------\n",
      "torch.Size([361, 8, 80])\n",
      "tensor([0., 0., 0., 0., 0., 0., 0., 0.], device='cuda:0')\n"
     ]
    },
    {
     "name": "stderr",
     "output_type": "stream",
     "text": [
      "\r",
      "  2%|▌                                    | 2/121 [00:00<00:18,  6.55it/s]"
     ]
    },
    {
     "name": "stdout",
     "output_type": "stream",
     "text": [
      "--------------\n",
      "torch.Size([346, 8, 80])\n",
      "tensor([0., 0., 0., 0., 0., 0., 0., 0.], device='cuda:0')\n"
     ]
    },
    {
     "name": "stderr",
     "output_type": "stream",
     "text": [
      "\r",
      "  2%|▉                                    | 3/121 [00:00<00:18,  6.28it/s]"
     ]
    },
    {
     "name": "stdout",
     "output_type": "stream",
     "text": [
      "--------------\n",
      "torch.Size([391, 8, 80])\n",
      "tensor([0., 0., 0., 0., 0., 0., 0., 0.], device='cuda:0')\n"
     ]
    },
    {
     "name": "stderr",
     "output_type": "stream",
     "text": [
      "\r",
      "  3%|█▏                                   | 4/121 [00:00<00:17,  6.83it/s]"
     ]
    },
    {
     "name": "stdout",
     "output_type": "stream",
     "text": [
      "--------------\n",
      "torch.Size([286, 8, 80])\n",
      "tensor([0., 0., 0., 0., 0., 0., 0., 0.], device='cuda:0')\n"
     ]
    },
    {
     "name": "stderr",
     "output_type": "stream",
     "text": [
      "\r",
      "  4%|█▌                                   | 5/121 [00:00<00:17,  6.73it/s]"
     ]
    },
    {
     "name": "stdout",
     "output_type": "stream",
     "text": [
      "--------------\n",
      "torch.Size([361, 8, 80])\n",
      "tensor([0., 0., 0., 0., 0., 0., 0., 0.], device='cuda:0')\n"
     ]
    },
    {
     "name": "stderr",
     "output_type": "stream",
     "text": [
      "\r",
      "  5%|█▊                                   | 6/121 [00:00<00:16,  7.00it/s]"
     ]
    },
    {
     "name": "stdout",
     "output_type": "stream",
     "text": [
      "--------------\n",
      "torch.Size([301, 8, 80])\n",
      "tensor([0., 0., 0., 0., 0., 0., 0., 0.], device='cuda:0')\n"
     ]
    },
    {
     "name": "stderr",
     "output_type": "stream",
     "text": [
      "\r",
      "  6%|██▏                                  | 7/121 [00:01<00:16,  7.08it/s]"
     ]
    },
    {
     "name": "stdout",
     "output_type": "stream",
     "text": [
      "--------------\n",
      "torch.Size([316, 8, 80])\n",
      "tensor([0., 0., 0., 0., 0., 0., 0., 0.], device='cuda:0')\n"
     ]
    },
    {
     "name": "stderr",
     "output_type": "stream",
     "text": [
      "\r",
      "  7%|██▍                                  | 8/121 [00:01<00:15,  7.24it/s]"
     ]
    },
    {
     "name": "stdout",
     "output_type": "stream",
     "text": [
      "--------------\n",
      "torch.Size([301, 8, 80])\n",
      "tensor([0., 0., 0., 0., 0., 0., 0., 0.], device='cuda:0')\n"
     ]
    },
    {
     "name": "stderr",
     "output_type": "stream",
     "text": [
      "\r",
      "  7%|██▊                                  | 9/121 [00:01<00:15,  7.08it/s]"
     ]
    },
    {
     "name": "stdout",
     "output_type": "stream",
     "text": [
      "--------------\n",
      "torch.Size([346, 8, 80])\n",
      "tensor([0., 0., 0., 0., 0., 0., 0., 0.], device='cuda:0')\n"
     ]
    },
    {
     "name": "stderr",
     "output_type": "stream",
     "text": [
      "\r",
      "  8%|██▉                                 | 10/121 [00:01<00:16,  6.68it/s]"
     ]
    },
    {
     "name": "stdout",
     "output_type": "stream",
     "text": [
      "--------------\n",
      "torch.Size([391, 8, 80])\n",
      "tensor([0., 0., 0., 0., 0., 0., 0., 0.], device='cuda:0')\n"
     ]
    },
    {
     "name": "stderr",
     "output_type": "stream",
     "text": [
      "\r",
      "  9%|███▎                                | 11/121 [00:01<00:17,  6.21it/s]"
     ]
    },
    {
     "name": "stdout",
     "output_type": "stream",
     "text": [
      "--------------\n",
      "torch.Size([451, 8, 80])\n",
      "tensor([0., 0., 0., 0., 0., 0., 0., 0.], device='cuda:0')\n"
     ]
    },
    {
     "name": "stderr",
     "output_type": "stream",
     "text": [
      "\r",
      " 10%|███▌                                | 12/121 [00:01<00:18,  6.04it/s]"
     ]
    },
    {
     "name": "stdout",
     "output_type": "stream",
     "text": [
      "--------------\n",
      "torch.Size([421, 8, 80])\n",
      "tensor([0., 0., 0., 0., 0., 0., 0., 0.], device='cuda:0')\n"
     ]
    },
    {
     "name": "stderr",
     "output_type": "stream",
     "text": [
      "\r",
      " 11%|███▊                                | 13/121 [00:02<00:17,  6.01it/s]"
     ]
    },
    {
     "name": "stdout",
     "output_type": "stream",
     "text": [
      "--------------\n",
      "torch.Size([391, 8, 80])\n",
      "tensor([0., 0., 0., 0., 0., 0., 0., 0.], device='cuda:0')\n"
     ]
    },
    {
     "name": "stderr",
     "output_type": "stream",
     "text": [
      "\r",
      " 12%|████▏                               | 14/121 [00:02<00:16,  6.47it/s]"
     ]
    },
    {
     "name": "stdout",
     "output_type": "stream",
     "text": [
      "--------------\n",
      "torch.Size([286, 8, 80])\n",
      "tensor([0., 0., 0., 0., 0., 0., 0., 0.], device='cuda:0')\n"
     ]
    },
    {
     "name": "stderr",
     "output_type": "stream",
     "text": [
      "\r",
      " 12%|████▍                               | 15/121 [00:02<00:16,  6.55it/s]"
     ]
    },
    {
     "name": "stdout",
     "output_type": "stream",
     "text": [
      "--------------\n",
      "torch.Size([346, 8, 80])\n",
      "tensor([0., 0., 0., 0., 0., 0., 0., 0.], device='cuda:0')\n"
     ]
    },
    {
     "name": "stderr",
     "output_type": "stream",
     "text": [
      "\r",
      " 13%|████▊                               | 16/121 [00:02<00:15,  6.74it/s]"
     ]
    },
    {
     "name": "stdout",
     "output_type": "stream",
     "text": [
      "--------------\n",
      "torch.Size([316, 8, 80])\n",
      "tensor([0., 0., 0., 0., 0., 0., 0., 0.], device='cuda:0')\n",
      "--------------\n",
      "torch.Size([481, 8, 80])\n",
      "tensor([0., 0., 0., 0., 0., 0., 0., 0.], device='cuda:0')\n"
     ]
    },
    {
     "name": "stderr",
     "output_type": "stream",
     "text": [
      " 15%|█████▎                              | 18/121 [00:02<00:15,  6.49it/s]"
     ]
    },
    {
     "name": "stdout",
     "output_type": "stream",
     "text": [
      "--------------\n",
      "torch.Size([301, 8, 80])\n",
      "tensor([0., 0., 0., 0., 0., 0., 0., 0.], device='cuda:0')\n"
     ]
    },
    {
     "name": "stderr",
     "output_type": "stream",
     "text": [
      "\r",
      " 16%|█████▋                              | 19/121 [00:02<00:15,  6.43it/s]"
     ]
    },
    {
     "name": "stdout",
     "output_type": "stream",
     "text": [
      "--------------\n",
      "torch.Size([361, 8, 80])\n",
      "tensor([0., 0., 0., 0., 0., 0., 0., 0.], device='cuda:0')\n"
     ]
    },
    {
     "name": "stderr",
     "output_type": "stream",
     "text": [
      " 17%|██████▏                             | 21/121 [00:03<00:20,  4.93it/s]"
     ]
    },
    {
     "name": "stdout",
     "output_type": "stream",
     "text": [
      "--------------\n",
      "torch.Size([391, 8, 80])\n",
      "tensor([0., 0., 0., 0., 0., 0., 0., 0.], device='cuda:0')\n",
      "--------------\n",
      "torch.Size([316, 8, 80])\n",
      "tensor([0., 0., 0., 0., 0., 0., 0., 0.], device='cuda:0')\n"
     ]
    },
    {
     "name": "stderr",
     "output_type": "stream",
     "text": [
      " 19%|██████▊                             | 23/121 [00:03<00:16,  6.03it/s]"
     ]
    },
    {
     "name": "stdout",
     "output_type": "stream",
     "text": [
      "--------------\n",
      "torch.Size([271, 8, 80])\n",
      "tensor([0., 0., 0., 0., 0., 0., 0., 0.], device='cuda:0')\n",
      "--------------\n",
      "torch.Size([316, 8, 80])\n",
      "tensor([0., 0., 0., 0., 0., 0., 0., 0.], device='cuda:0')\n"
     ]
    },
    {
     "name": "stderr",
     "output_type": "stream",
     "text": [
      " 21%|███████▍                            | 25/121 [00:04<00:16,  5.83it/s]"
     ]
    },
    {
     "name": "stdout",
     "output_type": "stream",
     "text": [
      "--------------\n",
      "torch.Size([466, 8, 80])\n",
      "tensor([0., 0., 0., 0., 0., 0., 0., 0.], device='cuda:0')\n",
      "--------------\n",
      "torch.Size([391, 8, 80])\n",
      "tensor([0., 0., 0., 0., 0., 0., 0., 0.], device='cuda:0')\n"
     ]
    },
    {
     "name": "stderr",
     "output_type": "stream",
     "text": [
      " 22%|████████                            | 27/121 [00:04<00:14,  6.41it/s]"
     ]
    },
    {
     "name": "stdout",
     "output_type": "stream",
     "text": [
      "--------------\n",
      "torch.Size([361, 8, 80])\n",
      "tensor([0., 0., 0., 0., 0., 0., 0., 0.], device='cuda:0')\n",
      "--------------\n",
      "torch.Size([286, 8, 80])\n",
      "tensor([0., 0., 0., 0., 0., 0., 0., 0.], device='cuda:0')\n"
     ]
    },
    {
     "name": "stderr",
     "output_type": "stream",
     "text": [
      " 24%|████████▋                           | 29/121 [00:04<00:13,  6.67it/s]"
     ]
    },
    {
     "name": "stdout",
     "output_type": "stream",
     "text": [
      "--------------\n",
      "torch.Size([316, 8, 80])\n",
      "tensor([0., 0., 0., 0., 0., 0., 0., 0.], device='cuda:0')\n",
      "--------------\n",
      "torch.Size([331, 8, 80])\n",
      "tensor([0., 0., 0., 0., 0., 0., 0., 0.], device='cuda:0')\n"
     ]
    },
    {
     "name": "stderr",
     "output_type": "stream",
     "text": [
      " 26%|█████████▏                          | 31/121 [00:04<00:13,  6.56it/s]"
     ]
    },
    {
     "name": "stdout",
     "output_type": "stream",
     "text": [
      "--------------\n",
      "torch.Size([406, 8, 80])\n",
      "tensor([0., 0., 0., 0., 0., 0., 0., 0.], device='cuda:0')\n",
      "--------------\n",
      "torch.Size([331, 8, 80])\n",
      "tensor([0., 0., 0., 0., 0., 0., 0., 0.], device='cuda:0')\n"
     ]
    },
    {
     "name": "stderr",
     "output_type": "stream",
     "text": [
      " 27%|█████████▊                          | 33/121 [00:05<00:12,  7.16it/s]"
     ]
    },
    {
     "name": "stdout",
     "output_type": "stream",
     "text": [
      "--------------\n",
      "torch.Size([286, 8, 80])\n",
      "tensor([0., 0., 0., 0., 0., 0., 0., 0.], device='cuda:0')\n",
      "--------------\n",
      "torch.Size([301, 8, 80])\n",
      "tensor([0., 0., 0., 0., 0., 0., 0., 0.], device='cuda:0')\n"
     ]
    },
    {
     "name": "stderr",
     "output_type": "stream",
     "text": [
      " 29%|██████████▍                         | 35/121 [00:05<00:11,  7.22it/s]"
     ]
    },
    {
     "name": "stdout",
     "output_type": "stream",
     "text": [
      "--------------\n",
      "torch.Size([376, 8, 80])\n",
      "tensor([0., 0., 0., 0., 0., 0., 0., 0.], device='cuda:0')\n",
      "--------------\n",
      "torch.Size([271, 8, 80])\n",
      "tensor([0., 0., 0., 0., 0., 0., 0., 0.], device='cuda:0')\n"
     ]
    },
    {
     "name": "stderr",
     "output_type": "stream",
     "text": [
      " 31%|███████████                         | 37/121 [00:05<00:11,  7.35it/s]"
     ]
    },
    {
     "name": "stdout",
     "output_type": "stream",
     "text": [
      "--------------\n",
      "torch.Size([331, 8, 80])\n",
      "tensor([0., 0., 0., 0., 0., 0., 0., 0.], device='cuda:0')\n",
      "--------------\n",
      "torch.Size([286, 8, 80])\n",
      "tensor([0., 0., 0., 0., 0., 0., 0., 0.], device='cuda:0')\n"
     ]
    },
    {
     "name": "stderr",
     "output_type": "stream",
     "text": [
      " 32%|███████████▌                        | 39/121 [00:06<00:11,  7.00it/s]"
     ]
    },
    {
     "name": "stdout",
     "output_type": "stream",
     "text": [
      "--------------\n",
      "torch.Size([361, 8, 80])\n",
      "tensor([0., 0., 0., 0., 0., 0., 0., 0.], device='cuda:0')\n",
      "--------------\n",
      "torch.Size([346, 8, 80])\n",
      "tensor([0., 0., 0., 0., 0., 0., 0., 0.], device='cuda:0')\n"
     ]
    },
    {
     "name": "stderr",
     "output_type": "stream",
     "text": [
      " 34%|████████████▏                       | 41/121 [00:06<00:11,  7.07it/s]"
     ]
    },
    {
     "name": "stdout",
     "output_type": "stream",
     "text": [
      "--------------\n",
      "torch.Size([301, 8, 80])\n",
      "tensor([0., 0., 0., 0., 0., 0., 0., 0.], device='cuda:0')\n",
      "--------------\n",
      "torch.Size([346, 8, 80])\n",
      "tensor([0., 0., 0., 0., 0., 0., 0., 0.], device='cuda:0')\n"
     ]
    },
    {
     "name": "stderr",
     "output_type": "stream",
     "text": [
      " 36%|████████████▊                       | 43/121 [00:06<00:11,  6.63it/s]"
     ]
    },
    {
     "name": "stdout",
     "output_type": "stream",
     "text": [
      "--------------\n",
      "torch.Size([376, 8, 80])\n",
      "tensor([0., 0., 0., 0., 0., 0., 0., 0.], device='cuda:0')\n",
      "--------------\n",
      "torch.Size([376, 8, 80])\n",
      "tensor([0., 0., 0., 0., 0., 0., 0., 0.], device='cuda:0')\n"
     ]
    },
    {
     "name": "stderr",
     "output_type": "stream",
     "text": [
      " 37%|█████████████▍                      | 45/121 [00:06<00:11,  6.66it/s]"
     ]
    },
    {
     "name": "stdout",
     "output_type": "stream",
     "text": [
      "--------------\n",
      "torch.Size([316, 8, 80])\n",
      "tensor([0., 0., 0., 0., 0., 0., 0., 0.], device='cuda:0')\n",
      "--------------\n",
      "torch.Size([376, 8, 80])\n",
      "tensor([0., 0., 0., 0., 0., 0., 0., 0.], device='cuda:0')\n"
     ]
    },
    {
     "name": "stderr",
     "output_type": "stream",
     "text": [
      " 39%|█████████████▉                      | 47/121 [00:07<00:10,  6.90it/s]"
     ]
    },
    {
     "name": "stdout",
     "output_type": "stream",
     "text": [
      "--------------\n",
      "torch.Size([376, 8, 80])\n",
      "tensor([0., 0., 0., 0., 0., 0., 0., 0.], device='cuda:0')\n",
      "--------------\n",
      "torch.Size([286, 8, 80])\n",
      "tensor([0., 0., 0., 0., 0., 0., 0., 0.], device='cuda:0')\n"
     ]
    },
    {
     "name": "stderr",
     "output_type": "stream",
     "text": [
      " 40%|██████████████▌                     | 49/121 [00:07<00:10,  6.89it/s]"
     ]
    },
    {
     "name": "stdout",
     "output_type": "stream",
     "text": [
      "--------------\n",
      "torch.Size([376, 8, 80])\n",
      "tensor([0., 0., 0., 0., 0., 0., 0., 0.], device='cuda:0')\n",
      "--------------\n",
      "torch.Size([316, 8, 80])\n",
      "tensor([0., 0., 0., 0., 0., 0., 0., 0.], device='cuda:0')\n"
     ]
    },
    {
     "name": "stderr",
     "output_type": "stream",
     "text": [
      " 42%|███████████████▏                    | 51/121 [00:07<00:10,  6.85it/s]"
     ]
    },
    {
     "name": "stdout",
     "output_type": "stream",
     "text": [
      "--------------\n",
      "torch.Size([346, 8, 80])\n",
      "tensor([0., 0., 0., 0., 0., 0., 0., 0.], device='cuda:0')\n",
      "--------------\n",
      "torch.Size([346, 8, 80])\n",
      "tensor([0., 0., 0., 0., 0., 0., 0., 0.], device='cuda:0')\n"
     ]
    },
    {
     "name": "stderr",
     "output_type": "stream",
     "text": [
      " 44%|███████████████▊                    | 53/121 [00:08<00:09,  7.38it/s]"
     ]
    },
    {
     "name": "stdout",
     "output_type": "stream",
     "text": [
      "--------------\n",
      "torch.Size([256, 8, 80])\n",
      "tensor([0., 0., 0., 0., 0., 0., 0., 0.], device='cuda:0')\n",
      "--------------\n",
      "torch.Size([301, 8, 80])\n",
      "tensor([0., 0., 0., 0., 0., 0., 0., 0.], device='cuda:0')\n"
     ]
    },
    {
     "name": "stderr",
     "output_type": "stream",
     "text": [
      " 45%|████████████████▎                   | 55/121 [00:08<00:10,  6.43it/s]"
     ]
    },
    {
     "name": "stdout",
     "output_type": "stream",
     "text": [
      "--------------\n",
      "torch.Size([391, 8, 80])\n",
      "tensor([0., 0., 0., 0., 0., 0., 0., 0.], device='cuda:0')\n",
      "--------------\n",
      "torch.Size([421, 8, 80])\n",
      "tensor([0., 0., 0., 0., 0., 0., 0., 0.], device='cuda:0')\n"
     ]
    },
    {
     "name": "stderr",
     "output_type": "stream",
     "text": [
      " 47%|████████████████▉                   | 57/121 [00:08<00:09,  6.65it/s]"
     ]
    },
    {
     "name": "stdout",
     "output_type": "stream",
     "text": [
      "--------------\n",
      "torch.Size([361, 8, 80])\n",
      "tensor([0., 0., 0., 0., 0., 0., 0., 0.], device='cuda:0')\n",
      "--------------\n",
      "torch.Size([316, 8, 80])\n",
      "tensor([0., 0., 0., 0., 0., 0., 0., 0.], device='cuda:0')\n"
     ]
    },
    {
     "name": "stderr",
     "output_type": "stream",
     "text": [
      " 49%|█████████████████▌                  | 59/121 [00:08<00:08,  6.93it/s]"
     ]
    },
    {
     "name": "stdout",
     "output_type": "stream",
     "text": [
      "--------------\n",
      "torch.Size([316, 8, 80])\n",
      "tensor([0., 0., 0., 0., 0., 0., 0., 0.], device='cuda:0')\n",
      "--------------\n",
      "torch.Size([316, 8, 80])\n",
      "tensor([0., 0., 0., 0., 0., 0., 0., 0.], device='cuda:0')\n"
     ]
    },
    {
     "name": "stderr",
     "output_type": "stream",
     "text": [
      " 50%|██████████████████▏                 | 61/121 [00:09<00:09,  6.41it/s]"
     ]
    },
    {
     "name": "stdout",
     "output_type": "stream",
     "text": [
      "--------------\n",
      "torch.Size([421, 8, 80])\n",
      "tensor([0., 0., 0., 0., 0., 0., 0., 0.], device='cuda:0')\n",
      "--------------\n",
      "torch.Size([376, 8, 80])\n",
      "tensor([0., 0., 0., 0., 0., 0., 0., 0.], device='cuda:0')\n"
     ]
    },
    {
     "name": "stderr",
     "output_type": "stream",
     "text": [
      " 52%|██████████████████▋                 | 63/121 [00:09<00:08,  6.75it/s]"
     ]
    },
    {
     "name": "stdout",
     "output_type": "stream",
     "text": [
      "--------------\n",
      "torch.Size([331, 8, 80])\n",
      "tensor([0., 0., 0., 0., 0., 0., 0., 0.], device='cuda:0')\n",
      "--------------\n",
      "torch.Size([316, 8, 80])\n",
      "tensor([0., 0., 0., 0., 0., 0., 0., 0.], device='cuda:0')\n"
     ]
    },
    {
     "name": "stderr",
     "output_type": "stream",
     "text": [
      " 54%|███████████████████▎                | 65/121 [00:09<00:08,  6.68it/s]"
     ]
    },
    {
     "name": "stdout",
     "output_type": "stream",
     "text": [
      "--------------\n",
      "torch.Size([331, 8, 80])\n",
      "tensor([0., 0., 0., 0., 0., 0., 0., 0.], device='cuda:0')\n",
      "--------------\n",
      "torch.Size([376, 8, 80])\n",
      "tensor([0., 0., 0., 0., 0., 0., 0., 0.], device='cuda:0')\n"
     ]
    },
    {
     "name": "stderr",
     "output_type": "stream",
     "text": [
      " 55%|███████████████████▉                | 67/121 [00:10<00:09,  5.87it/s]"
     ]
    },
    {
     "name": "stdout",
     "output_type": "stream",
     "text": [
      "--------------\n",
      "torch.Size([496, 8, 80])\n",
      "tensor([0., 0., 0., 0., 0., 0., 0., 0.], device='cuda:0')\n",
      "--------------\n",
      "torch.Size([421, 8, 80])\n",
      "tensor([0., 0., 0., 0., 0., 0., 0., 0.], device='cuda:0')\n"
     ]
    },
    {
     "name": "stderr",
     "output_type": "stream",
     "text": [
      " 57%|████████████████████▌               | 69/121 [00:10<00:08,  6.26it/s]"
     ]
    },
    {
     "name": "stdout",
     "output_type": "stream",
     "text": [
      "--------------\n",
      "torch.Size([346, 8, 80])\n",
      "tensor([0., 0., 0., 0., 0., 0., 0., 0.], device='cuda:0')\n",
      "--------------\n",
      "torch.Size([346, 8, 80])\n",
      "tensor([0., 0., 0., 0., 0., 0., 0., 0.], device='cuda:0')\n"
     ]
    },
    {
     "name": "stderr",
     "output_type": "stream",
     "text": [
      " 59%|█████████████████████               | 71/121 [00:10<00:07,  6.51it/s]"
     ]
    },
    {
     "name": "stdout",
     "output_type": "stream",
     "text": [
      "--------------\n",
      "torch.Size([376, 8, 80])\n",
      "tensor([0., 0., 0., 0., 0., 0., 0., 0.], device='cuda:0')\n",
      "--------------\n",
      "torch.Size([316, 8, 80])\n",
      "tensor([0., 0., 0., 0., 0., 0., 0., 0.], device='cuda:0')\n"
     ]
    },
    {
     "name": "stderr",
     "output_type": "stream",
     "text": [
      " 60%|█████████████████████▋              | 73/121 [00:11<00:07,  6.85it/s]"
     ]
    },
    {
     "name": "stdout",
     "output_type": "stream",
     "text": [
      "--------------\n",
      "torch.Size([286, 8, 80])\n",
      "tensor([0., 0., 0., 0., 0., 0., 0., 0.], device='cuda:0')\n",
      "--------------\n",
      "torch.Size([331, 8, 80])\n",
      "tensor([0., 0., 0., 0., 0., 0., 0., 0.], device='cuda:0')\n"
     ]
    },
    {
     "name": "stderr",
     "output_type": "stream",
     "text": [
      " 62%|██████████████████████▎             | 75/121 [00:11<00:06,  6.68it/s]"
     ]
    },
    {
     "name": "stdout",
     "output_type": "stream",
     "text": [
      "--------------\n",
      "torch.Size([346, 8, 80])\n",
      "tensor([0., 0., 0., 0., 0., 0., 0., 0.], device='cuda:0')\n",
      "--------------\n",
      "torch.Size([361, 8, 80])\n",
      "tensor([0., 0., 0., 0., 0., 0., 0., 0.], device='cuda:0')\n"
     ]
    },
    {
     "name": "stderr",
     "output_type": "stream",
     "text": [
      " 64%|██████████████████████▉             | 77/121 [00:11<00:06,  6.98it/s]"
     ]
    },
    {
     "name": "stdout",
     "output_type": "stream",
     "text": [
      "--------------\n",
      "torch.Size([346, 8, 80])\n",
      "tensor([0., 0., 0., 0., 0., 0., 0., 0.], device='cuda:0')\n",
      "--------------\n",
      "torch.Size([301, 8, 80])\n",
      "tensor([0., 0., 0., 0., 0., 0., 0., 0.], device='cuda:0')\n"
     ]
    },
    {
     "name": "stderr",
     "output_type": "stream",
     "text": [
      "\r",
      " 64%|███████████████████████▏            | 78/121 [00:11<00:06,  6.89it/s]"
     ]
    },
    {
     "name": "stdout",
     "output_type": "stream",
     "text": [
      "--------------\n",
      "torch.Size([346, 8, 80])\n",
      "tensor([0., 0., 0., 0., 0., 0., 0., 0.], device='cuda:0')\n",
      "--------------\n",
      "torch.Size([451, 8, 80])\n",
      "tensor([0., 0., 0., 0., 0., 0., 0., 0.], device='cuda:0')\n"
     ]
    },
    {
     "name": "stderr",
     "output_type": "stream",
     "text": [
      " 67%|████████████████████████            | 81/121 [00:12<00:05,  6.88it/s]"
     ]
    },
    {
     "name": "stdout",
     "output_type": "stream",
     "text": [
      "--------------\n",
      "torch.Size([271, 8, 80])\n",
      "tensor([0., 0., 0., 0., 0., 0., 0., 0.], device='cuda:0')\n",
      "--------------\n",
      "torch.Size([316, 8, 80])\n",
      "tensor([0., 0., 0., 0., 0., 0., 0., 0.], device='cuda:0')\n"
     ]
    },
    {
     "name": "stderr",
     "output_type": "stream",
     "text": [
      " 69%|████████████████████████▋           | 83/121 [00:12<00:06,  5.94it/s]"
     ]
    },
    {
     "name": "stdout",
     "output_type": "stream",
     "text": [
      "--------------\n",
      "torch.Size([496, 8, 80])\n",
      "tensor([0., 0., 0., 0., 0., 0., 0., 0.], device='cuda:0')\n",
      "--------------\n",
      "torch.Size([421, 8, 80])\n",
      "tensor([0., 0., 0., 0., 0., 0., 0., 0.], device='cuda:0')\n"
     ]
    },
    {
     "name": "stderr",
     "output_type": "stream",
     "text": [
      " 70%|█████████████████████████▎          | 85/121 [00:13<00:05,  6.47it/s]"
     ]
    },
    {
     "name": "stdout",
     "output_type": "stream",
     "text": [
      "--------------\n",
      "torch.Size([391, 8, 80])\n",
      "tensor([0., 0., 0., 0., 0., 0., 0., 0.], device='cuda:0')\n",
      "--------------\n",
      "torch.Size([271, 8, 80])\n",
      "tensor([0., 0., 0., 0., 0., 0., 0., 0.], device='cuda:0')\n"
     ]
    },
    {
     "name": "stderr",
     "output_type": "stream",
     "text": [
      " 72%|█████████████████████████▉          | 87/121 [00:13<00:05,  6.04it/s]"
     ]
    },
    {
     "name": "stdout",
     "output_type": "stream",
     "text": [
      "--------------\n",
      "torch.Size([361, 8, 80])\n",
      "tensor([0., 0., 0., 0., 0., 0., 0., 0.], device='cuda:0')\n",
      "--------------\n",
      "torch.Size([451, 8, 80])\n",
      "tensor([0., 0., 0., 0., 0., 0., 0., 0.], device='cuda:0')\n"
     ]
    },
    {
     "name": "stderr",
     "output_type": "stream",
     "text": [
      " 74%|██████████████████████████▍         | 89/121 [00:13<00:04,  6.46it/s]"
     ]
    },
    {
     "name": "stdout",
     "output_type": "stream",
     "text": [
      "--------------\n",
      "torch.Size([301, 8, 80])\n",
      "tensor([0., 0., 0., 0., 0., 0., 0., 0.], device='cuda:0')\n",
      "--------------\n",
      "torch.Size([346, 8, 80])\n",
      "tensor([0., 0., 0., 0., 0., 0., 0., 0.], device='cuda:0')\n"
     ]
    },
    {
     "name": "stderr",
     "output_type": "stream",
     "text": [
      " 75%|███████████████████████████         | 91/121 [00:13<00:04,  6.33it/s]"
     ]
    },
    {
     "name": "stdout",
     "output_type": "stream",
     "text": [
      "--------------\n",
      "torch.Size([421, 8, 80])\n",
      "tensor([0., 0., 0., 0., 0., 0., 0., 0.], device='cuda:0')\n",
      "--------------\n",
      "torch.Size([331, 8, 80])\n",
      "tensor([0., 0., 0., 0., 0., 0., 0., 0.], device='cuda:0')\n"
     ]
    },
    {
     "name": "stderr",
     "output_type": "stream",
     "text": [
      " 77%|███████████████████████████▋        | 93/121 [00:14<00:04,  6.78it/s]"
     ]
    },
    {
     "name": "stdout",
     "output_type": "stream",
     "text": [
      "--------------\n",
      "torch.Size([271, 8, 80])\n",
      "tensor([0., 0., 0., 0., 0., 0., 0., 0.], device='cuda:0')\n",
      "--------------\n",
      "torch.Size([346, 8, 80])\n",
      "tensor([0., 0., 0., 0., 0., 0., 0., 0.], device='cuda:0')\n"
     ]
    },
    {
     "name": "stderr",
     "output_type": "stream",
     "text": [
      " 79%|████████████████████████████▎       | 95/121 [00:14<00:03,  6.71it/s]"
     ]
    },
    {
     "name": "stdout",
     "output_type": "stream",
     "text": [
      "--------------\n",
      "torch.Size([406, 8, 80])\n",
      "tensor([0., 0., 0., 0., 0., 0., 0., 0.], device='cuda:0')\n",
      "--------------\n",
      "torch.Size([301, 8, 80])\n",
      "tensor([0., 0., 0., 0., 0., 0., 0., 0.], device='cuda:0')\n"
     ]
    },
    {
     "name": "stderr",
     "output_type": "stream",
     "text": [
      " 80%|████████████████████████████▊       | 97/121 [00:14<00:03,  6.77it/s]"
     ]
    },
    {
     "name": "stdout",
     "output_type": "stream",
     "text": [
      "--------------\n",
      "torch.Size([391, 8, 80])\n",
      "tensor([0., 0., 0., 0., 0., 0., 0., 0.], device='cuda:0')\n",
      "--------------\n",
      "torch.Size([301, 8, 80])\n",
      "tensor([0., 0., 0., 0., 0., 0., 0., 0.], device='cuda:0')\n"
     ]
    },
    {
     "name": "stderr",
     "output_type": "stream",
     "text": [
      " 82%|█████████████████████████████▍      | 99/121 [00:15<00:03,  6.11it/s]"
     ]
    },
    {
     "name": "stdout",
     "output_type": "stream",
     "text": [
      "--------------\n",
      "torch.Size([451, 8, 80])\n",
      "tensor([0., 0., 0., 0., 0., 0., 0., 0.], device='cuda:0')\n",
      "--------------\n",
      "torch.Size([391, 8, 80])\n",
      "tensor([0., 0., 0., 0., 0., 0., 0., 0.], device='cuda:0')\n"
     ]
    },
    {
     "name": "stderr",
     "output_type": "stream",
     "text": [
      " 83%|█████████████████████████████▏     | 101/121 [00:15<00:02,  6.83it/s]"
     ]
    },
    {
     "name": "stdout",
     "output_type": "stream",
     "text": [
      "--------------\n",
      "torch.Size([346, 8, 80])\n",
      "tensor([0., 0., 0., 0., 0., 0., 0., 0.], device='cuda:0')\n",
      "--------------\n",
      "torch.Size([256, 8, 80])\n",
      "tensor([0., 0., 0., 0., 0., 0., 0., 0.], device='cuda:0')\n"
     ]
    },
    {
     "name": "stderr",
     "output_type": "stream",
     "text": [
      " 85%|█████████████████████████████▊     | 103/121 [00:15<00:02,  6.49it/s]"
     ]
    },
    {
     "name": "stdout",
     "output_type": "stream",
     "text": [
      "--------------\n",
      "torch.Size([286, 8, 80])\n",
      "tensor([0., 0., 0., 0., 0., 0., 0., 0.], device='cuda:0')\n",
      "--------------\n",
      "torch.Size([436, 8, 80])\n",
      "tensor([0., 0., 0., 0., 0., 0., 0., 0.], device='cuda:0')\n"
     ]
    },
    {
     "name": "stderr",
     "output_type": "stream",
     "text": [
      " 87%|██████████████████████████████▎    | 105/121 [00:16<00:02,  7.36it/s]"
     ]
    },
    {
     "name": "stdout",
     "output_type": "stream",
     "text": [
      "--------------\n",
      "torch.Size([271, 8, 80])\n",
      "tensor([0., 0., 0., 0., 0., 0., 0., 0.], device='cuda:0')\n",
      "--------------\n",
      "torch.Size([256, 8, 80])\n",
      "tensor([0., 0., 0., 0., 0., 0., 0., 0.], device='cuda:0')\n"
     ]
    },
    {
     "name": "stderr",
     "output_type": "stream",
     "text": [
      " 88%|██████████████████████████████▉    | 107/121 [00:16<00:01,  7.50it/s]"
     ]
    },
    {
     "name": "stdout",
     "output_type": "stream",
     "text": [
      "--------------\n",
      "torch.Size([256, 8, 80])\n",
      "tensor([0., 0., 0., 0., 0., 0., 0., 0.], device='cuda:0')\n",
      "--------------\n",
      "torch.Size([331, 8, 80])\n",
      "tensor([0., 0., 0., 0., 0., 0., 0., 0.], device='cuda:0')\n"
     ]
    },
    {
     "name": "stderr",
     "output_type": "stream",
     "text": [
      " 90%|███████████████████████████████▌   | 109/121 [00:16<00:01,  6.90it/s]"
     ]
    },
    {
     "name": "stdout",
     "output_type": "stream",
     "text": [
      "--------------\n",
      "torch.Size([391, 8, 80])\n",
      "tensor([0., 0., 0., 0., 0., 0., 0., 0.], device='cuda:0')\n",
      "--------------\n",
      "torch.Size([346, 8, 80])\n",
      "tensor([0., 0., 0., 0., 0., 0., 0., 0.], device='cuda:0')\n"
     ]
    },
    {
     "name": "stderr",
     "output_type": "stream",
     "text": [
      " 92%|████████████████████████████████   | 111/121 [00:16<00:01,  6.91it/s]"
     ]
    },
    {
     "name": "stdout",
     "output_type": "stream",
     "text": [
      "--------------\n",
      "torch.Size([286, 8, 80])\n",
      "tensor([0., 0., 0., 0., 0., 0., 0., 0.], device='cuda:0')\n",
      "--------------\n",
      "torch.Size([361, 8, 80])\n",
      "tensor([0., 0., 0., 0., 0., 0., 0., 0.], device='cuda:0')\n"
     ]
    },
    {
     "name": "stderr",
     "output_type": "stream",
     "text": [
      " 93%|████████████████████████████████▋  | 113/121 [00:17<00:01,  6.82it/s]"
     ]
    },
    {
     "name": "stdout",
     "output_type": "stream",
     "text": [
      "--------------\n",
      "torch.Size([346, 8, 80])\n",
      "tensor([0., 0., 0., 0., 0., 0., 0., 0.], device='cuda:0')\n",
      "--------------\n",
      "torch.Size([331, 8, 80])\n",
      "tensor([0., 0., 0., 0., 0., 0., 0., 0.], device='cuda:0')\n"
     ]
    },
    {
     "name": "stderr",
     "output_type": "stream",
     "text": [
      " 95%|█████████████████████████████████▎ | 115/121 [00:17<00:00,  6.61it/s]"
     ]
    },
    {
     "name": "stdout",
     "output_type": "stream",
     "text": [
      "--------------\n",
      "torch.Size([361, 8, 80])\n",
      "tensor([0., 0., 0., 0., 0., 0., 0., 0.], device='cuda:0')\n",
      "--------------\n",
      "torch.Size([361, 8, 80])\n",
      "tensor([0., 0., 0., 0., 0., 0., 0., 0.], device='cuda:0')\n"
     ]
    },
    {
     "name": "stderr",
     "output_type": "stream",
     "text": [
      " 97%|█████████████████████████████████▊ | 117/121 [00:17<00:00,  6.36it/s]"
     ]
    },
    {
     "name": "stdout",
     "output_type": "stream",
     "text": [
      "--------------\n",
      "torch.Size([361, 8, 80])\n",
      "tensor([0., 0., 0., 0., 0., 0., 0., 0.], device='cuda:0')\n",
      "--------------\n",
      "torch.Size([391, 8, 80])\n",
      "tensor([0., 0., 0., 0., 0., 0., 0., 0.], device='cuda:0')\n"
     ]
    },
    {
     "name": "stderr",
     "output_type": "stream",
     "text": [
      " 98%|██████████████████████████████████▍| 119/121 [00:18<00:00,  6.50it/s]"
     ]
    },
    {
     "name": "stdout",
     "output_type": "stream",
     "text": [
      "--------------\n",
      "torch.Size([391, 8, 80])\n",
      "tensor([0., 0., 0., 0., 0., 0., 0., 0.], device='cuda:0')\n",
      "--------------\n",
      "torch.Size([316, 8, 80])\n",
      "tensor([0., 0., 0., 0., 0., 0., 0., 0.], device='cuda:0')\n"
     ]
    },
    {
     "name": "stderr",
     "output_type": "stream",
     "text": [
      "100%|███████████████████████████████████| 121/121 [00:18<00:00,  6.58it/s]"
     ]
    },
    {
     "name": "stdout",
     "output_type": "stream",
     "text": [
      "--------------\n",
      "torch.Size([316, 8, 80])\n",
      "tensor([0., 0., 0., 0., 0., 0., 0., 0.], device='cuda:0')\n",
      "--------------\n",
      "torch.Size([286, 6, 80])\n",
      "tensor([0., 0., 0., 0., 0., 0.], device='cuda:0')\n",
      "Test CER 0.10058320201040827\n",
      "Test WER 0.33506598419560146\n",
      "Test CTC 196.94448757763976\n",
      "Saving Best\n"
     ]
    },
    {
     "name": "stderr",
     "output_type": "stream",
     "text": [
      "\n"
     ]
    },
    {
     "name": "stdout",
     "output_type": "stream",
     "text": [
      "Train Set Size = 771\n"
     ]
    },
    {
     "name": "stderr",
     "output_type": "stream",
     "text": [
      "CER: 0.04921108827521697 CTC: 924.7158203125 Ground Truth: |grey eyes . Hi\n"
     ]
    },
    {
     "name": "stdout",
     "output_type": "stream",
     "text": [
      "Epoch: 14 Training CER 0.04920310075886001\n",
      "Training WER: 0.1953698549784756\n",
      "Time: 280.66727662086487 Seconds\n",
      "Validation Set Size = 121\n"
     ]
    },
    {
     "name": "stderr",
     "output_type": "stream",
     "text": [
      "  1%|▎                                    | 1/121 [00:00<00:16,  7.19it/s]"
     ]
    },
    {
     "name": "stdout",
     "output_type": "stream",
     "text": [
      "--------------\n",
      "torch.Size([301, 8, 80])\n",
      "tensor([0., 0., 0., 0., 0., 0., 0., 0.], device='cuda:0')\n"
     ]
    },
    {
     "name": "stderr",
     "output_type": "stream",
     "text": [
      "\r",
      "  2%|▌                                    | 2/121 [00:00<00:18,  6.38it/s]"
     ]
    },
    {
     "name": "stdout",
     "output_type": "stream",
     "text": [
      "--------------\n",
      "torch.Size([391, 8, 80])\n",
      "tensor([0., 0., 0., 0., 0., 0., 0., 0.], device='cuda:0')\n"
     ]
    },
    {
     "name": "stderr",
     "output_type": "stream",
     "text": [
      "\r",
      "  2%|▉                                    | 3/121 [00:00<00:20,  5.85it/s]"
     ]
    },
    {
     "name": "stdout",
     "output_type": "stream",
     "text": [
      "--------------\n",
      "torch.Size([451, 8, 80])\n",
      "tensor([0., 0., 0., 0., 0., 0., 0., 0.], device='cuda:0')\n"
     ]
    },
    {
     "name": "stderr",
     "output_type": "stream",
     "text": [
      "  4%|█▌                                   | 5/121 [00:01<00:26,  4.37it/s]"
     ]
    },
    {
     "name": "stdout",
     "output_type": "stream",
     "text": [
      "--------------\n",
      "torch.Size([376, 8, 80])\n",
      "tensor([0., 0., 0., 0., 0., 0., 0., 0.], device='cuda:0')\n",
      "--------------\n",
      "torch.Size([331, 8, 80])\n",
      "tensor([0., 0., 0., 0., 0., 0., 0., 0.], device='cuda:0')\n"
     ]
    },
    {
     "name": "stderr",
     "output_type": "stream",
     "text": [
      "  6%|██▏                                  | 7/121 [00:01<00:19,  5.96it/s]"
     ]
    },
    {
     "name": "stdout",
     "output_type": "stream",
     "text": [
      "--------------\n",
      "torch.Size([271, 8, 80])\n",
      "tensor([0., 0., 0., 0., 0., 0., 0., 0.], device='cuda:0')\n",
      "--------------\n",
      "torch.Size([256, 8, 80])\n",
      "tensor([0., 0., 0., 0., 0., 0., 0., 0.], device='cuda:0')\n"
     ]
    },
    {
     "name": "stderr",
     "output_type": "stream",
     "text": [
      "  7%|██▊                                  | 9/121 [00:01<00:16,  6.84it/s]"
     ]
    },
    {
     "name": "stdout",
     "output_type": "stream",
     "text": [
      "--------------\n",
      "torch.Size([301, 8, 80])\n",
      "tensor([0., 0., 0., 0., 0., 0., 0., 0.], device='cuda:0')\n",
      "--------------\n",
      "torch.Size([286, 8, 80])\n",
      "tensor([0., 0., 0., 0., 0., 0., 0., 0.], device='cuda:0')\n"
     ]
    },
    {
     "name": "stderr",
     "output_type": "stream",
     "text": [
      "  9%|███▎                                | 11/121 [00:01<00:16,  6.74it/s]"
     ]
    },
    {
     "name": "stdout",
     "output_type": "stream",
     "text": [
      "--------------\n",
      "torch.Size([376, 8, 80])\n",
      "tensor([0., 0., 0., 0., 0., 0., 0., 0.], device='cuda:0')\n",
      "--------------\n",
      "torch.Size([346, 8, 80])\n",
      "tensor([0., 0., 0., 0., 0., 0., 0., 0.], device='cuda:0')\n"
     ]
    },
    {
     "name": "stderr",
     "output_type": "stream",
     "text": [
      " 11%|███▊                                | 13/121 [00:02<00:14,  7.22it/s]"
     ]
    },
    {
     "name": "stdout",
     "output_type": "stream",
     "text": [
      "--------------\n",
      "torch.Size([316, 8, 80])\n",
      "tensor([0., 0., 0., 0., 0., 0., 0., 0.], device='cuda:0')\n",
      "--------------\n",
      "torch.Size([286, 8, 80])\n",
      "tensor([0., 0., 0., 0., 0., 0., 0., 0.], device='cuda:0')\n"
     ]
    },
    {
     "name": "stderr",
     "output_type": "stream",
     "text": [
      "\r",
      " 12%|████▏                               | 14/121 [00:02<00:14,  7.40it/s]"
     ]
    },
    {
     "name": "stdout",
     "output_type": "stream",
     "text": [
      "--------------\n",
      "torch.Size([286, 8, 80])\n",
      "tensor([0., 0., 0., 0., 0., 0., 0., 0.], device='cuda:0')\n",
      "--------------\n",
      "torch.Size([496, 8, 80])\n",
      "tensor([0., 0., 0., 0., 0., 0., 0., 0.], device='cuda:0')\n"
     ]
    },
    {
     "name": "stderr",
     "output_type": "stream",
     "text": [
      " 14%|█████                               | 17/121 [00:02<00:16,  6.14it/s]"
     ]
    },
    {
     "name": "stdout",
     "output_type": "stream",
     "text": [
      "--------------\n",
      "torch.Size([421, 8, 80])\n",
      "tensor([0., 0., 0., 0., 0., 0., 0., 0.], device='cuda:0')\n",
      "--------------\n",
      "torch.Size([391, 8, 80])\n",
      "tensor([0., 0., 0., 0., 0., 0., 0., 0.], device='cuda:0')\n"
     ]
    },
    {
     "name": "stderr",
     "output_type": "stream",
     "text": [
      " 16%|█████▋                              | 19/121 [00:03<00:15,  6.53it/s]"
     ]
    },
    {
     "name": "stdout",
     "output_type": "stream",
     "text": [
      "--------------\n",
      "torch.Size([256, 8, 80])\n",
      "tensor([0., 0., 0., 0., 0., 0., 0., 0.], device='cuda:0')\n",
      "--------------\n",
      "torch.Size([391, 8, 80])\n",
      "tensor([0., 0., 0., 0., 0., 0., 0., 0.], device='cuda:0')\n"
     ]
    },
    {
     "name": "stderr",
     "output_type": "stream",
     "text": [
      " 17%|██████▏                             | 21/121 [00:03<00:15,  6.37it/s]"
     ]
    },
    {
     "name": "stdout",
     "output_type": "stream",
     "text": [
      "--------------\n",
      "torch.Size([346, 8, 80])\n",
      "tensor([0., 0., 0., 0., 0., 0., 0., 0.], device='cuda:0')\n",
      "--------------\n",
      "torch.Size([406, 8, 80])\n",
      "tensor([0., 0., 0., 0., 0., 0., 0., 0.], device='cuda:0')\n"
     ]
    },
    {
     "name": "stderr",
     "output_type": "stream",
     "text": [
      " 19%|██████▊                             | 23/121 [00:03<00:15,  6.21it/s]"
     ]
    },
    {
     "name": "stdout",
     "output_type": "stream",
     "text": [
      "--------------\n",
      "torch.Size([421, 8, 80])\n",
      "tensor([0., 0., 0., 0., 0., 0., 0., 0.], device='cuda:0')\n",
      "--------------\n",
      "torch.Size([376, 8, 80])\n",
      "tensor([0., 0., 0., 0., 0., 0., 0., 0.], device='cuda:0')\n"
     ]
    },
    {
     "name": "stderr",
     "output_type": "stream",
     "text": [
      " 21%|███████▍                            | 25/121 [00:04<00:15,  6.23it/s]"
     ]
    },
    {
     "name": "stdout",
     "output_type": "stream",
     "text": [
      "--------------\n",
      "torch.Size([391, 8, 80])\n",
      "tensor([0., 0., 0., 0., 0., 0., 0., 0.], device='cuda:0')\n",
      "--------------\n",
      "torch.Size([361, 8, 80])\n",
      "tensor([0., 0., 0., 0., 0., 0., 0., 0.], device='cuda:0')\n"
     ]
    },
    {
     "name": "stderr",
     "output_type": "stream",
     "text": [
      " 22%|████████                            | 27/121 [00:04<00:14,  6.52it/s]"
     ]
    },
    {
     "name": "stdout",
     "output_type": "stream",
     "text": [
      "--------------\n",
      "torch.Size([316, 8, 80])\n",
      "tensor([0., 0., 0., 0., 0., 0., 0., 0.], device='cuda:0')\n",
      "--------------\n",
      "torch.Size([361, 8, 80])\n",
      "tensor([0., 0., 0., 0., 0., 0., 0., 0.], device='cuda:0')\n"
     ]
    },
    {
     "name": "stderr",
     "output_type": "stream",
     "text": [
      " 24%|████████▋                           | 29/121 [00:04<00:13,  6.79it/s]"
     ]
    },
    {
     "name": "stdout",
     "output_type": "stream",
     "text": [
      "--------------\n",
      "torch.Size([361, 8, 80])\n",
      "tensor([0., 0., 0., 0., 0., 0., 0., 0.], device='cuda:0')\n",
      "--------------\n",
      "torch.Size([301, 8, 80])\n",
      "tensor([0., 0., 0., 0., 0., 0., 0., 0.], device='cuda:0')\n"
     ]
    },
    {
     "name": "stderr",
     "output_type": "stream",
     "text": [
      " 26%|█████████▏                          | 31/121 [00:04<00:12,  7.48it/s]"
     ]
    },
    {
     "name": "stdout",
     "output_type": "stream",
     "text": [
      "--------------\n",
      "torch.Size([241, 8, 80])\n",
      "tensor([0., 0., 0., 0., 0., 0., 0., 0.], device='cuda:0')\n",
      "--------------\n",
      "torch.Size([286, 8, 80])\n",
      "tensor([0., 0., 0., 0., 0., 0., 0., 0.], device='cuda:0')\n"
     ]
    },
    {
     "name": "stderr",
     "output_type": "stream",
     "text": [
      " 27%|█████████▊                          | 33/121 [00:05<00:12,  7.22it/s]"
     ]
    },
    {
     "name": "stdout",
     "output_type": "stream",
     "text": [
      "--------------\n",
      "torch.Size([301, 8, 80])\n",
      "tensor([0., 0., 0., 0., 0., 0., 0., 0.], device='cuda:0')\n",
      "--------------\n",
      "torch.Size([346, 8, 80])\n",
      "tensor([0., 0., 0., 0., 0., 0., 0., 0.], device='cuda:0')\n"
     ]
    },
    {
     "name": "stderr",
     "output_type": "stream",
     "text": [
      " 29%|██████████▍                         | 35/121 [00:05<00:12,  7.05it/s]"
     ]
    },
    {
     "name": "stdout",
     "output_type": "stream",
     "text": [
      "--------------\n",
      "torch.Size([346, 8, 80])\n",
      "tensor([0., 0., 0., 0., 0., 0., 0., 0.], device='cuda:0')\n",
      "--------------\n",
      "torch.Size([316, 8, 80])\n",
      "tensor([0., 0., 0., 0., 0., 0., 0., 0.], device='cuda:0')\n"
     ]
    },
    {
     "name": "stderr",
     "output_type": "stream",
     "text": [
      " 31%|███████████                         | 37/121 [00:05<00:13,  6.42it/s]"
     ]
    },
    {
     "name": "stdout",
     "output_type": "stream",
     "text": [
      "--------------\n",
      "torch.Size([376, 8, 80])\n",
      "tensor([0., 0., 0., 0., 0., 0., 0., 0.], device='cuda:0')\n",
      "--------------\n",
      "torch.Size([406, 8, 80])\n",
      "tensor([0., 0., 0., 0., 0., 0., 0., 0.], device='cuda:0')\n"
     ]
    },
    {
     "name": "stderr",
     "output_type": "stream",
     "text": [
      "\r",
      " 31%|███████████▎                        | 38/121 [00:05<00:13,  6.27it/s]"
     ]
    },
    {
     "name": "stdout",
     "output_type": "stream",
     "text": [
      "--------------\n",
      "torch.Size([391, 8, 80])\n",
      "tensor([0., 0., 0., 0., 0., 0., 0., 0.], device='cuda:0')\n",
      "--------------\n",
      "torch.Size([451, 8, 80])\n",
      "tensor([0., 0., 0., 0., 0., 0., 0., 0.], device='cuda:0')\n"
     ]
    },
    {
     "name": "stderr",
     "output_type": "stream",
     "text": [
      " 34%|████████████▏                       | 41/121 [00:06<00:12,  6.28it/s]"
     ]
    },
    {
     "name": "stdout",
     "output_type": "stream",
     "text": [
      "--------------\n",
      "torch.Size([361, 8, 80])\n",
      "tensor([0., 0., 0., 0., 0., 0., 0., 0.], device='cuda:0')\n",
      "--------------\n",
      "torch.Size([316, 8, 80])\n",
      "tensor([0., 0., 0., 0., 0., 0., 0., 0.], device='cuda:0')\n"
     ]
    },
    {
     "name": "stderr",
     "output_type": "stream",
     "text": [
      "\r",
      " 35%|████████████▍                       | 42/121 [00:06<00:11,  6.71it/s]"
     ]
    },
    {
     "name": "stdout",
     "output_type": "stream",
     "text": [
      "--------------\n",
      "torch.Size([271, 8, 80])\n",
      "tensor([0., 0., 0., 0., 0., 0., 0., 0.], device='cuda:0')\n"
     ]
    },
    {
     "name": "stderr",
     "output_type": "stream",
     "text": [
      " 36%|█████████████                       | 44/121 [00:06<00:11,  6.54it/s]"
     ]
    },
    {
     "name": "stdout",
     "output_type": "stream",
     "text": [
      "--------------\n",
      "torch.Size([496, 8, 80])\n",
      "tensor([0., 0., 0., 0., 0., 0., 0., 0.], device='cuda:0')\n",
      "--------------\n",
      "torch.Size([271, 8, 80])\n",
      "tensor([0., 0., 0., 0., 0., 0., 0., 0.], device='cuda:0')\n"
     ]
    },
    {
     "name": "stderr",
     "output_type": "stream",
     "text": [
      " 38%|█████████████▋                      | 46/121 [00:07<00:10,  7.22it/s]"
     ]
    },
    {
     "name": "stdout",
     "output_type": "stream",
     "text": [
      "--------------\n",
      "torch.Size([301, 8, 80])\n",
      "tensor([0., 0., 0., 0., 0., 0., 0., 0.], device='cuda:0')\n",
      "--------------\n",
      "torch.Size([256, 8, 80])\n",
      "tensor([0., 0., 0., 0., 0., 0., 0., 0.], device='cuda:0')\n"
     ]
    },
    {
     "name": "stderr",
     "output_type": "stream",
     "text": [
      " 40%|██████████████▎                     | 48/121 [00:07<00:10,  7.00it/s]"
     ]
    },
    {
     "name": "stdout",
     "output_type": "stream",
     "text": [
      "--------------\n",
      "torch.Size([301, 8, 80])\n",
      "tensor([0., 0., 0., 0., 0., 0., 0., 0.], device='cuda:0')\n",
      "--------------\n",
      "torch.Size([361, 8, 80])\n",
      "tensor([0., 0., 0., 0., 0., 0., 0., 0.], device='cuda:0')\n"
     ]
    },
    {
     "name": "stderr",
     "output_type": "stream",
     "text": [
      " 41%|██████████████▉                     | 50/121 [00:07<00:10,  6.70it/s]"
     ]
    },
    {
     "name": "stdout",
     "output_type": "stream",
     "text": [
      "--------------\n",
      "torch.Size([376, 8, 80])\n",
      "tensor([0., 0., 0., 0., 0., 0., 0., 0.], device='cuda:0')\n",
      "--------------\n",
      "torch.Size([346, 8, 80])\n",
      "tensor([0., 0., 0., 0., 0., 0., 0., 0.], device='cuda:0')\n"
     ]
    },
    {
     "name": "stderr",
     "output_type": "stream",
     "text": [
      " 43%|███████████████▍                    | 52/121 [00:08<00:09,  7.17it/s]"
     ]
    },
    {
     "name": "stdout",
     "output_type": "stream",
     "text": [
      "--------------\n",
      "torch.Size([346, 8, 80])\n",
      "tensor([0., 0., 0., 0., 0., 0., 0., 0.], device='cuda:0')\n",
      "--------------\n",
      "torch.Size([256, 8, 80])\n",
      "tensor([0., 0., 0., 0., 0., 0., 0., 0.], device='cuda:0')\n"
     ]
    },
    {
     "name": "stderr",
     "output_type": "stream",
     "text": [
      " 45%|████████████████                    | 54/121 [00:08<00:09,  6.88it/s]"
     ]
    },
    {
     "name": "stdout",
     "output_type": "stream",
     "text": [
      "--------------\n",
      "torch.Size([316, 8, 80])\n",
      "tensor([0., 0., 0., 0., 0., 0., 0., 0.], device='cuda:0')\n",
      "--------------\n",
      "torch.Size([361, 8, 80])\n",
      "tensor([0., 0., 0., 0., 0., 0., 0., 0.], device='cuda:0')\n"
     ]
    },
    {
     "name": "stderr",
     "output_type": "stream",
     "text": [
      "\r",
      " 45%|████████████████▎                   | 55/121 [00:08<00:10,  6.19it/s]"
     ]
    },
    {
     "name": "stdout",
     "output_type": "stream",
     "text": [
      "--------------\n",
      "torch.Size([481, 8, 80])\n",
      "tensor([0., 0., 0., 0., 0., 0., 0., 0.], device='cuda:0')\n",
      "--------------\n",
      "torch.Size([451, 8, 80])\n",
      "tensor([0., 0., 0., 0., 0., 0., 0., 0.], device='cuda:0')\n"
     ]
    },
    {
     "name": "stderr",
     "output_type": "stream",
     "text": [
      " 48%|█████████████████▎                  | 58/121 [00:09<00:10,  6.05it/s]"
     ]
    },
    {
     "name": "stdout",
     "output_type": "stream",
     "text": [
      "--------------\n",
      "torch.Size([421, 8, 80])\n",
      "tensor([0., 0., 0., 0., 0., 0., 0., 0.], device='cuda:0')\n",
      "--------------\n",
      "torch.Size([346, 8, 80])\n",
      "tensor([0., 0., 0., 0., 0., 0., 0., 0.], device='cuda:0')\n"
     ]
    },
    {
     "name": "stderr",
     "output_type": "stream",
     "text": [
      " 50%|█████████████████▊                  | 60/121 [00:09<00:09,  6.48it/s]"
     ]
    },
    {
     "name": "stdout",
     "output_type": "stream",
     "text": [
      "--------------\n",
      "torch.Size([331, 8, 80])\n",
      "tensor([0., 0., 0., 0., 0., 0., 0., 0.], device='cuda:0')\n",
      "--------------\n",
      "torch.Size([331, 8, 80])\n",
      "tensor([0., 0., 0., 0., 0., 0., 0., 0.], device='cuda:0')\n"
     ]
    },
    {
     "name": "stderr",
     "output_type": "stream",
     "text": [
      " 51%|██████████████████▍                 | 62/121 [00:09<00:09,  6.31it/s]"
     ]
    },
    {
     "name": "stdout",
     "output_type": "stream",
     "text": [
      "--------------\n",
      "torch.Size([391, 8, 80])\n",
      "tensor([0., 0., 0., 0., 0., 0., 0., 0.], device='cuda:0')\n",
      "--------------\n",
      "torch.Size([361, 8, 80])\n",
      "tensor([0., 0., 0., 0., 0., 0., 0., 0.], device='cuda:0')\n"
     ]
    },
    {
     "name": "stderr",
     "output_type": "stream",
     "text": [
      " 53%|███████████████████                 | 64/121 [00:09<00:08,  6.44it/s]"
     ]
    },
    {
     "name": "stdout",
     "output_type": "stream",
     "text": [
      "--------------\n",
      "torch.Size([421, 8, 80])\n",
      "tensor([0., 0., 0., 0., 0., 0., 0., 0.], device='cuda:0')\n",
      "--------------\n",
      "torch.Size([301, 8, 80])\n",
      "tensor([0., 0., 0., 0., 0., 0., 0., 0.], device='cuda:0')\n"
     ]
    },
    {
     "name": "stderr",
     "output_type": "stream",
     "text": [
      " 55%|███████████████████▋                | 66/121 [00:10<00:08,  6.60it/s]"
     ]
    },
    {
     "name": "stdout",
     "output_type": "stream",
     "text": [
      "--------------\n",
      "torch.Size([316, 8, 80])\n",
      "tensor([0., 0., 0., 0., 0., 0., 0., 0.], device='cuda:0')\n",
      "--------------\n",
      "torch.Size([346, 8, 80])\n",
      "tensor([0., 0., 0., 0., 0., 0., 0., 0.], device='cuda:0')\n"
     ]
    },
    {
     "name": "stderr",
     "output_type": "stream",
     "text": [
      " 56%|████████████████████▏               | 68/121 [00:10<00:07,  6.81it/s]"
     ]
    },
    {
     "name": "stdout",
     "output_type": "stream",
     "text": [
      "--------------\n",
      "torch.Size([316, 8, 80])\n",
      "tensor([0., 0., 0., 0., 0., 0., 0., 0.], device='cuda:0')\n",
      "--------------\n",
      "torch.Size([331, 8, 80])\n",
      "tensor([0., 0., 0., 0., 0., 0., 0., 0.], device='cuda:0')\n"
     ]
    },
    {
     "name": "stderr",
     "output_type": "stream",
     "text": [
      " 58%|████████████████████▊               | 70/121 [00:10<00:07,  6.77it/s]"
     ]
    },
    {
     "name": "stdout",
     "output_type": "stream",
     "text": [
      "--------------\n",
      "torch.Size([376, 8, 80])\n",
      "tensor([0., 0., 0., 0., 0., 0., 0., 0.], device='cuda:0')\n",
      "--------------\n",
      "torch.Size([316, 8, 80])\n",
      "tensor([0., 0., 0., 0., 0., 0., 0., 0.], device='cuda:0')\n"
     ]
    },
    {
     "name": "stderr",
     "output_type": "stream",
     "text": [
      " 60%|█████████████████████▍              | 72/121 [00:11<00:06,  7.10it/s]"
     ]
    },
    {
     "name": "stdout",
     "output_type": "stream",
     "text": [
      "--------------\n",
      "torch.Size([301, 8, 80])\n",
      "tensor([0., 0., 0., 0., 0., 0., 0., 0.], device='cuda:0')\n",
      "--------------\n",
      "torch.Size([301, 8, 80])\n",
      "tensor([0., 0., 0., 0., 0., 0., 0., 0.], device='cuda:0')\n"
     ]
    },
    {
     "name": "stderr",
     "output_type": "stream",
     "text": [
      " 61%|██████████████████████              | 74/121 [00:11<00:06,  7.29it/s]"
     ]
    },
    {
     "name": "stdout",
     "output_type": "stream",
     "text": [
      "--------------\n",
      "torch.Size([331, 8, 80])\n",
      "tensor([0., 0., 0., 0., 0., 0., 0., 0.], device='cuda:0')\n",
      "--------------\n",
      "torch.Size([286, 8, 80])\n",
      "tensor([0., 0., 0., 0., 0., 0., 0., 0.], device='cuda:0')\n"
     ]
    },
    {
     "name": "stderr",
     "output_type": "stream",
     "text": [
      " 63%|██████████████████████▌             | 76/121 [00:11<00:06,  7.48it/s]"
     ]
    },
    {
     "name": "stdout",
     "output_type": "stream",
     "text": [
      "--------------\n",
      "torch.Size([316, 8, 80])\n",
      "tensor([0., 0., 0., 0., 0., 0., 0., 0.], device='cuda:0')\n",
      "--------------\n",
      "torch.Size([271, 8, 80])\n",
      "tensor([0., 0., 0., 0., 0., 0., 0., 0.], device='cuda:0')\n"
     ]
    },
    {
     "name": "stderr",
     "output_type": "stream",
     "text": [
      " 64%|███████████████████████▏            | 78/121 [00:11<00:05,  7.52it/s]"
     ]
    },
    {
     "name": "stdout",
     "output_type": "stream",
     "text": [
      "--------------\n",
      "torch.Size([346, 8, 80])\n",
      "tensor([0., 0., 0., 0., 0., 0., 0., 0.], device='cuda:0')\n",
      "--------------\n",
      "torch.Size([271, 8, 80])\n",
      "tensor([0., 0., 0., 0., 0., 0., 0., 0.], device='cuda:0')\n"
     ]
    },
    {
     "name": "stderr",
     "output_type": "stream",
     "text": [
      " 66%|███████████████████████▊            | 80/121 [00:12<00:05,  7.39it/s]"
     ]
    },
    {
     "name": "stdout",
     "output_type": "stream",
     "text": [
      "--------------\n",
      "torch.Size([301, 8, 80])\n",
      "tensor([0., 0., 0., 0., 0., 0., 0., 0.], device='cuda:0')\n",
      "--------------\n",
      "torch.Size([316, 8, 80])\n",
      "tensor([0., 0., 0., 0., 0., 0., 0., 0.], device='cuda:0')\n"
     ]
    },
    {
     "name": "stderr",
     "output_type": "stream",
     "text": [
      " 68%|████████████████████████▍           | 82/121 [00:12<00:05,  6.90it/s]"
     ]
    },
    {
     "name": "stdout",
     "output_type": "stream",
     "text": [
      "--------------\n",
      "torch.Size([376, 8, 80])\n",
      "tensor([0., 0., 0., 0., 0., 0., 0., 0.], device='cuda:0')\n",
      "--------------\n",
      "torch.Size([346, 8, 80])\n",
      "tensor([0., 0., 0., 0., 0., 0., 0., 0.], device='cuda:0')\n"
     ]
    },
    {
     "name": "stderr",
     "output_type": "stream",
     "text": [
      " 69%|████████████████████████▉           | 84/121 [00:12<00:04,  7.42it/s]"
     ]
    },
    {
     "name": "stdout",
     "output_type": "stream",
     "text": [
      "--------------\n",
      "torch.Size([256, 8, 80])\n",
      "tensor([0., 0., 0., 0., 0., 0., 0., 0.], device='cuda:0')\n",
      "--------------\n",
      "torch.Size([301, 8, 80])\n",
      "tensor([0., 0., 0., 0., 0., 0., 0., 0.], device='cuda:0')\n"
     ]
    },
    {
     "name": "stderr",
     "output_type": "stream",
     "text": [
      " 71%|█████████████████████████▌          | 86/121 [00:13<00:04,  7.31it/s]"
     ]
    },
    {
     "name": "stdout",
     "output_type": "stream",
     "text": [
      "--------------\n",
      "torch.Size([406, 8, 80])\n",
      "tensor([0., 0., 0., 0., 0., 0., 0., 0.], device='cuda:0')\n",
      "--------------\n",
      "torch.Size([256, 8, 80])\n",
      "tensor([0., 0., 0., 0., 0., 0., 0., 0.], device='cuda:0')\n"
     ]
    },
    {
     "name": "stderr",
     "output_type": "stream",
     "text": [
      " 73%|██████████████████████████▏         | 88/121 [00:13<00:04,  6.74it/s]"
     ]
    },
    {
     "name": "stdout",
     "output_type": "stream",
     "text": [
      "--------------\n",
      "torch.Size([391, 8, 80])\n",
      "tensor([0., 0., 0., 0., 0., 0., 0., 0.], device='cuda:0')\n",
      "--------------\n",
      "torch.Size([361, 8, 80])\n",
      "tensor([0., 0., 0., 0., 0., 0., 0., 0.], device='cuda:0')\n"
     ]
    },
    {
     "name": "stderr",
     "output_type": "stream",
     "text": [
      " 74%|██████████████████████████▊         | 90/121 [00:13<00:04,  7.15it/s]"
     ]
    },
    {
     "name": "stdout",
     "output_type": "stream",
     "text": [
      "--------------\n",
      "torch.Size([331, 8, 80])\n",
      "tensor([0., 0., 0., 0., 0., 0., 0., 0.], device='cuda:0')\n",
      "--------------\n",
      "torch.Size([286, 8, 80])\n",
      "tensor([0., 0., 0., 0., 0., 0., 0., 0.], device='cuda:0')\n"
     ]
    },
    {
     "name": "stderr",
     "output_type": "stream",
     "text": [
      " 76%|███████████████████████████▎        | 92/121 [00:13<00:03,  7.35it/s]"
     ]
    },
    {
     "name": "stdout",
     "output_type": "stream",
     "text": [
      "--------------\n",
      "torch.Size([241, 8, 80])\n",
      "tensor([0., 0., 0., 0., 0., 0., 0., 0.], device='cuda:0')\n",
      "--------------\n",
      "torch.Size([346, 8, 80])\n",
      "tensor([0., 0., 0., 0., 0., 0., 0., 0.], device='cuda:0')\n"
     ]
    },
    {
     "name": "stderr",
     "output_type": "stream",
     "text": [
      " 78%|███████████████████████████▉        | 94/121 [00:14<00:03,  7.58it/s]"
     ]
    },
    {
     "name": "stdout",
     "output_type": "stream",
     "text": [
      "--------------\n",
      "torch.Size([346, 8, 80])\n",
      "tensor([0., 0., 0., 0., 0., 0., 0., 0.], device='cuda:0')\n",
      "--------------\n",
      "torch.Size([256, 8, 80])\n",
      "tensor([0., 0., 0., 0., 0., 0., 0., 0.], device='cuda:0')\n"
     ]
    },
    {
     "name": "stderr",
     "output_type": "stream",
     "text": [
      " 79%|████████████████████████████▌       | 96/121 [00:14<00:03,  7.05it/s]"
     ]
    },
    {
     "name": "stdout",
     "output_type": "stream",
     "text": [
      "--------------\n",
      "torch.Size([331, 8, 80])\n",
      "tensor([0., 0., 0., 0., 0., 0., 0., 0.], device='cuda:0')\n",
      "--------------\n",
      "torch.Size([361, 8, 80])\n",
      "tensor([0., 0., 0., 0., 0., 0., 0., 0.], device='cuda:0')\n"
     ]
    },
    {
     "name": "stderr",
     "output_type": "stream",
     "text": [
      " 81%|█████████████████████████████▏      | 98/121 [00:14<00:03,  6.81it/s]"
     ]
    },
    {
     "name": "stdout",
     "output_type": "stream",
     "text": [
      "--------------\n",
      "torch.Size([271, 8, 80])\n",
      "tensor([0., 0., 0., 0., 0., 0., 0., 0.], device='cuda:0')\n",
      "--------------\n",
      "torch.Size([391, 8, 80])\n",
      "tensor([0., 0., 0., 0., 0., 0., 0., 0.], device='cuda:0')\n"
     ]
    },
    {
     "name": "stderr",
     "output_type": "stream",
     "text": [
      " 83%|████████████████████████████▉      | 100/121 [00:15<00:03,  6.35it/s]"
     ]
    },
    {
     "name": "stdout",
     "output_type": "stream",
     "text": [
      "--------------\n",
      "torch.Size([391, 8, 80])\n",
      "tensor([0., 0., 0., 0., 0., 0., 0., 0.], device='cuda:0')\n",
      "--------------\n",
      "torch.Size([391, 8, 80])\n",
      "tensor([0., 0., 0., 0., 0., 0., 0., 0.], device='cuda:0')\n"
     ]
    },
    {
     "name": "stderr",
     "output_type": "stream",
     "text": [
      " 84%|█████████████████████████████▌     | 102/121 [00:15<00:02,  6.94it/s]"
     ]
    },
    {
     "name": "stdout",
     "output_type": "stream",
     "text": [
      "--------------\n",
      "torch.Size([256, 8, 80])\n",
      "tensor([0., 0., 0., 0., 0., 0., 0., 0.], device='cuda:0')\n",
      "--------------\n",
      "torch.Size([316, 8, 80])\n",
      "tensor([0., 0., 0., 0., 0., 0., 0., 0.], device='cuda:0')\n"
     ]
    },
    {
     "name": "stderr",
     "output_type": "stream",
     "text": [
      " 86%|██████████████████████████████     | 104/121 [00:15<00:02,  6.74it/s]"
     ]
    },
    {
     "name": "stdout",
     "output_type": "stream",
     "text": [
      "--------------\n",
      "torch.Size([331, 8, 80])\n",
      "tensor([0., 0., 0., 0., 0., 0., 0., 0.], device='cuda:0')\n",
      "--------------\n",
      "torch.Size([361, 8, 80])\n",
      "tensor([0., 0., 0., 0., 0., 0., 0., 0.], device='cuda:0')\n"
     ]
    },
    {
     "name": "stderr",
     "output_type": "stream",
     "text": [
      " 88%|██████████████████████████████▋    | 106/121 [00:15<00:02,  6.67it/s]"
     ]
    },
    {
     "name": "stdout",
     "output_type": "stream",
     "text": [
      "--------------\n",
      "torch.Size([346, 8, 80])\n",
      "tensor([0., 0., 0., 0., 0., 0., 0., 0.], device='cuda:0')\n",
      "--------------\n",
      "torch.Size([346, 8, 80])\n",
      "tensor([0., 0., 0., 0., 0., 0., 0., 0.], device='cuda:0')\n"
     ]
    },
    {
     "name": "stderr",
     "output_type": "stream",
     "text": [
      " 89%|███████████████████████████████▏   | 108/121 [00:16<00:02,  6.27it/s]"
     ]
    },
    {
     "name": "stdout",
     "output_type": "stream",
     "text": [
      "--------------\n",
      "torch.Size([316, 8, 80])\n",
      "tensor([0., 0., 0., 0., 0., 0., 0., 0.], device='cuda:0')\n",
      "--------------\n",
      "torch.Size([451, 8, 80])\n",
      "tensor([0., 0., 0., 0., 0., 0., 0., 0.], device='cuda:0')\n"
     ]
    },
    {
     "name": "stderr",
     "output_type": "stream",
     "text": [
      " 91%|███████████████████████████████▊   | 110/121 [00:16<00:01,  6.50it/s]"
     ]
    },
    {
     "name": "stdout",
     "output_type": "stream",
     "text": [
      "--------------\n",
      "torch.Size([316, 8, 80])\n",
      "tensor([0., 0., 0., 0., 0., 0., 0., 0.], device='cuda:0')\n",
      "--------------\n",
      "torch.Size([361, 8, 80])\n",
      "tensor([0., 0., 0., 0., 0., 0., 0., 0.], device='cuda:0')\n"
     ]
    },
    {
     "name": "stderr",
     "output_type": "stream",
     "text": [
      " 93%|████████████████████████████████▍  | 112/121 [00:16<00:01,  6.70it/s]"
     ]
    },
    {
     "name": "stdout",
     "output_type": "stream",
     "text": [
      "--------------\n",
      "torch.Size([316, 8, 80])\n",
      "tensor([0., 0., 0., 0., 0., 0., 0., 0.], device='cuda:0')\n",
      "--------------\n",
      "torch.Size([346, 8, 80])\n",
      "tensor([0., 0., 0., 0., 0., 0., 0., 0.], device='cuda:0')\n"
     ]
    },
    {
     "name": "stderr",
     "output_type": "stream",
     "text": [
      " 94%|████████████████████████████████▉  | 114/121 [00:17<00:01,  6.51it/s]"
     ]
    },
    {
     "name": "stdout",
     "output_type": "stream",
     "text": [
      "--------------\n",
      "torch.Size([346, 8, 80])\n",
      "tensor([0., 0., 0., 0., 0., 0., 0., 0.], device='cuda:0')\n",
      "--------------\n",
      "torch.Size([376, 8, 80])\n",
      "tensor([0., 0., 0., 0., 0., 0., 0., 0.], device='cuda:0')\n"
     ]
    },
    {
     "name": "stderr",
     "output_type": "stream",
     "text": [
      " 96%|█████████████████████████████████▌ | 116/121 [00:17<00:00,  6.93it/s]"
     ]
    },
    {
     "name": "stdout",
     "output_type": "stream",
     "text": [
      "--------------\n",
      "torch.Size([286, 8, 80])\n",
      "tensor([0., 0., 0., 0., 0., 0., 0., 0.], device='cuda:0')\n",
      "--------------\n",
      "torch.Size([316, 8, 80])\n",
      "tensor([0., 0., 0., 0., 0., 0., 0., 0.], device='cuda:0')\n"
     ]
    },
    {
     "name": "stderr",
     "output_type": "stream",
     "text": [
      " 98%|██████████████████████████████████▏| 118/121 [00:17<00:00,  6.51it/s]"
     ]
    },
    {
     "name": "stdout",
     "output_type": "stream",
     "text": [
      "--------------\n",
      "torch.Size([361, 8, 80])\n",
      "tensor([0., 0., 0., 0., 0., 0., 0., 0.], device='cuda:0')\n",
      "--------------\n",
      "torch.Size([391, 8, 80])\n",
      "tensor([0., 0., 0., 0., 0., 0., 0., 0.], device='cuda:0')\n"
     ]
    },
    {
     "name": "stderr",
     "output_type": "stream",
     "text": [
      "\r",
      " 98%|██████████████████████████████████▍| 119/121 [00:17<00:00,  7.12it/s]"
     ]
    },
    {
     "name": "stdout",
     "output_type": "stream",
     "text": [
      "--------------\n",
      "torch.Size([241, 8, 80])\n",
      "tensor([0., 0., 0., 0., 0., 0., 0., 0.], device='cuda:0')\n",
      "--------------\n",
      "torch.Size([466, 8, 80])\n",
      "tensor([0., 0., 0., 0., 0., 0., 0., 0.], device='cuda:0')\n"
     ]
    },
    {
     "name": "stderr",
     "output_type": "stream",
     "text": [
      "100%|███████████████████████████████████| 121/121 [00:18<00:00,  6.66it/s]\n"
     ]
    },
    {
     "name": "stdout",
     "output_type": "stream",
     "text": [
      "--------------\n",
      "torch.Size([301, 6, 80])\n",
      "tensor([0., 0., 0., 0., 0., 0.], device='cuda:0')\n",
      "Test CER 0.10164155042059081\n",
      "Test WER 0.34572106799189856\n",
      "Test CTC 258.37203998447205\n",
      "Train Set Size = 771\n"
     ]
    },
    {
     "name": "stderr",
     "output_type": "stream",
     "text": [
      "CER: 0.0403545683075873 CTC: 476.59027099609375 Ground Truth: |get rid of \n"
     ]
    },
    {
     "name": "stdout",
     "output_type": "stream",
     "text": [
      "Epoch: 15 Training CER 0.040348018304615776\n",
      "Training WER: 0.16574780496836902\n",
      "Time: 281.15714859962463 Seconds\n",
      "Validation Set Size = 121\n"
     ]
    },
    {
     "name": "stderr",
     "output_type": "stream",
     "text": [
      "  1%|▎                                    | 1/121 [00:00<00:19,  6.21it/s]"
     ]
    },
    {
     "name": "stdout",
     "output_type": "stream",
     "text": [
      "--------------\n",
      "torch.Size([331, 8, 80])\n",
      "tensor([0., 0., 0., 0., 0., 0., 0., 0.], device='cuda:0')\n"
     ]
    },
    {
     "name": "stderr",
     "output_type": "stream",
     "text": [
      "\r",
      "  2%|▌                                    | 2/121 [00:00<00:20,  5.74it/s]"
     ]
    },
    {
     "name": "stdout",
     "output_type": "stream",
     "text": [
      "--------------\n",
      "torch.Size([436, 8, 80])\n",
      "tensor([0., 0., 0., 0., 0., 0., 0., 0.], device='cuda:0')\n"
     ]
    },
    {
     "name": "stderr",
     "output_type": "stream",
     "text": [
      "\r",
      "  2%|▉                                    | 3/121 [00:00<00:20,  5.85it/s]"
     ]
    },
    {
     "name": "stdout",
     "output_type": "stream",
     "text": [
      "--------------\n",
      "torch.Size([391, 8, 80])\n",
      "tensor([0., 0., 0., 0., 0., 0., 0., 0.], device='cuda:0')\n"
     ]
    },
    {
     "name": "stderr",
     "output_type": "stream",
     "text": [
      "  4%|█▌                                   | 5/121 [00:00<00:20,  5.69it/s]"
     ]
    },
    {
     "name": "stdout",
     "output_type": "stream",
     "text": [
      "--------------\n",
      "torch.Size([496, 8, 80])\n",
      "tensor([0., 0., 0., 0., 0., 0., 0., 0.], device='cuda:0')\n",
      "--------------\n",
      "torch.Size([376, 8, 80])\n",
      "tensor([0., 0., 0., 0., 0., 0., 0., 0.], device='cuda:0')\n"
     ]
    },
    {
     "name": "stderr",
     "output_type": "stream",
     "text": [
      "  6%|██▏                                  | 7/121 [00:01<00:17,  6.40it/s]"
     ]
    },
    {
     "name": "stdout",
     "output_type": "stream",
     "text": [
      "--------------\n",
      "torch.Size([376, 8, 80])\n",
      "tensor([0., 0., 0., 0., 0., 0., 0., 0.], device='cuda:0')\n",
      "--------------\n",
      "torch.Size([286, 8, 80])\n",
      "tensor([0., 0., 0., 0., 0., 0., 0., 0.], device='cuda:0')\n"
     ]
    },
    {
     "name": "stderr",
     "output_type": "stream",
     "text": [
      "\r",
      "  7%|██▍                                  | 8/121 [00:01<00:17,  6.39it/s]"
     ]
    },
    {
     "name": "stdout",
     "output_type": "stream",
     "text": [
      "--------------\n",
      "torch.Size([361, 8, 80])\n",
      "tensor([0., 0., 0., 0., 0., 0., 0., 0.], device='cuda:0')\n",
      "--------------\n",
      "torch.Size([451, 8, 80])\n",
      "tensor([0., 0., 0., 0., 0., 0., 0., 0.], device='cuda:0')\n"
     ]
    },
    {
     "name": "stderr",
     "output_type": "stream",
     "text": [
      "  9%|███▎                                | 11/121 [00:01<00:16,  6.65it/s]"
     ]
    },
    {
     "name": "stdout",
     "output_type": "stream",
     "text": [
      "--------------\n",
      "torch.Size([316, 8, 80])\n",
      "tensor([0., 0., 0., 0., 0., 0., 0., 0.], device='cuda:0')\n",
      "--------------\n",
      "torch.Size([301, 8, 80])\n",
      "tensor([0., 0., 0., 0., 0., 0., 0., 0.], device='cuda:0')\n"
     ]
    },
    {
     "name": "stderr",
     "output_type": "stream",
     "text": [
      " 11%|███▊                                | 13/121 [00:02<00:16,  6.60it/s]"
     ]
    },
    {
     "name": "stdout",
     "output_type": "stream",
     "text": [
      "--------------\n",
      "torch.Size([286, 8, 80])\n",
      "tensor([0., 0., 0., 0., 0., 0., 0., 0.], device='cuda:0')\n",
      "--------------\n",
      "torch.Size([391, 8, 80])\n",
      "tensor([0., 0., 0., 0., 0., 0., 0., 0.], device='cuda:0')\n"
     ]
    },
    {
     "name": "stderr",
     "output_type": "stream",
     "text": [
      " 12%|████▍                               | 15/121 [00:02<00:16,  6.34it/s]"
     ]
    },
    {
     "name": "stdout",
     "output_type": "stream",
     "text": [
      "--------------\n",
      "torch.Size([301, 8, 80])\n",
      "tensor([0., 0., 0., 0., 0., 0., 0., 0.], device='cuda:0')\n",
      "--------------\n",
      "torch.Size([451, 8, 80])\n",
      "tensor([0., 0., 0., 0., 0., 0., 0., 0.], device='cuda:0')\n"
     ]
    },
    {
     "name": "stderr",
     "output_type": "stream",
     "text": [
      " 14%|█████                               | 17/121 [00:02<00:15,  6.70it/s]"
     ]
    },
    {
     "name": "stdout",
     "output_type": "stream",
     "text": [
      "--------------\n",
      "torch.Size([376, 8, 80])\n",
      "tensor([0., 0., 0., 0., 0., 0., 0., 0.], device='cuda:0')\n",
      "--------------\n",
      "torch.Size([286, 8, 80])\n",
      "tensor([0., 0., 0., 0., 0., 0., 0., 0.], device='cuda:0')\n"
     ]
    },
    {
     "name": "stderr",
     "output_type": "stream",
     "text": [
      " 16%|█████▋                              | 19/121 [00:03<00:16,  6.28it/s]"
     ]
    },
    {
     "name": "stdout",
     "output_type": "stream",
     "text": [
      "--------------\n",
      "torch.Size([406, 8, 80])\n",
      "tensor([0., 0., 0., 0., 0., 0., 0., 0.], device='cuda:0')\n",
      "--------------\n",
      "torch.Size([391, 8, 80])\n",
      "tensor([0., 0., 0., 0., 0., 0., 0., 0.], device='cuda:0')\n"
     ]
    },
    {
     "name": "stderr",
     "output_type": "stream",
     "text": [
      " 17%|██████▏                             | 21/121 [00:03<00:14,  6.69it/s]"
     ]
    },
    {
     "name": "stdout",
     "output_type": "stream",
     "text": [
      "--------------\n",
      "torch.Size([346, 8, 80])\n",
      "tensor([0., 0., 0., 0., 0., 0., 0., 0.], device='cuda:0')\n",
      "--------------\n",
      "torch.Size([301, 8, 80])\n",
      "tensor([0., 0., 0., 0., 0., 0., 0., 0.], device='cuda:0')\n"
     ]
    },
    {
     "name": "stderr",
     "output_type": "stream",
     "text": [
      " 19%|██████▊                             | 23/121 [00:03<00:13,  7.22it/s]"
     ]
    },
    {
     "name": "stdout",
     "output_type": "stream",
     "text": [
      "--------------\n",
      "torch.Size([331, 8, 80])\n",
      "tensor([0., 0., 0., 0., 0., 0., 0., 0.], device='cuda:0')\n",
      "--------------\n",
      "torch.Size([256, 8, 80])\n",
      "tensor([0., 0., 0., 0., 0., 0., 0., 0.], device='cuda:0')\n"
     ]
    },
    {
     "name": "stderr",
     "output_type": "stream",
     "text": [
      " 21%|███████▍                            | 25/121 [00:03<00:13,  7.15it/s]"
     ]
    },
    {
     "name": "stdout",
     "output_type": "stream",
     "text": [
      "--------------\n",
      "torch.Size([331, 8, 80])\n",
      "tensor([0., 0., 0., 0., 0., 0., 0., 0.], device='cuda:0')\n",
      "--------------\n",
      "torch.Size([316, 8, 80])\n",
      "tensor([0., 0., 0., 0., 0., 0., 0., 0.], device='cuda:0')\n"
     ]
    },
    {
     "name": "stderr",
     "output_type": "stream",
     "text": [
      " 22%|████████                            | 27/121 [00:04<00:13,  7.07it/s]"
     ]
    },
    {
     "name": "stdout",
     "output_type": "stream",
     "text": [
      "--------------\n",
      "torch.Size([271, 8, 80])\n",
      "tensor([0., 0., 0., 0., 0., 0., 0., 0.], device='cuda:0')\n",
      "--------------\n",
      "torch.Size([361, 8, 80])\n",
      "tensor([0., 0., 0., 0., 0., 0., 0., 0.], device='cuda:0')\n"
     ]
    },
    {
     "name": "stderr",
     "output_type": "stream",
     "text": [
      " 24%|████████▋                           | 29/121 [00:04<00:12,  7.08it/s]"
     ]
    },
    {
     "name": "stdout",
     "output_type": "stream",
     "text": [
      "--------------\n",
      "torch.Size([346, 8, 80])\n",
      "tensor([0., 0., 0., 0., 0., 0., 0., 0.], device='cuda:0')\n",
      "--------------\n",
      "torch.Size([301, 8, 80])\n",
      "tensor([0., 0., 0., 0., 0., 0., 0., 0.], device='cuda:0')\n"
     ]
    },
    {
     "name": "stderr",
     "output_type": "stream",
     "text": [
      " 26%|█████████▏                          | 31/121 [00:04<00:11,  7.55it/s]"
     ]
    },
    {
     "name": "stdout",
     "output_type": "stream",
     "text": [
      "--------------\n",
      "torch.Size([316, 8, 80])\n",
      "tensor([0., 0., 0., 0., 0., 0., 0., 0.], device='cuda:0')\n",
      "--------------\n",
      "torch.Size([256, 8, 80])\n",
      "tensor([0., 0., 0., 0., 0., 0., 0., 0.], device='cuda:0')\n"
     ]
    },
    {
     "name": "stderr",
     "output_type": "stream",
     "text": [
      " 27%|█████████▊                          | 33/121 [00:04<00:11,  7.42it/s]"
     ]
    },
    {
     "name": "stdout",
     "output_type": "stream",
     "text": [
      "--------------\n",
      "torch.Size([286, 8, 80])\n",
      "tensor([0., 0., 0., 0., 0., 0., 0., 0.], device='cuda:0')\n",
      "--------------\n",
      "torch.Size([331, 8, 80])\n",
      "tensor([0., 0., 0., 0., 0., 0., 0., 0.], device='cuda:0')\n"
     ]
    },
    {
     "name": "stderr",
     "output_type": "stream",
     "text": [
      " 29%|██████████▍                         | 35/121 [00:05<00:13,  6.49it/s]"
     ]
    },
    {
     "name": "stdout",
     "output_type": "stream",
     "text": [
      "--------------\n",
      "torch.Size([346, 8, 80])\n",
      "tensor([0., 0., 0., 0., 0., 0., 0., 0.], device='cuda:0')\n",
      "--------------\n",
      "torch.Size([451, 8, 80])\n",
      "tensor([0., 0., 0., 0., 0., 0., 0., 0.], device='cuda:0')\n"
     ]
    },
    {
     "name": "stderr",
     "output_type": "stream",
     "text": [
      " 31%|███████████                         | 37/121 [00:05<00:13,  6.22it/s]"
     ]
    },
    {
     "name": "stdout",
     "output_type": "stream",
     "text": [
      "--------------\n",
      "torch.Size([361, 8, 80])\n",
      "tensor([0., 0., 0., 0., 0., 0., 0., 0.], device='cuda:0')\n",
      "--------------\n",
      "torch.Size([406, 8, 80])\n",
      "tensor([0., 0., 0., 0., 0., 0., 0., 0.], device='cuda:0')\n"
     ]
    },
    {
     "name": "stderr",
     "output_type": "stream",
     "text": [
      " 32%|███████████▌                        | 39/121 [00:05<00:12,  6.81it/s]"
     ]
    },
    {
     "name": "stdout",
     "output_type": "stream",
     "text": [
      "--------------\n",
      "torch.Size([331, 8, 80])\n",
      "tensor([0., 0., 0., 0., 0., 0., 0., 0.], device='cuda:0')\n",
      "--------------\n",
      "torch.Size([286, 8, 80])\n",
      "tensor([0., 0., 0., 0., 0., 0., 0., 0.], device='cuda:0')\n"
     ]
    },
    {
     "name": "stderr",
     "output_type": "stream",
     "text": [
      " 34%|████████████▏                       | 41/121 [00:06<00:12,  6.38it/s]"
     ]
    },
    {
     "name": "stdout",
     "output_type": "stream",
     "text": [
      "--------------\n",
      "torch.Size([346, 8, 80])\n",
      "tensor([0., 0., 0., 0., 0., 0., 0., 0.], device='cuda:0')\n",
      "--------------\n",
      "torch.Size([421, 8, 80])\n",
      "tensor([0., 0., 0., 0., 0., 0., 0., 0.], device='cuda:0')\n"
     ]
    },
    {
     "name": "stderr",
     "output_type": "stream",
     "text": [
      " 36%|████████████▊                       | 43/121 [00:06<00:10,  7.11it/s]"
     ]
    },
    {
     "name": "stdout",
     "output_type": "stream",
     "text": [
      "--------------\n",
      "torch.Size([316, 8, 80])\n",
      "tensor([0., 0., 0., 0., 0., 0., 0., 0.], device='cuda:0')\n",
      "--------------\n",
      "torch.Size([256, 8, 80])\n",
      "tensor([0., 0., 0., 0., 0., 0., 0., 0.], device='cuda:0')\n"
     ]
    },
    {
     "name": "stderr",
     "output_type": "stream",
     "text": [
      " 37%|█████████████▍                      | 45/121 [00:06<00:09,  7.85it/s]"
     ]
    },
    {
     "name": "stdout",
     "output_type": "stream",
     "text": [
      "--------------\n",
      "torch.Size([271, 8, 80])\n",
      "tensor([0., 0., 0., 0., 0., 0., 0., 0.], device='cuda:0')\n",
      "--------------\n",
      "torch.Size([226, 8, 80])\n",
      "tensor([0., 0., 0., 0., 0., 0., 0., 0.], device='cuda:0')\n"
     ]
    },
    {
     "name": "stderr",
     "output_type": "stream",
     "text": [
      "\r",
      " 38%|█████████████▋                      | 46/121 [00:06<00:10,  7.48it/s]"
     ]
    },
    {
     "name": "stdout",
     "output_type": "stream",
     "text": [
      "--------------\n",
      "torch.Size([346, 8, 80])\n",
      "tensor([0., 0., 0., 0., 0., 0., 0., 0.], device='cuda:0')\n",
      "--------------\n",
      "torch.Size([466, 8, 80])\n",
      "tensor([0., 0., 0., 0., 0., 0., 0., 0.], device='cuda:0')\n"
     ]
    },
    {
     "name": "stderr",
     "output_type": "stream",
     "text": [
      " 40%|██████████████▌                     | 49/121 [00:07<00:10,  6.90it/s]"
     ]
    },
    {
     "name": "stdout",
     "output_type": "stream",
     "text": [
      "--------------\n",
      "torch.Size([271, 8, 80])\n",
      "tensor([0., 0., 0., 0., 0., 0., 0., 0.], device='cuda:0')\n",
      "--------------\n",
      "torch.Size([331, 8, 80])\n",
      "tensor([0., 0., 0., 0., 0., 0., 0., 0.], device='cuda:0')\n"
     ]
    },
    {
     "name": "stderr",
     "output_type": "stream",
     "text": [
      " 42%|███████████████▏                    | 51/121 [00:07<00:09,  7.02it/s]"
     ]
    },
    {
     "name": "stdout",
     "output_type": "stream",
     "text": [
      "--------------\n",
      "torch.Size([256, 8, 80])\n",
      "tensor([0., 0., 0., 0., 0., 0., 0., 0.], device='cuda:0')\n",
      "--------------\n",
      "torch.Size([361, 8, 80])\n",
      "tensor([0., 0., 0., 0., 0., 0., 0., 0.], device='cuda:0')\n"
     ]
    },
    {
     "name": "stderr",
     "output_type": "stream",
     "text": [
      " 44%|███████████████▊                    | 53/121 [00:07<00:09,  7.18it/s]"
     ]
    },
    {
     "name": "stdout",
     "output_type": "stream",
     "text": [
      "--------------\n",
      "torch.Size([346, 8, 80])\n",
      "tensor([0., 0., 0., 0., 0., 0., 0., 0.], device='cuda:0')\n",
      "--------------\n",
      "torch.Size([271, 8, 80])\n",
      "tensor([0., 0., 0., 0., 0., 0., 0., 0.], device='cuda:0')\n"
     ]
    },
    {
     "name": "stderr",
     "output_type": "stream",
     "text": [
      " 45%|████████████████▎                   | 55/121 [00:08<00:09,  6.82it/s]"
     ]
    },
    {
     "name": "stdout",
     "output_type": "stream",
     "text": [
      "--------------\n",
      "torch.Size([301, 8, 80])\n",
      "tensor([0., 0., 0., 0., 0., 0., 0., 0.], device='cuda:0')\n",
      "--------------\n",
      "torch.Size([391, 8, 80])\n",
      "tensor([0., 0., 0., 0., 0., 0., 0., 0.], device='cuda:0')\n"
     ]
    },
    {
     "name": "stderr",
     "output_type": "stream",
     "text": [
      " 47%|████████████████▉                   | 57/121 [00:08<00:09,  6.75it/s]"
     ]
    },
    {
     "name": "stdout",
     "output_type": "stream",
     "text": [
      "--------------\n",
      "torch.Size([316, 8, 80])\n",
      "tensor([0., 0., 0., 0., 0., 0., 0., 0.], device='cuda:0')\n",
      "--------------\n",
      "torch.Size([361, 8, 80])\n",
      "tensor([0., 0., 0., 0., 0., 0., 0., 0.], device='cuda:0')\n"
     ]
    },
    {
     "name": "stderr",
     "output_type": "stream",
     "text": [
      " 49%|█████████████████▌                  | 59/121 [00:08<00:09,  6.76it/s]"
     ]
    },
    {
     "name": "stdout",
     "output_type": "stream",
     "text": [
      "--------------\n",
      "torch.Size([316, 8, 80])\n",
      "tensor([0., 0., 0., 0., 0., 0., 0., 0.], device='cuda:0')\n",
      "--------------\n",
      "torch.Size([346, 8, 80])\n",
      "tensor([0., 0., 0., 0., 0., 0., 0., 0.], device='cuda:0')\n"
     ]
    },
    {
     "name": "stderr",
     "output_type": "stream",
     "text": [
      " 50%|██████████████████▏                 | 61/121 [00:09<00:09,  6.48it/s]"
     ]
    },
    {
     "name": "stdout",
     "output_type": "stream",
     "text": [
      "--------------\n",
      "torch.Size([406, 8, 80])\n",
      "tensor([0., 0., 0., 0., 0., 0., 0., 0.], device='cuda:0')\n",
      "--------------\n",
      "torch.Size([346, 8, 80])\n",
      "tensor([0., 0., 0., 0., 0., 0., 0., 0.], device='cuda:0')\n"
     ]
    },
    {
     "name": "stderr",
     "output_type": "stream",
     "text": [
      " 52%|██████████████████▋                 | 63/121 [00:09<00:08,  6.56it/s]"
     ]
    },
    {
     "name": "stdout",
     "output_type": "stream",
     "text": [
      "--------------\n",
      "torch.Size([361, 8, 80])\n",
      "tensor([0., 0., 0., 0., 0., 0., 0., 0.], device='cuda:0')\n",
      "--------------\n",
      "torch.Size([346, 8, 80])\n",
      "tensor([0., 0., 0., 0., 0., 0., 0., 0.], device='cuda:0')\n"
     ]
    },
    {
     "name": "stderr",
     "output_type": "stream",
     "text": [
      " 54%|███████████████████▎                | 65/121 [00:09<00:08,  6.76it/s]"
     ]
    },
    {
     "name": "stdout",
     "output_type": "stream",
     "text": [
      "--------------\n",
      "torch.Size([316, 8, 80])\n",
      "tensor([0., 0., 0., 0., 0., 0., 0., 0.], device='cuda:0')\n",
      "--------------\n",
      "torch.Size([331, 8, 80])\n",
      "tensor([0., 0., 0., 0., 0., 0., 0., 0.], device='cuda:0')\n"
     ]
    },
    {
     "name": "stderr",
     "output_type": "stream",
     "text": [
      " 55%|███████████████████▉                | 67/121 [00:09<00:07,  6.87it/s]"
     ]
    },
    {
     "name": "stdout",
     "output_type": "stream",
     "text": [
      "--------------\n",
      "torch.Size([286, 8, 80])\n",
      "tensor([0., 0., 0., 0., 0., 0., 0., 0.], device='cuda:0')\n",
      "--------------\n",
      "torch.Size([346, 8, 80])\n",
      "tensor([0., 0., 0., 0., 0., 0., 0., 0.], device='cuda:0')\n"
     ]
    },
    {
     "name": "stderr",
     "output_type": "stream",
     "text": [
      " 57%|████████████████████▌               | 69/121 [00:10<00:07,  7.39it/s]"
     ]
    },
    {
     "name": "stdout",
     "output_type": "stream",
     "text": [
      "--------------\n",
      "torch.Size([301, 8, 80])\n",
      "tensor([0., 0., 0., 0., 0., 0., 0., 0.], device='cuda:0')\n",
      "--------------\n",
      "torch.Size([271, 8, 80])\n",
      "tensor([0., 0., 0., 0., 0., 0., 0., 0.], device='cuda:0')\n"
     ]
    },
    {
     "name": "stderr",
     "output_type": "stream",
     "text": [
      " 59%|█████████████████████               | 71/121 [00:10<00:06,  7.84it/s]"
     ]
    },
    {
     "name": "stdout",
     "output_type": "stream",
     "text": [
      "--------------\n",
      "torch.Size([301, 8, 80])\n",
      "tensor([0., 0., 0., 0., 0., 0., 0., 0.], device='cuda:0')\n",
      "--------------\n",
      "torch.Size([241, 8, 80])\n",
      "tensor([0., 0., 0., 0., 0., 0., 0., 0.], device='cuda:0')\n"
     ]
    },
    {
     "name": "stderr",
     "output_type": "stream",
     "text": [
      " 60%|█████████████████████▋              | 73/121 [00:10<00:06,  7.26it/s]"
     ]
    },
    {
     "name": "stdout",
     "output_type": "stream",
     "text": [
      "--------------\n",
      "torch.Size([286, 8, 80])\n",
      "tensor([0., 0., 0., 0., 0., 0., 0., 0.], device='cuda:0')\n",
      "--------------\n",
      "torch.Size([376, 8, 80])\n",
      "tensor([0., 0., 0., 0., 0., 0., 0., 0.], device='cuda:0')\n"
     ]
    },
    {
     "name": "stderr",
     "output_type": "stream",
     "text": [
      " 62%|██████████████████████▎             | 75/121 [00:11<00:06,  7.19it/s]"
     ]
    },
    {
     "name": "stdout",
     "output_type": "stream",
     "text": [
      "--------------\n",
      "torch.Size([346, 8, 80])\n",
      "tensor([0., 0., 0., 0., 0., 0., 0., 0.], device='cuda:0')\n",
      "--------------\n",
      "torch.Size([301, 8, 80])\n",
      "tensor([0., 0., 0., 0., 0., 0., 0., 0.], device='cuda:0')\n"
     ]
    },
    {
     "name": "stderr",
     "output_type": "stream",
     "text": [
      "\r",
      " 63%|██████████████████████▌             | 76/121 [00:11<00:06,  6.59it/s]"
     ]
    },
    {
     "name": "stdout",
     "output_type": "stream",
     "text": [
      "--------------\n",
      "torch.Size([421, 8, 80])\n",
      "tensor([0., 0., 0., 0., 0., 0., 0., 0.], device='cuda:0')\n",
      "--------------\n",
      "torch.Size([481, 8, 80])\n",
      "tensor([0., 0., 0., 0., 0., 0., 0., 0.], device='cuda:0')\n"
     ]
    },
    {
     "name": "stderr",
     "output_type": "stream",
     "text": [
      " 65%|███████████████████████▌            | 79/121 [00:11<00:06,  6.47it/s]"
     ]
    },
    {
     "name": "stdout",
     "output_type": "stream",
     "text": [
      "--------------\n",
      "torch.Size([316, 8, 80])\n",
      "tensor([0., 0., 0., 0., 0., 0., 0., 0.], device='cuda:0')\n",
      "--------------\n",
      "torch.Size([346, 8, 80])\n",
      "tensor([0., 0., 0., 0., 0., 0., 0., 0.], device='cuda:0')\n"
     ]
    },
    {
     "name": "stderr",
     "output_type": "stream",
     "text": [
      " 67%|████████████████████████            | 81/121 [00:11<00:05,  6.77it/s]"
     ]
    },
    {
     "name": "stdout",
     "output_type": "stream",
     "text": [
      "--------------\n",
      "torch.Size([316, 8, 80])\n",
      "tensor([0., 0., 0., 0., 0., 0., 0., 0.], device='cuda:0')\n",
      "--------------\n",
      "torch.Size([331, 8, 80])\n",
      "tensor([0., 0., 0., 0., 0., 0., 0., 0.], device='cuda:0')\n"
     ]
    },
    {
     "name": "stderr",
     "output_type": "stream",
     "text": [
      " 69%|████████████████████████▋           | 83/121 [00:12<00:05,  6.41it/s]"
     ]
    },
    {
     "name": "stdout",
     "output_type": "stream",
     "text": [
      "--------------\n",
      "torch.Size([346, 8, 80])\n",
      "tensor([0., 0., 0., 0., 0., 0., 0., 0.], device='cuda:0')\n",
      "--------------\n",
      "torch.Size([421, 8, 80])\n",
      "tensor([0., 0., 0., 0., 0., 0., 0., 0.], device='cuda:0')\n"
     ]
    },
    {
     "name": "stderr",
     "output_type": "stream",
     "text": [
      " 70%|█████████████████████████▎          | 85/121 [00:12<00:05,  6.23it/s]"
     ]
    },
    {
     "name": "stdout",
     "output_type": "stream",
     "text": [
      "--------------\n",
      "torch.Size([331, 8, 80])\n",
      "tensor([0., 0., 0., 0., 0., 0., 0., 0.], device='cuda:0')\n",
      "--------------\n",
      "torch.Size([421, 8, 80])\n",
      "tensor([0., 0., 0., 0., 0., 0., 0., 0.], device='cuda:0')\n"
     ]
    },
    {
     "name": "stderr",
     "output_type": "stream",
     "text": [
      " 72%|█████████████████████████▉          | 87/121 [00:12<00:05,  6.34it/s]"
     ]
    },
    {
     "name": "stdout",
     "output_type": "stream",
     "text": [
      "--------------\n",
      "torch.Size([316, 8, 80])\n",
      "tensor([0., 0., 0., 0., 0., 0., 0., 0.], device='cuda:0')\n",
      "--------------\n",
      "torch.Size([391, 8, 80])\n",
      "tensor([0., 0., 0., 0., 0., 0., 0., 0.], device='cuda:0')\n"
     ]
    },
    {
     "name": "stderr",
     "output_type": "stream",
     "text": [
      " 74%|██████████████████████████▍         | 89/121 [00:13<00:04,  6.86it/s]"
     ]
    },
    {
     "name": "stdout",
     "output_type": "stream",
     "text": [
      "--------------\n",
      "torch.Size([301, 8, 80])\n",
      "tensor([0., 0., 0., 0., 0., 0., 0., 0.], device='cuda:0')\n",
      "--------------\n",
      "torch.Size([301, 8, 80])\n",
      "tensor([0., 0., 0., 0., 0., 0., 0., 0.], device='cuda:0')\n"
     ]
    },
    {
     "name": "stderr",
     "output_type": "stream",
     "text": [
      " 75%|███████████████████████████         | 91/121 [00:13<00:04,  6.89it/s]"
     ]
    },
    {
     "name": "stdout",
     "output_type": "stream",
     "text": [
      "--------------\n",
      "torch.Size([361, 8, 80])\n",
      "tensor([0., 0., 0., 0., 0., 0., 0., 0.], device='cuda:0')\n",
      "--------------\n",
      "torch.Size([301, 8, 80])\n",
      "tensor([0., 0., 0., 0., 0., 0., 0., 0.], device='cuda:0')\n"
     ]
    },
    {
     "name": "stderr",
     "output_type": "stream",
     "text": [
      " 77%|███████████████████████████▋        | 93/121 [00:13<00:04,  6.91it/s]"
     ]
    },
    {
     "name": "stdout",
     "output_type": "stream",
     "text": [
      "--------------\n",
      "torch.Size([331, 8, 80])\n",
      "tensor([0., 0., 0., 0., 0., 0., 0., 0.], device='cuda:0')\n",
      "--------------\n",
      "torch.Size([316, 8, 80])\n",
      "tensor([0., 0., 0., 0., 0., 0., 0., 0.], device='cuda:0')\n"
     ]
    },
    {
     "name": "stderr",
     "output_type": "stream",
     "text": [
      " 79%|████████████████████████████▎       | 95/121 [00:14<00:03,  6.97it/s]"
     ]
    },
    {
     "name": "stdout",
     "output_type": "stream",
     "text": [
      "--------------\n",
      "torch.Size([331, 8, 80])\n",
      "tensor([0., 0., 0., 0., 0., 0., 0., 0.], device='cuda:0')\n",
      "--------------\n",
      "torch.Size([316, 8, 80])\n",
      "tensor([0., 0., 0., 0., 0., 0., 0., 0.], device='cuda:0')\n"
     ]
    },
    {
     "name": "stderr",
     "output_type": "stream",
     "text": [
      " 80%|████████████████████████████▊       | 97/121 [00:14<00:03,  6.95it/s]"
     ]
    },
    {
     "name": "stdout",
     "output_type": "stream",
     "text": [
      "--------------\n",
      "torch.Size([316, 8, 80])\n",
      "tensor([0., 0., 0., 0., 0., 0., 0., 0.], device='cuda:0')\n",
      "--------------\n",
      "torch.Size([331, 8, 80])\n",
      "tensor([0., 0., 0., 0., 0., 0., 0., 0.], device='cuda:0')\n"
     ]
    },
    {
     "name": "stderr",
     "output_type": "stream",
     "text": [
      " 82%|█████████████████████████████▍      | 99/121 [00:14<00:03,  6.82it/s]"
     ]
    },
    {
     "name": "stdout",
     "output_type": "stream",
     "text": [
      "--------------\n",
      "torch.Size([301, 8, 80])\n",
      "tensor([0., 0., 0., 0., 0., 0., 0., 0.], device='cuda:0')\n",
      "--------------\n",
      "torch.Size([361, 8, 80])\n",
      "tensor([0., 0., 0., 0., 0., 0., 0., 0.], device='cuda:0')\n"
     ]
    },
    {
     "name": "stderr",
     "output_type": "stream",
     "text": [
      " 83%|█████████████████████████████▏     | 101/121 [00:14<00:02,  7.17it/s]"
     ]
    },
    {
     "name": "stdout",
     "output_type": "stream",
     "text": [
      "--------------\n",
      "torch.Size([286, 8, 80])\n",
      "tensor([0., 0., 0., 0., 0., 0., 0., 0.], device='cuda:0')\n",
      "--------------\n",
      "torch.Size([301, 8, 80])\n",
      "tensor([0., 0., 0., 0., 0., 0., 0., 0.], device='cuda:0')\n"
     ]
    },
    {
     "name": "stderr",
     "output_type": "stream",
     "text": [
      " 85%|█████████████████████████████▊     | 103/121 [00:15<00:02,  6.80it/s]"
     ]
    },
    {
     "name": "stdout",
     "output_type": "stream",
     "text": [
      "--------------\n",
      "torch.Size([346, 8, 80])\n",
      "tensor([0., 0., 0., 0., 0., 0., 0., 0.], device='cuda:0')\n",
      "--------------\n",
      "torch.Size([361, 8, 80])\n",
      "tensor([0., 0., 0., 0., 0., 0., 0., 0.], device='cuda:0')\n"
     ]
    },
    {
     "name": "stderr",
     "output_type": "stream",
     "text": [
      " 87%|██████████████████████████████▎    | 105/121 [00:15<00:02,  6.53it/s]"
     ]
    },
    {
     "name": "stdout",
     "output_type": "stream",
     "text": [
      "--------------\n",
      "torch.Size([496, 8, 80])\n",
      "tensor([0., 0., 0., 0., 0., 0., 0., 0.], device='cuda:0')\n",
      "--------------\n",
      "torch.Size([271, 8, 80])\n",
      "tensor([0., 0., 0., 0., 0., 0., 0., 0.], device='cuda:0')\n"
     ]
    },
    {
     "name": "stderr",
     "output_type": "stream",
     "text": [
      " 88%|██████████████████████████████▉    | 107/121 [00:15<00:02,  6.37it/s]"
     ]
    },
    {
     "name": "stdout",
     "output_type": "stream",
     "text": [
      "--------------\n",
      "torch.Size([421, 8, 80])\n",
      "tensor([0., 0., 0., 0., 0., 0., 0., 0.], device='cuda:0')\n",
      "--------------\n",
      "torch.Size([331, 8, 80])\n",
      "tensor([0., 0., 0., 0., 0., 0., 0., 0.], device='cuda:0')\n"
     ]
    },
    {
     "name": "stderr",
     "output_type": "stream",
     "text": [
      " 90%|███████████████████████████████▌   | 109/121 [00:16<00:01,  6.83it/s]"
     ]
    },
    {
     "name": "stdout",
     "output_type": "stream",
     "text": [
      "--------------\n",
      "torch.Size([346, 8, 80])\n",
      "tensor([0., 0., 0., 0., 0., 0., 0., 0.], device='cuda:0')\n",
      "--------------\n",
      "torch.Size([286, 8, 80])\n",
      "tensor([0., 0., 0., 0., 0., 0., 0., 0.], device='cuda:0')\n"
     ]
    },
    {
     "name": "stderr",
     "output_type": "stream",
     "text": [
      " 92%|████████████████████████████████   | 111/121 [00:16<00:01,  6.91it/s]"
     ]
    },
    {
     "name": "stdout",
     "output_type": "stream",
     "text": [
      "--------------\n",
      "torch.Size([376, 8, 80])\n",
      "tensor([0., 0., 0., 0., 0., 0., 0., 0.], device='cuda:0')\n",
      "--------------\n",
      "torch.Size([286, 8, 80])\n",
      "tensor([0., 0., 0., 0., 0., 0., 0., 0.], device='cuda:0')\n"
     ]
    },
    {
     "name": "stderr",
     "output_type": "stream",
     "text": [
      "\r",
      " 93%|████████████████████████████████▍  | 112/121 [00:16<00:01,  6.72it/s]"
     ]
    },
    {
     "name": "stdout",
     "output_type": "stream",
     "text": [
      "--------------\n",
      "torch.Size([361, 8, 80])\n",
      "tensor([0., 0., 0., 0., 0., 0., 0., 0.], device='cuda:0')\n",
      "--------------\n",
      "torch.Size([451, 8, 80])\n",
      "tensor([0., 0., 0., 0., 0., 0., 0., 0.], device='cuda:0')\n"
     ]
    },
    {
     "name": "stderr",
     "output_type": "stream",
     "text": [
      " 95%|█████████████████████████████████▎ | 115/121 [00:17<00:00,  6.05it/s]"
     ]
    },
    {
     "name": "stdout",
     "output_type": "stream",
     "text": [
      "--------------\n",
      "torch.Size([391, 8, 80])\n",
      "tensor([0., 0., 0., 0., 0., 0., 0., 0.], device='cuda:0')\n",
      "--------------\n",
      "torch.Size([391, 8, 80])\n",
      "tensor([0., 0., 0., 0., 0., 0., 0., 0.], device='cuda:0')\n"
     ]
    },
    {
     "name": "stderr",
     "output_type": "stream",
     "text": [
      " 97%|█████████████████████████████████▊ | 117/121 [00:17<00:00,  5.92it/s]"
     ]
    },
    {
     "name": "stdout",
     "output_type": "stream",
     "text": [
      "--------------\n",
      "torch.Size([376, 8, 80])\n",
      "tensor([0., 0., 0., 0., 0., 0., 0., 0.], device='cuda:0')\n",
      "--------------\n",
      "torch.Size([421, 8, 80])\n",
      "tensor([0., 0., 0., 0., 0., 0., 0., 0.], device='cuda:0')\n"
     ]
    },
    {
     "name": "stderr",
     "output_type": "stream",
     "text": [
      " 98%|██████████████████████████████████▍| 119/121 [00:17<00:00,  6.11it/s]"
     ]
    },
    {
     "name": "stdout",
     "output_type": "stream",
     "text": [
      "--------------\n",
      "torch.Size([391, 8, 80])\n",
      "tensor([0., 0., 0., 0., 0., 0., 0., 0.], device='cuda:0')\n",
      "--------------\n",
      "torch.Size([346, 8, 80])\n",
      "tensor([0., 0., 0., 0., 0., 0., 0., 0.], device='cuda:0')\n"
     ]
    },
    {
     "name": "stderr",
     "output_type": "stream",
     "text": [
      "100%|███████████████████████████████████| 121/121 [00:18<00:00,  6.70it/s]\n"
     ]
    },
    {
     "name": "stdout",
     "output_type": "stream",
     "text": [
      "--------------\n",
      "torch.Size([376, 8, 80])\n",
      "tensor([0., 0., 0., 0., 0., 0., 0., 0.], device='cuda:0')\n",
      "--------------\n",
      "torch.Size([346, 6, 80])\n",
      "tensor([0., 0., 0., 0., 0., 0.], device='cuda:0')\n",
      "Test CER 0.10478346180174025\n",
      "Test WER 0.3523923391035623\n",
      "Test CTC 201.04045354554864\n",
      "Train Set Size = 771\n"
     ]
    },
    {
     "name": "stderr",
     "output_type": "stream",
     "text": [
      "CER: 0.03328535223846489 CTC: 730.799560546875 Ground Truth: |of character"
     ]
    }
   ],
   "source": [
    "# sam's new main here \n",
    "\n",
    "import json\n",
    "# import character_set\n",
    "import sys\n",
    "# import hwpsych_dataset\n",
    "# from hwpsych_dataset import HwDataset\n",
    "# import model.urnn, urnn2, urnn_window\n",
    "# import model.crnn_5 as crnn\n",
    "# import crnn2\n",
    "import os\n",
    "import torch\n",
    "from torch.utils import data\n",
    "from torch.utils.data import DataLoader\n",
    "from torch.autograd import Variable\n",
    "# import error_rates\n",
    "# import string_utils\n",
    "import time\n",
    "from torch.nn.modules.loss import CTCLoss\n",
    "from torch.nn.utils import clip_grad_norm_\n",
    "from tqdm import tqdm\n",
    "\n",
    "\n",
    "class PsychCTC(torch.nn.Module):\n",
    "    def __init__(self, idx_to_char, char_to_idx, verbose=False):\n",
    "        super(PsychCTC, self).__init__()\n",
    "        self.citerion = CTCLoss(reduction='none', zero_infinity=True)\n",
    "        self.idx_to_char = idx_to_char\n",
    "        self.char_to_idx = char_to_idx\n",
    "        self.verbose = verbose\n",
    "\n",
    "    def forward(self, preds, labels, preds_size, label_lengths, psych):\n",
    "        # print(len(self.char_to_idx))\n",
    "        loss = self.citerion(preds, labels, preds_size, label_lengths).cuda()\n",
    "        index = 0\n",
    "        # lbl = labels.detach().cpu().numpy()\n",
    "        lbl = labels.data.cpu().numpy()\n",
    "        lbl_len = label_lengths.data.cpu().numpy()\n",
    "        output_batch = preds.permute(1, 0, 2)\n",
    "        # out = output_batch.detach().cpu().numpy()\n",
    "        out = output_batch.data.cpu().numpy()\n",
    "        cer = torch.zeros(loss.shape)\n",
    "        for j in range(out.shape[0]):\n",
    "            logits = out[j, ...]\n",
    "            pred, raw_pred = naive_decode(logits)\n",
    "            pred_str = label2str(pred, self.idx_to_char, False)\n",
    "            gt_str = label2str(lbl[index:lbl_len[j] + index], self.idx_to_char, False)\n",
    "            index += lbl_len[j]\n",
    "            # tensor object is not callable? \n",
    "            \n",
    "            \n",
    "#             print(type(gt_str))\n",
    "#             print(type(pred_str))\n",
    "            cer[j] = error_cer(gt_str, pred_str)\n",
    "            # if self.verbose or psych[j] > 0:\n",
    "            #     print(psych[j])\n",
    "        cer = Variable(cer, requires_grad=True).cuda()\n",
    "        loss = loss + (psych * cer)\n",
    "        return torch.sum(loss)\n",
    "\n",
    "\n",
    "# config_path = sys.argv[1]\n",
    "# try:\n",
    "#     jobID = sys.argv[2]\n",
    "# except:\n",
    "#     jobID = \"\"\n",
    "# print(jobID)\n",
    "\n",
    "# with open(config_path) as f:\n",
    "#     config = json.load(f)\n",
    "\n",
    "\n",
    "model_save_path = config['model_save_path']\n",
    "\n",
    "\n",
    "verbose = False\n",
    "\n",
    "dirname = os.path.dirname(model_save_path)\n",
    "\n",
    "# print(dirname)\n",
    "# if len(dirname) > 0 and not os.path.exists(dirname):\n",
    "#     os.makedirs(dirname)\n",
    "\n",
    "# with open(config_path) as f:\n",
    "#     paramList = f.readlines()\n",
    "\n",
    "# for x in paramList:\n",
    "#     print(x[:-1])\n",
    "\n",
    "baseMessage = \"foo\"\n",
    "\n",
    "# for line in paramList:\n",
    "#     baseMessage = baseMessage + line\n",
    "\n",
    "# print(baseMessage)\n",
    "\n",
    "idx_to_char, char_to_idx = load_char_set(config['character_set_path'])\n",
    "\n",
    "train_dataset = HwDataset(config['training_set_path'], \n",
    "                          char_to_idx, \n",
    "                          img_height=config['network']['input_height'],\n",
    "                          root_path=config['image_root_directory'],\n",
    "                          augmentation=False,\n",
    "                          psychPath=psychPath,\n",
    "                          randomW=False)\n",
    "\n",
    "try:\n",
    "    test_dataset = HwDataset(config['validation_set_path'], \n",
    "                             char_to_idx,\n",
    "                             img_height=config['network']['input_height'], \n",
    "                             root_path=config['image_root_directory'],\n",
    "                             augmentation=False, \n",
    "                             psychPath=psychPath, \n",
    "                             randomW=False)\n",
    "\n",
    "except KeyError as e:\n",
    "    print(\"No validation set found, generating one\")\n",
    "    master = train_dataset\n",
    "    print(\"Total of \" + str(len(master)) + \" Training Examples\")\n",
    "    n = len(master)  # how many total elements you have\n",
    "    n_test = int(n * .1)\n",
    "    n_train = n - n_test\n",
    "    idx = list(range(n))  # indices to all elements\n",
    "    train_idx = idx[:n_train]\n",
    "    test_idx = idx[n_train:]\n",
    "    test_dataset = data.Subset(master, test_idx)\n",
    "    train_dataset = data.Subset(master, train_idx)\n",
    "    \n",
    "    \n",
    "train_dataloader = DataLoader(train_dataset, batch_size=8, shuffle=True, num_workers=0,\n",
    "                              collate_fn=batch_collate)\n",
    "test_dataloader = DataLoader(test_dataset, batch_size=8, shuffle=True, num_workers=0,\n",
    "                             collate_fn=batch_collate)\n",
    "print(\"Train Dataset Length: \" + str(len(train_dataset)))\n",
    "print(\"Test Dataset Length: \" + str(len(test_dataset)))\n",
    "\n",
    "hw = create_model({\n",
    "        'input_height': config['network']['input_height'],\n",
    "        'cnn_out_size': config['network']['cnn_out_size'],\n",
    "        'num_of_channels': 3,\n",
    "        'num_of_outputs': len(idx_to_char) + 1\n",
    "    })\n",
    "\n",
    "# if config['model'] == \"crnn\":\n",
    "#     print(\"Using CRNN\")\n",
    "#     hw = crnn.create_model({\n",
    "#         'input_height': config['network']['input_height'],\n",
    "#         'cnn_out_size': config['network']['cnn_out_size'],\n",
    "#         'num_of_channels': 3,\n",
    "#         'num_of_outputs': len(idx_to_char) + 1\n",
    "#     })\n",
    "# elif config['model'] == \"urnn\":\n",
    "#     print(\"Using URNN\")\n",
    "#     hw = urnn.create_model({\n",
    "#         'input_height': config['network']['input_height'],\n",
    "#         'cnn_out_size': config['network']['cnn_out_size'],\n",
    "#         'num_of_channels': 3,\n",
    "#         'num_of_outputs': len(idx_to_char) + 1,\n",
    "#         'bridge_width': config['network']['bridge_width']\n",
    "#     })\n",
    "# elif config['model'] == \"urnn2\":\n",
    "#     print(\"Using URNN with Curtis's recurrence\")\n",
    "#     hw = urnn2.create_model({\n",
    "#         'input_height': config['network']['input_height'],\n",
    "#         'cnn_out_size': config['network']['cnn_out_size'],\n",
    "#         'num_of_channels': 3,\n",
    "#         'num_of_outputs': len(idx_to_char) + 1,\n",
    "#         'bridge_width': config['network']['bridge_width']\n",
    "#     })\n",
    "# elif config['model'] == \"crnn2\":\n",
    "#     print(\"Using original CRNN\")\n",
    "#     hw = crnn2.create_model({\n",
    "#         'cnn_out_size': config['network']['cnn_out_size'],\n",
    "#         'num_of_channels': 3,\n",
    "#         'num_of_outputs': len(idx_to_char) + 1\n",
    "#     })\n",
    "# elif config['model'] == \"urnn3\":\n",
    "#     print(\"Using windowed URNN with Curtis's recurrence\")\n",
    "#     hw = urnn_window.create_model({\n",
    "#         'input_height': config['network']['input_height'],\n",
    "#         'cnn_out_size': config['network']['cnn_out_size'],\n",
    "#         'num_of_channels': 3,\n",
    "#         'num_of_outputs': len(idx_to_char) + 1,\n",
    "#         'bridge_width': config['network']['bridge_width']\n",
    "#     })\n",
    "\n",
    "resume = True\n",
    "try:\n",
    "    config['model_load_path']\n",
    "except KeyError:\n",
    "    resume = False\n",
    "\n",
    "pretrain = True\n",
    "try:\n",
    "    config['pretrained_load_path']\n",
    "except KeyError:\n",
    "    pretrain = False\n",
    "\n",
    "freeze = True\n",
    "try:\n",
    "    config['freeze_pretrained_weights']\n",
    "except KeyError:\n",
    "    freeze = False\n",
    "\n",
    "print(\"Freeze: \" + str(freeze))\n",
    "metric = \"CER\"\n",
    "try:\n",
    "    metric = config['metric'].upper()\n",
    "except KeyError:\n",
    "    print(\"No metric listed, defaulting to Character Error Rate\")\n",
    "print(\"Metric: \" + metric)\n",
    "\n",
    "if resume:\n",
    "    hw.load_state_dict(torch.load(config['model_load_path']))\n",
    "elif pretrain:\n",
    "    print(\"loading pretrained weights\")\n",
    "    model_param = hw.state_dict()\n",
    "    unet_param = torch.load(config['pretrained_load_path'])\n",
    "    for i in unet_param.keys():\n",
    "        model_param['UNet.' + i] = unet_param[i]\n",
    "    hw.load_state_dict(model_param)\n",
    "\n",
    "if freeze:\n",
    "    for param in hw.UNet.parameters():\n",
    "        param.requires_grad = False\n",
    "\n",
    "if torch.cuda.is_available():\n",
    "    hw.cuda()\n",
    "    dtype = torch.cuda.FloatTensor\n",
    "    print(\"Using GPU\")\n",
    "else:\n",
    "    dtype = torch.FloatTensor\n",
    "    print(\"No GPU detected\")\n",
    "\n",
    "#optimizer = torch.optim.Adadelta(hw.parameters(), lr=config['network']['learning_rate'])\n",
    "optimizer = torch.optim.RMSprop(hw.parameters(), lr=config['network']['learning_rate'])\n",
    "lmbda = lambda epoch : 0.6\n",
    "scheduler = torch.optim.lr_scheduler.LambdaLR(optimizer, lr_lambda=lmbda)\n",
    "criterion = PsychCTC(idx_to_char, char_to_idx, verbose=True)\n",
    "criterion2 = CTCLoss(reduction='sum',zero_infinity=True)\n",
    "lowest_loss = float('inf')\n",
    "best_distance = 0\n",
    "last_drop = 1\n",
    "for epoch in range(100000):\n",
    "    torch.enable_grad()\n",
    "    startTime = time.time()\n",
    "    message = baseMessage\n",
    "    sum_loss = 0.0\n",
    "    sum_wer_loss = 0.0\n",
    "    steps = 0.0\n",
    "    hw.train()\n",
    "    disp_ctc_loss = 0.0\n",
    "    disp_loss = 0.0\n",
    "    gt = \"\"\n",
    "    ot = \"\"\n",
    "    loss = 0.0\n",
    "    # train_dataloader = torch.utils.data.random_split(train_dataloader, [16, len(train_dataloader) - 16])[0]\n",
    "    print(\"Train Set Size = \" + str(len(train_dataloader)))\n",
    "    prog_bar = tqdm(enumerate(train_dataloader), total=len(train_dataloader))\n",
    "    for i, x in prog_bar:\n",
    "        # message = str(\"CER: \" + str(disp_loss) +\"\\nGT: \" +gt +\"\\nex: \"+out+\"\\nProgress\")\n",
    "        prog_bar.set_description(f'CER: {disp_loss} CTC: {loss} Ground Truth: |{gt}| Network Output: |{ot}|')\n",
    "        line_imgs = x['line_imgs']\n",
    "        psych = Variable(torch.Tensor(x['psychs']).type(dtype), requires_grad=True)\n",
    "        rem = line_imgs.shape[3] % 32\n",
    "        if rem != 0:\n",
    "            imgshape = line_imgs.shape\n",
    "            temp = torch.zeros(imgshape[0], imgshape[1], imgshape[2], imgshape[3] + (32 - rem))\n",
    "            temp[:, :, :, :imgshape[3]] = line_imgs\n",
    "            line_imgs = temp\n",
    "            del temp\n",
    "        line_imgs = Variable(line_imgs.type(dtype), requires_grad=False)\n",
    "\n",
    "        labels = Variable(x['labels'], requires_grad=False)\n",
    "        label_lengths = Variable(x['label_lengths'], requires_grad=False)\n",
    "        optimizer.zero_grad()\n",
    "        preds = hw(line_imgs).cpu()\n",
    "        preds_size = Variable(torch.IntTensor([preds.size(0)] * preds.size(1)))\n",
    "\n",
    "        output_batch = preds.permute(1, 0, 2)\n",
    "        out = output_batch.data.cpu().numpy()\n",
    "        loss = criterion(preds, labels, preds_size, label_lengths, psych)\n",
    "        # print(loss)\n",
    "        loss.backward()\n",
    "        clip_grad_norm_(hw.parameters(), 50)\n",
    "        optimizer.step()\n",
    "        # if i == 0:\n",
    "        #    for i in xrange(out.shape[0]):\n",
    "        #        pred, pred_raw = string_utils.naive_decode(out[i,...])\n",
    "        #        pred_str = string_utils.label2str(pred_raw, idx_to_char, True)\n",
    "        #        print(pred_str)\n",
    "\n",
    "        for j in range(out.shape[0]):\n",
    "            logits = out[j, ...]\n",
    "            pred, raw_pred = naive_decode(logits)\n",
    "            pred_str = label2str(pred, idx_to_char, False)\n",
    "            gt_str = x['gt'][j]\n",
    "            cer = error_cer(gt_str, pred_str)\n",
    "            wer = error_wer(gt_str, pred_str)\n",
    "            gt = gt_str\n",
    "            ot = pred_str\n",
    "            sum_loss += cer\n",
    "            sum_wer_loss += wer\n",
    "            steps += 1\n",
    "        disp_loss = sum_loss / steps\n",
    "    eTime = time.time() - startTime\n",
    "    message = message + \"\\n\" + \"Epoch: \" + str(epoch) + \" Training CER: \" + str(\n",
    "        sum_loss / steps) + \" Training WER: \" + str(sum_wer_loss / steps) + \"\\n\" + \"Time: \" + str(\n",
    "        eTime) + \" Seconds\"\n",
    "    print(\"Epoch: \" + str(epoch) + \" Training CER\", sum_loss / steps)\n",
    "    print(\"Training WER: \" + str(sum_wer_loss / steps))\n",
    "    print(\"Time: \" + str(eTime) + \" Seconds\")\n",
    "    sum_loss = 0.0\n",
    "    sum_wer_loss = 0.0\n",
    "    sum_ctc_loss = 0.0\n",
    "    steps = 0.0\n",
    "    hw.eval()\n",
    "    print(\"Validation Set Size = \" + str(len(test_dataloader)))\n",
    "    for x in tqdm(test_dataloader):\n",
    "        torch.no_grad()\n",
    "        line_imgs = Variable(x['line_imgs'].type(dtype), requires_grad=False)\n",
    "        labels =  Variable(x['labels'], requires_grad=False, volatile=True)\n",
    "        label_lengths = Variable(x['label_lengths'], requires_grad=False, volatile=True)\n",
    "        psych = Variable(torch.Tensor(x['psychs']).type(dtype), requires_grad=False)\n",
    "        preds = hw(line_imgs).cpu()\n",
    "        preds_size = Variable(torch.IntTensor([preds.size(0)] * preds.size(1)))\n",
    "        print(\"--------------\")\n",
    "        print(preds.shape)\n",
    "        print(psych)\n",
    "        ctc = criterion2(preds, labels, preds_size, label_lengths).cpu().detach()\n",
    "        output_batch = preds.permute(1, 0, 2)\n",
    "        out = output_batch.data.cpu().numpy()\n",
    "        for i, gt_line in enumerate(x['gt']):\n",
    "            logits = out[i, ...]\n",
    "            pred, raw_pred = naive_decode(logits)\n",
    "            pred_str = label2str(pred, idx_to_char, False)\n",
    "            cer = error_cer(gt_line, pred_str)\n",
    "            wer = error_wer(gt_line, pred_str)\n",
    "            sum_wer_loss += wer\n",
    "            sum_loss += cer\n",
    "            sum_ctc_loss += ctc\n",
    "            steps += 1\n",
    "    message = message + \"\\nTest CTC: \" + str(sum_ctc_loss.numpy() / steps)\n",
    "    message = message + \"\\nTest CER: \" + str(sum_loss / steps)\n",
    "    message = message + \"\\nTest WER: \" + str(sum_wer_loss / steps)\n",
    "    print(\"Test CER\", sum_loss / steps)\n",
    "    print(\"Test WER\", sum_wer_loss / steps)\n",
    "    print(\"Test CTC\", sum_ctc_loss.numpy() / steps)\n",
    "    best_distance += 1\n",
    "    metric = \"CER\"\n",
    "    if (metric == \"CER\"):\n",
    "        if lowest_loss > sum_loss / steps:\n",
    "            lowest_loss = sum_loss / steps\n",
    "            print(\"Saving Best\")\n",
    "            message = message + \"\\nBest Result :)\"\n",
    "            torch.save(hw.state_dict(), os.path.join(model_save_path + str(epoch) + \".pt\"))\n",
    "#             email_update(message, jobID)\n",
    "            best_distance = 0\n",
    "            last_drop = 1\n",
    "        if best_distance/15 > last_drop:\n",
    "            last_drop+=1\n",
    "            scheduler.step()\n",
    "        if best_distance > 80:\n",
    "            break\n",
    "    elif (metric == \"WER\"):\n",
    "        if lowest_loss > sum_wer_loss / steps:\n",
    "            lowest_loss = sum_wer_loss / steps\n",
    "            print(\"Saving Best\")\n",
    "            message = message + \"\\nBest Result :)\"\n",
    "            torch.save(hw.state_dict(), os.path.join(model_save_path + str(epoch) + \".pt\"))\n",
    "#             email_update(message, jobID)\n",
    "            best_distance = 0\n",
    "            last_drop = 1\n",
    "        if best_distance/15 > last_drop:\n",
    "            last_drop+=1\n",
    "            scheduler.step()\n",
    "        if best_distance > 80:\n",
    "            break\n",
    "    elif (metric == \"CTC\"):\n",
    "        if lowest_loss > sum_ctc_loss / steps:\n",
    "            lowest_loss = sum_ctc_loss / steps\n",
    "            print(\"Saving Best\")\n",
    "            message = message + \"\\nBest Result :)\"\n",
    "            torch.save(hw.state_dict(), os.path.join(model_save_path + str(epoch) + \".pt\"))\n",
    "#             email_update(message, jobID)\n",
    "            best_distance = 0\n",
    "            last_drop = 1\n",
    "        if best_distance/15 > last_drop:\n",
    "            last_drop+=1\n",
    "            scheduler.step()\n",
    "        if best_distance > 80:\n",
    "            break\n",
    "    else:\n",
    "        print(\"This is actually very bad\")\n"
   ]
  },
  {
   "cell_type": "raw",
   "id": "84fb6dcd",
   "metadata": {},
   "source": []
  }
 ],
 "metadata": {
  "kernelspec": {
   "display_name": "Python 3 (ipykernel)",
   "language": "python",
   "name": "python3"
  },
  "language_info": {
   "codemirror_mode": {
    "name": "ipython",
    "version": 3
   },
   "file_extension": ".py",
   "mimetype": "text/x-python",
   "name": "python",
   "nbconvert_exporter": "python",
   "pygments_lexer": "ipython3",
   "version": "3.7.3"
  }
 },
 "nbformat": 4,
 "nbformat_minor": 5
}
